{
 "cells": [
  {
   "cell_type": "code",
   "execution_count": 1,
   "id": "d1407f8c",
   "metadata": {
    "_cell_guid": "b1076dfc-b9ad-4769-8c92-a6c4dae69d19",
    "_uuid": "8f2839f25d086af736a60e9eeb907d3b93b6e0e5",
    "execution": {
     "iopub.execute_input": "2023-12-08T08:00:18.818670Z",
     "iopub.status.busy": "2023-12-08T08:00:18.817933Z",
     "iopub.status.idle": "2023-12-08T08:00:19.523025Z",
     "shell.execute_reply": "2023-12-08T08:00:19.521753Z"
    },
    "papermill": {
     "duration": 0.718075,
     "end_time": "2023-12-08T08:00:19.525151",
     "exception": false,
     "start_time": "2023-12-08T08:00:18.807076",
     "status": "completed"
    },
    "tags": []
   },
   "outputs": [
    {
     "name": "stdout",
     "output_type": "stream",
     "text": [
      "/kaggle/input/weather-prediction/weather_prediction_dataset.csv\n",
      "/kaggle/input/weather-prediction/metadata.txt\n",
      "/kaggle/input/weather-prediction/weather_prediction_bbq_labels.csv\n"
     ]
    }
   ],
   "source": [
    "import numpy as np \n",
    "import pandas as pd \n",
    "\n",
    "import os\n",
    "for dirname, _, filenames in os.walk('/kaggle/input'):\n",
    "    for filename in filenames:\n",
    "        print(os.path.join(dirname, filename))"
   ]
  },
  {
   "cell_type": "markdown",
   "id": "59b2c25f",
   "metadata": {
    "papermill": {
     "duration": 0.00881,
     "end_time": "2023-12-08T08:00:19.543113",
     "exception": false,
     "start_time": "2023-12-08T08:00:19.534303",
     "status": "completed"
    },
    "tags": []
   },
   "source": [
    "In this notebook, we use Spark Machine Learning library to work on this dataset. A related notebook that explored this dataset using ML techniques from sklearn and ANN/CNN from tensorflow can be found here:\n",
    "\n",
    "https://www.kaggle.com/code/lorresprz/ann-cnn-randomforest-predicting-nice-weather\n",
    "\n"
   ]
  },
  {
   "cell_type": "code",
   "execution_count": 2,
   "id": "4f748681",
   "metadata": {
    "execution": {
     "iopub.execute_input": "2023-12-08T08:00:19.562175Z",
     "iopub.status.busy": "2023-12-08T08:00:19.561713Z",
     "iopub.status.idle": "2023-12-08T08:01:06.098171Z",
     "shell.execute_reply": "2023-12-08T08:01:06.097137Z"
    },
    "papermill": {
     "duration": 46.548831,
     "end_time": "2023-12-08T08:01:06.100643",
     "exception": false,
     "start_time": "2023-12-08T08:00:19.551812",
     "status": "completed"
    },
    "tags": []
   },
   "outputs": [
    {
     "name": "stdout",
     "output_type": "stream",
     "text": [
      "Collecting pyspark\r\n",
      "  Downloading pyspark-3.5.0.tar.gz (316.9 MB)\r\n",
      "\u001b[2K     \u001b[90m━━━━━━━━━━━━━━━━━━━━━━━━━━━━━━━━━━━━━━━\u001b[0m \u001b[32m316.9/316.9 MB\u001b[0m \u001b[31m4.1 MB/s\u001b[0m eta \u001b[36m0:00:00\u001b[0m\r\n",
      "\u001b[?25h  Preparing metadata (setup.py) ... \u001b[?25l-\b \b\\\b \bdone\r\n",
      "\u001b[?25hRequirement already satisfied: py4j==0.10.9.7 in /opt/conda/lib/python3.10/site-packages (from pyspark) (0.10.9.7)\r\n",
      "Building wheels for collected packages: pyspark\r\n",
      "  Building wheel for pyspark (setup.py) ... \u001b[?25l-\b \b\\\b \b|\b \bdone\r\n",
      "\u001b[?25h  Created wheel for pyspark: filename=pyspark-3.5.0-py2.py3-none-any.whl size=317425344 sha256=4167a573bf5325feaa3dac6169bdd056389241911a805317c57da0877cb86ea4\r\n",
      "  Stored in directory: /root/.cache/pip/wheels/41/4e/10/c2cf2467f71c678cfc8a6b9ac9241e5e44a01940da8fbb17fc\r\n",
      "Successfully built pyspark\r\n",
      "Installing collected packages: pyspark\r\n",
      "Successfully installed pyspark-3.5.0\r\n"
     ]
    }
   ],
   "source": [
    "!pip install pyspark"
   ]
  },
  {
   "cell_type": "code",
   "execution_count": 3,
   "id": "c16c4f68",
   "metadata": {
    "execution": {
     "iopub.execute_input": "2023-12-08T08:01:06.137739Z",
     "iopub.status.busy": "2023-12-08T08:01:06.136760Z",
     "iopub.status.idle": "2023-12-08T08:01:06.221741Z",
     "shell.execute_reply": "2023-12-08T08:01:06.220718Z"
    },
    "papermill": {
     "duration": 0.105824,
     "end_time": "2023-12-08T08:01:06.224047",
     "exception": false,
     "start_time": "2023-12-08T08:01:06.118223",
     "status": "completed"
    },
    "tags": []
   },
   "outputs": [],
   "source": [
    "import pyspark"
   ]
  },
  {
   "cell_type": "markdown",
   "id": "36a74deb",
   "metadata": {
    "papermill": {
     "duration": 0.017178,
     "end_time": "2023-12-08T08:01:06.259524",
     "exception": false,
     "start_time": "2023-12-08T08:01:06.242346",
     "status": "completed"
    },
    "tags": []
   },
   "source": [
    "# Load dataset for weather prediction"
   ]
  },
  {
   "cell_type": "code",
   "execution_count": 4,
   "id": "69965f52",
   "metadata": {
    "execution": {
     "iopub.execute_input": "2023-12-08T08:01:06.295192Z",
     "iopub.status.busy": "2023-12-08T08:01:06.294750Z",
     "iopub.status.idle": "2023-12-08T08:01:11.344937Z",
     "shell.execute_reply": "2023-12-08T08:01:11.343852Z"
    },
    "papermill": {
     "duration": 5.071263,
     "end_time": "2023-12-08T08:01:11.347813",
     "exception": false,
     "start_time": "2023-12-08T08:01:06.276550",
     "status": "completed"
    },
    "tags": []
   },
   "outputs": [
    {
     "name": "stderr",
     "output_type": "stream",
     "text": [
      "Setting default log level to \"WARN\".\n",
      "To adjust logging level use sc.setLogLevel(newLevel). For SparkR, use setLogLevel(newLevel).\n",
      "23/12/08 08:01:09 WARN NativeCodeLoader: Unable to load native-hadoop library for your platform... using builtin-java classes where applicable\n"
     ]
    }
   ],
   "source": [
    "from pyspark.sql import SparkSession\n",
    "spark = SparkSession.builder.appName('weather_pred').getOrCreate()"
   ]
  },
  {
   "cell_type": "code",
   "execution_count": 5,
   "id": "124a5f1b",
   "metadata": {
    "execution": {
     "iopub.execute_input": "2023-12-08T08:01:11.385404Z",
     "iopub.status.busy": "2023-12-08T08:01:11.385045Z",
     "iopub.status.idle": "2023-12-08T08:01:18.196912Z",
     "shell.execute_reply": "2023-12-08T08:01:18.195825Z"
    },
    "papermill": {
     "duration": 6.835621,
     "end_time": "2023-12-08T08:01:18.200381",
     "exception": false,
     "start_time": "2023-12-08T08:01:11.364760",
     "status": "completed"
    },
    "tags": []
   },
   "outputs": [
    {
     "name": "stderr",
     "output_type": "stream",
     "text": [
      "                                                                                \r"
     ]
    }
   ],
   "source": [
    "df1 = spark.read.csv('/kaggle/input/weather-prediction/weather_prediction_dataset.csv', header=True, inferSchema=True)\n",
    "df2 = spark.read.csv('/kaggle/input/weather-prediction/weather_prediction_bbq_labels.csv',header=True, inferSchema=True)"
   ]
  },
  {
   "cell_type": "markdown",
   "id": "f6313cbe",
   "metadata": {
    "papermill": {
     "duration": 0.02392,
     "end_time": "2023-12-08T08:01:18.249187",
     "exception": false,
     "start_time": "2023-12-08T08:01:18.225267",
     "status": "completed"
    },
    "tags": []
   },
   "source": [
    "There are 165 columns for the 18 cities in Europe. For each cities, multiple measurements including wind gust, wind speed, cloud cover, humidity, pressure, global radiation, precipitation, sunshine, minimum temperature, maximum temperature were recorded. Furthermore, the set of measurements varies from city to city (for example, some city might have wind speed in place of cloud cover or some might have wind gust in place of wind speed). For this notebook, we will focus on Maastricht, a beautiful Dutch city. The objective of this is to predict whether the weather is okay for to have a barbecue outdoors."
   ]
  },
  {
   "cell_type": "code",
   "execution_count": 6,
   "id": "ccd7f4e3",
   "metadata": {
    "execution": {
     "iopub.execute_input": "2023-12-08T08:01:18.299450Z",
     "iopub.status.busy": "2023-12-08T08:01:18.298963Z",
     "iopub.status.idle": "2023-12-08T08:01:18.351914Z",
     "shell.execute_reply": "2023-12-08T08:01:18.350829Z"
    },
    "papermill": {
     "duration": 0.081284,
     "end_time": "2023-12-08T08:01:18.354777",
     "exception": false,
     "start_time": "2023-12-08T08:01:18.273493",
     "status": "completed"
    },
    "tags": []
   },
   "outputs": [
    {
     "name": "stdout",
     "output_type": "stream",
     "text": [
      "root\n",
      " |-- DATE: integer (nullable = true)\n",
      " |-- MONTH: integer (nullable = true)\n",
      " |-- BASEL_cloud_cover: integer (nullable = true)\n",
      " |-- BASEL_humidity: double (nullable = true)\n",
      " |-- BASEL_pressure: double (nullable = true)\n",
      " |-- BASEL_global_radiation: double (nullable = true)\n",
      " |-- BASEL_precipitation: double (nullable = true)\n",
      " |-- BASEL_sunshine: double (nullable = true)\n",
      " |-- BASEL_temp_mean: double (nullable = true)\n",
      " |-- BASEL_temp_min: double (nullable = true)\n",
      " |-- BASEL_temp_max: double (nullable = true)\n",
      " |-- BUDAPEST_cloud_cover: integer (nullable = true)\n",
      " |-- BUDAPEST_humidity: double (nullable = true)\n",
      " |-- BUDAPEST_pressure: double (nullable = true)\n",
      " |-- BUDAPEST_global_radiation: double (nullable = true)\n",
      " |-- BUDAPEST_precipitation: double (nullable = true)\n",
      " |-- BUDAPEST_sunshine: double (nullable = true)\n",
      " |-- BUDAPEST_temp_mean: double (nullable = true)\n",
      " |-- BUDAPEST_temp_max: double (nullable = true)\n",
      " |-- DE_BILT_cloud_cover: integer (nullable = true)\n",
      " |-- DE_BILT_wind_speed: double (nullable = true)\n",
      " |-- DE_BILT_wind_gust: double (nullable = true)\n",
      " |-- DE_BILT_humidity: double (nullable = true)\n",
      " |-- DE_BILT_pressure: double (nullable = true)\n",
      " |-- DE_BILT_global_radiation: double (nullable = true)\n",
      " |-- DE_BILT_precipitation: double (nullable = true)\n",
      " |-- DE_BILT_sunshine: double (nullable = true)\n",
      " |-- DE_BILT_temp_mean: double (nullable = true)\n",
      " |-- DE_BILT_temp_min: double (nullable = true)\n",
      " |-- DE_BILT_temp_max: double (nullable = true)\n",
      " |-- DRESDEN_cloud_cover: integer (nullable = true)\n",
      " |-- DRESDEN_wind_speed: double (nullable = true)\n",
      " |-- DRESDEN_wind_gust: double (nullable = true)\n",
      " |-- DRESDEN_humidity: double (nullable = true)\n",
      " |-- DRESDEN_global_radiation: double (nullable = true)\n",
      " |-- DRESDEN_precipitation: double (nullable = true)\n",
      " |-- DRESDEN_sunshine: double (nullable = true)\n",
      " |-- DRESDEN_temp_mean: double (nullable = true)\n",
      " |-- DRESDEN_temp_min: double (nullable = true)\n",
      " |-- DRESDEN_temp_max: double (nullable = true)\n",
      " |-- DUSSELDORF_cloud_cover: integer (nullable = true)\n",
      " |-- DUSSELDORF_wind_speed: double (nullable = true)\n",
      " |-- DUSSELDORF_wind_gust: double (nullable = true)\n",
      " |-- DUSSELDORF_humidity: double (nullable = true)\n",
      " |-- DUSSELDORF_pressure: double (nullable = true)\n",
      " |-- DUSSELDORF_global_radiation: double (nullable = true)\n",
      " |-- DUSSELDORF_precipitation: double (nullable = true)\n",
      " |-- DUSSELDORF_sunshine: double (nullable = true)\n",
      " |-- DUSSELDORF_temp_mean: double (nullable = true)\n",
      " |-- DUSSELDORF_temp_min: double (nullable = true)\n",
      " |-- DUSSELDORF_temp_max: double (nullable = true)\n",
      " |-- HEATHROW_cloud_cover: integer (nullable = true)\n",
      " |-- HEATHROW_humidity: double (nullable = true)\n",
      " |-- HEATHROW_pressure: double (nullable = true)\n",
      " |-- HEATHROW_global_radiation: double (nullable = true)\n",
      " |-- HEATHROW_precipitation: double (nullable = true)\n",
      " |-- HEATHROW_sunshine: double (nullable = true)\n",
      " |-- HEATHROW_temp_mean: double (nullable = true)\n",
      " |-- HEATHROW_temp_min: double (nullable = true)\n",
      " |-- HEATHROW_temp_max: double (nullable = true)\n",
      " |-- KASSEL_wind_speed: double (nullable = true)\n",
      " |-- KASSEL_wind_gust: double (nullable = true)\n",
      " |-- KASSEL_humidity: double (nullable = true)\n",
      " |-- KASSEL_pressure: double (nullable = true)\n",
      " |-- KASSEL_global_radiation: double (nullable = true)\n",
      " |-- KASSEL_precipitation: double (nullable = true)\n",
      " |-- KASSEL_sunshine: double (nullable = true)\n",
      " |-- KASSEL_temp_mean: double (nullable = true)\n",
      " |-- KASSEL_temp_min: double (nullable = true)\n",
      " |-- KASSEL_temp_max: double (nullable = true)\n",
      " |-- LJUBLJANA_cloud_cover: integer (nullable = true)\n",
      " |-- LJUBLJANA_wind_speed: double (nullable = true)\n",
      " |-- LJUBLJANA_humidity: double (nullable = true)\n",
      " |-- LJUBLJANA_pressure: double (nullable = true)\n",
      " |-- LJUBLJANA_global_radiation: double (nullable = true)\n",
      " |-- LJUBLJANA_precipitation: double (nullable = true)\n",
      " |-- LJUBLJANA_sunshine: double (nullable = true)\n",
      " |-- LJUBLJANA_temp_mean: double (nullable = true)\n",
      " |-- LJUBLJANA_temp_min: double (nullable = true)\n",
      " |-- LJUBLJANA_temp_max: double (nullable = true)\n",
      " |-- MAASTRICHT_cloud_cover: integer (nullable = true)\n",
      " |-- MAASTRICHT_wind_speed: double (nullable = true)\n",
      " |-- MAASTRICHT_wind_gust: double (nullable = true)\n",
      " |-- MAASTRICHT_humidity: double (nullable = true)\n",
      " |-- MAASTRICHT_pressure: double (nullable = true)\n",
      " |-- MAASTRICHT_global_radiation: double (nullable = true)\n",
      " |-- MAASTRICHT_precipitation: double (nullable = true)\n",
      " |-- MAASTRICHT_sunshine: double (nullable = true)\n",
      " |-- MAASTRICHT_temp_mean: double (nullable = true)\n",
      " |-- MAASTRICHT_temp_min: double (nullable = true)\n",
      " |-- MAASTRICHT_temp_max: double (nullable = true)\n",
      " |-- MALMO_wind_speed: double (nullable = true)\n",
      " |-- MALMO_precipitation: double (nullable = true)\n",
      " |-- MALMO_temp_mean: double (nullable = true)\n",
      " |-- MALMO_temp_min: double (nullable = true)\n",
      " |-- MALMO_temp_max: double (nullable = true)\n",
      " |-- MONTELIMAR_wind_speed: double (nullable = true)\n",
      " |-- MONTELIMAR_humidity: double (nullable = true)\n",
      " |-- MONTELIMAR_pressure: double (nullable = true)\n",
      " |-- MONTELIMAR_global_radiation: double (nullable = true)\n",
      " |-- MONTELIMAR_precipitation: double (nullable = true)\n",
      " |-- MONTELIMAR_temp_mean: double (nullable = true)\n",
      " |-- MONTELIMAR_temp_min: double (nullable = true)\n",
      " |-- MONTELIMAR_temp_max: double (nullable = true)\n",
      " |-- MUENCHEN_cloud_cover: integer (nullable = true)\n",
      " |-- MUENCHEN_wind_speed: double (nullable = true)\n",
      " |-- MUENCHEN_wind_gust: double (nullable = true)\n",
      " |-- MUENCHEN_humidity: double (nullable = true)\n",
      " |-- MUENCHEN_pressure: double (nullable = true)\n",
      " |-- MUENCHEN_global_radiation: double (nullable = true)\n",
      " |-- MUENCHEN_precipitation: double (nullable = true)\n",
      " |-- MUENCHEN_sunshine: double (nullable = true)\n",
      " |-- MUENCHEN_temp_mean: double (nullable = true)\n",
      " |-- MUENCHEN_temp_min: double (nullable = true)\n",
      " |-- MUENCHEN_temp_max: double (nullable = true)\n",
      " |-- OSLO_cloud_cover: integer (nullable = true)\n",
      " |-- OSLO_wind_speed: double (nullable = true)\n",
      " |-- OSLO_wind_gust: double (nullable = true)\n",
      " |-- OSLO_humidity: double (nullable = true)\n",
      " |-- OSLO_pressure: double (nullable = true)\n",
      " |-- OSLO_global_radiation: double (nullable = true)\n",
      " |-- OSLO_precipitation: double (nullable = true)\n",
      " |-- OSLO_sunshine: double (nullable = true)\n",
      " |-- OSLO_temp_mean: double (nullable = true)\n",
      " |-- OSLO_temp_min: double (nullable = true)\n",
      " |-- OSLO_temp_max: double (nullable = true)\n",
      " |-- PERPIGNAN_wind_speed: double (nullable = true)\n",
      " |-- PERPIGNAN_humidity: double (nullable = true)\n",
      " |-- PERPIGNAN_pressure: double (nullable = true)\n",
      " |-- PERPIGNAN_global_radiation: double (nullable = true)\n",
      " |-- PERPIGNAN_precipitation: double (nullable = true)\n",
      " |-- PERPIGNAN_temp_mean: double (nullable = true)\n",
      " |-- PERPIGNAN_temp_min: double (nullable = true)\n",
      " |-- PERPIGNAN_temp_max: double (nullable = true)\n",
      " |-- ROMA_cloud_cover: integer (nullable = true)\n",
      " |-- ROMA_humidity: double (nullable = true)\n",
      " |-- ROMA_pressure: double (nullable = true)\n",
      " |-- ROMA_global_radiation: double (nullable = true)\n",
      " |-- ROMA_sunshine: double (nullable = true)\n",
      " |-- ROMA_temp_mean: double (nullable = true)\n",
      " |-- ROMA_temp_min: double (nullable = true)\n",
      " |-- ROMA_temp_max: double (nullable = true)\n",
      " |-- SONNBLICK_cloud_cover: integer (nullable = true)\n",
      " |-- SONNBLICK_humidity: double (nullable = true)\n",
      " |-- SONNBLICK_global_radiation: double (nullable = true)\n",
      " |-- SONNBLICK_precipitation: double (nullable = true)\n",
      " |-- SONNBLICK_sunshine: double (nullable = true)\n",
      " |-- SONNBLICK_temp_mean: double (nullable = true)\n",
      " |-- SONNBLICK_temp_min: double (nullable = true)\n",
      " |-- SONNBLICK_temp_max: double (nullable = true)\n",
      " |-- STOCKHOLM_cloud_cover: integer (nullable = true)\n",
      " |-- STOCKHOLM_pressure: double (nullable = true)\n",
      " |-- STOCKHOLM_precipitation: double (nullable = true)\n",
      " |-- STOCKHOLM_sunshine: double (nullable = true)\n",
      " |-- STOCKHOLM_temp_mean: double (nullable = true)\n",
      " |-- STOCKHOLM_temp_min: double (nullable = true)\n",
      " |-- STOCKHOLM_temp_max: double (nullable = true)\n",
      " |-- TOURS_wind_speed: double (nullable = true)\n",
      " |-- TOURS_humidity: double (nullable = true)\n",
      " |-- TOURS_pressure: double (nullable = true)\n",
      " |-- TOURS_global_radiation: double (nullable = true)\n",
      " |-- TOURS_precipitation: double (nullable = true)\n",
      " |-- TOURS_temp_mean: double (nullable = true)\n",
      " |-- TOURS_temp_min: double (nullable = true)\n",
      " |-- TOURS_temp_max: double (nullable = true)\n",
      "\n"
     ]
    }
   ],
   "source": [
    "df1.printSchema()"
   ]
  },
  {
   "cell_type": "code",
   "execution_count": 7,
   "id": "19e016b0",
   "metadata": {
    "execution": {
     "iopub.execute_input": "2023-12-08T08:01:18.390022Z",
     "iopub.status.busy": "2023-12-08T08:01:18.389674Z",
     "iopub.status.idle": "2023-12-08T08:01:18.396172Z",
     "shell.execute_reply": "2023-12-08T08:01:18.394555Z"
    },
    "papermill": {
     "duration": 0.026628,
     "end_time": "2023-12-08T08:01:18.398340",
     "exception": false,
     "start_time": "2023-12-08T08:01:18.371712",
     "status": "completed"
    },
    "tags": []
   },
   "outputs": [
    {
     "name": "stdout",
     "output_type": "stream",
     "text": [
      "root\n",
      " |-- DATE: integer (nullable = true)\n",
      " |-- BASEL_BBQ_weather: boolean (nullable = true)\n",
      " |-- BUDAPEST_BBQ_weather: boolean (nullable = true)\n",
      " |-- DE_BBQ_weather: boolean (nullable = true)\n",
      " |-- DRESDEN_BBQ_weather: boolean (nullable = true)\n",
      " |-- DUSSELDORF_BBQ_weather: boolean (nullable = true)\n",
      " |-- HEATHROW_BBQ_weather: boolean (nullable = true)\n",
      " |-- KASSEL_BBQ_weather: boolean (nullable = true)\n",
      " |-- LJUBLJANA_BBQ_weather: boolean (nullable = true)\n",
      " |-- MAASTRICHT_BBQ_weather: boolean (nullable = true)\n",
      " |-- MALMO_BBQ_weather: boolean (nullable = true)\n",
      " |-- MONTELIMAR_BBQ_weather: boolean (nullable = true)\n",
      " |-- MUENCHEN_BBQ_weather: boolean (nullable = true)\n",
      " |-- OSLO_BBQ_weather: boolean (nullable = true)\n",
      " |-- PERPIGNAN_BBQ_weather: boolean (nullable = true)\n",
      " |-- SONNBLICK_BBQ_weather: boolean (nullable = true)\n",
      " |-- STOCKHOLM_BBQ_weather: boolean (nullable = true)\n",
      " |-- TOURS_BBQ_weather: boolean (nullable = true)\n",
      "\n"
     ]
    }
   ],
   "source": [
    "df2.printSchema()"
   ]
  },
  {
   "cell_type": "markdown",
   "id": "beffd100",
   "metadata": {
    "papermill": {
     "duration": 0.060996,
     "end_time": "2023-12-08T08:01:18.477715",
     "exception": false,
     "start_time": "2023-12-08T08:01:18.416719",
     "status": "completed"
    },
    "tags": []
   },
   "source": [
    "# Choose a subset of the data corresponding to Maastricht"
   ]
  },
  {
   "cell_type": "code",
   "execution_count": 8,
   "id": "1fa4233e",
   "metadata": {
    "execution": {
     "iopub.execute_input": "2023-12-08T08:01:18.513652Z",
     "iopub.status.busy": "2023-12-08T08:01:18.512722Z",
     "iopub.status.idle": "2023-12-08T08:01:18.586677Z",
     "shell.execute_reply": "2023-12-08T08:01:18.585739Z"
    },
    "papermill": {
     "duration": 0.093992,
     "end_time": "2023-12-08T08:01:18.588752",
     "exception": false,
     "start_time": "2023-12-08T08:01:18.494760",
     "status": "completed"
    },
    "tags": []
   },
   "outputs": [
    {
     "data": {
      "text/plain": [
       "['MAASTRICHT_cloud_cover',\n",
       " 'MAASTRICHT_wind_speed',\n",
       " 'MAASTRICHT_wind_gust',\n",
       " 'MAASTRICHT_humidity',\n",
       " 'MAASTRICHT_pressure',\n",
       " 'MAASTRICHT_global_radiation',\n",
       " 'MAASTRICHT_precipitation',\n",
       " 'MAASTRICHT_sunshine',\n",
       " 'MAASTRICHT_temp_mean',\n",
       " 'MAASTRICHT_temp_min',\n",
       " 'MAASTRICHT_temp_max']"
      ]
     },
     "execution_count": 8,
     "metadata": {},
     "output_type": "execute_result"
    }
   ],
   "source": [
    "#pick the columns corresponding to Maastricht\n",
    "df1.columns[80:91]"
   ]
  },
  {
   "cell_type": "markdown",
   "id": "0cf59f8e",
   "metadata": {
    "papermill": {
     "duration": 0.017021,
     "end_time": "2023-12-08T08:01:18.623044",
     "exception": false,
     "start_time": "2023-12-08T08:01:18.606023",
     "status": "completed"
    },
    "tags": []
   },
   "source": []
  },
  {
   "cell_type": "code",
   "execution_count": 9,
   "id": "f02e9393",
   "metadata": {
    "execution": {
     "iopub.execute_input": "2023-12-08T08:01:18.658139Z",
     "iopub.status.busy": "2023-12-08T08:01:18.657783Z",
     "iopub.status.idle": "2023-12-08T08:01:18.710826Z",
     "shell.execute_reply": "2023-12-08T08:01:18.710028Z"
    },
    "papermill": {
     "duration": 0.073269,
     "end_time": "2023-12-08T08:01:18.713054",
     "exception": false,
     "start_time": "2023-12-08T08:01:18.639785",
     "status": "completed"
    },
    "tags": []
   },
   "outputs": [],
   "source": [
    "dfM = df1.select(['DATE','MAASTRICHT_cloud_cover',\n",
    " 'MAASTRICHT_wind_speed',\n",
    " 'MAASTRICHT_wind_gust',\n",
    " 'MAASTRICHT_humidity',\n",
    " 'MAASTRICHT_pressure',\n",
    " 'MAASTRICHT_global_radiation',\n",
    " 'MAASTRICHT_precipitation',\n",
    " 'MAASTRICHT_sunshine',\n",
    " 'MAASTRICHT_temp_mean',\n",
    " 'MAASTRICHT_temp_min',\n",
    " 'MAASTRICHT_temp_max'])"
   ]
  },
  {
   "cell_type": "code",
   "execution_count": 10,
   "id": "14053f09",
   "metadata": {
    "execution": {
     "iopub.execute_input": "2023-12-08T08:01:18.748492Z",
     "iopub.status.busy": "2023-12-08T08:01:18.748186Z",
     "iopub.status.idle": "2023-12-08T08:01:19.053645Z",
     "shell.execute_reply": "2023-12-08T08:01:19.052652Z"
    },
    "papermill": {
     "duration": 0.325567,
     "end_time": "2023-12-08T08:01:19.056130",
     "exception": false,
     "start_time": "2023-12-08T08:01:18.730563",
     "status": "completed"
    },
    "tags": []
   },
   "outputs": [
    {
     "name": "stdout",
     "output_type": "stream",
     "text": [
      "+--------+----------------------+\n",
      "|    DATE|MAASTRICHT_BBQ_weather|\n",
      "+--------+----------------------+\n",
      "|20000101|                 false|\n",
      "|20000102|                 false|\n",
      "|20000103|                 false|\n",
      "|20000104|                 false|\n",
      "|20000105|                 false|\n",
      "|20000106|                 false|\n",
      "|20000107|                 false|\n",
      "|20000108|                 false|\n",
      "|20000109|                 false|\n",
      "|20000110|                 false|\n",
      "|20000111|                 false|\n",
      "|20000112|                 false|\n",
      "|20000113|                 false|\n",
      "|20000114|                 false|\n",
      "|20000115|                 false|\n",
      "|20000116|                 false|\n",
      "|20000117|                 false|\n",
      "|20000118|                 false|\n",
      "|20000119|                 false|\n",
      "|20000120|                 false|\n",
      "+--------+----------------------+\n",
      "only showing top 20 rows\n",
      "\n"
     ]
    }
   ],
   "source": [
    "dfM2 = df2.select(['DATE','MAASTRICHT_BBQ_weather'])\n",
    "dfM2.show()"
   ]
  },
  {
   "cell_type": "code",
   "execution_count": 11,
   "id": "60580f14",
   "metadata": {
    "execution": {
     "iopub.execute_input": "2023-12-08T08:01:19.107630Z",
     "iopub.status.busy": "2023-12-08T08:01:19.107167Z",
     "iopub.status.idle": "2023-12-08T08:01:19.142985Z",
     "shell.execute_reply": "2023-12-08T08:01:19.142006Z"
    },
    "papermill": {
     "duration": 0.064981,
     "end_time": "2023-12-08T08:01:19.145646",
     "exception": false,
     "start_time": "2023-12-08T08:01:19.080665",
     "status": "completed"
    },
    "tags": []
   },
   "outputs": [],
   "source": [
    "import pyspark.sql.functions as F\n",
    "from functools import reduce\n",
    "\n",
    "#convert the Boolean True/Fase to 0 or 1\n",
    "cols = [\"MAASTRICHT_BBQ_weather\"]\n",
    "dfM2 = reduce(lambda df, c: dfM2.withColumn(c, F.when(df[c] == 'false', 0).otherwise(1)), cols, dfM2)\n"
   ]
  },
  {
   "cell_type": "code",
   "execution_count": 12,
   "id": "157f182f",
   "metadata": {
    "execution": {
     "iopub.execute_input": "2023-12-08T08:01:19.192700Z",
     "iopub.status.busy": "2023-12-08T08:01:19.191778Z",
     "iopub.status.idle": "2023-12-08T08:01:19.386769Z",
     "shell.execute_reply": "2023-12-08T08:01:19.385781Z"
    },
    "papermill": {
     "duration": 0.219945,
     "end_time": "2023-12-08T08:01:19.389962",
     "exception": false,
     "start_time": "2023-12-08T08:01:19.170017",
     "status": "completed"
    },
    "tags": []
   },
   "outputs": [
    {
     "name": "stdout",
     "output_type": "stream",
     "text": [
      "+--------+----------------------+\n",
      "|    DATE|MAASTRICHT_BBQ_weather|\n",
      "+--------+----------------------+\n",
      "|20000101|                     0|\n",
      "|20000102|                     0|\n",
      "|20000103|                     0|\n",
      "|20000104|                     0|\n",
      "|20000105|                     0|\n",
      "|20000106|                     0|\n",
      "|20000107|                     0|\n",
      "|20000108|                     0|\n",
      "|20000109|                     0|\n",
      "|20000110|                     0|\n",
      "|20000111|                     0|\n",
      "|20000112|                     0|\n",
      "|20000113|                     0|\n",
      "|20000114|                     0|\n",
      "|20000115|                     0|\n",
      "|20000116|                     0|\n",
      "|20000117|                     0|\n",
      "|20000118|                     0|\n",
      "|20000119|                     0|\n",
      "|20000120|                     0|\n",
      "+--------+----------------------+\n",
      "only showing top 20 rows\n",
      "\n"
     ]
    }
   ],
   "source": [
    "dfM2.show()"
   ]
  },
  {
   "cell_type": "code",
   "execution_count": 13,
   "id": "cdbd7787",
   "metadata": {
    "execution": {
     "iopub.execute_input": "2023-12-08T08:01:19.443950Z",
     "iopub.status.busy": "2023-12-08T08:01:19.443470Z",
     "iopub.status.idle": "2023-12-08T08:01:19.491877Z",
     "shell.execute_reply": "2023-12-08T08:01:19.490879Z"
    },
    "papermill": {
     "duration": 0.077814,
     "end_time": "2023-12-08T08:01:19.494891",
     "exception": false,
     "start_time": "2023-12-08T08:01:19.417077",
     "status": "completed"
    },
    "tags": []
   },
   "outputs": [
    {
     "name": "stdout",
     "output_type": "stream",
     "text": [
      "root\n",
      " |-- DATE: integer (nullable = true)\n",
      " |-- MAASTRICHT_BBQ_weather: integer (nullable = false)\n",
      " |-- MAASTRICHT_cloud_cover: integer (nullable = true)\n",
      " |-- MAASTRICHT_wind_speed: double (nullable = true)\n",
      " |-- MAASTRICHT_wind_gust: double (nullable = true)\n",
      " |-- MAASTRICHT_humidity: double (nullable = true)\n",
      " |-- MAASTRICHT_pressure: double (nullable = true)\n",
      " |-- MAASTRICHT_global_radiation: double (nullable = true)\n",
      " |-- MAASTRICHT_precipitation: double (nullable = true)\n",
      " |-- MAASTRICHT_sunshine: double (nullable = true)\n",
      " |-- MAASTRICHT_temp_mean: double (nullable = true)\n",
      " |-- MAASTRICHT_temp_min: double (nullable = true)\n",
      " |-- MAASTRICHT_temp_max: double (nullable = true)\n",
      "\n"
     ]
    }
   ],
   "source": [
    "#Join the labels (True, False) from the second newly created dataframe to the first one\n",
    "dfM2= dfM2.join(dfM, on=[\"DATE\"])\n",
    "dfM2.printSchema()"
   ]
  },
  {
   "cell_type": "markdown",
   "id": "b60bcb77",
   "metadata": {
    "papermill": {
     "duration": 0.017235,
     "end_time": "2023-12-08T08:01:19.535626",
     "exception": false,
     "start_time": "2023-12-08T08:01:19.518391",
     "status": "completed"
    },
    "tags": []
   },
   "source": [
    "# Convert data to Spark ML format"
   ]
  },
  {
   "cell_type": "code",
   "execution_count": 14,
   "id": "1b801185",
   "metadata": {
    "execution": {
     "iopub.execute_input": "2023-12-08T08:01:19.572881Z",
     "iopub.status.busy": "2023-12-08T08:01:19.572150Z",
     "iopub.status.idle": "2023-12-08T08:01:19.773830Z",
     "shell.execute_reply": "2023-12-08T08:01:19.772877Z"
    },
    "papermill": {
     "duration": 0.223131,
     "end_time": "2023-12-08T08:01:19.775807",
     "exception": false,
     "start_time": "2023-12-08T08:01:19.552676",
     "status": "completed"
    },
    "tags": []
   },
   "outputs": [
    {
     "name": "stderr",
     "output_type": "stream",
     "text": [
      "/opt/conda/lib/python3.10/site-packages/scipy/__init__.py:146: UserWarning: A NumPy version >=1.16.5 and <1.23.0 is required for this version of SciPy (detected version 1.24.3\n",
      "  warnings.warn(f\"A NumPy version >={np_minversion} and <{np_maxversion}\"\n"
     ]
    }
   ],
   "source": [
    "#The data format required by spark ML is (features, label) so we need to assemble all features into a feature vector. \n",
    "from pyspark.ml.feature import VectorAssembler"
   ]
  },
  {
   "cell_type": "code",
   "execution_count": 15,
   "id": "d6da2534",
   "metadata": {
    "execution": {
     "iopub.execute_input": "2023-12-08T08:01:19.811848Z",
     "iopub.status.busy": "2023-12-08T08:01:19.811533Z",
     "iopub.status.idle": "2023-12-08T08:01:19.835096Z",
     "shell.execute_reply": "2023-12-08T08:01:19.834117Z"
    },
    "papermill": {
     "duration": 0.043846,
     "end_time": "2023-12-08T08:01:19.837173",
     "exception": false,
     "start_time": "2023-12-08T08:01:19.793327",
     "status": "completed"
    },
    "tags": []
   },
   "outputs": [],
   "source": [
    "#create an instance of the Assembler which takes in a series of columns to be used as features\n",
    "#and returns a condensed vector\n",
    "assembler = VectorAssembler(inputCols = ['DATE','MAASTRICHT_cloud_cover',\n",
    " 'MAASTRICHT_wind_speed',\n",
    " 'MAASTRICHT_wind_gust',\n",
    " 'MAASTRICHT_humidity',\n",
    " 'MAASTRICHT_pressure',\n",
    " 'MAASTRICHT_global_radiation',\n",
    " 'MAASTRICHT_precipitation',\n",
    " 'MAASTRICHT_sunshine',\n",
    " 'MAASTRICHT_temp_mean',\n",
    " 'MAASTRICHT_temp_min',\n",
    " 'MAASTRICHT_temp_max',\n",
    " 'MAASTRICHT_cloud_cover',\n",
    " 'MAASTRICHT_wind_speed',\n",
    " 'MAASTRICHT_wind_gust',\n",
    " 'MAASTRICHT_humidity',\n",
    " 'MAASTRICHT_pressure',\n",
    " 'MAASTRICHT_global_radiation',\n",
    " 'MAASTRICHT_precipitation',\n",
    " 'MAASTRICHT_sunshine',\n",
    " 'MAASTRICHT_temp_mean',\n",
    " 'MAASTRICHT_temp_min',\n",
    " 'MAASTRICHT_temp_max'], outputCol = 'features')"
   ]
  },
  {
   "cell_type": "code",
   "execution_count": 16,
   "id": "344de017",
   "metadata": {
    "execution": {
     "iopub.execute_input": "2023-12-08T08:01:19.872554Z",
     "iopub.status.busy": "2023-12-08T08:01:19.872280Z",
     "iopub.status.idle": "2023-12-08T08:01:20.016035Z",
     "shell.execute_reply": "2023-12-08T08:01:20.014939Z"
    },
    "papermill": {
     "duration": 0.164853,
     "end_time": "2023-12-08T08:01:20.019199",
     "exception": false,
     "start_time": "2023-12-08T08:01:19.854346",
     "status": "completed"
    },
    "tags": []
   },
   "outputs": [],
   "source": [
    "#Call the 'transform' method on the dataframe returns a new dataframe with the newly created 'features' column\n",
    "\n",
    "data = assembler.transform(dfM2)"
   ]
  },
  {
   "cell_type": "code",
   "execution_count": 17,
   "id": "1466fd5b",
   "metadata": {
    "execution": {
     "iopub.execute_input": "2023-12-08T08:01:20.070840Z",
     "iopub.status.busy": "2023-12-08T08:01:20.070476Z",
     "iopub.status.idle": "2023-12-08T08:01:21.339956Z",
     "shell.execute_reply": "2023-12-08T08:01:21.338999Z"
    },
    "papermill": {
     "duration": 1.298819,
     "end_time": "2023-12-08T08:01:21.343356",
     "exception": false,
     "start_time": "2023-12-08T08:01:20.044537",
     "status": "completed"
    },
    "tags": []
   },
   "outputs": [
    {
     "name": "stderr",
     "output_type": "stream",
     "text": [
      "23/12/08 08:01:20 WARN SparkStringUtils: Truncated the string representation of a plan since it was too large. This behavior can be adjusted by setting 'spark.sql.debug.maxToStringFields'.\n"
     ]
    },
    {
     "name": "stdout",
     "output_type": "stream",
     "text": [
      "+--------------------+----------------------+\n",
      "|            features|MAASTRICHT_BBQ_weather|\n",
      "+--------------------+----------------------+\n",
      "|[2.0000101E7,8.0,...|                     0|\n",
      "|[2.0000102E7,7.0,...|                     0|\n",
      "|[2.0000103E7,7.0,...|                     0|\n",
      "|[2.0000104E7,8.0,...|                     0|\n",
      "|[2.0000105E7,4.0,...|                     0|\n",
      "|[2.0000106E7,6.0,...|                     0|\n",
      "|[2.0000107E7,6.0,...|                     0|\n",
      "|[2.0000108E7,7.0,...|                     0|\n",
      "|[2.0000109E7,6.0,...|                     0|\n",
      "|[2.000011E7,7.0,1...|                     0|\n",
      "|[2.0000111E7,3.0,...|                     0|\n",
      "|[2.0000112E7,5.0,...|                     0|\n",
      "|[2.0000113E7,8.0,...|                     0|\n",
      "|[2.0000114E7,8.0,...|                     0|\n",
      "|[2.0000115E7,8.0,...|                     0|\n",
      "|[2.0000116E7,8.0,...|                     0|\n",
      "|[2.0000117E7,8.0,...|                     0|\n",
      "|[2.0000118E7,8.0,...|                     0|\n",
      "|[2.0000119E7,7.0,...|                     0|\n",
      "|[2.000012E7,8.0,3...|                     0|\n",
      "+--------------------+----------------------+\n",
      "only showing top 20 rows\n",
      "\n"
     ]
    }
   ],
   "source": [
    "final_data = data.select(['features','MAASTRICHT_BBQ_weather'])\n",
    "final_data.show()"
   ]
  },
  {
   "cell_type": "markdown",
   "id": "3dc66857",
   "metadata": {
    "papermill": {
     "duration": 0.026126,
     "end_time": "2023-12-08T08:01:21.395457",
     "exception": false,
     "start_time": "2023-12-08T08:01:21.369331",
     "status": "completed"
    },
    "tags": []
   },
   "source": [
    "# Spark ML tree-based methods: DecisionTree, RandomForest"
   ]
  },
  {
   "cell_type": "code",
   "execution_count": 18,
   "id": "8ca4a7a9",
   "metadata": {
    "execution": {
     "iopub.execute_input": "2023-12-08T08:01:21.440168Z",
     "iopub.status.busy": "2023-12-08T08:01:21.439291Z",
     "iopub.status.idle": "2023-12-08T08:01:21.444755Z",
     "shell.execute_reply": "2023-12-08T08:01:21.443802Z"
    },
    "papermill": {
     "duration": 0.026843,
     "end_time": "2023-12-08T08:01:21.446800",
     "exception": false,
     "start_time": "2023-12-08T08:01:21.419957",
     "status": "completed"
    },
    "tags": []
   },
   "outputs": [],
   "source": [
    "from pyspark.ml.classification import DecisionTreeClassifier,GBTClassifier,RandomForestClassifier\n",
    "from pyspark.ml import Pipeline"
   ]
  },
  {
   "cell_type": "code",
   "execution_count": 19,
   "id": "7cdfba9d",
   "metadata": {
    "execution": {
     "iopub.execute_input": "2023-12-08T08:01:21.484611Z",
     "iopub.status.busy": "2023-12-08T08:01:21.483653Z",
     "iopub.status.idle": "2023-12-08T08:01:21.512624Z",
     "shell.execute_reply": "2023-12-08T08:01:21.511465Z"
    },
    "papermill": {
     "duration": 0.050846,
     "end_time": "2023-12-08T08:01:21.515514",
     "exception": false,
     "start_time": "2023-12-08T08:01:21.464668",
     "status": "completed"
    },
    "tags": []
   },
   "outputs": [],
   "source": [
    "train_data,test_data = final_data.randomSplit([0.7,0.3])"
   ]
  },
  {
   "cell_type": "code",
   "execution_count": 20,
   "id": "dee10f9d",
   "metadata": {
    "execution": {
     "iopub.execute_input": "2023-12-08T08:01:21.555396Z",
     "iopub.status.busy": "2023-12-08T08:01:21.555031Z",
     "iopub.status.idle": "2023-12-08T08:01:21.626216Z",
     "shell.execute_reply": "2023-12-08T08:01:21.625201Z"
    },
    "papermill": {
     "duration": 0.093231,
     "end_time": "2023-12-08T08:01:21.629372",
     "exception": false,
     "start_time": "2023-12-08T08:01:21.536141",
     "status": "completed"
    },
    "tags": []
   },
   "outputs": [],
   "source": [
    "dtc = DecisionTreeClassifier(labelCol='MAASTRICHT_BBQ_weather',featuresCol='features')\n",
    "rfc = RandomForestClassifier(labelCol='MAASTRICHT_BBQ_weather',featuresCol='features')\n",
    "gbt = GBTClassifier(labelCol='MAASTRICHT_BBQ_weather',featuresCol='features')"
   ]
  },
  {
   "cell_type": "code",
   "execution_count": 21,
   "id": "5fe1ace2",
   "metadata": {
    "execution": {
     "iopub.execute_input": "2023-12-08T08:01:21.673111Z",
     "iopub.status.busy": "2023-12-08T08:01:21.672391Z",
     "iopub.status.idle": "2023-12-08T08:01:38.215174Z",
     "shell.execute_reply": "2023-12-08T08:01:38.214049Z"
    },
    "papermill": {
     "duration": 16.565064,
     "end_time": "2023-12-08T08:01:38.218317",
     "exception": false,
     "start_time": "2023-12-08T08:01:21.653253",
     "status": "completed"
    },
    "tags": []
   },
   "outputs": [],
   "source": [
    "# Train the models (its three models, so it might take some time)\n",
    "dtc_model = dtc.fit(train_data)\n",
    "rfc_model = rfc.fit(train_data)\n",
    "gbt_model = gbt.fit(train_data)"
   ]
  },
  {
   "cell_type": "code",
   "execution_count": 22,
   "id": "29493b5d",
   "metadata": {
    "execution": {
     "iopub.execute_input": "2023-12-08T08:01:38.272198Z",
     "iopub.status.busy": "2023-12-08T08:01:38.271208Z",
     "iopub.status.idle": "2023-12-08T08:01:38.471079Z",
     "shell.execute_reply": "2023-12-08T08:01:38.470318Z"
    },
    "papermill": {
     "duration": 0.228943,
     "end_time": "2023-12-08T08:01:38.473504",
     "exception": false,
     "start_time": "2023-12-08T08:01:38.244561",
     "status": "completed"
    },
    "tags": []
   },
   "outputs": [],
   "source": [
    "#Call 'transform' on the test_data\n",
    "#these will create 3 new dataframes for each model\n",
    "dtc_predictions = dtc_model.transform(test_data)\n",
    "rfc_predictions = rfc_model.transform(test_data)\n",
    "gbt_predictions = gbt_model.transform(test_data)"
   ]
  },
  {
   "cell_type": "code",
   "execution_count": 23,
   "id": "39e82169",
   "metadata": {
    "execution": {
     "iopub.execute_input": "2023-12-08T08:01:38.512250Z",
     "iopub.status.busy": "2023-12-08T08:01:38.511894Z",
     "iopub.status.idle": "2023-12-08T08:01:39.038760Z",
     "shell.execute_reply": "2023-12-08T08:01:39.037684Z"
    },
    "papermill": {
     "duration": 0.548664,
     "end_time": "2023-12-08T08:01:39.041732",
     "exception": false,
     "start_time": "2023-12-08T08:01:38.493068",
     "status": "completed"
    },
    "tags": []
   },
   "outputs": [
    {
     "name": "stdout",
     "output_type": "stream",
     "text": [
      "+--------------------+----------------------+--------------------+--------------------+----------+\n",
      "|            features|MAASTRICHT_BBQ_weather|       rawPrediction|         probability|prediction|\n",
      "+--------------------+----------------------+--------------------+--------------------+----------+\n",
      "|[2.0000101E7,8.0,...|                     0|[19.9874331312549...|[0.99937165656274...|       0.0|\n",
      "|[2.0000102E7,7.0,...|                     0|[19.9811239829899...|[0.99905619914949...|       0.0|\n",
      "|[2.0000103E7,7.0,...|                     0|[19.9874331312549...|[0.99937165656274...|       0.0|\n",
      "|[2.0000105E7,4.0,...|                     0|[19.9811239829899...|[0.99905619914949...|       0.0|\n",
      "|[2.0000106E7,6.0,...|                     0|[19.9874331312549...|[0.99937165656274...|       0.0|\n",
      "|[2.0000107E7,6.0,...|                     0|[19.9811239829899...|[0.99905619914949...|       0.0|\n",
      "|[2.0000108E7,7.0,...|                     0|[19.9874331312549...|[0.99937165656274...|       0.0|\n",
      "|[2.0000109E7,6.0,...|                     0|[19.9811239829899...|[0.99905619914949...|       0.0|\n",
      "|[2.000011E7,7.0,1...|                     0|[19.9811239829899...|[0.99905619914949...|       0.0|\n",
      "|[2.0000112E7,5.0,...|                     0|[19.9811239829899...|[0.99905619914949...|       0.0|\n",
      "|[2.0000114E7,8.0,...|                     0|[19.9811239829899...|[0.99905619914949...|       0.0|\n",
      "|[2.0000119E7,7.0,...|                     0|[19.9811239829899...|[0.99905619914949...|       0.0|\n",
      "|[2.000012E7,8.0,3...|                     0|[19.9874331312549...|[0.99937165656274...|       0.0|\n",
      "|[2.0000125E7,2.0,...|                     0|[19.9811239829899...|[0.99905619914949...|       0.0|\n",
      "|[2.0000131E7,8.0,...|                     0|[19.9874331312549...|[0.99937165656274...|       0.0|\n",
      "|[2.0000202E7,5.0,...|                     0|[19.9874331312549...|[0.99937165656274...|       0.0|\n",
      "|[2.0000204E7,8.0,...|                     0|[19.9874331312549...|[0.99937165656274...|       0.0|\n",
      "|[2.0000207E7,7.0,...|                     0|[19.9874331312549...|[0.99937165656274...|       0.0|\n",
      "|[2.0000211E7,0.0,...|                     0|[19.9936908517350...|[0.99968454258675...|       0.0|\n",
      "|[2.000022E7,4.0,2...|                     0|[19.9874331312549...|[0.99937165656274...|       0.0|\n",
      "+--------------------+----------------------+--------------------+--------------------+----------+\n",
      "only showing top 20 rows\n",
      "\n"
     ]
    }
   ],
   "source": [
    "#let's look at one of the newly created dataframes\n",
    "rfc_predictions.show()"
   ]
  },
  {
   "cell_type": "markdown",
   "id": "260e8832",
   "metadata": {
    "papermill": {
     "duration": 0.025029,
     "end_time": "2023-12-08T08:01:39.093010",
     "exception": false,
     "start_time": "2023-12-08T08:01:39.067981",
     "status": "completed"
    },
    "tags": []
   },
   "source": [
    "# Accuracy evaluation"
   ]
  },
  {
   "cell_type": "code",
   "execution_count": 24,
   "id": "0cba8f5c",
   "metadata": {
    "execution": {
     "iopub.execute_input": "2023-12-08T08:01:39.144696Z",
     "iopub.status.busy": "2023-12-08T08:01:39.143609Z",
     "iopub.status.idle": "2023-12-08T08:01:39.148930Z",
     "shell.execute_reply": "2023-12-08T08:01:39.147815Z"
    },
    "papermill": {
     "duration": 0.033704,
     "end_time": "2023-12-08T08:01:39.151293",
     "exception": false,
     "start_time": "2023-12-08T08:01:39.117589",
     "status": "completed"
    },
    "tags": []
   },
   "outputs": [],
   "source": [
    "from pyspark.ml.evaluation import MulticlassClassificationEvaluator"
   ]
  },
  {
   "cell_type": "code",
   "execution_count": 25,
   "id": "17a0fe9f",
   "metadata": {
    "execution": {
     "iopub.execute_input": "2023-12-08T08:01:39.204687Z",
     "iopub.status.busy": "2023-12-08T08:01:39.203880Z",
     "iopub.status.idle": "2023-12-08T08:01:39.218277Z",
     "shell.execute_reply": "2023-12-08T08:01:39.217359Z"
    },
    "papermill": {
     "duration": 0.044559,
     "end_time": "2023-12-08T08:01:39.221201",
     "exception": false,
     "start_time": "2023-12-08T08:01:39.176642",
     "status": "completed"
    },
    "tags": []
   },
   "outputs": [],
   "source": [
    "# Select (prediction, true label) and compute test error\n",
    "acc_evaluator = MulticlassClassificationEvaluator(labelCol=\"MAASTRICHT_BBQ_weather\", predictionCol=\"prediction\", metricName=\"accuracy\")"
   ]
  },
  {
   "cell_type": "code",
   "execution_count": 26,
   "id": "c00d0e18",
   "metadata": {
    "execution": {
     "iopub.execute_input": "2023-12-08T08:01:39.274928Z",
     "iopub.status.busy": "2023-12-08T08:01:39.274135Z",
     "iopub.status.idle": "2023-12-08T08:01:40.580044Z",
     "shell.execute_reply": "2023-12-08T08:01:40.578578Z"
    },
    "papermill": {
     "duration": 1.336835,
     "end_time": "2023-12-08T08:01:40.584274",
     "exception": false,
     "start_time": "2023-12-08T08:01:39.247439",
     "status": "completed"
    },
    "tags": []
   },
   "outputs": [],
   "source": [
    "dtc_acc = acc_evaluator.evaluate(dtc_predictions)\n",
    "rfc_acc = acc_evaluator.evaluate(rfc_predictions)\n",
    "gbt_acc = acc_evaluator.evaluate(gbt_predictions)"
   ]
  },
  {
   "cell_type": "code",
   "execution_count": 27,
   "id": "0e7d5c64",
   "metadata": {
    "execution": {
     "iopub.execute_input": "2023-12-08T08:01:40.637494Z",
     "iopub.status.busy": "2023-12-08T08:01:40.636702Z",
     "iopub.status.idle": "2023-12-08T08:01:40.644864Z",
     "shell.execute_reply": "2023-12-08T08:01:40.643686Z"
    },
    "papermill": {
     "duration": 0.028878,
     "end_time": "2023-12-08T08:01:40.646813",
     "exception": false,
     "start_time": "2023-12-08T08:01:40.617935",
     "status": "completed"
    },
    "tags": []
   },
   "outputs": [
    {
     "name": "stdout",
     "output_type": "stream",
     "text": [
      "--------------------------------------------------------------------------------\n",
      "A single decision tree had an accuracy of: 99.53%\n",
      "--------------------------------------------------------------------------------\n",
      "A random forest ensemble had an accuracy of: 99.53%\n",
      "--------------------------------------------------------------------------------\n",
      "A ensemble using GBT had an accuracy of: 99.34%\n"
     ]
    }
   ],
   "source": [
    "print('-'*80)\n",
    "print('A single decision tree had an accuracy of: {0:2.2f}%'.format(dtc_acc*100))\n",
    "print('-'*80)\n",
    "print('A random forest ensemble had an accuracy of: {0:2.2f}%'.format(rfc_acc*100))\n",
    "print('-'*80)\n",
    "print('A ensemble using GBT had an accuracy of: {0:2.2f}%'.format(gbt_acc*100))"
   ]
  },
  {
   "cell_type": "markdown",
   "id": "f561abf9",
   "metadata": {
    "papermill": {
     "duration": 0.017869,
     "end_time": "2023-12-08T08:01:40.682295",
     "exception": false,
     "start_time": "2023-12-08T08:01:40.664426",
     "status": "completed"
    },
    "tags": []
   },
   "source": [
    "All methods have the accuracy of 1 (this is the same result obtained using RandomForestClassifier from sklearn.ensemble in the other notebook). "
   ]
  }
 ],
 "metadata": {
  "kaggle": {
   "accelerator": "gpu",
   "dataSources": [
    {
     "datasetId": 2459900,
     "sourceId": 4167948,
     "sourceType": "datasetVersion"
    }
   ],
   "dockerImageVersionId": 30616,
   "isGpuEnabled": true,
   "isInternetEnabled": true,
   "language": "python",
   "sourceType": "notebook"
  },
  "kernelspec": {
   "display_name": "Python 3",
   "language": "python",
   "name": "python3"
  },
  "language_info": {
   "codemirror_mode": {
    "name": "ipython",
    "version": 3
   },
   "file_extension": ".py",
   "mimetype": "text/x-python",
   "name": "python",
   "nbconvert_exporter": "python",
   "pygments_lexer": "ipython3",
   "version": "3.10.12"
  },
  "papermill": {
   "default_parameters": {},
   "duration": 87.895133,
   "end_time": "2023-12-08T08:01:43.321114",
   "environment_variables": {},
   "exception": null,
   "input_path": "__notebook__.ipynb",
   "output_path": "__notebook__.ipynb",
   "parameters": {},
   "start_time": "2023-12-08T08:00:15.425981",
   "version": "2.4.0"
  }
 },
 "nbformat": 4,
 "nbformat_minor": 5
}
