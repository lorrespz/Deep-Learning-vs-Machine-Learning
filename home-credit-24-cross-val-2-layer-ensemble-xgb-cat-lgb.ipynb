{
 "cells": [
  {
   "cell_type": "markdown",
   "id": "f4b0e460",
   "metadata": {
    "papermill": {
     "duration": 0.012673,
     "end_time": "2024-05-24T08:51:23.933566",
     "exception": false,
     "start_time": "2024-05-24T08:51:23.920893",
     "status": "completed"
    },
    "tags": []
   },
   "source": [
    "# Home-credit-24: Ensemble of boosting models"
   ]
  },
  {
   "cell_type": "code",
   "execution_count": 1,
   "id": "b163106f",
   "metadata": {
    "execution": {
     "iopub.execute_input": "2024-05-24T08:51:23.959596Z",
     "iopub.status.busy": "2024-05-24T08:51:23.959207Z",
     "iopub.status.idle": "2024-05-24T08:51:29.648368Z",
     "shell.execute_reply": "2024-05-24T08:51:29.647539Z"
    },
    "papermill": {
     "duration": 5.705271,
     "end_time": "2024-05-24T08:51:29.651090",
     "exception": false,
     "start_time": "2024-05-24T08:51:23.945819",
     "status": "completed"
    },
    "tags": []
   },
   "outputs": [],
   "source": [
    "import numpy as np\n",
    "import polars as pl\n",
    "import pandas as pd\n",
    "from sklearn.model_selection import cross_val_predict\n",
    "from sklearn.model_selection import train_test_split\n",
    "from sklearn.metrics import roc_auc_score\n",
    "\n",
    "import lightgbm as lgb\n",
    "import xgboost as xgb\n",
    "from xgboost import XGBClassifier\n",
    "from catboost import CatBoostClassifier, Pool\n",
    "from lightgbm import LGBMClassifier"
   ]
  },
  {
   "cell_type": "code",
   "execution_count": 2,
   "id": "032a1e86",
   "metadata": {
    "execution": {
     "iopub.execute_input": "2024-05-24T08:51:29.678719Z",
     "iopub.status.busy": "2024-05-24T08:51:29.678382Z",
     "iopub.status.idle": "2024-05-24T08:51:29.683037Z",
     "shell.execute_reply": "2024-05-24T08:51:29.682039Z"
    },
    "papermill": {
     "duration": 0.020807,
     "end_time": "2024-05-24T08:51:29.685131",
     "exception": false,
     "start_time": "2024-05-24T08:51:29.664324",
     "status": "completed"
    },
    "tags": []
   },
   "outputs": [],
   "source": [
    "device='gpu'"
   ]
  },
  {
   "cell_type": "markdown",
   "id": "7f26e12e",
   "metadata": {
    "papermill": {
     "duration": 0.013008,
     "end_time": "2024-05-24T08:51:29.710336",
     "exception": false,
     "start_time": "2024-05-24T08:51:29.697328",
     "status": "completed"
    },
    "tags": []
   },
   "source": [
    "# Load data"
   ]
  },
  {
   "cell_type": "code",
   "execution_count": 3,
   "id": "882e6747",
   "metadata": {
    "execution": {
     "iopub.execute_input": "2024-05-24T08:51:29.736283Z",
     "iopub.status.busy": "2024-05-24T08:51:29.735999Z",
     "iopub.status.idle": "2024-05-24T08:51:29.739932Z",
     "shell.execute_reply": "2024-05-24T08:51:29.739148Z"
    },
    "papermill": {
     "duration": 0.019307,
     "end_time": "2024-05-24T08:51:29.741986",
     "exception": false,
     "start_time": "2024-05-24T08:51:29.722679",
     "status": "completed"
    },
    "tags": []
   },
   "outputs": [],
   "source": [
    "dataPath = \"/kaggle/input/home-credit-credit-risk-model-stability/\""
   ]
  },
  {
   "cell_type": "code",
   "execution_count": 4,
   "id": "56d14b08",
   "metadata": {
    "execution": {
     "iopub.execute_input": "2024-05-24T08:51:29.767978Z",
     "iopub.status.busy": "2024-05-24T08:51:29.767663Z",
     "iopub.status.idle": "2024-05-24T08:51:29.776325Z",
     "shell.execute_reply": "2024-05-24T08:51:29.775388Z"
    },
    "papermill": {
     "duration": 0.024292,
     "end_time": "2024-05-24T08:51:29.778505",
     "exception": false,
     "start_time": "2024-05-24T08:51:29.754213",
     "status": "completed"
    },
    "tags": []
   },
   "outputs": [],
   "source": [
    "def set_table_dtypes(df: pl.DataFrame) -> pl.DataFrame:\n",
    "    # implement here all desired dtypes for tables\n",
    "    # the following is just an example\n",
    "    for col in df.columns:\n",
    "        # last letter of column name will help you determine the type\n",
    "        if col[-1] in (\"P\", \"A\"):\n",
    "            df = df.with_columns(pl.col(col).cast(pl.Float64).alias(col))\n",
    "\n",
    "    return df\n",
    "\n",
    "#this is to convert string, object dtype to categorical which is one-hot-encoded later\n",
    "def convert_strings(df: pd.DataFrame) -> pd.DataFrame:\n",
    "    for col in df.columns:  \n",
    "        if df[col].dtype.name in ['object', 'string']:\n",
    "            df[col] = df[col].astype(\"string\").astype('category')\n",
    "            current_categories = df[col].cat.categories\n",
    "            new_categories = current_categories.to_list() + [\"Unknown\"]\n",
    "            new_dtype = pd.CategoricalDtype(categories=new_categories, ordered=True)\n",
    "            df[col] = df[col].astype(new_dtype)\n",
    "    return df"
   ]
  },
  {
   "cell_type": "code",
   "execution_count": 5,
   "id": "b7fc8d0a",
   "metadata": {
    "execution": {
     "iopub.execute_input": "2024-05-24T08:51:29.805187Z",
     "iopub.status.busy": "2024-05-24T08:51:29.804612Z",
     "iopub.status.idle": "2024-05-24T08:51:45.751981Z",
     "shell.execute_reply": "2024-05-24T08:51:45.750922Z"
    },
    "papermill": {
     "duration": 15.963511,
     "end_time": "2024-05-24T08:51:45.754465",
     "exception": false,
     "start_time": "2024-05-24T08:51:29.790954",
     "status": "completed"
    },
    "tags": []
   },
   "outputs": [],
   "source": [
    "train_basetable = pl.read_csv(dataPath + \"csv_files/train/train_base.csv\")\n",
    "train_static = pl.concat(\n",
    "    [\n",
    "        pl.read_csv(dataPath + \"csv_files/train/train_static_0_0.csv\").pipe(set_table_dtypes),\n",
    "        pl.read_csv(dataPath + \"csv_files/train/train_static_0_1.csv\").pipe(set_table_dtypes),\n",
    "    ],\n",
    "    how=\"vertical_relaxed\",\n",
    ")\n",
    "train_static_cb = pl.read_csv(dataPath + \"csv_files/train/train_static_cb_0.csv\").pipe(set_table_dtypes)\n",
    "#Depth 1\n",
    "train_person_1 = pl.read_csv(dataPath + \"csv_files/train/train_person_1.csv\").pipe(set_table_dtypes) \n",
    "train_credit_bureau_b_2 = pl.read_csv(dataPath + \"csv_files/train/train_credit_bureau_b_2.csv\").pipe(set_table_dtypes) "
   ]
  },
  {
   "cell_type": "code",
   "execution_count": 6,
   "id": "99f8eef5",
   "metadata": {
    "execution": {
     "iopub.execute_input": "2024-05-24T08:51:45.780899Z",
     "iopub.status.busy": "2024-05-24T08:51:45.780242Z",
     "iopub.status.idle": "2024-05-24T08:51:45.838834Z",
     "shell.execute_reply": "2024-05-24T08:51:45.837881Z"
    },
    "papermill": {
     "duration": 0.07383,
     "end_time": "2024-05-24T08:51:45.840961",
     "exception": false,
     "start_time": "2024-05-24T08:51:45.767131",
     "status": "completed"
    },
    "tags": []
   },
   "outputs": [],
   "source": [
    "# Do the same thing for test data\n",
    "test_basetable = pl.read_csv(dataPath + \"csv_files/test/test_base.csv\")\n",
    "test_static = pl.concat(\n",
    "    [\n",
    "        pl.read_csv(dataPath + \"csv_files/test/test_static_0_0.csv\").pipe(set_table_dtypes),\n",
    "        pl.read_csv(dataPath + \"csv_files/test/test_static_0_1.csv\").pipe(set_table_dtypes),\n",
    "        pl.read_csv(dataPath + \"csv_files/test/test_static_0_2.csv\").pipe(set_table_dtypes),\n",
    "    ],\n",
    "    how=\"vertical_relaxed\",\n",
    ")\n",
    "test_static_cb = pl.read_csv(dataPath + \"csv_files/test/test_static_cb_0.csv\").pipe(set_table_dtypes)\n",
    "test_person_1 = pl.read_csv(dataPath + \"csv_files/test/test_person_1.csv\").pipe(set_table_dtypes) \n",
    "test_credit_bureau_b_2 = pl.read_csv(dataPath + \"csv_files/test/test_credit_bureau_b_2.csv\").pipe(set_table_dtypes) "
   ]
  },
  {
   "cell_type": "code",
   "execution_count": 7,
   "id": "afb33cd6",
   "metadata": {
    "execution": {
     "iopub.execute_input": "2024-05-24T08:51:45.866370Z",
     "iopub.status.busy": "2024-05-24T08:51:45.866089Z",
     "iopub.status.idle": "2024-05-24T08:51:45.873569Z",
     "shell.execute_reply": "2024-05-24T08:51:45.872481Z"
    },
    "papermill": {
     "duration": 0.022246,
     "end_time": "2024-05-24T08:51:45.875546",
     "exception": false,
     "start_time": "2024-05-24T08:51:45.853300",
     "status": "completed"
    },
    "tags": []
   },
   "outputs": [
    {
     "name": "stdout",
     "output_type": "stream",
     "text": [
      "Selected static cols: 39\n",
      "\n",
      "\n",
      "Selected static cb_cols: 9\n"
     ]
    }
   ],
   "source": [
    "# We will process in this examples only A-type, P-type and M-type columns, so we need to select them.\n",
    "selected_static_cols = []\n",
    "for col in train_static.columns:\n",
    "    #if col[-1] in (\"A\", \"P\", \"M\"):\n",
    "    if col[-1] in (\"A\",  \"M\"):\n",
    "        selected_static_cols.append(col)\n",
    "print(f'Selected static cols: {len(selected_static_cols)}')\n",
    "print('\\n')\n",
    "selected_static_cb_cols = []\n",
    "for col in train_static_cb.columns:\n",
    "    #if col[-1] in (\"A\", \"P\", \"M\"):\n",
    "    if col[-1] in (\"A\", \"M\"):\n",
    "        selected_static_cb_cols.append(col)\n",
    "print(f'Selected static cb_cols: {len(selected_static_cb_cols)}')"
   ]
  },
  {
   "cell_type": "markdown",
   "id": "642c5953",
   "metadata": {
    "papermill": {
     "duration": 0.01148,
     "end_time": "2024-05-24T08:51:45.898995",
     "exception": false,
     "start_time": "2024-05-24T08:51:45.887515",
     "status": "completed"
    },
    "tags": []
   },
   "source": [
    "# Depth-1 data"
   ]
  },
  {
   "cell_type": "code",
   "execution_count": 8,
   "id": "0a3d5418",
   "metadata": {
    "execution": {
     "iopub.execute_input": "2024-05-24T08:51:45.924114Z",
     "iopub.status.busy": "2024-05-24T08:51:45.923857Z",
     "iopub.status.idle": "2024-05-24T08:51:46.771351Z",
     "shell.execute_reply": "2024-05-24T08:51:46.770538Z"
    },
    "papermill": {
     "duration": 0.862709,
     "end_time": "2024-05-24T08:51:46.773881",
     "exception": false,
     "start_time": "2024-05-24T08:51:45.911172",
     "status": "completed"
    },
    "tags": []
   },
   "outputs": [],
   "source": [
    "train_person_1_feats_1 = train_person_1.group_by(\"case_id\").agg(\n",
    "    pl.col(\"mainoccupationinc_384A\").max().alias(\"mainoccupationinc_384A_max\"),\n",
    "    (pl.col(\"incometype_1044T\") == \"SELFEMPLOYED\").max().alias(\"mainoccupationinc_384A_any_selfemployed\")\n",
    ")\n",
    "\n",
    "# Here num_group1=0 has special meaning, it is the person who applied for the loan.\n",
    "train_person_1_feats_2 = train_person_1.select([\"case_id\", \"num_group1\", \"housetype_905L\"]).filter(\n",
    "    pl.col(\"num_group1\") == 0\n",
    ").drop(\"num_group1\").rename({\"housetype_905L\": \"person_housetype\"})\n",
    "\n",
    "# Here we have num_goup1 and num_group2, so we need to aggregate again.\n",
    "train_credit_bureau_b_2_feats = train_credit_bureau_b_2.group_by(\"case_id\").agg(\n",
    "    pl.col(\"pmts_pmtsoverdue_635A\").max().alias(\"pmts_pmtsoverdue_635A_max\"),\n",
    "    (pl.col(\"pmts_dpdvalue_108P\") > 31).max().alias(\"pmts_dpdvalue_108P_over31\")\n",
    ")"
   ]
  },
  {
   "cell_type": "code",
   "execution_count": 9,
   "id": "3c494f62",
   "metadata": {
    "execution": {
     "iopub.execute_input": "2024-05-24T08:51:46.799684Z",
     "iopub.status.busy": "2024-05-24T08:51:46.799352Z",
     "iopub.status.idle": "2024-05-24T08:51:46.807701Z",
     "shell.execute_reply": "2024-05-24T08:51:46.806908Z"
    },
    "papermill": {
     "duration": 0.023623,
     "end_time": "2024-05-24T08:51:46.809727",
     "exception": false,
     "start_time": "2024-05-24T08:51:46.786104",
     "status": "completed"
    },
    "tags": []
   },
   "outputs": [],
   "source": [
    "test_person_1_feats_1 = test_person_1.group_by(\"case_id\").agg(\n",
    "    pl.col(\"mainoccupationinc_384A\").max().alias(\"mainoccupationinc_384A_max\"),\n",
    "    (pl.col(\"incometype_1044T\") == \"SELFEMPLOYED\").max().alias(\"mainoccupationinc_384A_any_selfemployed\")\n",
    ")\n",
    "\n",
    "test_person_1_feats_2 = test_person_1.select([\"case_id\", \"num_group1\", \"housetype_905L\"]).filter(\n",
    "    pl.col(\"num_group1\") == 0\n",
    ").drop(\"num_group1\").rename({\"housetype_905L\": \"person_housetype\"})\n",
    "\n",
    "test_credit_bureau_b_2_feats = test_credit_bureau_b_2.group_by(\"case_id\").agg(\n",
    "    pl.col(\"pmts_pmtsoverdue_635A\").max().alias(\"pmts_pmtsoverdue_635A_max\"),\n",
    "    (pl.col(\"pmts_dpdvalue_108P\") > 31).max().alias(\"pmts_dpdvalue_108P_over31\"))"
   ]
  },
  {
   "cell_type": "markdown",
   "id": "4cb4314f",
   "metadata": {
    "papermill": {
     "duration": 0.01161,
     "end_time": "2024-05-24T08:51:46.833545",
     "exception": false,
     "start_time": "2024-05-24T08:51:46.821935",
     "status": "completed"
    },
    "tags": []
   },
   "source": [
    "# Final dataframe in tables"
   ]
  },
  {
   "cell_type": "code",
   "execution_count": 10,
   "id": "608e12f7",
   "metadata": {
    "execution": {
     "iopub.execute_input": "2024-05-24T08:51:46.858401Z",
     "iopub.status.busy": "2024-05-24T08:51:46.858145Z",
     "iopub.status.idle": "2024-05-24T08:51:47.839474Z",
     "shell.execute_reply": "2024-05-24T08:51:47.838643Z"
    },
    "papermill": {
     "duration": 0.996267,
     "end_time": "2024-05-24T08:51:47.841878",
     "exception": false,
     "start_time": "2024-05-24T08:51:46.845611",
     "status": "completed"
    },
    "tags": []
   },
   "outputs": [],
   "source": [
    "# Join all train tables together.\n",
    "train_data = train_basetable.join(\n",
    "    train_static.select([\"case_id\"]+selected_static_cols), how=\"left\", on=\"case_id\"\n",
    ").join(\n",
    "    train_static_cb.select([\"case_id\"]+selected_static_cb_cols), how=\"left\", on=\"case_id\"\n",
    ").join(\n",
    "    train_person_1_feats_1, how=\"left\", on=\"case_id\"\n",
    ").join(\n",
    "    train_person_1_feats_2, how=\"left\", on=\"case_id\"\n",
    ").join(\n",
    "    train_credit_bureau_b_2_feats, how=\"left\", on=\"case_id\"\n",
    ")"
   ]
  },
  {
   "cell_type": "code",
   "execution_count": 11,
   "id": "e7455fed",
   "metadata": {
    "execution": {
     "iopub.execute_input": "2024-05-24T08:51:47.867190Z",
     "iopub.status.busy": "2024-05-24T08:51:47.866860Z",
     "iopub.status.idle": "2024-05-24T08:51:47.875065Z",
     "shell.execute_reply": "2024-05-24T08:51:47.874284Z"
    },
    "papermill": {
     "duration": 0.022996,
     "end_time": "2024-05-24T08:51:47.877060",
     "exception": false,
     "start_time": "2024-05-24T08:51:47.854064",
     "status": "completed"
    },
    "tags": []
   },
   "outputs": [],
   "source": [
    "# Join all test tables together.\n",
    "test_data = test_basetable.join(\n",
    "    test_static.select([\"case_id\"]+selected_static_cols), how=\"left\", on=\"case_id\"\n",
    ").join(\n",
    "    test_static_cb.select([\"case_id\"]+selected_static_cb_cols), how=\"left\", on=\"case_id\"\n",
    ").join(\n",
    "    test_person_1_feats_1, how=\"left\", on=\"case_id\"\n",
    ").join(\n",
    "    test_person_1_feats_2, how=\"left\", on=\"case_id\"\n",
    ").join(\n",
    "    test_credit_bureau_b_2_feats, how=\"left\", on=\"case_id\"\n",
    ")"
   ]
  },
  {
   "cell_type": "code",
   "execution_count": 12,
   "id": "ed2e40e4",
   "metadata": {
    "execution": {
     "iopub.execute_input": "2024-05-24T08:51:47.901796Z",
     "iopub.status.busy": "2024-05-24T08:51:47.901508Z",
     "iopub.status.idle": "2024-05-24T08:51:47.906511Z",
     "shell.execute_reply": "2024-05-24T08:51:47.905657Z"
    },
    "papermill": {
     "duration": 0.019548,
     "end_time": "2024-05-24T08:51:47.908606",
     "exception": false,
     "start_time": "2024-05-24T08:51:47.889058",
     "status": "completed"
    },
    "tags": []
   },
   "outputs": [],
   "source": [
    "test_index = test_data['case_id']\n",
    "#test_index"
   ]
  },
  {
   "cell_type": "markdown",
   "id": "94be83d1",
   "metadata": {
    "papermill": {
     "duration": 0.011057,
     "end_time": "2024-05-24T08:51:47.931542",
     "exception": false,
     "start_time": "2024-05-24T08:51:47.920485",
     "status": "completed"
    },
    "tags": []
   },
   "source": [
    "# Categorical data transformation"
   ]
  },
  {
   "cell_type": "code",
   "execution_count": 13,
   "id": "ca1628e8",
   "metadata": {
    "execution": {
     "iopub.execute_input": "2024-05-24T08:51:47.955955Z",
     "iopub.status.busy": "2024-05-24T08:51:47.955686Z",
     "iopub.status.idle": "2024-05-24T08:51:47.964387Z",
     "shell.execute_reply": "2024-05-24T08:51:47.963710Z"
    },
    "papermill": {
     "duration": 0.023119,
     "end_time": "2024-05-24T08:51:47.966262",
     "exception": false,
     "start_time": "2024-05-24T08:51:47.943143",
     "status": "completed"
    },
    "tags": []
   },
   "outputs": [],
   "source": [
    "from sklearn.compose import ColumnTransformer\n",
    "from sklearn.preprocessing import OneHotEncoder"
   ]
  },
  {
   "cell_type": "code",
   "execution_count": 14,
   "id": "c0a00a62",
   "metadata": {
    "execution": {
     "iopub.execute_input": "2024-05-24T08:51:47.990376Z",
     "iopub.status.busy": "2024-05-24T08:51:47.990120Z",
     "iopub.status.idle": "2024-05-24T08:51:49.304699Z",
     "shell.execute_reply": "2024-05-24T08:51:49.303732Z"
    },
    "papermill": {
     "duration": 1.329058,
     "end_time": "2024-05-24T08:51:49.307119",
     "exception": false,
     "start_time": "2024-05-24T08:51:47.978061",
     "status": "completed"
    },
    "tags": []
   },
   "outputs": [],
   "source": [
    "#convert to pandas\n",
    "train_data=train_data.to_pandas()\n",
    "test_data=test_data.to_pandas()"
   ]
  },
  {
   "cell_type": "code",
   "execution_count": 15,
   "id": "d6dc67db",
   "metadata": {
    "execution": {
     "iopub.execute_input": "2024-05-24T08:51:49.333938Z",
     "iopub.status.busy": "2024-05-24T08:51:49.332871Z",
     "iopub.status.idle": "2024-05-24T08:51:55.465059Z",
     "shell.execute_reply": "2024-05-24T08:51:55.464169Z"
    },
    "papermill": {
     "duration": 6.148354,
     "end_time": "2024-05-24T08:51:55.467815",
     "exception": false,
     "start_time": "2024-05-24T08:51:49.319461",
     "status": "completed"
    },
    "tags": []
   },
   "outputs": [],
   "source": [
    "train_data.drop(columns = [\"case_id\", \"MONTH\", \"WEEK_NUM\", \"date_decision\"], inplace = True)\n",
    "test_data.drop(columns = [\"case_id\", \"MONTH\", \"WEEK_NUM\", \"date_decision\"], inplace = True)\n",
    "train_data = convert_strings(train_data)\n",
    "test_data = convert_strings(test_data)"
   ]
  },
  {
   "cell_type": "code",
   "execution_count": 16,
   "id": "23936b15",
   "metadata": {
    "execution": {
     "iopub.execute_input": "2024-05-24T08:51:55.495594Z",
     "iopub.status.busy": "2024-05-24T08:51:55.495260Z",
     "iopub.status.idle": "2024-05-24T08:51:55.520795Z",
     "shell.execute_reply": "2024-05-24T08:51:55.520050Z"
    },
    "papermill": {
     "duration": 0.042149,
     "end_time": "2024-05-24T08:51:55.522750",
     "exception": false,
     "start_time": "2024-05-24T08:51:55.480601",
     "status": "completed"
    },
    "tags": []
   },
   "outputs": [],
   "source": [
    "#find out the categorical columns of train_data \n",
    "cat_cols = []\n",
    "for i in range(len(list(train_data.dtypes))):\n",
    "    if list(train_data.dtypes)[i].type != np.int64 and list(train_data.dtypes)[i].type != np.float64:\n",
    "     #if list(train_data.dtypes)[i].type == pd.core.dtypes.dtypes.CategoricalDtypeType:\n",
    "        cat_cols.append(train_data.columns[i])    \n",
    "        \n",
    "#find out the categorical columns of test_data\n",
    "cat_cols_test = []\n",
    "for i in range(len(list(test_data.dtypes))):\n",
    "    #if list(train_data.dtypes)[i].type != numpy.int64 and list(train_data.dtypes)[i].type != numpy.float64:\n",
    "     if list(test_data.dtypes)[i].type == pd.core.dtypes.dtypes.CategoricalDtypeType:\n",
    "        cat_cols_test.append(test_data.columns[i])   "
   ]
  },
  {
   "cell_type": "code",
   "execution_count": 17,
   "id": "fa89a646",
   "metadata": {
    "execution": {
     "iopub.execute_input": "2024-05-24T08:51:55.548780Z",
     "iopub.status.busy": "2024-05-24T08:51:55.548465Z",
     "iopub.status.idle": "2024-05-24T08:51:55.555587Z",
     "shell.execute_reply": "2024-05-24T08:51:55.554686Z"
    },
    "papermill": {
     "duration": 0.02265,
     "end_time": "2024-05-24T08:51:55.557815",
     "exception": false,
     "start_time": "2024-05-24T08:51:55.535165",
     "status": "completed"
    },
    "tags": []
   },
   "outputs": [
    {
     "data": {
      "text/plain": [
       "(16,\n",
       " 16,\n",
       " ['lastapprcommoditycat_1041M',\n",
       "  'lastapprcommoditytypec_5251766M',\n",
       "  'lastcancelreason_561M',\n",
       "  'lastrejectcommoditycat_161M',\n",
       "  'lastrejectcommodtypec_5251769M',\n",
       "  'lastrejectreason_759M',\n",
       "  'lastrejectreasonclient_4145040M',\n",
       "  'previouscontdistrict_112M',\n",
       "  'description_5085714M',\n",
       "  'education_1103M',\n",
       "  'education_88M',\n",
       "  'maritalst_385M',\n",
       "  'maritalst_893M',\n",
       "  'mainoccupationinc_384A_any_selfemployed',\n",
       "  'person_housetype',\n",
       "  'pmts_dpdvalue_108P_over31'])"
      ]
     },
     "execution_count": 17,
     "metadata": {},
     "output_type": "execute_result"
    }
   ],
   "source": [
    "len(cat_cols),len(cat_cols_test), cat_cols"
   ]
  },
  {
   "cell_type": "code",
   "execution_count": 18,
   "id": "6438fc7a",
   "metadata": {
    "execution": {
     "iopub.execute_input": "2024-05-24T08:51:55.584379Z",
     "iopub.status.busy": "2024-05-24T08:51:55.584083Z",
     "iopub.status.idle": "2024-05-24T08:51:55.588561Z",
     "shell.execute_reply": "2024-05-24T08:51:55.587750Z"
    },
    "papermill": {
     "duration": 0.01995,
     "end_time": "2024-05-24T08:51:55.590665",
     "exception": false,
     "start_time": "2024-05-24T08:51:55.570715",
     "status": "completed"
    },
    "tags": []
   },
   "outputs": [],
   "source": [
    "# one-hot encode the categorical features\n",
    "full_pipeline = ColumnTransformer([('cat', OneHotEncoder(handle_unknown='ignore'), cat_cols_test)], remainder='passthrough')"
   ]
  },
  {
   "cell_type": "code",
   "execution_count": 19,
   "id": "e8889cf9",
   "metadata": {
    "execution": {
     "iopub.execute_input": "2024-05-24T08:51:55.617060Z",
     "iopub.status.busy": "2024-05-24T08:51:55.616779Z",
     "iopub.status.idle": "2024-05-24T08:51:55.801528Z",
     "shell.execute_reply": "2024-05-24T08:51:55.800678Z"
    },
    "papermill": {
     "duration": 0.200853,
     "end_time": "2024-05-24T08:51:55.804253",
     "exception": false,
     "start_time": "2024-05-24T08:51:55.603400",
     "status": "completed"
    },
    "tags": []
   },
   "outputs": [],
   "source": [
    "X = train_data.drop(['target'], axis = 1)\n",
    "y = train_data['target']"
   ]
  },
  {
   "cell_type": "code",
   "execution_count": 20,
   "id": "cf9ebc55",
   "metadata": {
    "execution": {
     "iopub.execute_input": "2024-05-24T08:51:55.833038Z",
     "iopub.status.busy": "2024-05-24T08:51:55.832710Z",
     "iopub.status.idle": "2024-05-24T08:52:18.633093Z",
     "shell.execute_reply": "2024-05-24T08:52:18.632091Z"
    },
    "papermill": {
     "duration": 22.81722,
     "end_time": "2024-05-24T08:52:18.635389",
     "exception": false,
     "start_time": "2024-05-24T08:51:55.818169",
     "status": "completed"
    },
    "tags": []
   },
   "outputs": [
    {
     "data": {
      "text/plain": [
       "((1526659, 898), (10, 898))"
      ]
     },
     "execution_count": 20,
     "metadata": {},
     "output_type": "execute_result"
    }
   ],
   "source": [
    "encoder = full_pipeline.fit(X)\n",
    "X = encoder.transform(X)\n",
    "test_data= encoder.transform(test_data)\n",
    "\n",
    "X.shape, test_data.shape"
   ]
  },
  {
   "cell_type": "markdown",
   "id": "9539c77f",
   "metadata": {
    "papermill": {
     "duration": 0.012271,
     "end_time": "2024-05-24T08:52:18.661433",
     "exception": false,
     "start_time": "2024-05-24T08:52:18.649162",
     "status": "completed"
    },
    "tags": []
   },
   "source": [
    "# First layer ensemble of models [XGBoost, CatBoost, Light LGB]\n",
    "\n",
    "https://scikit-learn.org/stable/modules/generated/sklearn.ensemble.GradientBoostingClassifier.html\n",
    "\n",
    "https://www.kaggle.com/code/harrychan123/lgb-cat-ensemble-stacking"
   ]
  },
  {
   "cell_type": "code",
   "execution_count": 21,
   "id": "ced4d152",
   "metadata": {
    "execution": {
     "iopub.execute_input": "2024-05-24T08:52:18.686755Z",
     "iopub.status.busy": "2024-05-24T08:52:18.686361Z",
     "iopub.status.idle": "2024-05-24T08:52:18.693448Z",
     "shell.execute_reply": "2024-05-24T08:52:18.692510Z"
    },
    "papermill": {
     "duration": 0.02212,
     "end_time": "2024-05-24T08:52:18.695422",
     "exception": false,
     "start_time": "2024-05-24T08:52:18.673302",
     "status": "completed"
    },
    "tags": []
   },
   "outputs": [],
   "source": [
    "params = {\n",
    "    \"boosting_type\": \"gbdt\",\n",
    "    \"objective\": \"binary\",\n",
    "    \"metric\": \"auc\",\n",
    "    \"max_depth\": 10,  \n",
    "    \"learning_rate\": 0.05,\n",
    "    \"n_estimators\": 2000,  \n",
    "    \"colsample_bytree\": 0.8,\n",
    "    \"colsample_bynode\": 0.8,\n",
    "    \"verbose\": -1,\n",
    "    \"random_state\": 42,\n",
    "    \"reg_alpha\": 0.1,\n",
    "    \"reg_lambda\": 10,\n",
    "    \"extra_trees\":True,\n",
    "    'num_leaves':64,\n",
    "    \"device\": device, \n",
    "    \"verbose\": -1,\n",
    "}\n",
    "\n",
    "params2 = {\n",
    "    \"booster\": \"gbtree\",\n",
    "    \"objective\": \"binary:logistic\",\n",
    "    \"eval_metric\": \"auc\",\n",
    "    \"max_depth\": 10,\n",
    "    \"learning_rate\": 0.05,\n",
    "    \"n_estimators\": 1000,\n",
    "    \"colsample_bytree\": 0.8,\n",
    "    \"colsample_bynode\": 0.8,\n",
    "    \"alpha\": 0.1,  \n",
    "    \"lambda\": 10,  \n",
    "    \"tree_method\": 'gpu_hist' if device == 'gpu' else 'auto',\n",
    "    \"random_state\": 42,\n",
    "    \"verbosity\": 0,\n",
    "    \"enable_categorical\":True,\n",
    "}"
   ]
  },
  {
   "cell_type": "code",
   "execution_count": 22,
   "id": "16ae2325",
   "metadata": {
    "execution": {
     "iopub.execute_input": "2024-05-24T08:52:18.720462Z",
     "iopub.status.busy": "2024-05-24T08:52:18.720158Z",
     "iopub.status.idle": "2024-05-24T08:52:18.724892Z",
     "shell.execute_reply": "2024-05-24T08:52:18.724051Z"
    },
    "papermill": {
     "duration": 0.019617,
     "end_time": "2024-05-24T08:52:18.727053",
     "exception": false,
     "start_time": "2024-05-24T08:52:18.707436",
     "status": "completed"
    },
    "tags": []
   },
   "outputs": [],
   "source": [
    "n_est = 6000\n",
    "models = [\n",
    "    #('CatBoost', CatBoostClassifier(eval_metric='AUC', #task_type='GPU',\n",
    "                                   # learning_rate=0.03, iterations=n_est, random_seed=3107)),\n",
    "    ('LightGBM', LGBMClassifier(**params)),\n",
    "    ('XGBoost', XGBClassifier(**params2))]"
   ]
  },
  {
   "cell_type": "code",
   "execution_count": 23,
   "id": "9a3968b3",
   "metadata": {
    "execution": {
     "iopub.execute_input": "2024-05-24T08:52:18.751814Z",
     "iopub.status.busy": "2024-05-24T08:52:18.751575Z",
     "iopub.status.idle": "2024-05-24T08:52:18.807557Z",
     "shell.execute_reply": "2024-05-24T08:52:18.806620Z"
    },
    "papermill": {
     "duration": 0.070812,
     "end_time": "2024-05-24T08:52:18.809762",
     "exception": false,
     "start_time": "2024-05-24T08:52:18.738950",
     "status": "completed"
    },
    "tags": []
   },
   "outputs": [
    {
     "data": {
      "text/html": [
       "<div>\n",
       "<style scoped>\n",
       "    .dataframe tbody tr th:only-of-type {\n",
       "        vertical-align: middle;\n",
       "    }\n",
       "\n",
       "    .dataframe tbody tr th {\n",
       "        vertical-align: top;\n",
       "    }\n",
       "\n",
       "    .dataframe thead th {\n",
       "        text-align: right;\n",
       "    }\n",
       "</style>\n",
       "<table border=\"1\" class=\"dataframe\">\n",
       "  <thead>\n",
       "    <tr style=\"text-align: right;\">\n",
       "      <th></th>\n",
       "      <th>LightGBM</th>\n",
       "      <th>XGBoost</th>\n",
       "    </tr>\n",
       "  </thead>\n",
       "  <tbody>\n",
       "    <tr>\n",
       "      <th>0</th>\n",
       "      <td>NaN</td>\n",
       "      <td>NaN</td>\n",
       "    </tr>\n",
       "    <tr>\n",
       "      <th>1</th>\n",
       "      <td>NaN</td>\n",
       "      <td>NaN</td>\n",
       "    </tr>\n",
       "    <tr>\n",
       "      <th>2</th>\n",
       "      <td>NaN</td>\n",
       "      <td>NaN</td>\n",
       "    </tr>\n",
       "    <tr>\n",
       "      <th>3</th>\n",
       "      <td>NaN</td>\n",
       "      <td>NaN</td>\n",
       "    </tr>\n",
       "    <tr>\n",
       "      <th>4</th>\n",
       "      <td>NaN</td>\n",
       "      <td>NaN</td>\n",
       "    </tr>\n",
       "    <tr>\n",
       "      <th>...</th>\n",
       "      <td>...</td>\n",
       "      <td>...</td>\n",
       "    </tr>\n",
       "    <tr>\n",
       "      <th>1526654</th>\n",
       "      <td>NaN</td>\n",
       "      <td>NaN</td>\n",
       "    </tr>\n",
       "    <tr>\n",
       "      <th>1526655</th>\n",
       "      <td>NaN</td>\n",
       "      <td>NaN</td>\n",
       "    </tr>\n",
       "    <tr>\n",
       "      <th>1526656</th>\n",
       "      <td>NaN</td>\n",
       "      <td>NaN</td>\n",
       "    </tr>\n",
       "    <tr>\n",
       "      <th>1526657</th>\n",
       "      <td>NaN</td>\n",
       "      <td>NaN</td>\n",
       "    </tr>\n",
       "    <tr>\n",
       "      <th>1526658</th>\n",
       "      <td>NaN</td>\n",
       "      <td>NaN</td>\n",
       "    </tr>\n",
       "  </tbody>\n",
       "</table>\n",
       "<p>1526659 rows × 2 columns</p>\n",
       "</div>"
      ],
      "text/plain": [
       "        LightGBM XGBoost\n",
       "0            NaN     NaN\n",
       "1            NaN     NaN\n",
       "2            NaN     NaN\n",
       "3            NaN     NaN\n",
       "4            NaN     NaN\n",
       "...          ...     ...\n",
       "1526654      NaN     NaN\n",
       "1526655      NaN     NaN\n",
       "1526656      NaN     NaN\n",
       "1526657      NaN     NaN\n",
       "1526658      NaN     NaN\n",
       "\n",
       "[1526659 rows x 2 columns]"
      ]
     },
     "execution_count": 23,
     "metadata": {},
     "output_type": "execute_result"
    }
   ],
   "source": [
    "fitted_models_cb = []\n",
    "fitted_models_lgb = []\n",
    "fitted_models_xgb = []\n",
    "cv_scores_cb = []\n",
    "cv_scores_lgb = []\n",
    "cv_scores_xgb = []\n",
    "\n",
    "# Store the prediction results of the first layer model\n",
    "meta_features = pd.DataFrame(index=train_data.index, columns=['LightGBM', 'XGBoost'])\n",
    "meta_features"
   ]
  },
  {
   "cell_type": "code",
   "execution_count": 24,
   "id": "20a7d3dc",
   "metadata": {
    "execution": {
     "iopub.execute_input": "2024-05-24T08:52:18.836239Z",
     "iopub.status.busy": "2024-05-24T08:52:18.835933Z",
     "iopub.status.idle": "2024-05-24T08:52:18.873309Z",
     "shell.execute_reply": "2024-05-24T08:52:18.872326Z"
    },
    "papermill": {
     "duration": 0.053227,
     "end_time": "2024-05-24T08:52:18.875772",
     "exception": false,
     "start_time": "2024-05-24T08:52:18.822545",
     "status": "completed"
    },
    "tags": []
   },
   "outputs": [
    {
     "data": {
      "text/plain": [
       "[(0,\n",
       "  (array([ 305332,  305333,  305334, ..., 1526656, 1526657, 1526658]),\n",
       "   array([     0,      1,      2, ..., 305329, 305330, 305331]))),\n",
       " (1,\n",
       "  (array([      0,       1,       2, ..., 1526656, 1526657, 1526658]),\n",
       "   array([305332, 305333, 305334, ..., 610661, 610662, 610663]))),\n",
       " (2,\n",
       "  (array([      0,       1,       2, ..., 1526656, 1526657, 1526658]),\n",
       "   array([610664, 610665, 610666, ..., 915993, 915994, 915995]))),\n",
       " (3,\n",
       "  (array([      0,       1,       2, ..., 1526656, 1526657, 1526658]),\n",
       "   array([ 915996,  915997,  915998, ..., 1221325, 1221326, 1221327]))),\n",
       " (4,\n",
       "  (array([      0,       1,       2, ..., 1221325, 1221326, 1221327]),\n",
       "   array([1221328, 1221329, 1221330, ..., 1526656, 1526657, 1526658])))]"
      ]
     },
     "execution_count": 24,
     "metadata": {},
     "output_type": "execute_result"
    }
   ],
   "source": [
    "from sklearn.model_selection import KFold\n",
    "cv = KFold(n_splits=5, shuffle=False)\n",
    "#The format of cv is [[train,val], [train,val], [train,val], ...]\n",
    "list(enumerate(cv.split(X, y)))"
   ]
  },
  {
   "cell_type": "code",
   "execution_count": 25,
   "id": "15a7bfe4",
   "metadata": {
    "execution": {
     "iopub.execute_input": "2024-05-24T08:52:18.903889Z",
     "iopub.status.busy": "2024-05-24T08:52:18.903600Z",
     "iopub.status.idle": "2024-05-24T08:52:18.966153Z",
     "shell.execute_reply": "2024-05-24T08:52:18.965017Z"
    },
    "papermill": {
     "duration": 0.078475,
     "end_time": "2024-05-24T08:52:18.968455",
     "exception": false,
     "start_time": "2024-05-24T08:52:18.889980",
     "status": "completed"
    },
    "tags": []
   },
   "outputs": [
    {
     "data": {
      "text/plain": [
       "(1221327, 305332)"
      ]
     },
     "execution_count": 25,
     "metadata": {},
     "output_type": "execute_result"
    }
   ],
   "source": [
    "len(list(cv.split(X, y))[0][0]), len(list(cv.split(X, y))[0][1])"
   ]
  },
  {
   "cell_type": "markdown",
   "id": "ea7b8e67",
   "metadata": {
    "papermill": {
     "duration": 0.012653,
     "end_time": "2024-05-24T08:52:18.994406",
     "exception": false,
     "start_time": "2024-05-24T08:52:18.981753",
     "status": "completed"
    },
    "tags": []
   },
   "source": [
    "It took more than 12 hours of CPU notebook to run 5-fold CV. Do away with CV."
   ]
  },
  {
   "cell_type": "code",
   "execution_count": 26,
   "id": "79905026",
   "metadata": {
    "execution": {
     "iopub.execute_input": "2024-05-24T08:52:19.022084Z",
     "iopub.status.busy": "2024-05-24T08:52:19.021275Z",
     "iopub.status.idle": "2024-05-24T08:52:19.025478Z",
     "shell.execute_reply": "2024-05-24T08:52:19.024582Z"
    },
    "papermill": {
     "duration": 0.020025,
     "end_time": "2024-05-24T08:52:19.027603",
     "exception": false,
     "start_time": "2024-05-24T08:52:19.007578",
     "status": "completed"
    },
    "tags": []
   },
   "outputs": [],
   "source": [
    "#from sklearn.model_selection import train_test_split\n",
    "#X_train, X_valid, y_train, y_valid = train_test_split(X, y, test_size=0.1, random_state=42)\n",
    "#X_train.shape, X_valid.shape, y_train.shape, y_valid.shape"
   ]
  },
  {
   "cell_type": "code",
   "execution_count": 27,
   "id": "69a3b896",
   "metadata": {
    "execution": {
     "iopub.execute_input": "2024-05-24T08:52:19.054087Z",
     "iopub.status.busy": "2024-05-24T08:52:19.053832Z",
     "iopub.status.idle": "2024-05-24T09:10:57.025810Z",
     "shell.execute_reply": "2024-05-24T09:10:57.024707Z"
    },
    "papermill": {
     "duration": 1117.988504,
     "end_time": "2024-05-24T09:10:57.028514",
     "exception": false,
     "start_time": "2024-05-24T08:52:19.040010",
     "status": "completed"
    },
    "tags": []
   },
   "outputs": [
    {
     "name": "stdout",
     "output_type": "stream",
     "text": [
      "X_train shape and indices (1221327, 898), [ 305332  305333  305334 ... 1526656 1526657 1526658]\n",
      "X_valid shape and indices (305332, 898), [     0      1      2 ... 305329 305330 305331]\n"
     ]
    },
    {
     "name": "stderr",
     "output_type": "stream",
     "text": [
      "1 warning generated.\n",
      "1 warning generated.\n",
      "1 warning generated.\n",
      "1 warning generated.\n",
      "1 warning generated.\n",
      "1 warning generated.\n",
      "1 warning generated.\n",
      "1 warning generated.\n",
      "1 warning generated.\n",
      "1 warning generated.\n",
      "1 warning generated.\n",
      "1 warning generated.\n",
      "1 warning generated.\n",
      "1 warning generated.\n",
      "1 warning generated.\n",
      "1 warning generated.\n",
      "1 warning generated.\n",
      "1 warning generated.\n",
      "1 warning generated.\n",
      "1 warning generated.\n",
      "1 warning generated.\n",
      "1 warning generated.\n",
      "1 warning generated.\n",
      "1 warning generated.\n",
      "1 warning generated.\n",
      "1 warning generated.\n",
      "1 warning generated.\n",
      "1 warning generated.\n",
      "1 warning generated.\n",
      "1 warning generated.\n",
      "1 warning generated.\n",
      "1 warning generated.\n",
      "1 warning generated.\n"
     ]
    },
    {
     "name": "stdout",
     "output_type": "stream",
     "text": [
      "Training until validation scores don't improve for 100 rounds\n",
      "[200]\tvalid_0's auc: 0.698478\n",
      "[400]\tvalid_0's auc: 0.699605\n",
      "Early stopping, best iteration is:\n",
      "[422]\tvalid_0's auc: 0.69972\n",
      "X_train shape and indices (1221327, 898), [      0       1       2 ... 1526656 1526657 1526658]\n",
      "X_valid shape and indices (305332, 898), [305332 305333 305334 ... 610661 610662 610663]\n",
      "Training until validation scores don't improve for 100 rounds\n",
      "[200]\tvalid_0's auc: 0.699143\n",
      "[400]\tvalid_0's auc: 0.704701\n",
      "[600]\tvalid_0's auc: 0.707535\n",
      "[800]\tvalid_0's auc: 0.709085\n",
      "[1000]\tvalid_0's auc: 0.709668\n",
      "[1200]\tvalid_0's auc: 0.710413\n",
      "[1400]\tvalid_0's auc: 0.710938\n",
      "[1600]\tvalid_0's auc: 0.711468\n",
      "[1800]\tvalid_0's auc: 0.711712\n",
      "[2000]\tvalid_0's auc: 0.712227\n",
      "Did not meet early stopping. Best iteration is:\n",
      "[1999]\tvalid_0's auc: 0.712227\n",
      "X_train shape and indices (1221327, 898), [      0       1       2 ... 1526656 1526657 1526658]\n",
      "X_valid shape and indices (305332, 898), [610664 610665 610666 ... 915993 915994 915995]\n",
      "Training until validation scores don't improve for 100 rounds\n",
      "[200]\tvalid_0's auc: 0.76955\n",
      "[400]\tvalid_0's auc: 0.77483\n",
      "[600]\tvalid_0's auc: 0.776894\n",
      "Early stopping, best iteration is:\n",
      "[651]\tvalid_0's auc: 0.777194\n",
      "X_train shape and indices (1221327, 898), [      0       1       2 ... 1526656 1526657 1526658]\n",
      "X_valid shape and indices (305332, 898), [ 915996  915997  915998 ... 1221325 1221326 1221327]\n",
      "Training until validation scores don't improve for 100 rounds\n",
      "[200]\tvalid_0's auc: 0.779653\n",
      "[400]\tvalid_0's auc: 0.785565\n",
      "[600]\tvalid_0's auc: 0.787551\n",
      "[800]\tvalid_0's auc: 0.788023\n",
      "[1000]\tvalid_0's auc: 0.788375\n",
      "Early stopping, best iteration is:\n",
      "[1097]\tvalid_0's auc: 0.788493\n",
      "X_train shape and indices (1221328, 898), [      0       1       2 ... 1221325 1221326 1221327]\n",
      "X_valid shape and indices (305331, 898), [1221328 1221329 1221330 ... 1526656 1526657 1526658]\n",
      "Training until validation scores don't improve for 100 rounds\n",
      "[200]\tvalid_0's auc: 0.741102\n",
      "[400]\tvalid_0's auc: 0.74676\n",
      "[600]\tvalid_0's auc: 0.748758\n",
      "[800]\tvalid_0's auc: 0.749823\n",
      "Early stopping, best iteration is:\n",
      "[831]\tvalid_0's auc: 0.750024\n",
      "X_train shape and indices (1221327, 898), [ 305332  305333  305334 ... 1526656 1526657 1526658]\n",
      "X_valid shape and indices (305332, 898), [     0      1      2 ... 305329 305330 305331]\n"
     ]
    },
    {
     "name": "stderr",
     "output_type": "stream",
     "text": [
      "/opt/conda/lib/python3.10/site-packages/xgboost/sklearn.py:889: UserWarning: `early_stopping_rounds` in `fit` method is deprecated for better compatibility with scikit-learn, use `early_stopping_rounds` in constructor or`set_params` instead.\n",
      "  warnings.warn(\n"
     ]
    },
    {
     "name": "stdout",
     "output_type": "stream",
     "text": [
      "X_train shape and indices (1221327, 898), [      0       1       2 ... 1526656 1526657 1526658]\n",
      "X_valid shape and indices (305332, 898), [305332 305333 305334 ... 610661 610662 610663]\n"
     ]
    },
    {
     "name": "stderr",
     "output_type": "stream",
     "text": [
      "/opt/conda/lib/python3.10/site-packages/xgboost/sklearn.py:889: UserWarning: `early_stopping_rounds` in `fit` method is deprecated for better compatibility with scikit-learn, use `early_stopping_rounds` in constructor or`set_params` instead.\n",
      "  warnings.warn(\n"
     ]
    },
    {
     "name": "stdout",
     "output_type": "stream",
     "text": [
      "X_train shape and indices (1221327, 898), [      0       1       2 ... 1526656 1526657 1526658]\n",
      "X_valid shape and indices (305332, 898), [610664 610665 610666 ... 915993 915994 915995]\n"
     ]
    },
    {
     "name": "stderr",
     "output_type": "stream",
     "text": [
      "/opt/conda/lib/python3.10/site-packages/xgboost/sklearn.py:889: UserWarning: `early_stopping_rounds` in `fit` method is deprecated for better compatibility with scikit-learn, use `early_stopping_rounds` in constructor or`set_params` instead.\n",
      "  warnings.warn(\n"
     ]
    },
    {
     "name": "stdout",
     "output_type": "stream",
     "text": [
      "X_train shape and indices (1221327, 898), [      0       1       2 ... 1526656 1526657 1526658]\n",
      "X_valid shape and indices (305332, 898), [ 915996  915997  915998 ... 1221325 1221326 1221327]\n"
     ]
    },
    {
     "name": "stderr",
     "output_type": "stream",
     "text": [
      "/opt/conda/lib/python3.10/site-packages/xgboost/sklearn.py:889: UserWarning: `early_stopping_rounds` in `fit` method is deprecated for better compatibility with scikit-learn, use `early_stopping_rounds` in constructor or`set_params` instead.\n",
      "  warnings.warn(\n"
     ]
    },
    {
     "name": "stdout",
     "output_type": "stream",
     "text": [
      "X_train shape and indices (1221328, 898), [      0       1       2 ... 1221325 1221326 1221327]\n",
      "X_valid shape and indices (305331, 898), [1221328 1221329 1221330 ... 1526656 1526657 1526658]\n"
     ]
    },
    {
     "name": "stderr",
     "output_type": "stream",
     "text": [
      "/opt/conda/lib/python3.10/site-packages/xgboost/sklearn.py:889: UserWarning: `early_stopping_rounds` in `fit` method is deprecated for better compatibility with scikit-learn, use `early_stopping_rounds` in constructor or`set_params` instead.\n",
      "  warnings.warn(\n"
     ]
    }
   ],
   "source": [
    "for name, model in models:\n",
    "    for i, (idx_train, idx_valid) in enumerate(cv.split(X, y)):\n",
    "        X_train, y_train = X[idx_train], y[idx_train]\n",
    "        X_valid, y_valid = X[idx_valid], y[idx_valid]\n",
    "        print(f'X_train shape and indices {X_train.shape}, {idx_train}')\n",
    "        print(f'X_valid shape and indices {X_valid.shape}, {idx_valid}')\n",
    "        if name == 'CatBoost':\n",
    "            model.fit(X_train, y=y_train, \n",
    "                      eval_set = (X_valid, y_valid), verbose = False)\n",
    "            y_pred_valid = model.predict_proba(X_valid)[:, 1]\n",
    "            fitted_models_cb.append(model)\n",
    "            auc_score = roc_auc_score(y_valid, y_pred_valid)\n",
    "            cv_scores_cb.append(auc_score)\n",
    "        elif name == 'LightGBM':\n",
    "            model.fit(X_train, y_train, eval_set=[(X_valid, y_valid)],\n",
    "                      callbacks=[lgb.log_evaluation(200), lgb.early_stopping(100)])\n",
    "            fitted_models_lgb.append(model)\n",
    "            y_pred_valid = model.predict_proba(X_valid)[:, 1]\n",
    "            auc_score = roc_auc_score(y_valid, y_pred_valid)\n",
    "            cv_scores_lgb.append(auc_score)\n",
    "        else:  # XGBoost\n",
    "            model.fit(X_train, y_train, \n",
    "                      eval_set=[(X_valid, y_valid)], \n",
    "                      early_stopping_rounds=100, verbose=False)\n",
    "            fitted_models_xgb.append(model)\n",
    "            y_pred_valid = model.predict_proba(X_valid)[:, 1]\n",
    "            auc_score = roc_auc_score(y_valid, y_pred_valid)\n",
    "            cv_scores_xgb.append(auc_score)\n",
    "\n",
    "        #meta_features.loc[X_valid.index, name] = y_pred_valid\n",
    "        #write the prediction into the dataframe\n",
    "        meta_features.loc[list(cv.split(X, y))[i][1], name] = y_pred_valid\n"
   ]
  },
  {
   "cell_type": "code",
   "execution_count": 28,
   "id": "60e3201f",
   "metadata": {
    "execution": {
     "iopub.execute_input": "2024-05-24T09:10:57.068037Z",
     "iopub.status.busy": "2024-05-24T09:10:57.067334Z",
     "iopub.status.idle": "2024-05-24T09:10:57.079118Z",
     "shell.execute_reply": "2024-05-24T09:10:57.078009Z"
    },
    "papermill": {
     "duration": 0.03421,
     "end_time": "2024-05-24T09:10:57.081792",
     "exception": false,
     "start_time": "2024-05-24T09:10:57.047582",
     "status": "completed"
    },
    "tags": []
   },
   "outputs": [
    {
     "data": {
      "text/html": [
       "<div>\n",
       "<style scoped>\n",
       "    .dataframe tbody tr th:only-of-type {\n",
       "        vertical-align: middle;\n",
       "    }\n",
       "\n",
       "    .dataframe tbody tr th {\n",
       "        vertical-align: top;\n",
       "    }\n",
       "\n",
       "    .dataframe thead th {\n",
       "        text-align: right;\n",
       "    }\n",
       "</style>\n",
       "<table border=\"1\" class=\"dataframe\">\n",
       "  <thead>\n",
       "    <tr style=\"text-align: right;\">\n",
       "      <th></th>\n",
       "      <th>LightGBM</th>\n",
       "      <th>XGBoost</th>\n",
       "    </tr>\n",
       "  </thead>\n",
       "  <tbody>\n",
       "    <tr>\n",
       "      <th>0</th>\n",
       "      <td>0.086852</td>\n",
       "      <td>0.054619</td>\n",
       "    </tr>\n",
       "    <tr>\n",
       "      <th>1</th>\n",
       "      <td>0.075285</td>\n",
       "      <td>0.038843</td>\n",
       "    </tr>\n",
       "    <tr>\n",
       "      <th>2</th>\n",
       "      <td>0.123548</td>\n",
       "      <td>0.058984</td>\n",
       "    </tr>\n",
       "    <tr>\n",
       "      <th>3</th>\n",
       "      <td>0.15966</td>\n",
       "      <td>0.085858</td>\n",
       "    </tr>\n",
       "    <tr>\n",
       "      <th>4</th>\n",
       "      <td>0.144934</td>\n",
       "      <td>0.119872</td>\n",
       "    </tr>\n",
       "    <tr>\n",
       "      <th>...</th>\n",
       "      <td>...</td>\n",
       "      <td>...</td>\n",
       "    </tr>\n",
       "    <tr>\n",
       "      <th>1526654</th>\n",
       "      <td>0.006666</td>\n",
       "      <td>0.003424</td>\n",
       "    </tr>\n",
       "    <tr>\n",
       "      <th>1526655</th>\n",
       "      <td>0.004267</td>\n",
       "      <td>0.004651</td>\n",
       "    </tr>\n",
       "    <tr>\n",
       "      <th>1526656</th>\n",
       "      <td>0.032301</td>\n",
       "      <td>0.044135</td>\n",
       "    </tr>\n",
       "    <tr>\n",
       "      <th>1526657</th>\n",
       "      <td>0.003751</td>\n",
       "      <td>0.005775</td>\n",
       "    </tr>\n",
       "    <tr>\n",
       "      <th>1526658</th>\n",
       "      <td>0.003367</td>\n",
       "      <td>0.002714</td>\n",
       "    </tr>\n",
       "  </tbody>\n",
       "</table>\n",
       "<p>1526659 rows × 2 columns</p>\n",
       "</div>"
      ],
      "text/plain": [
       "         LightGBM   XGBoost\n",
       "0        0.086852  0.054619\n",
       "1        0.075285  0.038843\n",
       "2        0.123548  0.058984\n",
       "3         0.15966  0.085858\n",
       "4        0.144934  0.119872\n",
       "...           ...       ...\n",
       "1526654  0.006666  0.003424\n",
       "1526655  0.004267  0.004651\n",
       "1526656  0.032301  0.044135\n",
       "1526657  0.003751  0.005775\n",
       "1526658  0.003367  0.002714\n",
       "\n",
       "[1526659 rows x 2 columns]"
      ]
     },
     "execution_count": 28,
     "metadata": {},
     "output_type": "execute_result"
    }
   ],
   "source": [
    "meta_features"
   ]
  },
  {
   "cell_type": "code",
   "execution_count": 29,
   "id": "edc643d9",
   "metadata": {
    "execution": {
     "iopub.execute_input": "2024-05-24T09:10:57.126944Z",
     "iopub.status.busy": "2024-05-24T09:10:57.125960Z",
     "iopub.status.idle": "2024-05-24T09:10:57.141297Z",
     "shell.execute_reply": "2024-05-24T09:10:57.140214Z"
    },
    "papermill": {
     "duration": 0.039815,
     "end_time": "2024-05-24T09:10:57.143590",
     "exception": false,
     "start_time": "2024-05-24T09:10:57.103775",
     "status": "completed"
    },
    "tags": []
   },
   "outputs": [
    {
     "data": {
      "text/plain": [
       "[XGBClassifier(alpha=0.1, base_score=None, booster='gbtree', callbacks=None,\n",
       "               colsample_bylevel=None, colsample_bynode=0.8,\n",
       "               colsample_bytree=0.8, device=None, early_stopping_rounds=None,\n",
       "               enable_categorical=True, eval_metric='auc', feature_types=None,\n",
       "               gamma=None, grow_policy=None, importance_type=None,\n",
       "               interaction_constraints=None, lambda=10, learning_rate=0.05,\n",
       "               max_bin=None, max_cat_threshold=None, max_cat_to_onehot=None,\n",
       "               max_delta_step=None, max_depth=10, max_leaves=None,\n",
       "               min_child_weight=None, missing=nan, monotone_constraints=None,\n",
       "               multi_strategy=None, n_estimators=1000, n_jobs=None, ...),\n",
       " XGBClassifier(alpha=0.1, base_score=None, booster='gbtree', callbacks=None,\n",
       "               colsample_bylevel=None, colsample_bynode=0.8,\n",
       "               colsample_bytree=0.8, device=None, early_stopping_rounds=None,\n",
       "               enable_categorical=True, eval_metric='auc', feature_types=None,\n",
       "               gamma=None, grow_policy=None, importance_type=None,\n",
       "               interaction_constraints=None, lambda=10, learning_rate=0.05,\n",
       "               max_bin=None, max_cat_threshold=None, max_cat_to_onehot=None,\n",
       "               max_delta_step=None, max_depth=10, max_leaves=None,\n",
       "               min_child_weight=None, missing=nan, monotone_constraints=None,\n",
       "               multi_strategy=None, n_estimators=1000, n_jobs=None, ...),\n",
       " XGBClassifier(alpha=0.1, base_score=None, booster='gbtree', callbacks=None,\n",
       "               colsample_bylevel=None, colsample_bynode=0.8,\n",
       "               colsample_bytree=0.8, device=None, early_stopping_rounds=None,\n",
       "               enable_categorical=True, eval_metric='auc', feature_types=None,\n",
       "               gamma=None, grow_policy=None, importance_type=None,\n",
       "               interaction_constraints=None, lambda=10, learning_rate=0.05,\n",
       "               max_bin=None, max_cat_threshold=None, max_cat_to_onehot=None,\n",
       "               max_delta_step=None, max_depth=10, max_leaves=None,\n",
       "               min_child_weight=None, missing=nan, monotone_constraints=None,\n",
       "               multi_strategy=None, n_estimators=1000, n_jobs=None, ...),\n",
       " XGBClassifier(alpha=0.1, base_score=None, booster='gbtree', callbacks=None,\n",
       "               colsample_bylevel=None, colsample_bynode=0.8,\n",
       "               colsample_bytree=0.8, device=None, early_stopping_rounds=None,\n",
       "               enable_categorical=True, eval_metric='auc', feature_types=None,\n",
       "               gamma=None, grow_policy=None, importance_type=None,\n",
       "               interaction_constraints=None, lambda=10, learning_rate=0.05,\n",
       "               max_bin=None, max_cat_threshold=None, max_cat_to_onehot=None,\n",
       "               max_delta_step=None, max_depth=10, max_leaves=None,\n",
       "               min_child_weight=None, missing=nan, monotone_constraints=None,\n",
       "               multi_strategy=None, n_estimators=1000, n_jobs=None, ...),\n",
       " XGBClassifier(alpha=0.1, base_score=None, booster='gbtree', callbacks=None,\n",
       "               colsample_bylevel=None, colsample_bynode=0.8,\n",
       "               colsample_bytree=0.8, device=None, early_stopping_rounds=None,\n",
       "               enable_categorical=True, eval_metric='auc', feature_types=None,\n",
       "               gamma=None, grow_policy=None, importance_type=None,\n",
       "               interaction_constraints=None, lambda=10, learning_rate=0.05,\n",
       "               max_bin=None, max_cat_threshold=None, max_cat_to_onehot=None,\n",
       "               max_delta_step=None, max_depth=10, max_leaves=None,\n",
       "               min_child_weight=None, missing=nan, monotone_constraints=None,\n",
       "               multi_strategy=None, n_estimators=1000, n_jobs=None, ...)]"
      ]
     },
     "execution_count": 29,
     "metadata": {},
     "output_type": "execute_result"
    }
   ],
   "source": [
    "fitted_models_xgb"
   ]
  },
  {
   "cell_type": "code",
   "execution_count": 30,
   "id": "fd859366",
   "metadata": {
    "execution": {
     "iopub.execute_input": "2024-05-24T09:10:57.186853Z",
     "iopub.status.busy": "2024-05-24T09:10:57.186082Z",
     "iopub.status.idle": "2024-05-24T09:10:57.197395Z",
     "shell.execute_reply": "2024-05-24T09:10:57.196291Z"
    },
    "papermill": {
     "duration": 0.035314,
     "end_time": "2024-05-24T09:10:57.199567",
     "exception": false,
     "start_time": "2024-05-24T09:10:57.164253",
     "status": "completed"
    },
    "tags": []
   },
   "outputs": [
    {
     "data": {
      "text/plain": [
       "[LGBMClassifier(colsample_bynode=0.8, colsample_bytree=0.8, device='gpu',\n",
       "                extra_trees=True, learning_rate=0.05, max_depth=10, metric='auc',\n",
       "                n_estimators=2000, num_leaves=64, objective='binary',\n",
       "                random_state=42, reg_alpha=0.1, reg_lambda=10, verbose=-1),\n",
       " LGBMClassifier(colsample_bynode=0.8, colsample_bytree=0.8, device='gpu',\n",
       "                extra_trees=True, learning_rate=0.05, max_depth=10, metric='auc',\n",
       "                n_estimators=2000, num_leaves=64, objective='binary',\n",
       "                random_state=42, reg_alpha=0.1, reg_lambda=10, verbose=-1),\n",
       " LGBMClassifier(colsample_bynode=0.8, colsample_bytree=0.8, device='gpu',\n",
       "                extra_trees=True, learning_rate=0.05, max_depth=10, metric='auc',\n",
       "                n_estimators=2000, num_leaves=64, objective='binary',\n",
       "                random_state=42, reg_alpha=0.1, reg_lambda=10, verbose=-1),\n",
       " LGBMClassifier(colsample_bynode=0.8, colsample_bytree=0.8, device='gpu',\n",
       "                extra_trees=True, learning_rate=0.05, max_depth=10, metric='auc',\n",
       "                n_estimators=2000, num_leaves=64, objective='binary',\n",
       "                random_state=42, reg_alpha=0.1, reg_lambda=10, verbose=-1),\n",
       " LGBMClassifier(colsample_bynode=0.8, colsample_bytree=0.8, device='gpu',\n",
       "                extra_trees=True, learning_rate=0.05, max_depth=10, metric='auc',\n",
       "                n_estimators=2000, num_leaves=64, objective='binary',\n",
       "                random_state=42, reg_alpha=0.1, reg_lambda=10, verbose=-1)]"
      ]
     },
     "execution_count": 30,
     "metadata": {},
     "output_type": "execute_result"
    }
   ],
   "source": [
    "fitted_models_lgb"
   ]
  },
  {
   "cell_type": "markdown",
   "id": "e1ec3a6b",
   "metadata": {
    "papermill": {
     "duration": 0.020001,
     "end_time": "2024-05-24T09:10:57.239894",
     "exception": false,
     "start_time": "2024-05-24T09:10:57.219893",
     "status": "completed"
    },
    "tags": []
   },
   "source": [
    "# Second layer ensemble model"
   ]
  },
  {
   "cell_type": "code",
   "execution_count": 31,
   "id": "c63b28e6",
   "metadata": {
    "execution": {
     "iopub.execute_input": "2024-05-24T09:10:57.282106Z",
     "iopub.status.busy": "2024-05-24T09:10:57.281237Z",
     "iopub.status.idle": "2024-05-24T09:11:21.361903Z",
     "shell.execute_reply": "2024-05-24T09:11:21.360939Z"
    },
    "papermill": {
     "duration": 24.104384,
     "end_time": "2024-05-24T09:11:21.364126",
     "exception": false,
     "start_time": "2024-05-24T09:10:57.259742",
     "status": "completed"
    },
    "tags": []
   },
   "outputs": [
    {
     "data": {
      "text/html": [
       "<style>#sk-container-id-1 {color: black;background-color: white;}#sk-container-id-1 pre{padding: 0;}#sk-container-id-1 div.sk-toggleable {background-color: white;}#sk-container-id-1 label.sk-toggleable__label {cursor: pointer;display: block;width: 100%;margin-bottom: 0;padding: 0.3em;box-sizing: border-box;text-align: center;}#sk-container-id-1 label.sk-toggleable__label-arrow:before {content: \"▸\";float: left;margin-right: 0.25em;color: #696969;}#sk-container-id-1 label.sk-toggleable__label-arrow:hover:before {color: black;}#sk-container-id-1 div.sk-estimator:hover label.sk-toggleable__label-arrow:before {color: black;}#sk-container-id-1 div.sk-toggleable__content {max-height: 0;max-width: 0;overflow: hidden;text-align: left;background-color: #f0f8ff;}#sk-container-id-1 div.sk-toggleable__content pre {margin: 0.2em;color: black;border-radius: 0.25em;background-color: #f0f8ff;}#sk-container-id-1 input.sk-toggleable__control:checked~div.sk-toggleable__content {max-height: 200px;max-width: 100%;overflow: auto;}#sk-container-id-1 input.sk-toggleable__control:checked~label.sk-toggleable__label-arrow:before {content: \"▾\";}#sk-container-id-1 div.sk-estimator input.sk-toggleable__control:checked~label.sk-toggleable__label {background-color: #d4ebff;}#sk-container-id-1 div.sk-label input.sk-toggleable__control:checked~label.sk-toggleable__label {background-color: #d4ebff;}#sk-container-id-1 input.sk-hidden--visually {border: 0;clip: rect(1px 1px 1px 1px);clip: rect(1px, 1px, 1px, 1px);height: 1px;margin: -1px;overflow: hidden;padding: 0;position: absolute;width: 1px;}#sk-container-id-1 div.sk-estimator {font-family: monospace;background-color: #f0f8ff;border: 1px dotted black;border-radius: 0.25em;box-sizing: border-box;margin-bottom: 0.5em;}#sk-container-id-1 div.sk-estimator:hover {background-color: #d4ebff;}#sk-container-id-1 div.sk-parallel-item::after {content: \"\";width: 100%;border-bottom: 1px solid gray;flex-grow: 1;}#sk-container-id-1 div.sk-label:hover label.sk-toggleable__label {background-color: #d4ebff;}#sk-container-id-1 div.sk-serial::before {content: \"\";position: absolute;border-left: 1px solid gray;box-sizing: border-box;top: 0;bottom: 0;left: 50%;z-index: 0;}#sk-container-id-1 div.sk-serial {display: flex;flex-direction: column;align-items: center;background-color: white;padding-right: 0.2em;padding-left: 0.2em;position: relative;}#sk-container-id-1 div.sk-item {position: relative;z-index: 1;}#sk-container-id-1 div.sk-parallel {display: flex;align-items: stretch;justify-content: center;background-color: white;position: relative;}#sk-container-id-1 div.sk-item::before, #sk-container-id-1 div.sk-parallel-item::before {content: \"\";position: absolute;border-left: 1px solid gray;box-sizing: border-box;top: 0;bottom: 0;left: 50%;z-index: -1;}#sk-container-id-1 div.sk-parallel-item {display: flex;flex-direction: column;z-index: 1;position: relative;background-color: white;}#sk-container-id-1 div.sk-parallel-item:first-child::after {align-self: flex-end;width: 50%;}#sk-container-id-1 div.sk-parallel-item:last-child::after {align-self: flex-start;width: 50%;}#sk-container-id-1 div.sk-parallel-item:only-child::after {width: 0;}#sk-container-id-1 div.sk-dashed-wrapped {border: 1px dashed gray;margin: 0 0.4em 0.5em 0.4em;box-sizing: border-box;padding-bottom: 0.4em;background-color: white;}#sk-container-id-1 div.sk-label label {font-family: monospace;font-weight: bold;display: inline-block;line-height: 1.2em;}#sk-container-id-1 div.sk-label-container {text-align: center;}#sk-container-id-1 div.sk-container {/* jupyter's `normalize.less` sets `[hidden] { display: none; }` but bootstrap.min.css set `[hidden] { display: none !important; }` so we also need the `!important` here to be able to override the default hidden behavior on the sphinx rendered scikit-learn.org. See: https://github.com/scikit-learn/scikit-learn/issues/21755 */display: inline-block !important;position: relative;}#sk-container-id-1 div.sk-text-repr-fallback {display: none;}</style><div id=\"sk-container-id-1\" class=\"sk-top-container\"><div class=\"sk-text-repr-fallback\"><pre>GradientBoostingClassifier(min_samples_split=3, n_estimators=12)</pre><b>In a Jupyter environment, please rerun this cell to show the HTML representation or trust the notebook. <br />On GitHub, the HTML representation is unable to render, please try loading this page with nbviewer.org.</b></div><div class=\"sk-container\" hidden><div class=\"sk-item\"><div class=\"sk-estimator sk-toggleable\"><input class=\"sk-toggleable__control sk-hidden--visually\" id=\"sk-estimator-id-1\" type=\"checkbox\" checked><label for=\"sk-estimator-id-1\" class=\"sk-toggleable__label sk-toggleable__label-arrow\">GradientBoostingClassifier</label><div class=\"sk-toggleable__content\"><pre>GradientBoostingClassifier(min_samples_split=3, n_estimators=12)</pre></div></div></div></div></div>"
      ],
      "text/plain": [
       "GradientBoostingClassifier(min_samples_split=3, n_estimators=12)"
      ]
     },
     "execution_count": 31,
     "metadata": {},
     "output_type": "execute_result"
    }
   ],
   "source": [
    "from sklearn.ensemble import GradientBoostingClassifier\n",
    "\n",
    "params = {\n",
    "    'n_estimators': 12,\n",
    "    'learning_rate': 0.1,\n",
    "    'max_depth': 3,\n",
    "    'min_samples_split': 3,\n",
    "    'min_samples_leaf': 1\n",
    "}\n",
    "\n",
    "meta_model = GradientBoostingClassifier(**params)\n",
    "\n",
    "meta_model.fit(meta_features, y)"
   ]
  },
  {
   "cell_type": "markdown",
   "id": "c9ddd39e",
   "metadata": {
    "papermill": {
     "duration": 0.019342,
     "end_time": "2024-05-24T09:11:21.403701",
     "exception": false,
     "start_time": "2024-05-24T09:11:21.384359",
     "status": "completed"
    },
    "tags": []
   },
   "source": [
    "# Build the same 2-layer ensemble for the test data"
   ]
  },
  {
   "cell_type": "code",
   "execution_count": 32,
   "id": "92337b54",
   "metadata": {
    "execution": {
     "iopub.execute_input": "2024-05-24T09:11:21.445716Z",
     "iopub.status.busy": "2024-05-24T09:11:21.445317Z",
     "iopub.status.idle": "2024-05-24T09:11:21.454689Z",
     "shell.execute_reply": "2024-05-24T09:11:21.453514Z"
    },
    "papermill": {
     "duration": 0.033335,
     "end_time": "2024-05-24T09:11:21.457158",
     "exception": false,
     "start_time": "2024-05-24T09:11:21.423823",
     "status": "completed"
    },
    "tags": []
   },
   "outputs": [],
   "source": [
    "test_meta_features = pd.DataFrame(index=test_index, columns=['LightGBM', 'XGBoost'])"
   ]
  },
  {
   "cell_type": "code",
   "execution_count": 33,
   "id": "6d4ceb43",
   "metadata": {
    "execution": {
     "iopub.execute_input": "2024-05-24T09:11:21.500140Z",
     "iopub.status.busy": "2024-05-24T09:11:21.499738Z",
     "iopub.status.idle": "2024-05-24T09:11:21.718874Z",
     "shell.execute_reply": "2024-05-24T09:11:21.717980Z"
    },
    "papermill": {
     "duration": 0.242699,
     "end_time": "2024-05-24T09:11:21.721403",
     "exception": false,
     "start_time": "2024-05-24T09:11:21.478704",
     "status": "completed"
    },
    "tags": []
   },
   "outputs": [],
   "source": [
    "# FIRST LAYER ENSEMBLE MODEL ON TEST DATA\n",
    "#for model in fitted_models_cat:\n",
    "#    y_pred_test = model.predict_proba(test_data)[:, 1]\n",
    "#    test_meta_features['CatBoost'] = test_meta_features['CatBoost'].add(y_pred_test, fill_value=0)\n",
    "\n",
    "#test_meta_features['CatBoost'] /= len(fitted_models_cat)\n",
    "\n",
    "# LightGBM\n",
    "for model in fitted_models_lgb:\n",
    "    y_pred_test = model.predict_proba(test_data)[:, 1]\n",
    "    test_meta_features['LightGBM'] = test_meta_features['LightGBM'].add(y_pred_test, fill_value=0)\n",
    "\n",
    "test_meta_features['LightGBM'] /= len(fitted_models_lgb)\n",
    "\n",
    "# XGBoost\n",
    "for model in fitted_models_xgb:\n",
    "    y_pred_test = model.predict_proba(test_data)[:, 1]\n",
    "    test_meta_features['XGBoost'] = test_meta_features['XGBoost'].add(y_pred_test, fill_value=0)\n",
    "\n",
    "test_meta_features['XGBoost'] /= len(fitted_models_xgb)"
   ]
  },
  {
   "cell_type": "code",
   "execution_count": 34,
   "id": "39406e5a",
   "metadata": {
    "execution": {
     "iopub.execute_input": "2024-05-24T09:11:21.763942Z",
     "iopub.status.busy": "2024-05-24T09:11:21.763578Z",
     "iopub.status.idle": "2024-05-24T09:11:21.774178Z",
     "shell.execute_reply": "2024-05-24T09:11:21.773204Z"
    },
    "papermill": {
     "duration": 0.034466,
     "end_time": "2024-05-24T09:11:21.776398",
     "exception": false,
     "start_time": "2024-05-24T09:11:21.741932",
     "status": "completed"
    },
    "tags": []
   },
   "outputs": [
    {
     "data": {
      "text/html": [
       "<div>\n",
       "<style scoped>\n",
       "    .dataframe tbody tr th:only-of-type {\n",
       "        vertical-align: middle;\n",
       "    }\n",
       "\n",
       "    .dataframe tbody tr th {\n",
       "        vertical-align: top;\n",
       "    }\n",
       "\n",
       "    .dataframe thead th {\n",
       "        text-align: right;\n",
       "    }\n",
       "</style>\n",
       "<table border=\"1\" class=\"dataframe\">\n",
       "  <thead>\n",
       "    <tr style=\"text-align: right;\">\n",
       "      <th></th>\n",
       "      <th>LightGBM</th>\n",
       "      <th>XGBoost</th>\n",
       "    </tr>\n",
       "  </thead>\n",
       "  <tbody>\n",
       "    <tr>\n",
       "      <th>57543</th>\n",
       "      <td>0.007732</td>\n",
       "      <td>0.008411</td>\n",
       "    </tr>\n",
       "    <tr>\n",
       "      <th>57549</th>\n",
       "      <td>0.018745</td>\n",
       "      <td>0.023321</td>\n",
       "    </tr>\n",
       "    <tr>\n",
       "      <th>57551</th>\n",
       "      <td>0.010339</td>\n",
       "      <td>0.005932</td>\n",
       "    </tr>\n",
       "    <tr>\n",
       "      <th>57552</th>\n",
       "      <td>0.012794</td>\n",
       "      <td>0.0085</td>\n",
       "    </tr>\n",
       "    <tr>\n",
       "      <th>57569</th>\n",
       "      <td>0.065197</td>\n",
       "      <td>0.05126</td>\n",
       "    </tr>\n",
       "    <tr>\n",
       "      <th>57630</th>\n",
       "      <td>0.01093</td>\n",
       "      <td>0.010986</td>\n",
       "    </tr>\n",
       "    <tr>\n",
       "      <th>57631</th>\n",
       "      <td>0.039044</td>\n",
       "      <td>0.018703</td>\n",
       "    </tr>\n",
       "    <tr>\n",
       "      <th>57632</th>\n",
       "      <td>0.002821</td>\n",
       "      <td>0.002168</td>\n",
       "    </tr>\n",
       "    <tr>\n",
       "      <th>57633</th>\n",
       "      <td>0.074046</td>\n",
       "      <td>0.036282</td>\n",
       "    </tr>\n",
       "    <tr>\n",
       "      <th>57634</th>\n",
       "      <td>0.008816</td>\n",
       "      <td>0.008711</td>\n",
       "    </tr>\n",
       "  </tbody>\n",
       "</table>\n",
       "</div>"
      ],
      "text/plain": [
       "       LightGBM   XGBoost\n",
       "57543  0.007732  0.008411\n",
       "57549  0.018745  0.023321\n",
       "57551  0.010339  0.005932\n",
       "57552  0.012794    0.0085\n",
       "57569  0.065197   0.05126\n",
       "57630   0.01093  0.010986\n",
       "57631  0.039044  0.018703\n",
       "57632  0.002821  0.002168\n",
       "57633  0.074046  0.036282\n",
       "57634  0.008816  0.008711"
      ]
     },
     "execution_count": 34,
     "metadata": {},
     "output_type": "execute_result"
    }
   ],
   "source": [
    "test_meta_features"
   ]
  },
  {
   "cell_type": "code",
   "execution_count": 35,
   "id": "fc77115e",
   "metadata": {
    "execution": {
     "iopub.execute_input": "2024-05-24T09:11:21.820910Z",
     "iopub.status.busy": "2024-05-24T09:11:21.820551Z",
     "iopub.status.idle": "2024-05-24T09:11:21.828156Z",
     "shell.execute_reply": "2024-05-24T09:11:21.827151Z"
    },
    "papermill": {
     "duration": 0.032019,
     "end_time": "2024-05-24T09:11:21.830640",
     "exception": false,
     "start_time": "2024-05-24T09:11:21.798621",
     "status": "completed"
    },
    "tags": []
   },
   "outputs": [],
   "source": [
    "# USE THE SECOND-LAYER MODEL ON THE TEST META FEATURE\n",
    "y_pred = pd.Series(meta_model.predict_proba(test_meta_features)[:, 1], index=test_index)"
   ]
  },
  {
   "cell_type": "markdown",
   "id": "12b3442e",
   "metadata": {
    "papermill": {
     "duration": 0.019897,
     "end_time": "2024-05-24T09:11:21.871695",
     "exception": false,
     "start_time": "2024-05-24T09:11:21.851798",
     "status": "completed"
    },
    "tags": []
   },
   "source": [
    "# Submission"
   ]
  },
  {
   "cell_type": "code",
   "execution_count": 36,
   "id": "65590ae1",
   "metadata": {
    "execution": {
     "iopub.execute_input": "2024-05-24T09:11:21.913319Z",
     "iopub.status.busy": "2024-05-24T09:11:21.912309Z",
     "iopub.status.idle": "2024-05-24T09:11:21.937523Z",
     "shell.execute_reply": "2024-05-24T09:11:21.936556Z"
    },
    "papermill": {
     "duration": 0.048184,
     "end_time": "2024-05-24T09:11:21.939618",
     "exception": false,
     "start_time": "2024-05-24T09:11:21.891434",
     "status": "completed"
    },
    "tags": []
   },
   "outputs": [
    {
     "data": {
      "text/html": [
       "<div>\n",
       "<style scoped>\n",
       "    .dataframe tbody tr th:only-of-type {\n",
       "        vertical-align: middle;\n",
       "    }\n",
       "\n",
       "    .dataframe tbody tr th {\n",
       "        vertical-align: top;\n",
       "    }\n",
       "\n",
       "    .dataframe thead th {\n",
       "        text-align: right;\n",
       "    }\n",
       "</style>\n",
       "<table border=\"1\" class=\"dataframe\">\n",
       "  <thead>\n",
       "    <tr style=\"text-align: right;\">\n",
       "      <th></th>\n",
       "      <th>case_id</th>\n",
       "      <th>score</th>\n",
       "    </tr>\n",
       "  </thead>\n",
       "  <tbody>\n",
       "    <tr>\n",
       "      <th>0</th>\n",
       "      <td>57543</td>\n",
       "      <td>NaN</td>\n",
       "    </tr>\n",
       "    <tr>\n",
       "      <th>1</th>\n",
       "      <td>57549</td>\n",
       "      <td>NaN</td>\n",
       "    </tr>\n",
       "    <tr>\n",
       "      <th>2</th>\n",
       "      <td>57551</td>\n",
       "      <td>NaN</td>\n",
       "    </tr>\n",
       "    <tr>\n",
       "      <th>3</th>\n",
       "      <td>57552</td>\n",
       "      <td>NaN</td>\n",
       "    </tr>\n",
       "    <tr>\n",
       "      <th>4</th>\n",
       "      <td>57569</td>\n",
       "      <td>NaN</td>\n",
       "    </tr>\n",
       "  </tbody>\n",
       "</table>\n",
       "</div>"
      ],
      "text/plain": [
       "   case_id  score\n",
       "0    57543    NaN\n",
       "1    57549    NaN\n",
       "2    57551    NaN\n",
       "3    57552    NaN\n",
       "4    57569    NaN"
      ]
     },
     "execution_count": 36,
     "metadata": {},
     "output_type": "execute_result"
    }
   ],
   "source": [
    "subs = pd.read_csv('/kaggle/input/home-credit-credit-risk-model-stability/sample_submission.csv')\n",
    "subs['score'] =y_pred \n",
    "subs.to_csv('submission.csv', index=False)\n",
    "subs.head()"
   ]
  }
 ],
 "metadata": {
  "kaggle": {
   "accelerator": "gpu",
   "dataSources": [
    {
     "databundleVersionId": 7921029,
     "sourceId": 50160,
     "sourceType": "competition"
    }
   ],
   "dockerImageVersionId": 30698,
   "isGpuEnabled": true,
   "isInternetEnabled": true,
   "language": "python",
   "sourceType": "notebook"
  },
  "kernelspec": {
   "display_name": "Python 3",
   "language": "python",
   "name": "python3"
  },
  "language_info": {
   "codemirror_mode": {
    "name": "ipython",
    "version": 3
   },
   "file_extension": ".py",
   "mimetype": "text/x-python",
   "name": "python",
   "nbconvert_exporter": "python",
   "pygments_lexer": "ipython3",
   "version": "3.10.13"
  },
  "papermill": {
   "default_parameters": {},
   "duration": 1202.288895,
   "end_time": "2024-05-24T09:11:23.285660",
   "environment_variables": {},
   "exception": null,
   "input_path": "__notebook__.ipynb",
   "output_path": "__notebook__.ipynb",
   "parameters": {},
   "start_time": "2024-05-24T08:51:20.996765",
   "version": "2.5.0"
  }
 },
 "nbformat": 4,
 "nbformat_minor": 5
}
