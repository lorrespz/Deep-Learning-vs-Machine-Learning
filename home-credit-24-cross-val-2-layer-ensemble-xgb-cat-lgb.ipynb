{
 "cells": [
  {
   "cell_type": "markdown",
   "id": "af3ae234",
   "metadata": {
    "papermill": {
     "duration": 0.011472,
     "end_time": "2024-05-24T10:42:03.274713",
     "exception": false,
     "start_time": "2024-05-24T10:42:03.263241",
     "status": "completed"
    },
    "tags": []
   },
   "source": [
    "# Home-credit-24: Ensemble of boosting models"
   ]
  },
  {
   "cell_type": "code",
   "execution_count": 1,
   "id": "0cb5e98a",
   "metadata": {
    "execution": {
     "iopub.execute_input": "2024-05-24T10:42:03.297473Z",
     "iopub.status.busy": "2024-05-24T10:42:03.297124Z",
     "iopub.status.idle": "2024-05-24T10:42:09.078535Z",
     "shell.execute_reply": "2024-05-24T10:42:09.077726Z"
    },
    "papermill": {
     "duration": 5.795471,
     "end_time": "2024-05-24T10:42:09.080854",
     "exception": false,
     "start_time": "2024-05-24T10:42:03.285383",
     "status": "completed"
    },
    "tags": []
   },
   "outputs": [],
   "source": [
    "import numpy as np\n",
    "import polars as pl\n",
    "import pandas as pd\n",
    "from sklearn.model_selection import cross_val_predict\n",
    "from sklearn.model_selection import train_test_split\n",
    "from sklearn.metrics import roc_auc_score\n",
    "\n",
    "import lightgbm as lgb\n",
    "import xgboost as xgb\n",
    "from xgboost import XGBClassifier\n",
    "from catboost import CatBoostClassifier, Pool\n",
    "from lightgbm import LGBMClassifier"
   ]
  },
  {
   "cell_type": "code",
   "execution_count": 2,
   "id": "ac8e5387",
   "metadata": {
    "execution": {
     "iopub.execute_input": "2024-05-24T10:42:09.103890Z",
     "iopub.status.busy": "2024-05-24T10:42:09.103613Z",
     "iopub.status.idle": "2024-05-24T10:42:09.107722Z",
     "shell.execute_reply": "2024-05-24T10:42:09.106832Z"
    },
    "papermill": {
     "duration": 0.017706,
     "end_time": "2024-05-24T10:42:09.109651",
     "exception": false,
     "start_time": "2024-05-24T10:42:09.091945",
     "status": "completed"
    },
    "tags": []
   },
   "outputs": [],
   "source": [
    "import warnings\n",
    "warnings.filterwarnings(\"ignore\")"
   ]
  },
  {
   "cell_type": "code",
   "execution_count": 3,
   "id": "87ca4a0a",
   "metadata": {
    "execution": {
     "iopub.execute_input": "2024-05-24T10:42:09.132647Z",
     "iopub.status.busy": "2024-05-24T10:42:09.132379Z",
     "iopub.status.idle": "2024-05-24T10:42:09.136308Z",
     "shell.execute_reply": "2024-05-24T10:42:09.135489Z"
    },
    "papermill": {
     "duration": 0.017932,
     "end_time": "2024-05-24T10:42:09.138157",
     "exception": false,
     "start_time": "2024-05-24T10:42:09.120225",
     "status": "completed"
    },
    "tags": []
   },
   "outputs": [],
   "source": [
    "device='gpu'"
   ]
  },
  {
   "cell_type": "markdown",
   "id": "ec19a026",
   "metadata": {
    "papermill": {
     "duration": 0.010407,
     "end_time": "2024-05-24T10:42:09.159110",
     "exception": false,
     "start_time": "2024-05-24T10:42:09.148703",
     "status": "completed"
    },
    "tags": []
   },
   "source": [
    "# Load data"
   ]
  },
  {
   "cell_type": "code",
   "execution_count": 4,
   "id": "b80e59d1",
   "metadata": {
    "execution": {
     "iopub.execute_input": "2024-05-24T10:42:09.181171Z",
     "iopub.status.busy": "2024-05-24T10:42:09.180863Z",
     "iopub.status.idle": "2024-05-24T10:42:09.184764Z",
     "shell.execute_reply": "2024-05-24T10:42:09.183914Z"
    },
    "papermill": {
     "duration": 0.017031,
     "end_time": "2024-05-24T10:42:09.186570",
     "exception": false,
     "start_time": "2024-05-24T10:42:09.169539",
     "status": "completed"
    },
    "tags": []
   },
   "outputs": [],
   "source": [
    "dataPath = \"/kaggle/input/home-credit-credit-risk-model-stability/\""
   ]
  },
  {
   "cell_type": "code",
   "execution_count": 5,
   "id": "7f87a053",
   "metadata": {
    "execution": {
     "iopub.execute_input": "2024-05-24T10:42:09.208555Z",
     "iopub.status.busy": "2024-05-24T10:42:09.208220Z",
     "iopub.status.idle": "2024-05-24T10:42:09.216068Z",
     "shell.execute_reply": "2024-05-24T10:42:09.215250Z"
    },
    "papermill": {
     "duration": 0.020966,
     "end_time": "2024-05-24T10:42:09.217911",
     "exception": false,
     "start_time": "2024-05-24T10:42:09.196945",
     "status": "completed"
    },
    "tags": []
   },
   "outputs": [],
   "source": [
    "def set_table_dtypes(df: pl.DataFrame) -> pl.DataFrame:\n",
    "    # implement here all desired dtypes for tables\n",
    "    # the following is just an example\n",
    "    for col in df.columns:\n",
    "        # last letter of column name will help you determine the type\n",
    "        if col[-1] in (\"P\", \"A\"):\n",
    "            df = df.with_columns(pl.col(col).cast(pl.Float64).alias(col))\n",
    "\n",
    "    return df\n",
    "\n",
    "#this is to convert string, object dtype to categorical which is one-hot-encoded later\n",
    "def convert_strings(df: pd.DataFrame) -> pd.DataFrame:\n",
    "    for col in df.columns:  \n",
    "        if df[col].dtype.name in ['object', 'string']:\n",
    "            df[col] = df[col].astype(\"string\").astype('category')\n",
    "            current_categories = df[col].cat.categories\n",
    "            new_categories = current_categories.to_list() + [\"Unknown\"]\n",
    "            new_dtype = pd.CategoricalDtype(categories=new_categories, ordered=True)\n",
    "            df[col] = df[col].astype(new_dtype)\n",
    "    return df"
   ]
  },
  {
   "cell_type": "code",
   "execution_count": 6,
   "id": "5a93241c",
   "metadata": {
    "execution": {
     "iopub.execute_input": "2024-05-24T10:42:09.239733Z",
     "iopub.status.busy": "2024-05-24T10:42:09.239466Z",
     "iopub.status.idle": "2024-05-24T10:42:24.550526Z",
     "shell.execute_reply": "2024-05-24T10:42:24.549697Z"
    },
    "papermill": {
     "duration": 15.324637,
     "end_time": "2024-05-24T10:42:24.552906",
     "exception": false,
     "start_time": "2024-05-24T10:42:09.228269",
     "status": "completed"
    },
    "tags": []
   },
   "outputs": [],
   "source": [
    "train_basetable = pl.read_csv(dataPath + \"csv_files/train/train_base.csv\")\n",
    "train_static = pl.concat(\n",
    "    [\n",
    "        pl.read_csv(dataPath + \"csv_files/train/train_static_0_0.csv\").pipe(set_table_dtypes),\n",
    "        pl.read_csv(dataPath + \"csv_files/train/train_static_0_1.csv\").pipe(set_table_dtypes),\n",
    "    ],\n",
    "    how=\"vertical_relaxed\",\n",
    ")\n",
    "train_static_cb = pl.read_csv(dataPath + \"csv_files/train/train_static_cb_0.csv\").pipe(set_table_dtypes)\n",
    "#Depth 1\n",
    "train_person_1 = pl.read_csv(dataPath + \"csv_files/train/train_person_1.csv\").pipe(set_table_dtypes) \n",
    "train_credit_bureau_b_2 = pl.read_csv(dataPath + \"csv_files/train/train_credit_bureau_b_2.csv\").pipe(set_table_dtypes) "
   ]
  },
  {
   "cell_type": "code",
   "execution_count": 7,
   "id": "11b3a09e",
   "metadata": {
    "execution": {
     "iopub.execute_input": "2024-05-24T10:42:24.575571Z",
     "iopub.status.busy": "2024-05-24T10:42:24.575285Z",
     "iopub.status.idle": "2024-05-24T10:42:24.631724Z",
     "shell.execute_reply": "2024-05-24T10:42:24.630981Z"
    },
    "papermill": {
     "duration": 0.070031,
     "end_time": "2024-05-24T10:42:24.633679",
     "exception": false,
     "start_time": "2024-05-24T10:42:24.563648",
     "status": "completed"
    },
    "tags": []
   },
   "outputs": [],
   "source": [
    "# Do the same thing for test data\n",
    "test_basetable = pl.read_csv(dataPath + \"csv_files/test/test_base.csv\")\n",
    "test_static = pl.concat(\n",
    "    [\n",
    "        pl.read_csv(dataPath + \"csv_files/test/test_static_0_0.csv\").pipe(set_table_dtypes),\n",
    "        pl.read_csv(dataPath + \"csv_files/test/test_static_0_1.csv\").pipe(set_table_dtypes),\n",
    "        pl.read_csv(dataPath + \"csv_files/test/test_static_0_2.csv\").pipe(set_table_dtypes),\n",
    "    ],\n",
    "    how=\"vertical_relaxed\",\n",
    ")\n",
    "test_static_cb = pl.read_csv(dataPath + \"csv_files/test/test_static_cb_0.csv\").pipe(set_table_dtypes)\n",
    "test_person_1 = pl.read_csv(dataPath + \"csv_files/test/test_person_1.csv\").pipe(set_table_dtypes) \n",
    "test_credit_bureau_b_2 = pl.read_csv(dataPath + \"csv_files/test/test_credit_bureau_b_2.csv\").pipe(set_table_dtypes) "
   ]
  },
  {
   "cell_type": "code",
   "execution_count": 8,
   "id": "3fe6cc1c",
   "metadata": {
    "execution": {
     "iopub.execute_input": "2024-05-24T10:42:24.656243Z",
     "iopub.status.busy": "2024-05-24T10:42:24.655489Z",
     "iopub.status.idle": "2024-05-24T10:42:24.662183Z",
     "shell.execute_reply": "2024-05-24T10:42:24.661314Z"
    },
    "papermill": {
     "duration": 0.020326,
     "end_time": "2024-05-24T10:42:24.664555",
     "exception": false,
     "start_time": "2024-05-24T10:42:24.644229",
     "status": "completed"
    },
    "tags": []
   },
   "outputs": [
    {
     "name": "stdout",
     "output_type": "stream",
     "text": [
      "Selected static cols: 39\n",
      "\n",
      "\n",
      "Selected static cb_cols: 9\n"
     ]
    }
   ],
   "source": [
    "# We will process in this examples only A-type, P-type and M-type columns, so we need to select them.\n",
    "selected_static_cols = []\n",
    "for col in train_static.columns:\n",
    "    #if col[-1] in (\"A\", \"P\", \"M\"):\n",
    "    if col[-1] in (\"A\",  \"M\"):\n",
    "        selected_static_cols.append(col)\n",
    "print(f'Selected static cols: {len(selected_static_cols)}')\n",
    "print('\\n')\n",
    "selected_static_cb_cols = []\n",
    "for col in train_static_cb.columns:\n",
    "    #if col[-1] in (\"A\", \"P\", \"M\"):\n",
    "    if col[-1] in (\"A\", \"M\"):\n",
    "        selected_static_cb_cols.append(col)\n",
    "print(f'Selected static cb_cols: {len(selected_static_cb_cols)}')"
   ]
  },
  {
   "cell_type": "markdown",
   "id": "652c2a4c",
   "metadata": {
    "papermill": {
     "duration": 0.010117,
     "end_time": "2024-05-24T10:42:24.686418",
     "exception": false,
     "start_time": "2024-05-24T10:42:24.676301",
     "status": "completed"
    },
    "tags": []
   },
   "source": [
    "# Depth-1 data"
   ]
  },
  {
   "cell_type": "code",
   "execution_count": 9,
   "id": "bbbfb324",
   "metadata": {
    "execution": {
     "iopub.execute_input": "2024-05-24T10:42:24.708652Z",
     "iopub.status.busy": "2024-05-24T10:42:24.708093Z",
     "iopub.status.idle": "2024-05-24T10:42:25.499156Z",
     "shell.execute_reply": "2024-05-24T10:42:25.498354Z"
    },
    "papermill": {
     "duration": 0.804577,
     "end_time": "2024-05-24T10:42:25.501433",
     "exception": false,
     "start_time": "2024-05-24T10:42:24.696856",
     "status": "completed"
    },
    "tags": []
   },
   "outputs": [],
   "source": [
    "train_person_1_feats_1 = train_person_1.group_by(\"case_id\").agg(\n",
    "    pl.col(\"mainoccupationinc_384A\").max().alias(\"mainoccupationinc_384A_max\"),\n",
    "    (pl.col(\"incometype_1044T\") == \"SELFEMPLOYED\").max().alias(\"mainoccupationinc_384A_any_selfemployed\")\n",
    ")\n",
    "\n",
    "# Here num_group1=0 has special meaning, it is the person who applied for the loan.\n",
    "train_person_1_feats_2 = train_person_1.select([\"case_id\", \"num_group1\", \"housetype_905L\"]).filter(\n",
    "    pl.col(\"num_group1\") == 0\n",
    ").drop(\"num_group1\").rename({\"housetype_905L\": \"person_housetype\"})\n",
    "\n",
    "# Here we have num_goup1 and num_group2, so we need to aggregate again.\n",
    "train_credit_bureau_b_2_feats = train_credit_bureau_b_2.group_by(\"case_id\").agg(\n",
    "    pl.col(\"pmts_pmtsoverdue_635A\").max().alias(\"pmts_pmtsoverdue_635A_max\"),\n",
    "    (pl.col(\"pmts_dpdvalue_108P\") > 31).max().alias(\"pmts_dpdvalue_108P_over31\")\n",
    ")"
   ]
  },
  {
   "cell_type": "code",
   "execution_count": 10,
   "id": "8e08065f",
   "metadata": {
    "execution": {
     "iopub.execute_input": "2024-05-24T10:42:25.524723Z",
     "iopub.status.busy": "2024-05-24T10:42:25.524431Z",
     "iopub.status.idle": "2024-05-24T10:42:25.532866Z",
     "shell.execute_reply": "2024-05-24T10:42:25.531903Z"
    },
    "papermill": {
     "duration": 0.022634,
     "end_time": "2024-05-24T10:42:25.535038",
     "exception": false,
     "start_time": "2024-05-24T10:42:25.512404",
     "status": "completed"
    },
    "tags": []
   },
   "outputs": [],
   "source": [
    "test_person_1_feats_1 = test_person_1.group_by(\"case_id\").agg(\n",
    "    pl.col(\"mainoccupationinc_384A\").max().alias(\"mainoccupationinc_384A_max\"),\n",
    "    (pl.col(\"incometype_1044T\") == \"SELFEMPLOYED\").max().alias(\"mainoccupationinc_384A_any_selfemployed\")\n",
    ")\n",
    "\n",
    "test_person_1_feats_2 = test_person_1.select([\"case_id\", \"num_group1\", \"housetype_905L\"]).filter(\n",
    "    pl.col(\"num_group1\") == 0\n",
    ").drop(\"num_group1\").rename({\"housetype_905L\": \"person_housetype\"})\n",
    "\n",
    "test_credit_bureau_b_2_feats = test_credit_bureau_b_2.group_by(\"case_id\").agg(\n",
    "    pl.col(\"pmts_pmtsoverdue_635A\").max().alias(\"pmts_pmtsoverdue_635A_max\"),\n",
    "    (pl.col(\"pmts_dpdvalue_108P\") > 31).max().alias(\"pmts_dpdvalue_108P_over31\"))"
   ]
  },
  {
   "cell_type": "markdown",
   "id": "fff89645",
   "metadata": {
    "papermill": {
     "duration": 0.010412,
     "end_time": "2024-05-24T10:42:25.556629",
     "exception": false,
     "start_time": "2024-05-24T10:42:25.546217",
     "status": "completed"
    },
    "tags": []
   },
   "source": [
    "# Final dataframe in tables"
   ]
  },
  {
   "cell_type": "code",
   "execution_count": 11,
   "id": "6ac19c0c",
   "metadata": {
    "execution": {
     "iopub.execute_input": "2024-05-24T10:42:25.579997Z",
     "iopub.status.busy": "2024-05-24T10:42:25.579735Z",
     "iopub.status.idle": "2024-05-24T10:42:26.532329Z",
     "shell.execute_reply": "2024-05-24T10:42:26.531446Z"
    },
    "papermill": {
     "duration": 0.967713,
     "end_time": "2024-05-24T10:42:26.534856",
     "exception": false,
     "start_time": "2024-05-24T10:42:25.567143",
     "status": "completed"
    },
    "tags": []
   },
   "outputs": [],
   "source": [
    "# Join all train tables together.\n",
    "train_data = train_basetable.join(\n",
    "    train_static.select([\"case_id\"]+selected_static_cols), how=\"left\", on=\"case_id\"\n",
    ").join(\n",
    "    train_static_cb.select([\"case_id\"]+selected_static_cb_cols), how=\"left\", on=\"case_id\"\n",
    ").join(\n",
    "    train_person_1_feats_1, how=\"left\", on=\"case_id\"\n",
    ").join(\n",
    "    train_person_1_feats_2, how=\"left\", on=\"case_id\"\n",
    ").join(\n",
    "    train_credit_bureau_b_2_feats, how=\"left\", on=\"case_id\"\n",
    ")"
   ]
  },
  {
   "cell_type": "code",
   "execution_count": 12,
   "id": "c37cc149",
   "metadata": {
    "execution": {
     "iopub.execute_input": "2024-05-24T10:42:26.559891Z",
     "iopub.status.busy": "2024-05-24T10:42:26.559140Z",
     "iopub.status.idle": "2024-05-24T10:42:26.566813Z",
     "shell.execute_reply": "2024-05-24T10:42:26.566172Z"
    },
    "papermill": {
     "duration": 0.022379,
     "end_time": "2024-05-24T10:42:26.568784",
     "exception": false,
     "start_time": "2024-05-24T10:42:26.546405",
     "status": "completed"
    },
    "tags": []
   },
   "outputs": [],
   "source": [
    "# Join all test tables together.\n",
    "test_data = test_basetable.join(\n",
    "    test_static.select([\"case_id\"]+selected_static_cols), how=\"left\", on=\"case_id\"\n",
    ").join(\n",
    "    test_static_cb.select([\"case_id\"]+selected_static_cb_cols), how=\"left\", on=\"case_id\"\n",
    ").join(\n",
    "    test_person_1_feats_1, how=\"left\", on=\"case_id\"\n",
    ").join(\n",
    "    test_person_1_feats_2, how=\"left\", on=\"case_id\"\n",
    ").join(\n",
    "    test_credit_bureau_b_2_feats, how=\"left\", on=\"case_id\"\n",
    ")"
   ]
  },
  {
   "cell_type": "code",
   "execution_count": 13,
   "id": "ef4365f3",
   "metadata": {
    "execution": {
     "iopub.execute_input": "2024-05-24T10:42:26.591899Z",
     "iopub.status.busy": "2024-05-24T10:42:26.591633Z",
     "iopub.status.idle": "2024-05-24T10:42:26.596966Z",
     "shell.execute_reply": "2024-05-24T10:42:26.596141Z"
    },
    "papermill": {
     "duration": 0.018693,
     "end_time": "2024-05-24T10:42:26.598840",
     "exception": false,
     "start_time": "2024-05-24T10:42:26.580147",
     "status": "completed"
    },
    "tags": []
   },
   "outputs": [],
   "source": [
    "test_index = test_data['case_id']\n",
    "#test_index"
   ]
  },
  {
   "cell_type": "markdown",
   "id": "9187717b",
   "metadata": {
    "papermill": {
     "duration": 0.010058,
     "end_time": "2024-05-24T10:42:26.619268",
     "exception": false,
     "start_time": "2024-05-24T10:42:26.609210",
     "status": "completed"
    },
    "tags": []
   },
   "source": [
    "# Categorical data transformation"
   ]
  },
  {
   "cell_type": "code",
   "execution_count": 14,
   "id": "28049d45",
   "metadata": {
    "execution": {
     "iopub.execute_input": "2024-05-24T10:42:26.641283Z",
     "iopub.status.busy": "2024-05-24T10:42:26.640906Z",
     "iopub.status.idle": "2024-05-24T10:42:26.650090Z",
     "shell.execute_reply": "2024-05-24T10:42:26.649375Z"
    },
    "papermill": {
     "duration": 0.022442,
     "end_time": "2024-05-24T10:42:26.652001",
     "exception": false,
     "start_time": "2024-05-24T10:42:26.629559",
     "status": "completed"
    },
    "tags": []
   },
   "outputs": [],
   "source": [
    "from sklearn.compose import ColumnTransformer\n",
    "from sklearn.preprocessing import OneHotEncoder"
   ]
  },
  {
   "cell_type": "code",
   "execution_count": 15,
   "id": "b7bf9381",
   "metadata": {
    "execution": {
     "iopub.execute_input": "2024-05-24T10:42:26.676048Z",
     "iopub.status.busy": "2024-05-24T10:42:26.675757Z",
     "iopub.status.idle": "2024-05-24T10:42:27.915290Z",
     "shell.execute_reply": "2024-05-24T10:42:27.914506Z"
    },
    "papermill": {
     "duration": 1.254864,
     "end_time": "2024-05-24T10:42:27.917571",
     "exception": false,
     "start_time": "2024-05-24T10:42:26.662707",
     "status": "completed"
    },
    "tags": []
   },
   "outputs": [],
   "source": [
    "#convert to pandas\n",
    "train_data=train_data.to_pandas()\n",
    "test_data=test_data.to_pandas()"
   ]
  },
  {
   "cell_type": "code",
   "execution_count": 16,
   "id": "15366272",
   "metadata": {
    "execution": {
     "iopub.execute_input": "2024-05-24T10:42:27.940553Z",
     "iopub.status.busy": "2024-05-24T10:42:27.939905Z",
     "iopub.status.idle": "2024-05-24T10:42:33.565350Z",
     "shell.execute_reply": "2024-05-24T10:42:33.564327Z"
    },
    "papermill": {
     "duration": 5.639356,
     "end_time": "2024-05-24T10:42:33.567745",
     "exception": false,
     "start_time": "2024-05-24T10:42:27.928389",
     "status": "completed"
    },
    "tags": []
   },
   "outputs": [],
   "source": [
    "train_data.drop(columns = [\"case_id\", \"MONTH\", \"WEEK_NUM\", \"date_decision\"], inplace = True)\n",
    "test_data.drop(columns = [\"case_id\", \"MONTH\", \"WEEK_NUM\", \"date_decision\"], inplace = True)\n",
    "train_data = convert_strings(train_data)\n",
    "test_data = convert_strings(test_data)"
   ]
  },
  {
   "cell_type": "code",
   "execution_count": 17,
   "id": "501e4494",
   "metadata": {
    "execution": {
     "iopub.execute_input": "2024-05-24T10:42:33.590942Z",
     "iopub.status.busy": "2024-05-24T10:42:33.590645Z",
     "iopub.status.idle": "2024-05-24T10:42:33.613672Z",
     "shell.execute_reply": "2024-05-24T10:42:33.612945Z"
    },
    "papermill": {
     "duration": 0.036578,
     "end_time": "2024-05-24T10:42:33.615558",
     "exception": false,
     "start_time": "2024-05-24T10:42:33.578980",
     "status": "completed"
    },
    "tags": []
   },
   "outputs": [],
   "source": [
    "#find out the categorical columns of train_data \n",
    "cat_cols = []\n",
    "for i in range(len(list(train_data.dtypes))):\n",
    "    if list(train_data.dtypes)[i].type != np.int64 and list(train_data.dtypes)[i].type != np.float64:\n",
    "     #if list(train_data.dtypes)[i].type == pd.core.dtypes.dtypes.CategoricalDtypeType:\n",
    "        cat_cols.append(train_data.columns[i])    \n",
    "        \n",
    "#find out the categorical columns of test_data\n",
    "cat_cols_test = []\n",
    "for i in range(len(list(test_data.dtypes))):\n",
    "    #if list(train_data.dtypes)[i].type != numpy.int64 and list(train_data.dtypes)[i].type != numpy.float64:\n",
    "     if list(test_data.dtypes)[i].type == pd.core.dtypes.dtypes.CategoricalDtypeType:\n",
    "        cat_cols_test.append(test_data.columns[i])   "
   ]
  },
  {
   "cell_type": "code",
   "execution_count": 18,
   "id": "16c55692",
   "metadata": {
    "execution": {
     "iopub.execute_input": "2024-05-24T10:42:33.637892Z",
     "iopub.status.busy": "2024-05-24T10:42:33.637636Z",
     "iopub.status.idle": "2024-05-24T10:42:33.644496Z",
     "shell.execute_reply": "2024-05-24T10:42:33.643664Z"
    },
    "papermill": {
     "duration": 0.020248,
     "end_time": "2024-05-24T10:42:33.646291",
     "exception": false,
     "start_time": "2024-05-24T10:42:33.626043",
     "status": "completed"
    },
    "tags": []
   },
   "outputs": [
    {
     "data": {
      "text/plain": [
       "(16,\n",
       " 16,\n",
       " ['lastapprcommoditycat_1041M',\n",
       "  'lastapprcommoditytypec_5251766M',\n",
       "  'lastcancelreason_561M',\n",
       "  'lastrejectcommoditycat_161M',\n",
       "  'lastrejectcommodtypec_5251769M',\n",
       "  'lastrejectreason_759M',\n",
       "  'lastrejectreasonclient_4145040M',\n",
       "  'previouscontdistrict_112M',\n",
       "  'description_5085714M',\n",
       "  'education_1103M',\n",
       "  'education_88M',\n",
       "  'maritalst_385M',\n",
       "  'maritalst_893M',\n",
       "  'mainoccupationinc_384A_any_selfemployed',\n",
       "  'person_housetype',\n",
       "  'pmts_dpdvalue_108P_over31'])"
      ]
     },
     "execution_count": 18,
     "metadata": {},
     "output_type": "execute_result"
    }
   ],
   "source": [
    "len(cat_cols),len(cat_cols_test), cat_cols"
   ]
  },
  {
   "cell_type": "code",
   "execution_count": 19,
   "id": "c2f8a0d2",
   "metadata": {
    "execution": {
     "iopub.execute_input": "2024-05-24T10:42:33.668275Z",
     "iopub.status.busy": "2024-05-24T10:42:33.668030Z",
     "iopub.status.idle": "2024-05-24T10:42:33.672008Z",
     "shell.execute_reply": "2024-05-24T10:42:33.671183Z"
    },
    "papermill": {
     "duration": 0.017113,
     "end_time": "2024-05-24T10:42:33.673884",
     "exception": false,
     "start_time": "2024-05-24T10:42:33.656771",
     "status": "completed"
    },
    "tags": []
   },
   "outputs": [],
   "source": [
    "# one-hot encode the categorical features\n",
    "full_pipeline = ColumnTransformer([('cat', OneHotEncoder(handle_unknown='ignore'), cat_cols_test)], remainder='passthrough')"
   ]
  },
  {
   "cell_type": "code",
   "execution_count": 20,
   "id": "6a508efd",
   "metadata": {
    "execution": {
     "iopub.execute_input": "2024-05-24T10:42:33.696964Z",
     "iopub.status.busy": "2024-05-24T10:42:33.696549Z",
     "iopub.status.idle": "2024-05-24T10:42:33.871869Z",
     "shell.execute_reply": "2024-05-24T10:42:33.870697Z"
    },
    "papermill": {
     "duration": 0.189477,
     "end_time": "2024-05-24T10:42:33.874377",
     "exception": false,
     "start_time": "2024-05-24T10:42:33.684900",
     "status": "completed"
    },
    "tags": []
   },
   "outputs": [],
   "source": [
    "X = train_data.drop(['target'], axis = 1)\n",
    "y = train_data['target']"
   ]
  },
  {
   "cell_type": "code",
   "execution_count": 21,
   "id": "6b7c1a5b",
   "metadata": {
    "execution": {
     "iopub.execute_input": "2024-05-24T10:42:33.897172Z",
     "iopub.status.busy": "2024-05-24T10:42:33.896850Z",
     "iopub.status.idle": "2024-05-24T10:42:55.380516Z",
     "shell.execute_reply": "2024-05-24T10:42:55.379528Z"
    },
    "papermill": {
     "duration": 21.497258,
     "end_time": "2024-05-24T10:42:55.382705",
     "exception": false,
     "start_time": "2024-05-24T10:42:33.885447",
     "status": "completed"
    },
    "tags": []
   },
   "outputs": [
    {
     "data": {
      "text/plain": [
       "((1526659, 898), (10, 898))"
      ]
     },
     "execution_count": 21,
     "metadata": {},
     "output_type": "execute_result"
    }
   ],
   "source": [
    "encoder = full_pipeline.fit(X)\n",
    "X = encoder.transform(X)\n",
    "test_data= encoder.transform(test_data)\n",
    "\n",
    "X.shape, test_data.shape"
   ]
  },
  {
   "cell_type": "markdown",
   "id": "ea3556fb",
   "metadata": {
    "papermill": {
     "duration": 0.010583,
     "end_time": "2024-05-24T10:42:55.404372",
     "exception": false,
     "start_time": "2024-05-24T10:42:55.393789",
     "status": "completed"
    },
    "tags": []
   },
   "source": [
    "# First layer ensemble of models [XGBoost, CatBoost, Light LGB]\n",
    "\n",
    "https://scikit-learn.org/stable/modules/generated/sklearn.ensemble.GradientBoostingClassifier.html\n",
    "\n",
    "https://www.kaggle.com/code/harrychan123/lgb-cat-ensemble-stacking"
   ]
  },
  {
   "cell_type": "code",
   "execution_count": 22,
   "id": "012b7568",
   "metadata": {
    "execution": {
     "iopub.execute_input": "2024-05-24T10:42:55.427030Z",
     "iopub.status.busy": "2024-05-24T10:42:55.426735Z",
     "iopub.status.idle": "2024-05-24T10:42:55.433343Z",
     "shell.execute_reply": "2024-05-24T10:42:55.432461Z"
    },
    "papermill": {
     "duration": 0.0201,
     "end_time": "2024-05-24T10:42:55.435280",
     "exception": false,
     "start_time": "2024-05-24T10:42:55.415180",
     "status": "completed"
    },
    "tags": []
   },
   "outputs": [],
   "source": [
    "params = {\n",
    "    \"boosting_type\": \"gbdt\",\n",
    "    \"objective\": \"binary\",\n",
    "    \"metric\": \"auc\",\n",
    "    \"max_depth\": 10,  \n",
    "    \"learning_rate\": 0.05,\n",
    "    \"n_estimators\": 2000,  \n",
    "    \"colsample_bytree\": 0.8,\n",
    "    \"colsample_bynode\": 0.8,\n",
    "    \"verbose\": -1,\n",
    "    \"random_state\": 42,\n",
    "    \"reg_alpha\": 0.1,\n",
    "    \"reg_lambda\": 10,\n",
    "    \"extra_trees\":True,\n",
    "    'num_leaves':64,\n",
    "    \"device\": device, \n",
    "    \"verbose\": -1,\n",
    "}\n",
    "\n",
    "params2 = {\n",
    "    \"booster\": \"gbtree\",\n",
    "    \"objective\": \"binary:logistic\",\n",
    "    \"eval_metric\": \"auc\",\n",
    "    \"max_depth\": 10,\n",
    "    \"learning_rate\": 0.05,\n",
    "    \"n_estimators\": 1000,\n",
    "    \"colsample_bytree\": 0.8,\n",
    "    \"colsample_bynode\": 0.8,\n",
    "    \"alpha\": 0.1,  \n",
    "    \"lambda\": 10,  \n",
    "    \"tree_method\": 'gpu_hist' if device == 'gpu' else 'auto',\n",
    "    \"random_state\": 42,\n",
    "    \"verbosity\": 0,\n",
    "    \"enable_categorical\":True,\n",
    "}"
   ]
  },
  {
   "cell_type": "code",
   "execution_count": 23,
   "id": "9d1a0be6",
   "metadata": {
    "execution": {
     "iopub.execute_input": "2024-05-24T10:42:55.457503Z",
     "iopub.status.busy": "2024-05-24T10:42:55.457258Z",
     "iopub.status.idle": "2024-05-24T10:42:55.464418Z",
     "shell.execute_reply": "2024-05-24T10:42:55.463537Z"
    },
    "papermill": {
     "duration": 0.020305,
     "end_time": "2024-05-24T10:42:55.466205",
     "exception": false,
     "start_time": "2024-05-24T10:42:55.445900",
     "status": "completed"
    },
    "tags": []
   },
   "outputs": [],
   "source": [
    "n_est = 6000\n",
    "models = [\n",
    "    ('CatBoost', CatBoostClassifier(eval_metric='AUC', task_type='GPU',\n",
    "                                    learning_rate=0.03, iterations=n_est, random_seed=3107)),\n",
    "    ('LightGBM', LGBMClassifier(**params)),\n",
    "    ('XGBoost', XGBClassifier(**params2))]"
   ]
  },
  {
   "cell_type": "code",
   "execution_count": 24,
   "id": "9ec4d059",
   "metadata": {
    "execution": {
     "iopub.execute_input": "2024-05-24T10:42:55.488695Z",
     "iopub.status.busy": "2024-05-24T10:42:55.488443Z",
     "iopub.status.idle": "2024-05-24T10:42:55.560841Z",
     "shell.execute_reply": "2024-05-24T10:42:55.559962Z"
    },
    "papermill": {
     "duration": 0.085999,
     "end_time": "2024-05-24T10:42:55.563034",
     "exception": false,
     "start_time": "2024-05-24T10:42:55.477035",
     "status": "completed"
    },
    "tags": []
   },
   "outputs": [
    {
     "data": {
      "text/html": [
       "<div>\n",
       "<style scoped>\n",
       "    .dataframe tbody tr th:only-of-type {\n",
       "        vertical-align: middle;\n",
       "    }\n",
       "\n",
       "    .dataframe tbody tr th {\n",
       "        vertical-align: top;\n",
       "    }\n",
       "\n",
       "    .dataframe thead th {\n",
       "        text-align: right;\n",
       "    }\n",
       "</style>\n",
       "<table border=\"1\" class=\"dataframe\">\n",
       "  <thead>\n",
       "    <tr style=\"text-align: right;\">\n",
       "      <th></th>\n",
       "      <th>CatBoost</th>\n",
       "      <th>LightGBM</th>\n",
       "      <th>XGBoost</th>\n",
       "    </tr>\n",
       "  </thead>\n",
       "  <tbody>\n",
       "    <tr>\n",
       "      <th>0</th>\n",
       "      <td>NaN</td>\n",
       "      <td>NaN</td>\n",
       "      <td>NaN</td>\n",
       "    </tr>\n",
       "    <tr>\n",
       "      <th>1</th>\n",
       "      <td>NaN</td>\n",
       "      <td>NaN</td>\n",
       "      <td>NaN</td>\n",
       "    </tr>\n",
       "    <tr>\n",
       "      <th>2</th>\n",
       "      <td>NaN</td>\n",
       "      <td>NaN</td>\n",
       "      <td>NaN</td>\n",
       "    </tr>\n",
       "    <tr>\n",
       "      <th>3</th>\n",
       "      <td>NaN</td>\n",
       "      <td>NaN</td>\n",
       "      <td>NaN</td>\n",
       "    </tr>\n",
       "    <tr>\n",
       "      <th>4</th>\n",
       "      <td>NaN</td>\n",
       "      <td>NaN</td>\n",
       "      <td>NaN</td>\n",
       "    </tr>\n",
       "    <tr>\n",
       "      <th>...</th>\n",
       "      <td>...</td>\n",
       "      <td>...</td>\n",
       "      <td>...</td>\n",
       "    </tr>\n",
       "    <tr>\n",
       "      <th>1526654</th>\n",
       "      <td>NaN</td>\n",
       "      <td>NaN</td>\n",
       "      <td>NaN</td>\n",
       "    </tr>\n",
       "    <tr>\n",
       "      <th>1526655</th>\n",
       "      <td>NaN</td>\n",
       "      <td>NaN</td>\n",
       "      <td>NaN</td>\n",
       "    </tr>\n",
       "    <tr>\n",
       "      <th>1526656</th>\n",
       "      <td>NaN</td>\n",
       "      <td>NaN</td>\n",
       "      <td>NaN</td>\n",
       "    </tr>\n",
       "    <tr>\n",
       "      <th>1526657</th>\n",
       "      <td>NaN</td>\n",
       "      <td>NaN</td>\n",
       "      <td>NaN</td>\n",
       "    </tr>\n",
       "    <tr>\n",
       "      <th>1526658</th>\n",
       "      <td>NaN</td>\n",
       "      <td>NaN</td>\n",
       "      <td>NaN</td>\n",
       "    </tr>\n",
       "  </tbody>\n",
       "</table>\n",
       "<p>1526659 rows × 3 columns</p>\n",
       "</div>"
      ],
      "text/plain": [
       "        CatBoost LightGBM XGBoost\n",
       "0            NaN      NaN     NaN\n",
       "1            NaN      NaN     NaN\n",
       "2            NaN      NaN     NaN\n",
       "3            NaN      NaN     NaN\n",
       "4            NaN      NaN     NaN\n",
       "...          ...      ...     ...\n",
       "1526654      NaN      NaN     NaN\n",
       "1526655      NaN      NaN     NaN\n",
       "1526656      NaN      NaN     NaN\n",
       "1526657      NaN      NaN     NaN\n",
       "1526658      NaN      NaN     NaN\n",
       "\n",
       "[1526659 rows x 3 columns]"
      ]
     },
     "execution_count": 24,
     "metadata": {},
     "output_type": "execute_result"
    }
   ],
   "source": [
    "fitted_models_cb = []\n",
    "fitted_models_lgb = []\n",
    "fitted_models_xgb = []\n",
    "cv_scores_cb = []\n",
    "cv_scores_lgb = []\n",
    "cv_scores_xgb = []\n",
    "\n",
    "# Store the prediction results of the first layer model\n",
    "meta_features = pd.DataFrame(index=train_data.index, columns=['CatBoost','LightGBM', 'XGBoost'])\n",
    "meta_features"
   ]
  },
  {
   "cell_type": "code",
   "execution_count": 25,
   "id": "c2eca836",
   "metadata": {
    "execution": {
     "iopub.execute_input": "2024-05-24T10:42:55.587283Z",
     "iopub.status.busy": "2024-05-24T10:42:55.586270Z",
     "iopub.status.idle": "2024-05-24T10:42:55.623187Z",
     "shell.execute_reply": "2024-05-24T10:42:55.622276Z"
    },
    "papermill": {
     "duration": 0.05114,
     "end_time": "2024-05-24T10:42:55.625589",
     "exception": false,
     "start_time": "2024-05-24T10:42:55.574449",
     "status": "completed"
    },
    "tags": []
   },
   "outputs": [
    {
     "data": {
      "text/plain": [
       "[(0,\n",
       "  (array([ 305332,  305333,  305334, ..., 1526656, 1526657, 1526658]),\n",
       "   array([     0,      1,      2, ..., 305329, 305330, 305331]))),\n",
       " (1,\n",
       "  (array([      0,       1,       2, ..., 1526656, 1526657, 1526658]),\n",
       "   array([305332, 305333, 305334, ..., 610661, 610662, 610663]))),\n",
       " (2,\n",
       "  (array([      0,       1,       2, ..., 1526656, 1526657, 1526658]),\n",
       "   array([610664, 610665, 610666, ..., 915993, 915994, 915995]))),\n",
       " (3,\n",
       "  (array([      0,       1,       2, ..., 1526656, 1526657, 1526658]),\n",
       "   array([ 915996,  915997,  915998, ..., 1221325, 1221326, 1221327]))),\n",
       " (4,\n",
       "  (array([      0,       1,       2, ..., 1221325, 1221326, 1221327]),\n",
       "   array([1221328, 1221329, 1221330, ..., 1526656, 1526657, 1526658])))]"
      ]
     },
     "execution_count": 25,
     "metadata": {},
     "output_type": "execute_result"
    }
   ],
   "source": [
    "from sklearn.model_selection import KFold\n",
    "cv = KFold(n_splits=5, shuffle=False)\n",
    "#The format of cv is [[train,val], [train,val], [train,val], ...]\n",
    "list(enumerate(cv.split(X, y)))"
   ]
  },
  {
   "cell_type": "code",
   "execution_count": 26,
   "id": "258a653f",
   "metadata": {
    "execution": {
     "iopub.execute_input": "2024-05-24T10:42:55.650601Z",
     "iopub.status.busy": "2024-05-24T10:42:55.650326Z",
     "iopub.status.idle": "2024-05-24T10:42:55.710405Z",
     "shell.execute_reply": "2024-05-24T10:42:55.709497Z"
    },
    "papermill": {
     "duration": 0.074264,
     "end_time": "2024-05-24T10:42:55.712547",
     "exception": false,
     "start_time": "2024-05-24T10:42:55.638283",
     "status": "completed"
    },
    "tags": []
   },
   "outputs": [
    {
     "data": {
      "text/plain": [
       "(1221327, 305332)"
      ]
     },
     "execution_count": 26,
     "metadata": {},
     "output_type": "execute_result"
    }
   ],
   "source": [
    "len(list(cv.split(X, y))[0][0]), len(list(cv.split(X, y))[0][1])"
   ]
  },
  {
   "cell_type": "code",
   "execution_count": 27,
   "id": "28d4a0f7",
   "metadata": {
    "execution": {
     "iopub.execute_input": "2024-05-24T10:42:55.736828Z",
     "iopub.status.busy": "2024-05-24T10:42:55.736559Z",
     "iopub.status.idle": "2024-05-24T11:08:20.569644Z",
     "shell.execute_reply": "2024-05-24T11:08:20.568805Z"
    },
    "papermill": {
     "duration": 1524.847732,
     "end_time": "2024-05-24T11:08:20.571910",
     "exception": false,
     "start_time": "2024-05-24T10:42:55.724178",
     "status": "completed"
    },
    "tags": []
   },
   "outputs": [
    {
     "name": "stdout",
     "output_type": "stream",
     "text": [
      "X_train shape and indices (1221327, 898), [ 305332  305333  305334 ... 1526656 1526657 1526658]\n",
      "X_valid shape and indices (305332, 898), [     0      1      2 ... 305329 305330 305331]\n"
     ]
    },
    {
     "name": "stderr",
     "output_type": "stream",
     "text": [
      "Default metric period is 5 because AUC is/are not implemented for GPU\n"
     ]
    },
    {
     "name": "stdout",
     "output_type": "stream",
     "text": [
      "X_train shape and indices (1221327, 898), [      0       1       2 ... 1526656 1526657 1526658]\n",
      "X_valid shape and indices (305332, 898), [305332 305333 305334 ... 610661 610662 610663]\n"
     ]
    },
    {
     "name": "stderr",
     "output_type": "stream",
     "text": [
      "Default metric period is 5 because AUC is/are not implemented for GPU\n"
     ]
    },
    {
     "name": "stdout",
     "output_type": "stream",
     "text": [
      "X_train shape and indices (1221327, 898), [      0       1       2 ... 1526656 1526657 1526658]\n",
      "X_valid shape and indices (305332, 898), [610664 610665 610666 ... 915993 915994 915995]\n"
     ]
    },
    {
     "name": "stderr",
     "output_type": "stream",
     "text": [
      "Default metric period is 5 because AUC is/are not implemented for GPU\n"
     ]
    },
    {
     "name": "stdout",
     "output_type": "stream",
     "text": [
      "X_train shape and indices (1221327, 898), [      0       1       2 ... 1526656 1526657 1526658]\n",
      "X_valid shape and indices (305332, 898), [ 915996  915997  915998 ... 1221325 1221326 1221327]\n"
     ]
    },
    {
     "name": "stderr",
     "output_type": "stream",
     "text": [
      "Default metric period is 5 because AUC is/are not implemented for GPU\n"
     ]
    },
    {
     "name": "stdout",
     "output_type": "stream",
     "text": [
      "X_train shape and indices (1221328, 898), [      0       1       2 ... 1221325 1221326 1221327]\n",
      "X_valid shape and indices (305331, 898), [1221328 1221329 1221330 ... 1526656 1526657 1526658]\n"
     ]
    },
    {
     "name": "stderr",
     "output_type": "stream",
     "text": [
      "Default metric period is 5 because AUC is/are not implemented for GPU\n"
     ]
    },
    {
     "name": "stdout",
     "output_type": "stream",
     "text": [
      "X_train shape and indices (1221327, 898), [ 305332  305333  305334 ... 1526656 1526657 1526658]\n",
      "X_valid shape and indices (305332, 898), [     0      1      2 ... 305329 305330 305331]\n"
     ]
    },
    {
     "name": "stderr",
     "output_type": "stream",
     "text": [
      "1 warning generated.\n",
      "1 warning generated.\n",
      "1 warning generated.\n",
      "1 warning generated.\n",
      "1 warning generated.\n",
      "1 warning generated.\n",
      "1 warning generated.\n",
      "1 warning generated.\n",
      "1 warning generated.\n",
      "1 warning generated.\n",
      "1 warning generated.\n",
      "1 warning generated.\n",
      "1 warning generated.\n",
      "1 warning generated.\n",
      "1 warning generated.\n",
      "1 warning generated.\n",
      "1 warning generated.\n",
      "1 warning generated.\n",
      "1 warning generated.\n",
      "1 warning generated.\n",
      "1 warning generated.\n",
      "1 warning generated.\n",
      "1 warning generated.\n",
      "1 warning generated.\n",
      "1 warning generated.\n",
      "1 warning generated.\n",
      "1 warning generated.\n",
      "1 warning generated.\n",
      "1 warning generated.\n",
      "1 warning generated.\n",
      "1 warning generated.\n",
      "1 warning generated.\n",
      "1 warning generated.\n"
     ]
    },
    {
     "name": "stdout",
     "output_type": "stream",
     "text": [
      "Training until validation scores don't improve for 100 rounds\n",
      "[200]\tvalid_0's auc: 0.698492\n",
      "[400]\tvalid_0's auc: 0.699619\n",
      "Early stopping, best iteration is:\n",
      "[422]\tvalid_0's auc: 0.699734\n",
      "X_train shape and indices (1221327, 898), [      0       1       2 ... 1526656 1526657 1526658]\n",
      "X_valid shape and indices (305332, 898), [305332 305333 305334 ... 610661 610662 610663]\n",
      "Training until validation scores don't improve for 100 rounds\n",
      "[200]\tvalid_0's auc: 0.699143\n",
      "[400]\tvalid_0's auc: 0.704701\n",
      "[600]\tvalid_0's auc: 0.707535\n",
      "[800]\tvalid_0's auc: 0.709086\n",
      "[1000]\tvalid_0's auc: 0.709668\n",
      "[1200]\tvalid_0's auc: 0.710413\n",
      "[1400]\tvalid_0's auc: 0.710929\n",
      "[1600]\tvalid_0's auc: 0.71144\n",
      "[1800]\tvalid_0's auc: 0.711822\n",
      "Early stopping, best iteration is:\n",
      "[1876]\tvalid_0's auc: 0.711962\n",
      "X_train shape and indices (1221327, 898), [      0       1       2 ... 1526656 1526657 1526658]\n",
      "X_valid shape and indices (305332, 898), [610664 610665 610666 ... 915993 915994 915995]\n",
      "Training until validation scores don't improve for 100 rounds\n",
      "[200]\tvalid_0's auc: 0.76955\n",
      "[400]\tvalid_0's auc: 0.77483\n",
      "[600]\tvalid_0's auc: 0.776894\n",
      "Early stopping, best iteration is:\n",
      "[651]\tvalid_0's auc: 0.777193\n",
      "X_train shape and indices (1221327, 898), [      0       1       2 ... 1526656 1526657 1526658]\n",
      "X_valid shape and indices (305332, 898), [ 915996  915997  915998 ... 1221325 1221326 1221327]\n",
      "Training until validation scores don't improve for 100 rounds\n",
      "[200]\tvalid_0's auc: 0.779653\n",
      "[400]\tvalid_0's auc: 0.785565\n",
      "[600]\tvalid_0's auc: 0.787551\n",
      "[800]\tvalid_0's auc: 0.788023\n",
      "[1000]\tvalid_0's auc: 0.788375\n",
      "Early stopping, best iteration is:\n",
      "[1097]\tvalid_0's auc: 0.788493\n",
      "X_train shape and indices (1221328, 898), [      0       1       2 ... 1221325 1221326 1221327]\n",
      "X_valid shape and indices (305331, 898), [1221328 1221329 1221330 ... 1526656 1526657 1526658]\n",
      "Training until validation scores don't improve for 100 rounds\n",
      "[200]\tvalid_0's auc: 0.741102\n",
      "[400]\tvalid_0's auc: 0.746808\n",
      "[600]\tvalid_0's auc: 0.749155\n",
      "[800]\tvalid_0's auc: 0.749993\n",
      "Early stopping, best iteration is:\n",
      "[755]\tvalid_0's auc: 0.750043\n",
      "X_train shape and indices (1221327, 898), [ 305332  305333  305334 ... 1526656 1526657 1526658]\n",
      "X_valid shape and indices (305332, 898), [     0      1      2 ... 305329 305330 305331]\n",
      "X_train shape and indices (1221327, 898), [      0       1       2 ... 1526656 1526657 1526658]\n",
      "X_valid shape and indices (305332, 898), [305332 305333 305334 ... 610661 610662 610663]\n",
      "X_train shape and indices (1221327, 898), [      0       1       2 ... 1526656 1526657 1526658]\n",
      "X_valid shape and indices (305332, 898), [610664 610665 610666 ... 915993 915994 915995]\n",
      "X_train shape and indices (1221327, 898), [      0       1       2 ... 1526656 1526657 1526658]\n",
      "X_valid shape and indices (305332, 898), [ 915996  915997  915998 ... 1221325 1221326 1221327]\n",
      "X_train shape and indices (1221328, 898), [      0       1       2 ... 1221325 1221326 1221327]\n",
      "X_valid shape and indices (305331, 898), [1221328 1221329 1221330 ... 1526656 1526657 1526658]\n"
     ]
    }
   ],
   "source": [
    "for name, model in models:\n",
    "    for i, (idx_train, idx_valid) in enumerate(cv.split(X, y)):\n",
    "        X_train, y_train = X[idx_train], y[idx_train]\n",
    "        X_valid, y_valid = X[idx_valid], y[idx_valid]\n",
    "        print(f'X_train shape and indices {X_train.shape}, {idx_train}')\n",
    "        print(f'X_valid shape and indices {X_valid.shape}, {idx_valid}')\n",
    "        if name == 'CatBoost':\n",
    "            model.fit(X_train, y=y_train, \n",
    "                      eval_set = (X_valid, y_valid), verbose = False)\n",
    "            y_pred_valid = model.predict_proba(X_valid)[:, 1]\n",
    "            fitted_models_cb.append(model)\n",
    "            auc_score = roc_auc_score(y_valid, y_pred_valid)\n",
    "            cv_scores_cb.append(auc_score)\n",
    "        elif name == 'LightGBM':\n",
    "            model.fit(X_train, y_train, eval_set=[(X_valid, y_valid)],\n",
    "                      callbacks=[lgb.log_evaluation(200), lgb.early_stopping(100)])\n",
    "            fitted_models_lgb.append(model)\n",
    "            y_pred_valid = model.predict_proba(X_valid)[:, 1]\n",
    "            auc_score = roc_auc_score(y_valid, y_pred_valid)\n",
    "            cv_scores_lgb.append(auc_score)\n",
    "        else:  # XGBoost\n",
    "            model.fit(X_train, y_train, \n",
    "                      eval_set=[(X_valid, y_valid)], \n",
    "                      early_stopping_rounds=100, verbose=False)\n",
    "            fitted_models_xgb.append(model)\n",
    "            y_pred_valid = model.predict_proba(X_valid)[:, 1]\n",
    "            auc_score = roc_auc_score(y_valid, y_pred_valid)\n",
    "            cv_scores_xgb.append(auc_score)\n",
    "\n",
    "        #meta_features.loc[X_valid.index, name] = y_pred_valid\n",
    "        #write the prediction into the dataframe\n",
    "        meta_features.loc[list(cv.split(X, y))[i][1], name] = y_pred_valid\n"
   ]
  },
  {
   "cell_type": "code",
   "execution_count": 28,
   "id": "0d185e6b",
   "metadata": {
    "execution": {
     "iopub.execute_input": "2024-05-24T11:08:20.607108Z",
     "iopub.status.busy": "2024-05-24T11:08:20.606792Z",
     "iopub.status.idle": "2024-05-24T11:08:20.617124Z",
     "shell.execute_reply": "2024-05-24T11:08:20.616226Z"
    },
    "papermill": {
     "duration": 0.030343,
     "end_time": "2024-05-24T11:08:20.619192",
     "exception": false,
     "start_time": "2024-05-24T11:08:20.588849",
     "status": "completed"
    },
    "tags": []
   },
   "outputs": [
    {
     "data": {
      "text/html": [
       "<div>\n",
       "<style scoped>\n",
       "    .dataframe tbody tr th:only-of-type {\n",
       "        vertical-align: middle;\n",
       "    }\n",
       "\n",
       "    .dataframe tbody tr th {\n",
       "        vertical-align: top;\n",
       "    }\n",
       "\n",
       "    .dataframe thead th {\n",
       "        text-align: right;\n",
       "    }\n",
       "</style>\n",
       "<table border=\"1\" class=\"dataframe\">\n",
       "  <thead>\n",
       "    <tr style=\"text-align: right;\">\n",
       "      <th></th>\n",
       "      <th>CatBoost</th>\n",
       "      <th>LightGBM</th>\n",
       "      <th>XGBoost</th>\n",
       "    </tr>\n",
       "  </thead>\n",
       "  <tbody>\n",
       "    <tr>\n",
       "      <th>0</th>\n",
       "      <td>0.091647</td>\n",
       "      <td>0.086852</td>\n",
       "      <td>0.054619</td>\n",
       "    </tr>\n",
       "    <tr>\n",
       "      <th>1</th>\n",
       "      <td>0.088569</td>\n",
       "      <td>0.075285</td>\n",
       "      <td>0.038843</td>\n",
       "    </tr>\n",
       "    <tr>\n",
       "      <th>2</th>\n",
       "      <td>0.118669</td>\n",
       "      <td>0.123548</td>\n",
       "      <td>0.058984</td>\n",
       "    </tr>\n",
       "    <tr>\n",
       "      <th>3</th>\n",
       "      <td>0.136537</td>\n",
       "      <td>0.15966</td>\n",
       "      <td>0.085858</td>\n",
       "    </tr>\n",
       "    <tr>\n",
       "      <th>4</th>\n",
       "      <td>0.149351</td>\n",
       "      <td>0.144934</td>\n",
       "      <td>0.119872</td>\n",
       "    </tr>\n",
       "    <tr>\n",
       "      <th>...</th>\n",
       "      <td>...</td>\n",
       "      <td>...</td>\n",
       "      <td>...</td>\n",
       "    </tr>\n",
       "    <tr>\n",
       "      <th>1526654</th>\n",
       "      <td>0.005966</td>\n",
       "      <td>0.006938</td>\n",
       "      <td>0.003424</td>\n",
       "    </tr>\n",
       "    <tr>\n",
       "      <th>1526655</th>\n",
       "      <td>0.003344</td>\n",
       "      <td>0.002976</td>\n",
       "      <td>0.004651</td>\n",
       "    </tr>\n",
       "    <tr>\n",
       "      <th>1526656</th>\n",
       "      <td>0.032488</td>\n",
       "      <td>0.034866</td>\n",
       "      <td>0.044135</td>\n",
       "    </tr>\n",
       "    <tr>\n",
       "      <th>1526657</th>\n",
       "      <td>0.003169</td>\n",
       "      <td>0.003214</td>\n",
       "      <td>0.005775</td>\n",
       "    </tr>\n",
       "    <tr>\n",
       "      <th>1526658</th>\n",
       "      <td>0.00384</td>\n",
       "      <td>0.004151</td>\n",
       "      <td>0.002714</td>\n",
       "    </tr>\n",
       "  </tbody>\n",
       "</table>\n",
       "<p>1526659 rows × 3 columns</p>\n",
       "</div>"
      ],
      "text/plain": [
       "         CatBoost  LightGBM   XGBoost\n",
       "0        0.091647  0.086852  0.054619\n",
       "1        0.088569  0.075285  0.038843\n",
       "2        0.118669  0.123548  0.058984\n",
       "3        0.136537   0.15966  0.085858\n",
       "4        0.149351  0.144934  0.119872\n",
       "...           ...       ...       ...\n",
       "1526654  0.005966  0.006938  0.003424\n",
       "1526655  0.003344  0.002976  0.004651\n",
       "1526656  0.032488  0.034866  0.044135\n",
       "1526657  0.003169  0.003214  0.005775\n",
       "1526658   0.00384  0.004151  0.002714\n",
       "\n",
       "[1526659 rows x 3 columns]"
      ]
     },
     "execution_count": 28,
     "metadata": {},
     "output_type": "execute_result"
    }
   ],
   "source": [
    "meta_features"
   ]
  },
  {
   "cell_type": "markdown",
   "id": "b72d701f",
   "metadata": {
    "papermill": {
     "duration": 0.016442,
     "end_time": "2024-05-24T11:08:20.653217",
     "exception": false,
     "start_time": "2024-05-24T11:08:20.636775",
     "status": "completed"
    },
    "tags": []
   },
   "source": [
    "# Second layer ensemble model"
   ]
  },
  {
   "cell_type": "code",
   "execution_count": 29,
   "id": "54812e43",
   "metadata": {
    "execution": {
     "iopub.execute_input": "2024-05-24T11:08:20.687941Z",
     "iopub.status.busy": "2024-05-24T11:08:20.687625Z",
     "iopub.status.idle": "2024-05-24T11:08:50.767854Z",
     "shell.execute_reply": "2024-05-24T11:08:50.766852Z"
    },
    "papermill": {
     "duration": 30.11736,
     "end_time": "2024-05-24T11:08:50.787299",
     "exception": false,
     "start_time": "2024-05-24T11:08:20.669939",
     "status": "completed"
    },
    "tags": []
   },
   "outputs": [
    {
     "data": {
      "text/html": [
       "<style>#sk-container-id-1 {color: black;background-color: white;}#sk-container-id-1 pre{padding: 0;}#sk-container-id-1 div.sk-toggleable {background-color: white;}#sk-container-id-1 label.sk-toggleable__label {cursor: pointer;display: block;width: 100%;margin-bottom: 0;padding: 0.3em;box-sizing: border-box;text-align: center;}#sk-container-id-1 label.sk-toggleable__label-arrow:before {content: \"▸\";float: left;margin-right: 0.25em;color: #696969;}#sk-container-id-1 label.sk-toggleable__label-arrow:hover:before {color: black;}#sk-container-id-1 div.sk-estimator:hover label.sk-toggleable__label-arrow:before {color: black;}#sk-container-id-1 div.sk-toggleable__content {max-height: 0;max-width: 0;overflow: hidden;text-align: left;background-color: #f0f8ff;}#sk-container-id-1 div.sk-toggleable__content pre {margin: 0.2em;color: black;border-radius: 0.25em;background-color: #f0f8ff;}#sk-container-id-1 input.sk-toggleable__control:checked~div.sk-toggleable__content {max-height: 200px;max-width: 100%;overflow: auto;}#sk-container-id-1 input.sk-toggleable__control:checked~label.sk-toggleable__label-arrow:before {content: \"▾\";}#sk-container-id-1 div.sk-estimator input.sk-toggleable__control:checked~label.sk-toggleable__label {background-color: #d4ebff;}#sk-container-id-1 div.sk-label input.sk-toggleable__control:checked~label.sk-toggleable__label {background-color: #d4ebff;}#sk-container-id-1 input.sk-hidden--visually {border: 0;clip: rect(1px 1px 1px 1px);clip: rect(1px, 1px, 1px, 1px);height: 1px;margin: -1px;overflow: hidden;padding: 0;position: absolute;width: 1px;}#sk-container-id-1 div.sk-estimator {font-family: monospace;background-color: #f0f8ff;border: 1px dotted black;border-radius: 0.25em;box-sizing: border-box;margin-bottom: 0.5em;}#sk-container-id-1 div.sk-estimator:hover {background-color: #d4ebff;}#sk-container-id-1 div.sk-parallel-item::after {content: \"\";width: 100%;border-bottom: 1px solid gray;flex-grow: 1;}#sk-container-id-1 div.sk-label:hover label.sk-toggleable__label {background-color: #d4ebff;}#sk-container-id-1 div.sk-serial::before {content: \"\";position: absolute;border-left: 1px solid gray;box-sizing: border-box;top: 0;bottom: 0;left: 50%;z-index: 0;}#sk-container-id-1 div.sk-serial {display: flex;flex-direction: column;align-items: center;background-color: white;padding-right: 0.2em;padding-left: 0.2em;position: relative;}#sk-container-id-1 div.sk-item {position: relative;z-index: 1;}#sk-container-id-1 div.sk-parallel {display: flex;align-items: stretch;justify-content: center;background-color: white;position: relative;}#sk-container-id-1 div.sk-item::before, #sk-container-id-1 div.sk-parallel-item::before {content: \"\";position: absolute;border-left: 1px solid gray;box-sizing: border-box;top: 0;bottom: 0;left: 50%;z-index: -1;}#sk-container-id-1 div.sk-parallel-item {display: flex;flex-direction: column;z-index: 1;position: relative;background-color: white;}#sk-container-id-1 div.sk-parallel-item:first-child::after {align-self: flex-end;width: 50%;}#sk-container-id-1 div.sk-parallel-item:last-child::after {align-self: flex-start;width: 50%;}#sk-container-id-1 div.sk-parallel-item:only-child::after {width: 0;}#sk-container-id-1 div.sk-dashed-wrapped {border: 1px dashed gray;margin: 0 0.4em 0.5em 0.4em;box-sizing: border-box;padding-bottom: 0.4em;background-color: white;}#sk-container-id-1 div.sk-label label {font-family: monospace;font-weight: bold;display: inline-block;line-height: 1.2em;}#sk-container-id-1 div.sk-label-container {text-align: center;}#sk-container-id-1 div.sk-container {/* jupyter's `normalize.less` sets `[hidden] { display: none; }` but bootstrap.min.css set `[hidden] { display: none !important; }` so we also need the `!important` here to be able to override the default hidden behavior on the sphinx rendered scikit-learn.org. See: https://github.com/scikit-learn/scikit-learn/issues/21755 */display: inline-block !important;position: relative;}#sk-container-id-1 div.sk-text-repr-fallback {display: none;}</style><div id=\"sk-container-id-1\" class=\"sk-top-container\"><div class=\"sk-text-repr-fallback\"><pre>GradientBoostingClassifier(min_samples_split=3, n_estimators=12)</pre><b>In a Jupyter environment, please rerun this cell to show the HTML representation or trust the notebook. <br />On GitHub, the HTML representation is unable to render, please try loading this page with nbviewer.org.</b></div><div class=\"sk-container\" hidden><div class=\"sk-item\"><div class=\"sk-estimator sk-toggleable\"><input class=\"sk-toggleable__control sk-hidden--visually\" id=\"sk-estimator-id-1\" type=\"checkbox\" checked><label for=\"sk-estimator-id-1\" class=\"sk-toggleable__label sk-toggleable__label-arrow\">GradientBoostingClassifier</label><div class=\"sk-toggleable__content\"><pre>GradientBoostingClassifier(min_samples_split=3, n_estimators=12)</pre></div></div></div></div></div>"
      ],
      "text/plain": [
       "GradientBoostingClassifier(min_samples_split=3, n_estimators=12)"
      ]
     },
     "execution_count": 29,
     "metadata": {},
     "output_type": "execute_result"
    }
   ],
   "source": [
    "from sklearn.ensemble import GradientBoostingClassifier\n",
    "\n",
    "params = {\n",
    "    'n_estimators': 12,\n",
    "    'learning_rate': 0.1,\n",
    "    'max_depth': 3,\n",
    "    'min_samples_split': 3,\n",
    "    'min_samples_leaf': 1\n",
    "}\n",
    "\n",
    "meta_model = GradientBoostingClassifier(**params)\n",
    "\n",
    "meta_model.fit(meta_features, y)"
   ]
  },
  {
   "cell_type": "markdown",
   "id": "8087a89f",
   "metadata": {
    "papermill": {
     "duration": 0.016722,
     "end_time": "2024-05-24T11:08:50.821470",
     "exception": false,
     "start_time": "2024-05-24T11:08:50.804748",
     "status": "completed"
    },
    "tags": []
   },
   "source": [
    "# Build the same 2-layer ensemble for the test data"
   ]
  },
  {
   "cell_type": "code",
   "execution_count": 30,
   "id": "b76cb681",
   "metadata": {
    "execution": {
     "iopub.execute_input": "2024-05-24T11:08:50.856709Z",
     "iopub.status.busy": "2024-05-24T11:08:50.856381Z",
     "iopub.status.idle": "2024-05-24T11:08:50.871687Z",
     "shell.execute_reply": "2024-05-24T11:08:50.870979Z"
    },
    "papermill": {
     "duration": 0.035303,
     "end_time": "2024-05-24T11:08:50.873694",
     "exception": false,
     "start_time": "2024-05-24T11:08:50.838391",
     "status": "completed"
    },
    "tags": []
   },
   "outputs": [],
   "source": [
    "test_meta_features = pd.DataFrame(index=test_index, columns=['CatBoost','LightGBM', 'XGBoost'])"
   ]
  },
  {
   "cell_type": "code",
   "execution_count": 31,
   "id": "4aea45d2",
   "metadata": {
    "execution": {
     "iopub.execute_input": "2024-05-24T11:08:50.909399Z",
     "iopub.status.busy": "2024-05-24T11:08:50.909115Z",
     "iopub.status.idle": "2024-05-24T11:08:51.128864Z",
     "shell.execute_reply": "2024-05-24T11:08:51.128061Z"
    },
    "papermill": {
     "duration": 0.239946,
     "end_time": "2024-05-24T11:08:51.131223",
     "exception": false,
     "start_time": "2024-05-24T11:08:50.891277",
     "status": "completed"
    },
    "tags": []
   },
   "outputs": [],
   "source": [
    "# FIRST LAYER ENSEMBLE MODEL ON TEST DATA\n",
    "for model in fitted_models_cb:\n",
    "    y_pred_test = model.predict_proba(test_data)[:, 1]\n",
    "    test_meta_features['CatBoost'] = test_meta_features['CatBoost'].add(y_pred_test, fill_value=0)\n",
    "\n",
    "test_meta_features['CatBoost'] /= len(fitted_models_cb)\n",
    "\n",
    "# LightGBM\n",
    "for model in fitted_models_lgb:\n",
    "    y_pred_test = model.predict_proba(test_data)[:, 1]\n",
    "    test_meta_features['LightGBM'] = test_meta_features['LightGBM'].add(y_pred_test, fill_value=0)\n",
    "\n",
    "test_meta_features['LightGBM'] /= len(fitted_models_lgb)\n",
    "\n",
    "# XGBoost\n",
    "for model in fitted_models_xgb:\n",
    "    y_pred_test = model.predict_proba(test_data)[:, 1]\n",
    "    test_meta_features['XGBoost'] = test_meta_features['XGBoost'].add(y_pred_test, fill_value=0)\n",
    "\n",
    "test_meta_features['XGBoost'] /= len(fitted_models_xgb)"
   ]
  },
  {
   "cell_type": "code",
   "execution_count": 32,
   "id": "6f71483a",
   "metadata": {
    "execution": {
     "iopub.execute_input": "2024-05-24T11:08:51.167578Z",
     "iopub.status.busy": "2024-05-24T11:08:51.167257Z",
     "iopub.status.idle": "2024-05-24T11:08:51.177469Z",
     "shell.execute_reply": "2024-05-24T11:08:51.176573Z"
    },
    "papermill": {
     "duration": 0.030283,
     "end_time": "2024-05-24T11:08:51.179439",
     "exception": false,
     "start_time": "2024-05-24T11:08:51.149156",
     "status": "completed"
    },
    "tags": []
   },
   "outputs": [
    {
     "data": {
      "text/html": [
       "<div>\n",
       "<style scoped>\n",
       "    .dataframe tbody tr th:only-of-type {\n",
       "        vertical-align: middle;\n",
       "    }\n",
       "\n",
       "    .dataframe tbody tr th {\n",
       "        vertical-align: top;\n",
       "    }\n",
       "\n",
       "    .dataframe thead th {\n",
       "        text-align: right;\n",
       "    }\n",
       "</style>\n",
       "<table border=\"1\" class=\"dataframe\">\n",
       "  <thead>\n",
       "    <tr style=\"text-align: right;\">\n",
       "      <th></th>\n",
       "      <th>CatBoost</th>\n",
       "      <th>LightGBM</th>\n",
       "      <th>XGBoost</th>\n",
       "    </tr>\n",
       "  </thead>\n",
       "  <tbody>\n",
       "    <tr>\n",
       "      <th>57543</th>\n",
       "      <td>0.008989</td>\n",
       "      <td>0.009639</td>\n",
       "      <td>0.008411</td>\n",
       "    </tr>\n",
       "    <tr>\n",
       "      <th>57549</th>\n",
       "      <td>0.015303</td>\n",
       "      <td>0.018736</td>\n",
       "      <td>0.023321</td>\n",
       "    </tr>\n",
       "    <tr>\n",
       "      <th>57551</th>\n",
       "      <td>0.006089</td>\n",
       "      <td>0.010289</td>\n",
       "      <td>0.005932</td>\n",
       "    </tr>\n",
       "    <tr>\n",
       "      <th>57552</th>\n",
       "      <td>0.009312</td>\n",
       "      <td>0.013496</td>\n",
       "      <td>0.0085</td>\n",
       "    </tr>\n",
       "    <tr>\n",
       "      <th>57569</th>\n",
       "      <td>0.056197</td>\n",
       "      <td>0.056056</td>\n",
       "      <td>0.05126</td>\n",
       "    </tr>\n",
       "    <tr>\n",
       "      <th>57630</th>\n",
       "      <td>0.010127</td>\n",
       "      <td>0.009869</td>\n",
       "      <td>0.010986</td>\n",
       "    </tr>\n",
       "    <tr>\n",
       "      <th>57631</th>\n",
       "      <td>0.028214</td>\n",
       "      <td>0.036159</td>\n",
       "      <td>0.018703</td>\n",
       "    </tr>\n",
       "    <tr>\n",
       "      <th>57632</th>\n",
       "      <td>0.000988</td>\n",
       "      <td>0.002921</td>\n",
       "      <td>0.002168</td>\n",
       "    </tr>\n",
       "    <tr>\n",
       "      <th>57633</th>\n",
       "      <td>0.059949</td>\n",
       "      <td>0.068247</td>\n",
       "      <td>0.036282</td>\n",
       "    </tr>\n",
       "    <tr>\n",
       "      <th>57634</th>\n",
       "      <td>0.004565</td>\n",
       "      <td>0.009325</td>\n",
       "      <td>0.008711</td>\n",
       "    </tr>\n",
       "  </tbody>\n",
       "</table>\n",
       "</div>"
      ],
      "text/plain": [
       "       CatBoost  LightGBM   XGBoost\n",
       "57543  0.008989  0.009639  0.008411\n",
       "57549  0.015303  0.018736  0.023321\n",
       "57551  0.006089  0.010289  0.005932\n",
       "57552  0.009312  0.013496    0.0085\n",
       "57569  0.056197  0.056056   0.05126\n",
       "57630  0.010127  0.009869  0.010986\n",
       "57631  0.028214  0.036159  0.018703\n",
       "57632  0.000988  0.002921  0.002168\n",
       "57633  0.059949  0.068247  0.036282\n",
       "57634  0.004565  0.009325  0.008711"
      ]
     },
     "execution_count": 32,
     "metadata": {},
     "output_type": "execute_result"
    }
   ],
   "source": [
    "test_meta_features"
   ]
  },
  {
   "cell_type": "code",
   "execution_count": 33,
   "id": "8e3e50e7",
   "metadata": {
    "execution": {
     "iopub.execute_input": "2024-05-24T11:08:51.216183Z",
     "iopub.status.busy": "2024-05-24T11:08:51.215586Z",
     "iopub.status.idle": "2024-05-24T11:08:51.221697Z",
     "shell.execute_reply": "2024-05-24T11:08:51.220975Z"
    },
    "papermill": {
     "duration": 0.026388,
     "end_time": "2024-05-24T11:08:51.223429",
     "exception": false,
     "start_time": "2024-05-24T11:08:51.197041",
     "status": "completed"
    },
    "tags": []
   },
   "outputs": [],
   "source": [
    "# USE THE SECOND-LAYER MODEL ON THE TEST META FEATURE\n",
    "y_pred = pd.Series(meta_model.predict_proba(test_meta_features)[:, 1], index=test_index)"
   ]
  },
  {
   "cell_type": "markdown",
   "id": "a73d9840",
   "metadata": {
    "papermill": {
     "duration": 0.017118,
     "end_time": "2024-05-24T11:08:51.257741",
     "exception": false,
     "start_time": "2024-05-24T11:08:51.240623",
     "status": "completed"
    },
    "tags": []
   },
   "source": [
    "# Submission"
   ]
  },
  {
   "cell_type": "code",
   "execution_count": 34,
   "id": "70755bbd",
   "metadata": {
    "execution": {
     "iopub.execute_input": "2024-05-24T11:08:51.293685Z",
     "iopub.status.busy": "2024-05-24T11:08:51.293010Z",
     "iopub.status.idle": "2024-05-24T11:08:51.315173Z",
     "shell.execute_reply": "2024-05-24T11:08:51.314310Z"
    },
    "papermill": {
     "duration": 0.04219,
     "end_time": "2024-05-24T11:08:51.317182",
     "exception": false,
     "start_time": "2024-05-24T11:08:51.274992",
     "status": "completed"
    },
    "tags": []
   },
   "outputs": [
    {
     "data": {
      "text/html": [
       "<div>\n",
       "<style scoped>\n",
       "    .dataframe tbody tr th:only-of-type {\n",
       "        vertical-align: middle;\n",
       "    }\n",
       "\n",
       "    .dataframe tbody tr th {\n",
       "        vertical-align: top;\n",
       "    }\n",
       "\n",
       "    .dataframe thead th {\n",
       "        text-align: right;\n",
       "    }\n",
       "</style>\n",
       "<table border=\"1\" class=\"dataframe\">\n",
       "  <thead>\n",
       "    <tr style=\"text-align: right;\">\n",
       "      <th></th>\n",
       "      <th>case_id</th>\n",
       "      <th>score</th>\n",
       "    </tr>\n",
       "  </thead>\n",
       "  <tbody>\n",
       "    <tr>\n",
       "      <th>0</th>\n",
       "      <td>57543</td>\n",
       "      <td>NaN</td>\n",
       "    </tr>\n",
       "    <tr>\n",
       "      <th>1</th>\n",
       "      <td>57549</td>\n",
       "      <td>NaN</td>\n",
       "    </tr>\n",
       "    <tr>\n",
       "      <th>2</th>\n",
       "      <td>57551</td>\n",
       "      <td>NaN</td>\n",
       "    </tr>\n",
       "    <tr>\n",
       "      <th>3</th>\n",
       "      <td>57552</td>\n",
       "      <td>NaN</td>\n",
       "    </tr>\n",
       "    <tr>\n",
       "      <th>4</th>\n",
       "      <td>57569</td>\n",
       "      <td>NaN</td>\n",
       "    </tr>\n",
       "  </tbody>\n",
       "</table>\n",
       "</div>"
      ],
      "text/plain": [
       "   case_id  score\n",
       "0    57543    NaN\n",
       "1    57549    NaN\n",
       "2    57551    NaN\n",
       "3    57552    NaN\n",
       "4    57569    NaN"
      ]
     },
     "execution_count": 34,
     "metadata": {},
     "output_type": "execute_result"
    }
   ],
   "source": [
    "subs = pd.read_csv('/kaggle/input/home-credit-credit-risk-model-stability/sample_submission.csv')\n",
    "subs['score'] =y_pred \n",
    "subs.to_csv('submission.csv', index=False)\n",
    "subs.head()"
   ]
  }
 ],
 "metadata": {
  "kaggle": {
   "accelerator": "gpu",
   "dataSources": [
    {
     "databundleVersionId": 7921029,
     "sourceId": 50160,
     "sourceType": "competition"
    }
   ],
   "dockerImageVersionId": 30698,
   "isGpuEnabled": true,
   "isInternetEnabled": true,
   "language": "python",
   "sourceType": "notebook"
  },
  "kernelspec": {
   "display_name": "Python 3",
   "language": "python",
   "name": "python3"
  },
  "language_info": {
   "codemirror_mode": {
    "name": "ipython",
    "version": 3
   },
   "file_extension": ".py",
   "mimetype": "text/x-python",
   "name": "python",
   "nbconvert_exporter": "python",
   "pygments_lexer": "ipython3",
   "version": "3.10.13"
  },
  "papermill": {
   "default_parameters": {},
   "duration": 1612.335486,
   "end_time": "2024-05-24T11:08:52.759366",
   "environment_variables": {},
   "exception": null,
   "input_path": "__notebook__.ipynb",
   "output_path": "__notebook__.ipynb",
   "parameters": {},
   "start_time": "2024-05-24T10:42:00.423880",
   "version": "2.5.0"
  }
 },
 "nbformat": 4,
 "nbformat_minor": 5
}
