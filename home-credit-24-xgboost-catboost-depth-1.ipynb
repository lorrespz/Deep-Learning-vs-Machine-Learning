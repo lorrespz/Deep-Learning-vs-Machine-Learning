{
 "cells": [
  {
   "cell_type": "markdown",
   "id": "e4367d78",
   "metadata": {
    "papermill": {
     "duration": 0.01369,
     "end_time": "2024-05-08T09:36:05.318103",
     "exception": false,
     "start_time": "2024-05-08T09:36:05.304413",
     "status": "completed"
    },
    "tags": []
   },
   "source": [
    "Credit:\n",
    "\n",
    "https://www.kaggle.com/code/lorresprz/home-credit-lgb-cat-ensemble\n",
    "\n",
    "https://www.kaggle.com/code/jetakow/home-credit-2024-starter-notebook"
   ]
  },
  {
   "cell_type": "code",
   "execution_count": 1,
   "id": "fe68cdc3",
   "metadata": {
    "execution": {
     "iopub.execute_input": "2024-05-08T09:36:05.348000Z",
     "iopub.status.busy": "2024-05-08T09:36:05.347581Z",
     "iopub.status.idle": "2024-05-08T09:36:09.383242Z",
     "shell.execute_reply": "2024-05-08T09:36:09.381959Z"
    },
    "papermill": {
     "duration": 4.053983,
     "end_time": "2024-05-08T09:36:09.386239",
     "exception": false,
     "start_time": "2024-05-08T09:36:05.332256",
     "status": "completed"
    },
    "tags": []
   },
   "outputs": [],
   "source": [
    "import polars as pl\n",
    "import numpy as np\n",
    "import pandas as pd\n",
    "import lightgbm as lgb\n",
    "from sklearn.model_selection import train_test_split\n",
    "from sklearn.metrics import roc_auc_score \n",
    "\n",
    "dataPath = \"/kaggle/input/home-credit-credit-risk-model-stability/\""
   ]
  },
  {
   "cell_type": "markdown",
   "id": "c07e57e2",
   "metadata": {
    "papermill": {
     "duration": 0.012915,
     "end_time": "2024-05-08T09:36:09.412629",
     "exception": false,
     "start_time": "2024-05-08T09:36:09.399714",
     "status": "completed"
    },
    "tags": []
   },
   "source": [
    "# Data preprocessing functions"
   ]
  },
  {
   "cell_type": "code",
   "execution_count": 2,
   "id": "676ec625",
   "metadata": {
    "execution": {
     "iopub.execute_input": "2024-05-08T09:36:09.442866Z",
     "iopub.status.busy": "2024-05-08T09:36:09.441559Z",
     "iopub.status.idle": "2024-05-08T09:36:09.450691Z",
     "shell.execute_reply": "2024-05-08T09:36:09.449812Z"
    },
    "papermill": {
     "duration": 0.026111,
     "end_time": "2024-05-08T09:36:09.453090",
     "exception": false,
     "start_time": "2024-05-08T09:36:09.426979",
     "status": "completed"
    },
    "tags": []
   },
   "outputs": [],
   "source": [
    "def set_table_dtypes(df: pl.DataFrame) -> pl.DataFrame:\n",
    "    # implement here all desired dtypes for tables\n",
    "    # the following is just an example\n",
    "    for col in df.columns:\n",
    "        # last letter of column name will help you determine the type\n",
    "        if col[-1] in (\"P\", \"A\"):\n",
    "            df = df.with_columns(pl.col(col).cast(pl.Float64).alias(col))\n",
    "\n",
    "    return df\n",
    "\n",
    "def convert_strings(df: pd.DataFrame) -> pd.DataFrame:\n",
    "    for col in df.columns:  \n",
    "        if df[col].dtype.name in ['object', 'string']:\n",
    "            df[col] = df[col].astype(\"string\").astype('category')\n",
    "            current_categories = df[col].cat.categories\n",
    "            new_categories = current_categories.to_list() + [\"Unknown\"]\n",
    "            new_dtype = pd.CategoricalDtype(categories=new_categories, ordered=True)\n",
    "            df[col] = df[col].astype(new_dtype)\n",
    "    return df"
   ]
  },
  {
   "cell_type": "markdown",
   "id": "9b5382d9",
   "metadata": {
    "papermill": {
     "duration": 0.013067,
     "end_time": "2024-05-08T09:36:09.479555",
     "exception": false,
     "start_time": "2024-05-08T09:36:09.466488",
     "status": "completed"
    },
    "tags": []
   },
   "source": [
    "# 1. Data Loading"
   ]
  },
  {
   "cell_type": "code",
   "execution_count": 3,
   "id": "48cc91fd",
   "metadata": {
    "execution": {
     "iopub.execute_input": "2024-05-08T09:36:09.508602Z",
     "iopub.status.busy": "2024-05-08T09:36:09.507826Z",
     "iopub.status.idle": "2024-05-08T09:36:29.751132Z",
     "shell.execute_reply": "2024-05-08T09:36:29.750102Z"
    },
    "papermill": {
     "duration": 20.26118,
     "end_time": "2024-05-08T09:36:29.754217",
     "exception": false,
     "start_time": "2024-05-08T09:36:09.493037",
     "status": "completed"
    },
    "tags": []
   },
   "outputs": [],
   "source": [
    "train_basetable = pl.read_csv(dataPath + \"csv_files/train/train_base.csv\")\n",
    "train_static = pl.concat(\n",
    "    [\n",
    "        pl.read_csv(dataPath + \"csv_files/train/train_static_0_0.csv\").pipe(set_table_dtypes),\n",
    "        pl.read_csv(dataPath + \"csv_files/train/train_static_0_1.csv\").pipe(set_table_dtypes),\n",
    "    ],\n",
    "    how=\"vertical_relaxed\",\n",
    ")\n",
    "train_static_cb = pl.read_csv(dataPath + \"csv_files/train/train_static_cb_0.csv\").pipe(set_table_dtypes)\n",
    "#Depth 1\n",
    "train_person_1 = pl.read_csv(dataPath + \"csv_files/train/train_person_1.csv\").pipe(set_table_dtypes) \n",
    "train_credit_bureau_b_2 = pl.read_csv(dataPath + \"csv_files/train/train_credit_bureau_b_2.csv\").pipe(set_table_dtypes) "
   ]
  },
  {
   "cell_type": "code",
   "execution_count": 4,
   "id": "94734c46",
   "metadata": {
    "execution": {
     "iopub.execute_input": "2024-05-08T09:36:29.783154Z",
     "iopub.status.busy": "2024-05-08T09:36:29.782280Z",
     "iopub.status.idle": "2024-05-08T09:36:29.874172Z",
     "shell.execute_reply": "2024-05-08T09:36:29.873199Z"
    },
    "papermill": {
     "duration": 0.10934,
     "end_time": "2024-05-08T09:36:29.876967",
     "exception": false,
     "start_time": "2024-05-08T09:36:29.767627",
     "status": "completed"
    },
    "tags": []
   },
   "outputs": [],
   "source": [
    "test_basetable = pl.read_csv(dataPath + \"csv_files/test/test_base.csv\")\n",
    "test_static = pl.concat(\n",
    "    [\n",
    "        pl.read_csv(dataPath + \"csv_files/test/test_static_0_0.csv\").pipe(set_table_dtypes),\n",
    "        pl.read_csv(dataPath + \"csv_files/test/test_static_0_1.csv\").pipe(set_table_dtypes),\n",
    "        pl.read_csv(dataPath + \"csv_files/test/test_static_0_2.csv\").pipe(set_table_dtypes),\n",
    "    ],\n",
    "    how=\"vertical_relaxed\",\n",
    ")\n",
    "test_static_cb = pl.read_csv(dataPath + \"csv_files/test/test_static_cb_0.csv\").pipe(set_table_dtypes)\n",
    "test_person_1 = pl.read_csv(dataPath + \"csv_files/test/test_person_1.csv\").pipe(set_table_dtypes) \n",
    "test_credit_bureau_b_2 = pl.read_csv(dataPath + \"csv_files/test/test_credit_bureau_b_2.csv\").pipe(set_table_dtypes) "
   ]
  },
  {
   "cell_type": "code",
   "execution_count": 5,
   "id": "97b6c448",
   "metadata": {
    "execution": {
     "iopub.execute_input": "2024-05-08T09:36:29.905797Z",
     "iopub.status.busy": "2024-05-08T09:36:29.905369Z",
     "iopub.status.idle": "2024-05-08T09:36:29.913704Z",
     "shell.execute_reply": "2024-05-08T09:36:29.912560Z"
    },
    "papermill": {
     "duration": 0.026074,
     "end_time": "2024-05-08T09:36:29.916416",
     "exception": false,
     "start_time": "2024-05-08T09:36:29.890342",
     "status": "completed"
    },
    "tags": []
   },
   "outputs": [
    {
     "data": {
      "text/plain": [
       "((1526659, 168), (30, 168), (1526659, 5), (1500476, 53))"
      ]
     },
     "execution_count": 5,
     "metadata": {},
     "output_type": "execute_result"
    }
   ],
   "source": [
    "train_static.shape, test_static.shape, train_basetable.shape, train_static_cb.shape"
   ]
  },
  {
   "cell_type": "code",
   "execution_count": 6,
   "id": "fff8cb9b",
   "metadata": {
    "execution": {
     "iopub.execute_input": "2024-05-08T09:36:29.946076Z",
     "iopub.status.busy": "2024-05-08T09:36:29.945222Z",
     "iopub.status.idle": "2024-05-08T09:36:29.954034Z",
     "shell.execute_reply": "2024-05-08T09:36:29.952561Z"
    },
    "papermill": {
     "duration": 0.026153,
     "end_time": "2024-05-08T09:36:29.956192",
     "exception": false,
     "start_time": "2024-05-08T09:36:29.930039",
     "status": "completed"
    },
    "tags": []
   },
   "outputs": [
    {
     "name": "stdout",
     "output_type": "stream",
     "text": [
      "['actualdpdtolerance_344P', 'amtinstpaidbefduel24m_4187115A', 'annuity_780A', 'annuitynextmonth_57A', 'avgdbddpdlast24m_3658932P', 'avgdbddpdlast3m_4187120P', 'avgdbdtollast24m_4525197P', 'avgdpdtolclosure24_3658938P', 'avginstallast24m_3658937A', 'avglnamtstart24m_4525187A', 'avgmaxdpdlast9m_3716943P', 'avgoutstandbalancel6m_4187114A', 'avgpmtlast12m_4525200A', 'credamount_770A', 'currdebt_22A', 'currdebtcredtyperange_828A', 'disbursedcredamount_1113A', 'downpmt_116A', 'inittransactionamount_650A', 'lastapprcredamount_781A', 'lastotherinc_902A', 'lastotherlnsexpense_631A', 'lastrejectcredamount_222A', 'maininc_215A', 'maxannuity_159A', 'maxannuity_4075009A', 'maxdbddpdlast1m_3658939P', 'maxdbddpdtollast12m_3658940P', 'maxdbddpdtollast6m_4187119P', 'maxdebt4_972A', 'maxdpdfrom6mto36m_3546853P', 'maxdpdinstlnum_3546846P', 'maxdpdlast12m_727P', 'maxdpdlast24m_143P', 'maxdpdlast3m_392P', 'maxdpdlast6m_474P', 'maxdpdlast9m_1059P', 'maxdpdtolerance_374P', 'maxinstallast24m_3658928A', 'maxlnamtstart6m_4525199A', 'maxoutstandbalancel12m_4187113A', 'maxpmtlast3m_4525190A', 'mindbddpdlast24m_3658935P', 'mindbdtollast24m_4525191P', 'posfpd10lastmonth_333P', 'posfpd30lastmonth_3976960P', 'posfstqpd30lastmonth_3976962P', 'price_1097A', 'sumoutstandtotal_3546847A', 'sumoutstandtotalest_4493215A', 'totaldebt_9A', 'totalsettled_863A', 'totinstallast1m_4525188A']\n",
      "\n",
      "\n",
      "['pmtaverage_3A', 'pmtaverage_4527227A', 'pmtaverage_4955615A', 'pmtssum_45A']\n"
     ]
    }
   ],
   "source": [
    "# We will process in this examples only A-type and M-type columns, so we need to select them.\n",
    "selected_static_cols = []\n",
    "for col in train_static.columns:\n",
    "    if col[-1] in (\"A\", \"P\"):\n",
    "        selected_static_cols.append(col)\n",
    "print(selected_static_cols)\n",
    "print('\\n')\n",
    "selected_static_cb_cols = []\n",
    "for col in train_static_cb.columns:\n",
    "    if col[-1] in (\"A\", \"P\"):\n",
    "        selected_static_cb_cols.append(col)\n",
    "print(selected_static_cb_cols)"
   ]
  },
  {
   "cell_type": "markdown",
   "id": "5652d7d2",
   "metadata": {
    "papermill": {
     "duration": 0.013089,
     "end_time": "2024-05-08T09:36:29.982884",
     "exception": false,
     "start_time": "2024-05-08T09:36:29.969795",
     "status": "completed"
    },
    "tags": []
   },
   "source": [
    "# Depth-1 data"
   ]
  },
  {
   "cell_type": "code",
   "execution_count": 7,
   "id": "62e43372",
   "metadata": {
    "execution": {
     "iopub.execute_input": "2024-05-08T09:36:30.012581Z",
     "iopub.status.busy": "2024-05-08T09:36:30.011567Z",
     "iopub.status.idle": "2024-05-08T09:36:30.018511Z",
     "shell.execute_reply": "2024-05-08T09:36:30.017615Z"
    },
    "papermill": {
     "duration": 0.024173,
     "end_time": "2024-05-08T09:36:30.020603",
     "exception": false,
     "start_time": "2024-05-08T09:36:29.996430",
     "status": "completed"
    },
    "tags": []
   },
   "outputs": [
    {
     "data": {
      "text/plain": [
       "['case_id',\n",
       " 'birth_259D',\n",
       " 'birthdate_87D',\n",
       " 'childnum_185L',\n",
       " 'contaddr_district_15M',\n",
       " 'contaddr_matchlist_1032L',\n",
       " 'contaddr_smempladdr_334L',\n",
       " 'contaddr_zipcode_807M',\n",
       " 'education_927M',\n",
       " 'empl_employedfrom_271D',\n",
       " 'empl_employedtotal_800L',\n",
       " 'empl_industry_691L',\n",
       " 'empladdr_district_926M',\n",
       " 'empladdr_zipcode_114M',\n",
       " 'familystate_447L',\n",
       " 'gender_992L',\n",
       " 'housetype_905L',\n",
       " 'housingtype_772L',\n",
       " 'incometype_1044T',\n",
       " 'isreference_387L',\n",
       " 'language1_981M',\n",
       " 'mainoccupationinc_384A',\n",
       " 'maritalst_703L',\n",
       " 'num_group1',\n",
       " 'personindex_1023L',\n",
       " 'persontype_1072L',\n",
       " 'persontype_792L',\n",
       " 'registaddr_district_1083M',\n",
       " 'registaddr_zipcode_184M',\n",
       " 'relationshiptoclient_415T',\n",
       " 'relationshiptoclient_642T',\n",
       " 'remitter_829L',\n",
       " 'role_1084L',\n",
       " 'role_993L',\n",
       " 'safeguarantyflag_411L',\n",
       " 'sex_738L',\n",
       " 'type_25L']"
      ]
     },
     "execution_count": 7,
     "metadata": {},
     "output_type": "execute_result"
    }
   ],
   "source": [
    "#Look at the depth 1 table\n",
    "train_person_1.columns"
   ]
  },
  {
   "cell_type": "code",
   "execution_count": 8,
   "id": "0cc83263",
   "metadata": {
    "execution": {
     "iopub.execute_input": "2024-05-08T09:36:30.050698Z",
     "iopub.status.busy": "2024-05-08T09:36:30.049930Z",
     "iopub.status.idle": "2024-05-08T09:36:31.249910Z",
     "shell.execute_reply": "2024-05-08T09:36:31.248754Z"
    },
    "papermill": {
     "duration": 1.217991,
     "end_time": "2024-05-08T09:36:31.252405",
     "exception": false,
     "start_time": "2024-05-08T09:36:30.034414",
     "status": "completed"
    },
    "tags": []
   },
   "outputs": [
    {
     "data": {
      "text/html": [
       "<div><style>\n",
       ".dataframe > thead > tr,\n",
       ".dataframe > tbody > tr {\n",
       "  text-align: right;\n",
       "  white-space: pre-wrap;\n",
       "}\n",
       "</style>\n",
       "<small>shape: (1_526_659, 3)</small><table border=\"1\" class=\"dataframe\"><thead><tr><th>case_id</th><th>mainoccupationinc_384A_max</th><th>mainoccupationinc_384A_any_selfemployed</th></tr><tr><td>i64</td><td>f64</td><td>bool</td></tr></thead><tbody><tr><td>116195</td><td>8994.4</td><td>false</td></tr><tr><td>27990</td><td>30000.0</td><td>false</td></tr><tr><td>649897</td><td>30000.0</td><td>false</td></tr><tr><td>175964</td><td>18000.0</td><td>false</td></tr><tr><td>702917</td><td>48000.0</td><td>false</td></tr><tr><td>&hellip;</td><td>&hellip;</td><td>&hellip;</td></tr><tr><td>1479422</td><td>38000.0</td><td>false</td></tr><tr><td>2660494</td><td>160000.0</td><td>false</td></tr><tr><td>1262414</td><td>40000.0</td><td>false</td></tr><tr><td>1697979</td><td>60000.0</td><td>false</td></tr><tr><td>886397</td><td>50000.0</td><td>false</td></tr></tbody></table></div>"
      ],
      "text/plain": [
       "shape: (1_526_659, 3)\n",
       "┌─────────┬────────────────────────────┬───────────────────────────────────┐\n",
       "│ case_id ┆ mainoccupationinc_384A_max ┆ mainoccupationinc_384A_any_selfe… │\n",
       "│ ---     ┆ ---                        ┆ ---                               │\n",
       "│ i64     ┆ f64                        ┆ bool                              │\n",
       "╞═════════╪════════════════════════════╪═══════════════════════════════════╡\n",
       "│ 116195  ┆ 8994.4                     ┆ false                             │\n",
       "│ 27990   ┆ 30000.0                    ┆ false                             │\n",
       "│ 649897  ┆ 30000.0                    ┆ false                             │\n",
       "│ 175964  ┆ 18000.0                    ┆ false                             │\n",
       "│ 702917  ┆ 48000.0                    ┆ false                             │\n",
       "│ …       ┆ …                          ┆ …                                 │\n",
       "│ 1479422 ┆ 38000.0                    ┆ false                             │\n",
       "│ 2660494 ┆ 160000.0                   ┆ false                             │\n",
       "│ 1262414 ┆ 40000.0                    ┆ false                             │\n",
       "│ 1697979 ┆ 60000.0                    ┆ false                             │\n",
       "│ 886397  ┆ 50000.0                    ┆ false                             │\n",
       "└─────────┴────────────────────────────┴───────────────────────────────────┘"
      ]
     },
     "execution_count": 8,
     "metadata": {},
     "output_type": "execute_result"
    }
   ],
   "source": [
    "train_person_1_feats_1 = train_person_1.group_by(\"case_id\").agg(\n",
    "    pl.col(\"mainoccupationinc_384A\").max().alias(\"mainoccupationinc_384A_max\"),\n",
    "    (pl.col(\"incometype_1044T\") == \"SELFEMPLOYED\").max().alias(\"mainoccupationinc_384A_any_selfemployed\")\n",
    ")\n",
    "\n",
    "train_person_1_feats_1 "
   ]
  },
  {
   "cell_type": "code",
   "execution_count": 9,
   "id": "3309334f",
   "metadata": {
    "execution": {
     "iopub.execute_input": "2024-05-08T09:36:31.282379Z",
     "iopub.status.busy": "2024-05-08T09:36:31.281928Z",
     "iopub.status.idle": "2024-05-08T09:36:31.318705Z",
     "shell.execute_reply": "2024-05-08T09:36:31.317488Z"
    },
    "papermill": {
     "duration": 0.054503,
     "end_time": "2024-05-08T09:36:31.321086",
     "exception": false,
     "start_time": "2024-05-08T09:36:31.266583",
     "status": "completed"
    },
    "tags": []
   },
   "outputs": [
    {
     "data": {
      "text/html": [
       "<div><style>\n",
       ".dataframe > thead > tr,\n",
       ".dataframe > tbody > tr {\n",
       "  text-align: right;\n",
       "  white-space: pre-wrap;\n",
       "}\n",
       "</style>\n",
       "<small>shape: (5, 2)</small><table border=\"1\" class=\"dataframe\"><thead><tr><th>case_id</th><th>person_housetype</th></tr><tr><td>i64</td><td>str</td></tr></thead><tbody><tr><td>0</td><td>null</td></tr><tr><td>1</td><td>null</td></tr><tr><td>2</td><td>null</td></tr><tr><td>3</td><td>null</td></tr><tr><td>4</td><td>null</td></tr></tbody></table></div>"
      ],
      "text/plain": [
       "shape: (5, 2)\n",
       "┌─────────┬──────────────────┐\n",
       "│ case_id ┆ person_housetype │\n",
       "│ ---     ┆ ---              │\n",
       "│ i64     ┆ str              │\n",
       "╞═════════╪══════════════════╡\n",
       "│ 0       ┆ null             │\n",
       "│ 1       ┆ null             │\n",
       "│ 2       ┆ null             │\n",
       "│ 3       ┆ null             │\n",
       "│ 4       ┆ null             │\n",
       "└─────────┴──────────────────┘"
      ]
     },
     "execution_count": 9,
     "metadata": {},
     "output_type": "execute_result"
    }
   ],
   "source": [
    "# Here num_group1=0 has special meaning, it is the person who applied for the loan.\n",
    "train_person_1_feats_2 = train_person_1.select([\"case_id\", \"num_group1\", \"housetype_905L\"]).filter(\n",
    "    pl.col(\"num_group1\") == 0\n",
    ").drop(\"num_group1\").rename({\"housetype_905L\": \"person_housetype\"})\n",
    "\n",
    "train_person_1_feats_2.head()"
   ]
  },
  {
   "cell_type": "code",
   "execution_count": 10,
   "id": "273f3dc3",
   "metadata": {
    "execution": {
     "iopub.execute_input": "2024-05-08T09:36:31.352403Z",
     "iopub.status.busy": "2024-05-08T09:36:31.351626Z",
     "iopub.status.idle": "2024-05-08T09:36:31.420176Z",
     "shell.execute_reply": "2024-05-08T09:36:31.418955Z"
    },
    "papermill": {
     "duration": 0.087104,
     "end_time": "2024-05-08T09:36:31.422677",
     "exception": false,
     "start_time": "2024-05-08T09:36:31.335573",
     "status": "completed"
    },
    "tags": []
   },
   "outputs": [
    {
     "data": {
      "text/html": [
       "<div><style>\n",
       ".dataframe > thead > tr,\n",
       ".dataframe > tbody > tr {\n",
       "  text-align: right;\n",
       "  white-space: pre-wrap;\n",
       "}\n",
       "</style>\n",
       "<small>shape: (5, 3)</small><table border=\"1\" class=\"dataframe\"><thead><tr><th>case_id</th><th>pmts_pmtsoverdue_635A_max</th><th>pmts_dpdvalue_108P_over31</th></tr><tr><td>i64</td><td>f64</td><td>bool</td></tr></thead><tbody><tr><td>218515</td><td>9.400001</td><td>true</td></tr><tr><td>1899122</td><td>1.4</td><td>false</td></tr><tr><td>185881</td><td>11.2</td><td>true</td></tr><tr><td>1327403</td><td>0.0</td><td>false</td></tr><tr><td>982880</td><td>0.0</td><td>false</td></tr></tbody></table></div>"
      ],
      "text/plain": [
       "shape: (5, 3)\n",
       "┌─────────┬───────────────────────────┬───────────────────────────┐\n",
       "│ case_id ┆ pmts_pmtsoverdue_635A_max ┆ pmts_dpdvalue_108P_over31 │\n",
       "│ ---     ┆ ---                       ┆ ---                       │\n",
       "│ i64     ┆ f64                       ┆ bool                      │\n",
       "╞═════════╪═══════════════════════════╪═══════════════════════════╡\n",
       "│ 218515  ┆ 9.400001                  ┆ true                      │\n",
       "│ 1899122 ┆ 1.4                       ┆ false                     │\n",
       "│ 185881  ┆ 11.2                      ┆ true                      │\n",
       "│ 1327403 ┆ 0.0                       ┆ false                     │\n",
       "│ 982880  ┆ 0.0                       ┆ false                     │\n",
       "└─────────┴───────────────────────────┴───────────────────────────┘"
      ]
     },
     "execution_count": 10,
     "metadata": {},
     "output_type": "execute_result"
    }
   ],
   "source": [
    "# Here we have num_goup1 and num_group2, so we need to aggregate again.\n",
    "train_credit_bureau_b_2_feats = train_credit_bureau_b_2.group_by(\"case_id\").agg(\n",
    "    pl.col(\"pmts_pmtsoverdue_635A\").max().alias(\"pmts_pmtsoverdue_635A_max\"),\n",
    "    (pl.col(\"pmts_dpdvalue_108P\") > 31).max().alias(\"pmts_dpdvalue_108P_over31\")\n",
    ")\n",
    "\n",
    "train_credit_bureau_b_2_feats.head()"
   ]
  },
  {
   "cell_type": "markdown",
   "id": "dbf46b4e",
   "metadata": {
    "papermill": {
     "duration": 0.014187,
     "end_time": "2024-05-08T09:36:31.452068",
     "exception": false,
     "start_time": "2024-05-08T09:36:31.437881",
     "status": "completed"
    },
    "tags": []
   },
   "source": [
    "# Depth-1 data for test set"
   ]
  },
  {
   "cell_type": "code",
   "execution_count": 11,
   "id": "9d714cf1",
   "metadata": {
    "execution": {
     "iopub.execute_input": "2024-05-08T09:36:31.482813Z",
     "iopub.status.busy": "2024-05-08T09:36:31.482047Z",
     "iopub.status.idle": "2024-05-08T09:36:31.492846Z",
     "shell.execute_reply": "2024-05-08T09:36:31.491781Z"
    },
    "papermill": {
     "duration": 0.028905,
     "end_time": "2024-05-08T09:36:31.495349",
     "exception": false,
     "start_time": "2024-05-08T09:36:31.466444",
     "status": "completed"
    },
    "tags": []
   },
   "outputs": [],
   "source": [
    "test_person_1_feats_1 = test_person_1.group_by(\"case_id\").agg(\n",
    "    pl.col(\"mainoccupationinc_384A\").max().alias(\"mainoccupationinc_384A_max\"),\n",
    "    (pl.col(\"incometype_1044T\") == \"SELFEMPLOYED\").max().alias(\"mainoccupationinc_384A_any_selfemployed\")\n",
    ")\n",
    "\n",
    "test_person_1_feats_2 = test_person_1.select([\"case_id\", \"num_group1\", \"housetype_905L\"]).filter(\n",
    "    pl.col(\"num_group1\") == 0\n",
    ").drop(\"num_group1\").rename({\"housetype_905L\": \"person_housetype\"})\n",
    "\n",
    "test_credit_bureau_b_2_feats = test_credit_bureau_b_2.group_by(\"case_id\").agg(\n",
    "    pl.col(\"pmts_pmtsoverdue_635A\").max().alias(\"pmts_pmtsoverdue_635A_max\"),\n",
    "    (pl.col(\"pmts_dpdvalue_108P\") > 31).max().alias(\"pmts_dpdvalue_108P_over31\"))"
   ]
  },
  {
   "cell_type": "markdown",
   "id": "efe1dae0",
   "metadata": {
    "papermill": {
     "duration": 0.014226,
     "end_time": "2024-05-08T09:36:31.524018",
     "exception": false,
     "start_time": "2024-05-08T09:36:31.509792",
     "status": "completed"
    },
    "tags": []
   },
   "source": [
    "# Join all selected tables"
   ]
  },
  {
   "cell_type": "code",
   "execution_count": 12,
   "id": "abeefa90",
   "metadata": {
    "execution": {
     "iopub.execute_input": "2024-05-08T09:36:31.554337Z",
     "iopub.status.busy": "2024-05-08T09:36:31.553936Z",
     "iopub.status.idle": "2024-05-08T09:36:32.802457Z",
     "shell.execute_reply": "2024-05-08T09:36:32.801432Z"
    },
    "papermill": {
     "duration": 1.266884,
     "end_time": "2024-05-08T09:36:32.805187",
     "exception": false,
     "start_time": "2024-05-08T09:36:31.538303",
     "status": "completed"
    },
    "tags": []
   },
   "outputs": [],
   "source": [
    "# Join all tables together.\n",
    "train_data = train_basetable.join(\n",
    "    train_static.select([\"case_id\"]+selected_static_cols), how=\"left\", on=\"case_id\"\n",
    ").join(\n",
    "    train_static_cb.select([\"case_id\"]+selected_static_cb_cols), how=\"left\", on=\"case_id\"\n",
    ").join(\n",
    "    train_person_1_feats_1, how=\"left\", on=\"case_id\"\n",
    ").join(\n",
    "    train_person_1_feats_2, how=\"left\", on=\"case_id\"\n",
    ").join(\n",
    "    train_credit_bureau_b_2_feats, how=\"left\", on=\"case_id\"\n",
    ")"
   ]
  },
  {
   "cell_type": "code",
   "execution_count": 13,
   "id": "f9c7db05",
   "metadata": {
    "execution": {
     "iopub.execute_input": "2024-05-08T09:36:32.835642Z",
     "iopub.status.busy": "2024-05-08T09:36:32.835220Z",
     "iopub.status.idle": "2024-05-08T09:36:32.847072Z",
     "shell.execute_reply": "2024-05-08T09:36:32.845758Z"
    },
    "papermill": {
     "duration": 0.030661,
     "end_time": "2024-05-08T09:36:32.850205",
     "exception": false,
     "start_time": "2024-05-08T09:36:32.819544",
     "status": "completed"
    },
    "tags": []
   },
   "outputs": [],
   "source": [
    "test_data = test_basetable.join(\n",
    "    test_static.select([\"case_id\"]+selected_static_cols), how=\"left\", on=\"case_id\"\n",
    ").join(\n",
    "    test_static_cb.select([\"case_id\"]+selected_static_cb_cols), how=\"left\", on=\"case_id\"\n",
    ").join(\n",
    "    test_person_1_feats_1, how=\"left\", on=\"case_id\"\n",
    ").join(\n",
    "    test_person_1_feats_2, how=\"left\", on=\"case_id\"\n",
    ").join(\n",
    "    test_credit_bureau_b_2_feats, how=\"left\", on=\"case_id\"\n",
    ")"
   ]
  },
  {
   "cell_type": "markdown",
   "id": "ac8a4e2f",
   "metadata": {
    "papermill": {
     "duration": 0.013995,
     "end_time": "2024-05-08T09:36:32.878697",
     "exception": false,
     "start_time": "2024-05-08T09:36:32.864702",
     "status": "completed"
    },
    "tags": []
   },
   "source": [
    "# Categorical data"
   ]
  },
  {
   "cell_type": "code",
   "execution_count": 14,
   "id": "2d7ef54e",
   "metadata": {
    "execution": {
     "iopub.execute_input": "2024-05-08T09:36:32.909039Z",
     "iopub.status.busy": "2024-05-08T09:36:32.908642Z",
     "iopub.status.idle": "2024-05-08T09:36:32.920665Z",
     "shell.execute_reply": "2024-05-08T09:36:32.919466Z"
    },
    "papermill": {
     "duration": 0.030528,
     "end_time": "2024-05-08T09:36:32.923608",
     "exception": false,
     "start_time": "2024-05-08T09:36:32.893080",
     "status": "completed"
    },
    "tags": []
   },
   "outputs": [],
   "source": [
    "from sklearn.compose import ColumnTransformer\n",
    "from sklearn.preprocessing import OneHotEncoder"
   ]
  },
  {
   "cell_type": "code",
   "execution_count": 15,
   "id": "e9f5a4ef",
   "metadata": {
    "execution": {
     "iopub.execute_input": "2024-05-08T09:36:32.954262Z",
     "iopub.status.busy": "2024-05-08T09:36:32.953876Z",
     "iopub.status.idle": "2024-05-08T09:36:33.544328Z",
     "shell.execute_reply": "2024-05-08T09:36:33.543382Z"
    },
    "papermill": {
     "duration": 0.608617,
     "end_time": "2024-05-08T09:36:33.546924",
     "exception": false,
     "start_time": "2024-05-08T09:36:32.938307",
     "status": "completed"
    },
    "tags": []
   },
   "outputs": [],
   "source": [
    "#convert to pandas\n",
    "train_data=train_data.to_pandas()\n",
    "test_data=test_data.to_pandas()"
   ]
  },
  {
   "cell_type": "code",
   "execution_count": 16,
   "id": "a061ecbe",
   "metadata": {
    "execution": {
     "iopub.execute_input": "2024-05-08T09:36:33.578280Z",
     "iopub.status.busy": "2024-05-08T09:36:33.577304Z",
     "iopub.status.idle": "2024-05-08T09:36:34.836644Z",
     "shell.execute_reply": "2024-05-08T09:36:34.835401Z"
    },
    "papermill": {
     "duration": 1.27793,
     "end_time": "2024-05-08T09:36:34.839350",
     "exception": false,
     "start_time": "2024-05-08T09:36:33.561420",
     "status": "completed"
    },
    "tags": []
   },
   "outputs": [],
   "source": [
    "train_data.drop(columns = [\"case_id\", \"MONTH\", \"WEEK_NUM\", \"date_decision\"], inplace = True)\n",
    "test_data.drop(columns = [\"case_id\", \"MONTH\", \"WEEK_NUM\", \"date_decision\"], inplace = True)\n",
    "train_data = convert_strings(train_data)\n",
    "test_data = convert_strings(test_data)"
   ]
  },
  {
   "cell_type": "code",
   "execution_count": 17,
   "id": "06e20edb",
   "metadata": {
    "execution": {
     "iopub.execute_input": "2024-05-08T09:36:34.874018Z",
     "iopub.status.busy": "2024-05-08T09:36:34.873555Z",
     "iopub.status.idle": "2024-05-08T09:36:34.884400Z",
     "shell.execute_reply": "2024-05-08T09:36:34.883047Z"
    },
    "papermill": {
     "duration": 0.03107,
     "end_time": "2024-05-08T09:36:34.886880",
     "exception": false,
     "start_time": "2024-05-08T09:36:34.855810",
     "status": "completed"
    },
    "tags": []
   },
   "outputs": [
    {
     "data": {
      "text/plain": [
       "target                                        int64\n",
       "actualdpdtolerance_344P                     float64\n",
       "amtinstpaidbefduel24m_4187115A              float64\n",
       "annuity_780A                                float64\n",
       "annuitynextmonth_57A                        float64\n",
       "                                             ...   \n",
       "mainoccupationinc_384A_max                  float64\n",
       "mainoccupationinc_384A_any_selfemployed        bool\n",
       "person_housetype                           category\n",
       "pmts_pmtsoverdue_635A_max                   float64\n",
       "pmts_dpdvalue_108P_over31                  category\n",
       "Length: 63, dtype: object"
      ]
     },
     "execution_count": 17,
     "metadata": {},
     "output_type": "execute_result"
    }
   ],
   "source": [
    "train_data.dtypes"
   ]
  },
  {
   "cell_type": "code",
   "execution_count": 18,
   "id": "ffb6c447",
   "metadata": {
    "execution": {
     "iopub.execute_input": "2024-05-08T09:36:34.919301Z",
     "iopub.status.busy": "2024-05-08T09:36:34.918901Z",
     "iopub.status.idle": "2024-05-08T09:36:34.929545Z",
     "shell.execute_reply": "2024-05-08T09:36:34.928303Z"
    },
    "papermill": {
     "duration": 0.030291,
     "end_time": "2024-05-08T09:36:34.932186",
     "exception": false,
     "start_time": "2024-05-08T09:36:34.901895",
     "status": "completed"
    },
    "tags": []
   },
   "outputs": [
    {
     "data": {
      "text/plain": [
       "actualdpdtolerance_344P                     float64\n",
       "amtinstpaidbefduel24m_4187115A              float64\n",
       "annuity_780A                                float64\n",
       "annuitynextmonth_57A                        float64\n",
       "avgdbddpdlast24m_3658932P                   float64\n",
       "                                             ...   \n",
       "mainoccupationinc_384A_max                  float64\n",
       "mainoccupationinc_384A_any_selfemployed    category\n",
       "person_housetype                           category\n",
       "pmts_pmtsoverdue_635A_max                   float64\n",
       "pmts_dpdvalue_108P_over31                  category\n",
       "Length: 62, dtype: object"
      ]
     },
     "execution_count": 18,
     "metadata": {},
     "output_type": "execute_result"
    }
   ],
   "source": [
    "test_data.dtypes"
   ]
  },
  {
   "cell_type": "code",
   "execution_count": 19,
   "id": "0cc36286",
   "metadata": {
    "execution": {
     "iopub.execute_input": "2024-05-08T09:36:34.966122Z",
     "iopub.status.busy": "2024-05-08T09:36:34.965727Z",
     "iopub.status.idle": "2024-05-08T09:36:34.971786Z",
     "shell.execute_reply": "2024-05-08T09:36:34.970532Z"
    },
    "papermill": {
     "duration": 0.026128,
     "end_time": "2024-05-08T09:36:34.974007",
     "exception": false,
     "start_time": "2024-05-08T09:36:34.947879",
     "status": "completed"
    },
    "tags": []
   },
   "outputs": [],
   "source": [
    "# one-hot encode the categorical features\n",
    "cat_attribs = ['mainoccupationinc_384A_any_selfemployed','person_housetype','pmts_dpdvalue_108P_over31']\n",
    "full_pipeline = ColumnTransformer([('cat', OneHotEncoder(handle_unknown='ignore'), cat_attribs)], remainder='passthrough')"
   ]
  },
  {
   "cell_type": "code",
   "execution_count": 20,
   "id": "ecd066f0",
   "metadata": {
    "execution": {
     "iopub.execute_input": "2024-05-08T09:36:35.007494Z",
     "iopub.status.busy": "2024-05-08T09:36:35.006422Z",
     "iopub.status.idle": "2024-05-08T09:36:35.301192Z",
     "shell.execute_reply": "2024-05-08T09:36:35.300021Z"
    },
    "papermill": {
     "duration": 0.315021,
     "end_time": "2024-05-08T09:36:35.303977",
     "exception": false,
     "start_time": "2024-05-08T09:36:34.988956",
     "status": "completed"
    },
    "tags": []
   },
   "outputs": [],
   "source": [
    "X = train_data.drop(['target'], axis = 1)\n",
    "y = train_data['target']"
   ]
  },
  {
   "cell_type": "code",
   "execution_count": 21,
   "id": "2076417f",
   "metadata": {
    "execution": {
     "iopub.execute_input": "2024-05-08T09:36:35.336379Z",
     "iopub.status.busy": "2024-05-08T09:36:35.335816Z",
     "iopub.status.idle": "2024-05-08T09:36:40.392025Z",
     "shell.execute_reply": "2024-05-08T09:36:40.390662Z"
    },
    "papermill": {
     "duration": 5.076048,
     "end_time": "2024-05-08T09:36:40.395057",
     "exception": false,
     "start_time": "2024-05-08T09:36:35.319009",
     "status": "completed"
    },
    "tags": []
   },
   "outputs": [],
   "source": [
    "encoder = full_pipeline.fit(X)\n",
    "X = encoder.transform(X)\n",
    "test_data= encoder.transform(test_data)"
   ]
  },
  {
   "cell_type": "code",
   "execution_count": 22,
   "id": "329cee8e",
   "metadata": {
    "execution": {
     "iopub.execute_input": "2024-05-08T09:36:40.428103Z",
     "iopub.status.busy": "2024-05-08T09:36:40.427722Z",
     "iopub.status.idle": "2024-05-08T09:36:40.434853Z",
     "shell.execute_reply": "2024-05-08T09:36:40.433820Z"
    },
    "papermill": {
     "duration": 0.026418,
     "end_time": "2024-05-08T09:36:40.437124",
     "exception": false,
     "start_time": "2024-05-08T09:36:40.410706",
     "status": "completed"
    },
    "tags": []
   },
   "outputs": [
    {
     "data": {
      "text/plain": [
       "((1526659, 71), (10, 71))"
      ]
     },
     "execution_count": 22,
     "metadata": {},
     "output_type": "execute_result"
    }
   ],
   "source": [
    "#There are NaN values, which can be handled by XGBoost, CatBoost and LGB\n",
    "X.shape, test_data.shape"
   ]
  },
  {
   "cell_type": "code",
   "execution_count": 23,
   "id": "d8480641",
   "metadata": {
    "execution": {
     "iopub.execute_input": "2024-05-08T09:36:40.469153Z",
     "iopub.status.busy": "2024-05-08T09:36:40.468781Z",
     "iopub.status.idle": "2024-05-08T09:36:40.965967Z",
     "shell.execute_reply": "2024-05-08T09:36:40.964855Z"
    },
    "papermill": {
     "duration": 0.516338,
     "end_time": "2024-05-08T09:36:40.968521",
     "exception": false,
     "start_time": "2024-05-08T09:36:40.452183",
     "status": "completed"
    },
    "tags": []
   },
   "outputs": [
    {
     "data": {
      "text/plain": [
       "((1373993, 71), (152666, 71), (1373993,), (152666,))"
      ]
     },
     "execution_count": 23,
     "metadata": {},
     "output_type": "execute_result"
    }
   ],
   "source": [
    "from sklearn.model_selection import train_test_split\n",
    "X_train, X_test, y_train, y_test = train_test_split(X, y, test_size=0.1, random_state=42)\n",
    "X_train.shape, X_test.shape, y_train.shape, y_test.shape"
   ]
  },
  {
   "cell_type": "markdown",
   "id": "9c566fe3",
   "metadata": {
    "papermill": {
     "duration": 0.014677,
     "end_time": "2024-05-08T09:36:40.998208",
     "exception": false,
     "start_time": "2024-05-08T09:36:40.983531",
     "status": "completed"
    },
    "tags": []
   },
   "source": [
    "# 3. XGBoost modelling"
   ]
  },
  {
   "cell_type": "code",
   "execution_count": 24,
   "id": "d9ef8eea",
   "metadata": {
    "execution": {
     "iopub.execute_input": "2024-05-08T09:36:41.088384Z",
     "iopub.status.busy": "2024-05-08T09:36:41.088000Z",
     "iopub.status.idle": "2024-05-08T09:36:41.292863Z",
     "shell.execute_reply": "2024-05-08T09:36:41.291540Z"
    },
    "papermill": {
     "duration": 0.224354,
     "end_time": "2024-05-08T09:36:41.295632",
     "exception": false,
     "start_time": "2024-05-08T09:36:41.071278",
     "status": "completed"
    },
    "tags": []
   },
   "outputs": [],
   "source": [
    "from sklearn.metrics import  roc_auc_score\n",
    "from xgboost import XGBClassifier"
   ]
  },
  {
   "cell_type": "code",
   "execution_count": 25,
   "id": "b27490d4",
   "metadata": {
    "execution": {
     "iopub.execute_input": "2024-05-08T09:36:41.328087Z",
     "iopub.status.busy": "2024-05-08T09:36:41.327648Z",
     "iopub.status.idle": "2024-05-08T09:36:41.334091Z",
     "shell.execute_reply": "2024-05-08T09:36:41.332772Z"
    },
    "papermill": {
     "duration": 0.025601,
     "end_time": "2024-05-08T09:36:41.336619",
     "exception": false,
     "start_time": "2024-05-08T09:36:41.311018",
     "status": "completed"
    },
    "tags": []
   },
   "outputs": [],
   "source": [
    "params2 = {\n",
    "    \"booster\": \"gbtree\",\n",
    "    \"objective\": \"binary:logistic\",\n",
    "    \"eval_metric\": \"auc\",\n",
    "    \"max_depth\": 10,\n",
    "    \"learning_rate\": 0.05,\n",
    "    \"n_estimators\": 1000,\n",
    "    \"colsample_bytree\": 0.8,\n",
    "    \"colsample_bynode\": 0.8,\n",
    "    \"alpha\": 0.1,  \n",
    "    \"lambda\": 10,  \n",
    "    #\"tree_method\": 'gpu_hist' if device == 'gpu' else 'auto',\n",
    "    \"random_state\": 42,\n",
    "    \"verbosity\": 0,\n",
    "    \"enable_categorical\":True,\n",
    "}"
   ]
  },
  {
   "cell_type": "code",
   "execution_count": 26,
   "id": "889f7066",
   "metadata": {
    "execution": {
     "iopub.execute_input": "2024-05-08T09:36:41.370344Z",
     "iopub.status.busy": "2024-05-08T09:36:41.369528Z",
     "iopub.status.idle": "2024-05-08T09:37:05.031738Z",
     "shell.execute_reply": "2024-05-08T09:37:05.030569Z"
    },
    "papermill": {
     "duration": 23.682349,
     "end_time": "2024-05-08T09:37:05.034403",
     "exception": false,
     "start_time": "2024-05-08T09:36:41.352054",
     "status": "completed"
    },
    "tags": []
   },
   "outputs": [
    {
     "name": "stdout",
     "output_type": "stream",
     "text": [
      "ROC = 0.775\n",
      "CPU times: user 1min 24s, sys: 774 ms, total: 1min 25s\n",
      "Wall time: 23.7 s\n"
     ]
    }
   ],
   "source": [
    "%%time\n",
    "#xgb_classifier = XGBClassifier(**params2)\n",
    "xgb_classifier = XGBClassifier()\n",
    "xgb_classifier.fit(X_train, y_train)\n",
    "\n",
    "y_pred2 = xgb_classifier.predict_proba(X_test)[:,1]\n",
    "auc_score_xgb = roc_auc_score(y_test, y_pred2)\n",
    "print(f'ROC = {auc_score_xgb.round(3)}')"
   ]
  },
  {
   "cell_type": "code",
   "execution_count": 27,
   "id": "d678741b",
   "metadata": {
    "execution": {
     "iopub.execute_input": "2024-05-08T09:37:05.067424Z",
     "iopub.status.busy": "2024-05-08T09:37:05.067003Z",
     "iopub.status.idle": "2024-05-08T09:37:05.094482Z",
     "shell.execute_reply": "2024-05-08T09:37:05.092948Z"
    },
    "papermill": {
     "duration": 0.047299,
     "end_time": "2024-05-08T09:37:05.097190",
     "exception": false,
     "start_time": "2024-05-08T09:37:05.049891",
     "status": "completed"
    },
    "tags": []
   },
   "outputs": [],
   "source": [
    "#https://xgboost.readthedocs.io/en/stable/tutorials/saving_model.html\n",
    "xgb_classifier.save_model('/kaggle/working/xgb_no_params.json')\n",
    "\n",
    "#Loading\n",
    "#xgb_model = xgb.Booster()\n",
    "#xgb_model.load_model(path_to_file)"
   ]
  },
  {
   "cell_type": "markdown",
   "id": "ecb04602",
   "metadata": {
    "papermill": {
     "duration": 0.015473,
     "end_time": "2024-05-08T09:37:05.128134",
     "exception": false,
     "start_time": "2024-05-08T09:37:05.112661",
     "status": "completed"
    },
    "tags": []
   },
   "source": [
    "# 4. CatBoostClassifier"
   ]
  },
  {
   "cell_type": "code",
   "execution_count": 28,
   "id": "1802803b",
   "metadata": {
    "execution": {
     "iopub.execute_input": "2024-05-08T09:37:05.161105Z",
     "iopub.status.busy": "2024-05-08T09:37:05.160674Z",
     "iopub.status.idle": "2024-05-08T09:43:45.888154Z",
     "shell.execute_reply": "2024-05-08T09:43:45.886876Z"
    },
    "papermill": {
     "duration": 400.762306,
     "end_time": "2024-05-08T09:43:45.905884",
     "exception": false,
     "start_time": "2024-05-08T09:37:05.143578",
     "status": "completed"
    },
    "tags": []
   },
   "outputs": [
    {
     "name": "stdout",
     "output_type": "stream",
     "text": [
      "ROC = 0.779\n",
      "CPU times: user 21min 48s, sys: 12.9 s, total: 22min 1s\n",
      "Wall time: 6min 40s\n"
     ]
    }
   ],
   "source": [
    "%%time\n",
    "#https://catboost.ai/en/docs/concepts/python-reference_catboostclassifier_fit\n",
    "\n",
    "from catboost import CatBoostClassifier\n",
    "clf = CatBoostClassifier(eval_metric='AUC')\n",
    "#clf = CatBoostClassifier()\n",
    "\n",
    "clf.fit(X_train, y=y_train, eval_set = (X_test, y_test), verbose = False)\n",
    "y_pred_valid = clf.predict_proba(X_test)[:,1]\n",
    "auc_score_cat = roc_auc_score(y_test, y_pred_valid)\n",
    "print(f'ROC = {auc_score_cat.round(3)}')"
   ]
  },
  {
   "cell_type": "code",
   "execution_count": 29,
   "id": "9710dd9c",
   "metadata": {
    "execution": {
     "iopub.execute_input": "2024-05-08T09:43:45.938149Z",
     "iopub.status.busy": "2024-05-08T09:43:45.937774Z",
     "iopub.status.idle": "2024-05-08T09:43:45.956314Z",
     "shell.execute_reply": "2024-05-08T09:43:45.954972Z"
    },
    "papermill": {
     "duration": 0.037867,
     "end_time": "2024-05-08T09:43:45.958939",
     "exception": false,
     "start_time": "2024-05-08T09:43:45.921072",
     "status": "completed"
    },
    "tags": []
   },
   "outputs": [],
   "source": [
    "#https://stackoverflow.com/questions/51895761/how-to-correctly-load-pretrained-model-in-catboost-in-python\n",
    "clf.save_model('/kaggle/working/catboost_no_params')"
   ]
  },
  {
   "cell_type": "markdown",
   "id": "cd932fa3",
   "metadata": {
    "papermill": {
     "duration": 0.015325,
     "end_time": "2024-05-08T09:43:45.989780",
     "exception": false,
     "start_time": "2024-05-08T09:43:45.974455",
     "status": "completed"
    },
    "tags": []
   },
   "source": [
    "# LGB"
   ]
  },
  {
   "cell_type": "code",
   "execution_count": 30,
   "id": "a13e9427",
   "metadata": {
    "execution": {
     "iopub.execute_input": "2024-05-08T09:43:46.023089Z",
     "iopub.status.busy": "2024-05-08T09:43:46.022271Z",
     "iopub.status.idle": "2024-05-08T09:43:46.028998Z",
     "shell.execute_reply": "2024-05-08T09:43:46.028099Z"
    },
    "papermill": {
     "duration": 0.025834,
     "end_time": "2024-05-08T09:43:46.031342",
     "exception": false,
     "start_time": "2024-05-08T09:43:46.005508",
     "status": "completed"
    },
    "tags": []
   },
   "outputs": [],
   "source": [
    "params = {\n",
    "    \"boosting_type\": \"gbdt\",\n",
    "    \"objective\": \"binary\",\n",
    "    \"metric\": \"auc\",\n",
    "    \"max_depth\": 10,  \n",
    "    \"learning_rate\": 0.05,\n",
    "    \"n_estimators\": 2000,  \n",
    "    \"colsample_bytree\": 0.8,\n",
    "    \"colsample_bynode\": 0.8,\n",
    "    \"verbose\": -1,\n",
    "    \"random_state\": 42,\n",
    "    \"reg_alpha\": 0.1,\n",
    "    \"reg_lambda\": 10,\n",
    "    \"extra_trees\":True,\n",
    "    'num_leaves':64,\n",
    "    #\"device\": device, \n",
    "    \"verbose\": -1,\n",
    "}"
   ]
  },
  {
   "cell_type": "code",
   "execution_count": 31,
   "id": "a0e41140",
   "metadata": {
    "execution": {
     "iopub.execute_input": "2024-05-08T09:43:46.064119Z",
     "iopub.status.busy": "2024-05-08T09:43:46.063301Z",
     "iopub.status.idle": "2024-05-08T09:51:14.717812Z",
     "shell.execute_reply": "2024-05-08T09:51:14.711415Z"
    },
    "papermill": {
     "duration": 448.679697,
     "end_time": "2024-05-08T09:51:14.726447",
     "exception": false,
     "start_time": "2024-05-08T09:43:46.046750",
     "status": "completed"
    },
    "tags": []
   },
   "outputs": [
    {
     "name": "stdout",
     "output_type": "stream",
     "text": [
      "Training until validation scores don't improve for 100 rounds\n",
      "[200]\tvalid_0's auc: 0.77459\n",
      "[400]\tvalid_0's auc: 0.778928\n",
      "[600]\tvalid_0's auc: 0.780495\n",
      "[800]\tvalid_0's auc: 0.781339\n",
      "[1000]\tvalid_0's auc: 0.781962\n",
      "[1200]\tvalid_0's auc: 0.782088\n",
      "Early stopping, best iteration is:\n",
      "[1245]\tvalid_0's auc: 0.782179\n",
      "AUC 0.7821790962559\n"
     ]
    }
   ],
   "source": [
    "import lightgbm as lgb\n",
    "from lightgbm import LGBMClassifier\n",
    "\n",
    "lgb_model = lgb.LGBMClassifier(**params)\n",
    "#lgb_model = lgb.LGBMClassifier()\n",
    "lgb_model.fit(\n",
    "        X_train, y_train,\n",
    "        eval_set = [(X_test, y_test)],\n",
    "        callbacks = [lgb.log_evaluation(200), lgb.early_stopping(100)] )\n",
    "y_pred_lgb = lgb_model.predict_proba(X_test)[:,1]\n",
    "auc_lgb = roc_auc_score(y_test, y_pred_lgb)\n",
    "print(f'AUC {auc_lgb}')"
   ]
  },
  {
   "cell_type": "code",
   "execution_count": 32,
   "id": "606649b7",
   "metadata": {
    "execution": {
     "iopub.execute_input": "2024-05-08T09:51:14.760862Z",
     "iopub.status.busy": "2024-05-08T09:51:14.760428Z",
     "iopub.status.idle": "2024-05-08T09:51:15.136495Z",
     "shell.execute_reply": "2024-05-08T09:51:15.135142Z"
    },
    "papermill": {
     "duration": 0.397314,
     "end_time": "2024-05-08T09:51:15.139884",
     "exception": false,
     "start_time": "2024-05-08T09:51:14.742570",
     "status": "completed"
    },
    "tags": []
   },
   "outputs": [
    {
     "name": "stdout",
     "output_type": "stream",
     "text": [
      "Trained LGB model was saved!\n"
     ]
    }
   ],
   "source": [
    "import pickle\n",
    "file = '/kaggle/working/lgb_model.pkl'\n",
    "pickle.dump(lgb_model, open(file, 'wb'))\n",
    "print('Trained LGB model was saved!')"
   ]
  },
  {
   "cell_type": "markdown",
   "id": "d191dbfd",
   "metadata": {
    "papermill": {
     "duration": 0.016317,
     "end_time": "2024-05-08T09:51:15.172494",
     "exception": false,
     "start_time": "2024-05-08T09:51:15.156177",
     "status": "completed"
    },
    "tags": []
   },
   "source": [
    "# 5. Submit"
   ]
  },
  {
   "cell_type": "code",
   "execution_count": 33,
   "id": "9f668792",
   "metadata": {
    "execution": {
     "iopub.execute_input": "2024-05-08T09:51:15.206969Z",
     "iopub.status.busy": "2024-05-08T09:51:15.206550Z",
     "iopub.status.idle": "2024-05-08T09:51:15.225191Z",
     "shell.execute_reply": "2024-05-08T09:51:15.224142Z"
    },
    "papermill": {
     "duration": 0.039261,
     "end_time": "2024-05-08T09:51:15.227917",
     "exception": false,
     "start_time": "2024-05-08T09:51:15.188656",
     "status": "completed"
    },
    "tags": []
   },
   "outputs": [],
   "source": [
    "pred_xgb = xgb_classifier.predict_proba(test_data)[:, 1]\n",
    "pred_cat = clf.predict_proba(test_data)[:, 1]\n",
    "pred_lgb = lgb_model.predict_proba(test_data)[:,1]\n",
    "predictions = (pred_xgb+pred_cat+pred_lgb)/2"
   ]
  },
  {
   "cell_type": "code",
   "execution_count": 34,
   "id": "8287ca96",
   "metadata": {
    "execution": {
     "iopub.execute_input": "2024-05-08T09:51:15.262506Z",
     "iopub.status.busy": "2024-05-08T09:51:15.262117Z",
     "iopub.status.idle": "2024-05-08T09:51:15.303081Z",
     "shell.execute_reply": "2024-05-08T09:51:15.301859Z"
    },
    "papermill": {
     "duration": 0.061595,
     "end_time": "2024-05-08T09:51:15.305935",
     "exception": false,
     "start_time": "2024-05-08T09:51:15.244340",
     "status": "completed"
    },
    "tags": []
   },
   "outputs": [
    {
     "data": {
      "text/html": [
       "<div>\n",
       "<style scoped>\n",
       "    .dataframe tbody tr th:only-of-type {\n",
       "        vertical-align: middle;\n",
       "    }\n",
       "\n",
       "    .dataframe tbody tr th {\n",
       "        vertical-align: top;\n",
       "    }\n",
       "\n",
       "    .dataframe thead th {\n",
       "        text-align: right;\n",
       "    }\n",
       "</style>\n",
       "<table border=\"1\" class=\"dataframe\">\n",
       "  <thead>\n",
       "    <tr style=\"text-align: right;\">\n",
       "      <th></th>\n",
       "      <th>case_id</th>\n",
       "      <th>score</th>\n",
       "    </tr>\n",
       "  </thead>\n",
       "  <tbody>\n",
       "    <tr>\n",
       "      <th>0</th>\n",
       "      <td>57543</td>\n",
       "      <td>0.044167</td>\n",
       "    </tr>\n",
       "    <tr>\n",
       "      <th>1</th>\n",
       "      <td>57549</td>\n",
       "      <td>0.025323</td>\n",
       "    </tr>\n",
       "    <tr>\n",
       "      <th>2</th>\n",
       "      <td>57551</td>\n",
       "      <td>0.021083</td>\n",
       "    </tr>\n",
       "    <tr>\n",
       "      <th>3</th>\n",
       "      <td>57552</td>\n",
       "      <td>0.014957</td>\n",
       "    </tr>\n",
       "    <tr>\n",
       "      <th>4</th>\n",
       "      <td>57569</td>\n",
       "      <td>0.101973</td>\n",
       "    </tr>\n",
       "  </tbody>\n",
       "</table>\n",
       "</div>"
      ],
      "text/plain": [
       "   case_id     score\n",
       "0    57543  0.044167\n",
       "1    57549  0.025323\n",
       "2    57551  0.021083\n",
       "3    57552  0.014957\n",
       "4    57569  0.101973"
      ]
     },
     "execution_count": 34,
     "metadata": {},
     "output_type": "execute_result"
    }
   ],
   "source": [
    "subs = pd.read_csv('/kaggle/input/home-credit-credit-risk-model-stability/sample_submission.csv')\n",
    "subs['score'] = predictions\n",
    "subs.to_csv('submission.csv', index=False)\n",
    "subs.head()"
   ]
  }
 ],
 "metadata": {
  "kaggle": {
   "accelerator": "none",
   "dataSources": [
    {
     "databundleVersionId": 7921029,
     "sourceId": 50160,
     "sourceType": "competition"
    }
   ],
   "dockerImageVersionId": 30698,
   "isGpuEnabled": false,
   "isInternetEnabled": false,
   "language": "python",
   "sourceType": "notebook"
  },
  "kernelspec": {
   "display_name": "Python 3",
   "language": "python",
   "name": "python3"
  },
  "language_info": {
   "codemirror_mode": {
    "name": "ipython",
    "version": 3
   },
   "file_extension": ".py",
   "mimetype": "text/x-python",
   "name": "python",
   "nbconvert_exporter": "python",
   "pygments_lexer": "ipython3",
   "version": "3.10.13"
  },
  "papermill": {
   "default_parameters": {},
   "duration": 914.703513,
   "end_time": "2024-05-08T09:51:16.851417",
   "environment_variables": {},
   "exception": null,
   "input_path": "__notebook__.ipynb",
   "output_path": "__notebook__.ipynb",
   "parameters": {},
   "start_time": "2024-05-08T09:36:02.147904",
   "version": "2.5.0"
  }
 },
 "nbformat": 4,
 "nbformat_minor": 5
}
