{
 "cells": [
  {
   "cell_type": "markdown",
   "id": "caccc1ec",
   "metadata": {
    "papermill": {
     "duration": 0.014364,
     "end_time": "2024-05-08T11:20:08.773489",
     "exception": false,
     "start_time": "2024-05-08T11:20:08.759125",
     "status": "completed"
    },
    "tags": []
   },
   "source": [
    "Credit:\n",
    "\n",
    "https://www.kaggle.com/code/lorresprz/home-credit-lgb-cat-ensemble\n",
    "\n",
    "https://www.kaggle.com/code/jetakow/home-credit-2024-starter-notebook"
   ]
  },
  {
   "cell_type": "code",
   "execution_count": 1,
   "id": "d0ecf3db",
   "metadata": {
    "execution": {
     "iopub.execute_input": "2024-05-08T11:20:08.804090Z",
     "iopub.status.busy": "2024-05-08T11:20:08.803222Z",
     "iopub.status.idle": "2024-05-08T11:20:12.621834Z",
     "shell.execute_reply": "2024-05-08T11:20:12.620536Z"
    },
    "papermill": {
     "duration": 3.837477,
     "end_time": "2024-05-08T11:20:12.624984",
     "exception": false,
     "start_time": "2024-05-08T11:20:08.787507",
     "status": "completed"
    },
    "tags": []
   },
   "outputs": [],
   "source": [
    "import polars as pl\n",
    "import numpy as np\n",
    "import pandas as pd\n",
    "import lightgbm as lgb\n",
    "from sklearn.model_selection import train_test_split\n",
    "from sklearn.metrics import roc_auc_score \n",
    "\n",
    "dataPath = \"/kaggle/input/home-credit-credit-risk-model-stability/\""
   ]
  },
  {
   "cell_type": "markdown",
   "id": "0727cc22",
   "metadata": {
    "papermill": {
     "duration": 0.013511,
     "end_time": "2024-05-08T11:20:12.652513",
     "exception": false,
     "start_time": "2024-05-08T11:20:12.639002",
     "status": "completed"
    },
    "tags": []
   },
   "source": [
    "# Data preprocessing functions"
   ]
  },
  {
   "cell_type": "code",
   "execution_count": 2,
   "id": "e1f6e589",
   "metadata": {
    "execution": {
     "iopub.execute_input": "2024-05-08T11:20:12.684155Z",
     "iopub.status.busy": "2024-05-08T11:20:12.683201Z",
     "iopub.status.idle": "2024-05-08T11:20:12.693048Z",
     "shell.execute_reply": "2024-05-08T11:20:12.691920Z"
    },
    "papermill": {
     "duration": 0.028144,
     "end_time": "2024-05-08T11:20:12.695746",
     "exception": false,
     "start_time": "2024-05-08T11:20:12.667602",
     "status": "completed"
    },
    "tags": []
   },
   "outputs": [],
   "source": [
    "def set_table_dtypes(df: pl.DataFrame) -> pl.DataFrame:\n",
    "    # implement here all desired dtypes for tables\n",
    "    # the following is just an example\n",
    "    for col in df.columns:\n",
    "        # last letter of column name will help you determine the type\n",
    "        if col[-1] in (\"P\", \"A\"):\n",
    "            df = df.with_columns(pl.col(col).cast(pl.Float64).alias(col))\n",
    "\n",
    "    return df\n",
    "\n",
    "def convert_strings(df: pd.DataFrame) -> pd.DataFrame:\n",
    "    for col in df.columns:  \n",
    "        if df[col].dtype.name in ['object', 'string']:\n",
    "            df[col] = df[col].astype(\"string\").astype('category')\n",
    "            current_categories = df[col].cat.categories\n",
    "            new_categories = current_categories.to_list() + [\"Unknown\"]\n",
    "            new_dtype = pd.CategoricalDtype(categories=new_categories, ordered=True)\n",
    "            df[col] = df[col].astype(new_dtype)\n",
    "    return df"
   ]
  },
  {
   "cell_type": "markdown",
   "id": "ec63b88f",
   "metadata": {
    "papermill": {
     "duration": 0.01354,
     "end_time": "2024-05-08T11:20:12.723209",
     "exception": false,
     "start_time": "2024-05-08T11:20:12.709669",
     "status": "completed"
    },
    "tags": []
   },
   "source": [
    "# 1. Data Loading"
   ]
  },
  {
   "cell_type": "code",
   "execution_count": 3,
   "id": "38408e29",
   "metadata": {
    "execution": {
     "iopub.execute_input": "2024-05-08T11:20:12.752721Z",
     "iopub.status.busy": "2024-05-08T11:20:12.752338Z",
     "iopub.status.idle": "2024-05-08T11:20:32.462733Z",
     "shell.execute_reply": "2024-05-08T11:20:32.461712Z"
    },
    "papermill": {
     "duration": 19.728328,
     "end_time": "2024-05-08T11:20:32.465362",
     "exception": false,
     "start_time": "2024-05-08T11:20:12.737034",
     "status": "completed"
    },
    "tags": []
   },
   "outputs": [],
   "source": [
    "train_basetable = pl.read_csv(dataPath + \"csv_files/train/train_base.csv\")\n",
    "train_static = pl.concat(\n",
    "    [\n",
    "        pl.read_csv(dataPath + \"csv_files/train/train_static_0_0.csv\").pipe(set_table_dtypes),\n",
    "        pl.read_csv(dataPath + \"csv_files/train/train_static_0_1.csv\").pipe(set_table_dtypes),\n",
    "    ],\n",
    "    how=\"vertical_relaxed\",\n",
    ")\n",
    "train_static_cb = pl.read_csv(dataPath + \"csv_files/train/train_static_cb_0.csv\").pipe(set_table_dtypes)\n",
    "#Depth 1\n",
    "train_person_1 = pl.read_csv(dataPath + \"csv_files/train/train_person_1.csv\").pipe(set_table_dtypes) \n",
    "train_credit_bureau_b_2 = pl.read_csv(dataPath + \"csv_files/train/train_credit_bureau_b_2.csv\").pipe(set_table_dtypes) "
   ]
  },
  {
   "cell_type": "code",
   "execution_count": 4,
   "id": "6aa01559",
   "metadata": {
    "execution": {
     "iopub.execute_input": "2024-05-08T11:20:32.495570Z",
     "iopub.status.busy": "2024-05-08T11:20:32.494870Z",
     "iopub.status.idle": "2024-05-08T11:20:32.564133Z",
     "shell.execute_reply": "2024-05-08T11:20:32.563203Z"
    },
    "papermill": {
     "duration": 0.087062,
     "end_time": "2024-05-08T11:20:32.566649",
     "exception": false,
     "start_time": "2024-05-08T11:20:32.479587",
     "status": "completed"
    },
    "tags": []
   },
   "outputs": [],
   "source": [
    "test_basetable = pl.read_csv(dataPath + \"csv_files/test/test_base.csv\")\n",
    "test_static = pl.concat(\n",
    "    [\n",
    "        pl.read_csv(dataPath + \"csv_files/test/test_static_0_0.csv\").pipe(set_table_dtypes),\n",
    "        pl.read_csv(dataPath + \"csv_files/test/test_static_0_1.csv\").pipe(set_table_dtypes),\n",
    "        pl.read_csv(dataPath + \"csv_files/test/test_static_0_2.csv\").pipe(set_table_dtypes),\n",
    "    ],\n",
    "    how=\"vertical_relaxed\",\n",
    ")\n",
    "test_static_cb = pl.read_csv(dataPath + \"csv_files/test/test_static_cb_0.csv\").pipe(set_table_dtypes)\n",
    "test_person_1 = pl.read_csv(dataPath + \"csv_files/test/test_person_1.csv\").pipe(set_table_dtypes) \n",
    "test_credit_bureau_b_2 = pl.read_csv(dataPath + \"csv_files/test/test_credit_bureau_b_2.csv\").pipe(set_table_dtypes) "
   ]
  },
  {
   "cell_type": "code",
   "execution_count": 5,
   "id": "48863387",
   "metadata": {
    "execution": {
     "iopub.execute_input": "2024-05-08T11:20:32.596691Z",
     "iopub.status.busy": "2024-05-08T11:20:32.596091Z",
     "iopub.status.idle": "2024-05-08T11:20:32.603268Z",
     "shell.execute_reply": "2024-05-08T11:20:32.602278Z"
    },
    "papermill": {
     "duration": 0.02482,
     "end_time": "2024-05-08T11:20:32.605694",
     "exception": false,
     "start_time": "2024-05-08T11:20:32.580874",
     "status": "completed"
    },
    "tags": []
   },
   "outputs": [
    {
     "data": {
      "text/plain": [
       "((1526659, 168), (30, 168), (1526659, 5), (1500476, 53))"
      ]
     },
     "execution_count": 5,
     "metadata": {},
     "output_type": "execute_result"
    }
   ],
   "source": [
    "train_static.shape, test_static.shape, train_basetable.shape, train_static_cb.shape"
   ]
  },
  {
   "cell_type": "code",
   "execution_count": 6,
   "id": "740aca6e",
   "metadata": {
    "execution": {
     "iopub.execute_input": "2024-05-08T11:20:32.636013Z",
     "iopub.status.busy": "2024-05-08T11:20:32.635563Z",
     "iopub.status.idle": "2024-05-08T11:20:32.642836Z",
     "shell.execute_reply": "2024-05-08T11:20:32.642044Z"
    },
    "papermill": {
     "duration": 0.025428,
     "end_time": "2024-05-08T11:20:32.645359",
     "exception": false,
     "start_time": "2024-05-08T11:20:32.619931",
     "status": "completed"
    },
    "tags": []
   },
   "outputs": [
    {
     "name": "stdout",
     "output_type": "stream",
     "text": [
      "61\n",
      "\n",
      "\n",
      "9\n"
     ]
    }
   ],
   "source": [
    "# We will process in this examples only A-type, P-type and M-type columns, so we need to select them.\n",
    "selected_static_cols = []\n",
    "for col in train_static.columns:\n",
    "    if col[-1] in (\"A\", \"P\", \"M\"):\n",
    "        selected_static_cols.append(col)\n",
    "print(len(selected_static_cols))\n",
    "print('\\n')\n",
    "selected_static_cb_cols = []\n",
    "for col in train_static_cb.columns:\n",
    "    if col[-1] in (\"A\", \"P\", \"M\"):\n",
    "        selected_static_cb_cols.append(col)\n",
    "print(len(selected_static_cb_cols))"
   ]
  },
  {
   "cell_type": "markdown",
   "id": "dafb5980",
   "metadata": {
    "papermill": {
     "duration": 0.013691,
     "end_time": "2024-05-08T11:20:32.673178",
     "exception": false,
     "start_time": "2024-05-08T11:20:32.659487",
     "status": "completed"
    },
    "tags": []
   },
   "source": [
    "# Depth-1 data"
   ]
  },
  {
   "cell_type": "code",
   "execution_count": 7,
   "id": "f2cd36d3",
   "metadata": {
    "execution": {
     "iopub.execute_input": "2024-05-08T11:20:32.703980Z",
     "iopub.status.busy": "2024-05-08T11:20:32.702839Z",
     "iopub.status.idle": "2024-05-08T11:20:32.709873Z",
     "shell.execute_reply": "2024-05-08T11:20:32.708846Z"
    },
    "papermill": {
     "duration": 0.024902,
     "end_time": "2024-05-08T11:20:32.712348",
     "exception": false,
     "start_time": "2024-05-08T11:20:32.687446",
     "status": "completed"
    },
    "tags": []
   },
   "outputs": [
    {
     "data": {
      "text/plain": [
       "['case_id',\n",
       " 'birth_259D',\n",
       " 'birthdate_87D',\n",
       " 'childnum_185L',\n",
       " 'contaddr_district_15M',\n",
       " 'contaddr_matchlist_1032L',\n",
       " 'contaddr_smempladdr_334L',\n",
       " 'contaddr_zipcode_807M',\n",
       " 'education_927M',\n",
       " 'empl_employedfrom_271D',\n",
       " 'empl_employedtotal_800L',\n",
       " 'empl_industry_691L',\n",
       " 'empladdr_district_926M',\n",
       " 'empladdr_zipcode_114M',\n",
       " 'familystate_447L',\n",
       " 'gender_992L',\n",
       " 'housetype_905L',\n",
       " 'housingtype_772L',\n",
       " 'incometype_1044T',\n",
       " 'isreference_387L',\n",
       " 'language1_981M',\n",
       " 'mainoccupationinc_384A',\n",
       " 'maritalst_703L',\n",
       " 'num_group1',\n",
       " 'personindex_1023L',\n",
       " 'persontype_1072L',\n",
       " 'persontype_792L',\n",
       " 'registaddr_district_1083M',\n",
       " 'registaddr_zipcode_184M',\n",
       " 'relationshiptoclient_415T',\n",
       " 'relationshiptoclient_642T',\n",
       " 'remitter_829L',\n",
       " 'role_1084L',\n",
       " 'role_993L',\n",
       " 'safeguarantyflag_411L',\n",
       " 'sex_738L',\n",
       " 'type_25L']"
      ]
     },
     "execution_count": 7,
     "metadata": {},
     "output_type": "execute_result"
    }
   ],
   "source": [
    "#Look at the depth 1 table\n",
    "train_person_1.columns"
   ]
  },
  {
   "cell_type": "code",
   "execution_count": 8,
   "id": "abbc7fef",
   "metadata": {
    "execution": {
     "iopub.execute_input": "2024-05-08T11:20:32.743607Z",
     "iopub.status.busy": "2024-05-08T11:20:32.743216Z",
     "iopub.status.idle": "2024-05-08T11:20:33.878856Z",
     "shell.execute_reply": "2024-05-08T11:20:33.877686Z"
    },
    "papermill": {
     "duration": 1.154428,
     "end_time": "2024-05-08T11:20:33.881488",
     "exception": false,
     "start_time": "2024-05-08T11:20:32.727060",
     "status": "completed"
    },
    "tags": []
   },
   "outputs": [
    {
     "data": {
      "text/html": [
       "<div><style>\n",
       ".dataframe > thead > tr,\n",
       ".dataframe > tbody > tr {\n",
       "  text-align: right;\n",
       "  white-space: pre-wrap;\n",
       "}\n",
       "</style>\n",
       "<small>shape: (1_526_659, 3)</small><table border=\"1\" class=\"dataframe\"><thead><tr><th>case_id</th><th>mainoccupationinc_384A_max</th><th>mainoccupationinc_384A_any_selfemployed</th></tr><tr><td>i64</td><td>f64</td><td>bool</td></tr></thead><tbody><tr><td>1429431</td><td>30000.0</td><td>false</td></tr><tr><td>1818866</td><td>30000.0</td><td>false</td></tr><tr><td>1939911</td><td>50000.0</td><td>false</td></tr><tr><td>1346928</td><td>80000.0</td><td>false</td></tr><tr><td>1891619</td><td>60000.0</td><td>false</td></tr><tr><td>&hellip;</td><td>&hellip;</td><td>&hellip;</td></tr><tr><td>226235</td><td>70000.0</td><td>false</td></tr><tr><td>1572075</td><td>30000.0</td><td>false</td></tr><tr><td>1584976</td><td>68000.0</td><td>false</td></tr><tr><td>172575</td><td>86000.0</td><td>false</td></tr><tr><td>1494508</td><td>100000.0</td><td>false</td></tr></tbody></table></div>"
      ],
      "text/plain": [
       "shape: (1_526_659, 3)\n",
       "┌─────────┬────────────────────────────┬───────────────────────────────────┐\n",
       "│ case_id ┆ mainoccupationinc_384A_max ┆ mainoccupationinc_384A_any_selfe… │\n",
       "│ ---     ┆ ---                        ┆ ---                               │\n",
       "│ i64     ┆ f64                        ┆ bool                              │\n",
       "╞═════════╪════════════════════════════╪═══════════════════════════════════╡\n",
       "│ 1429431 ┆ 30000.0                    ┆ false                             │\n",
       "│ 1818866 ┆ 30000.0                    ┆ false                             │\n",
       "│ 1939911 ┆ 50000.0                    ┆ false                             │\n",
       "│ 1346928 ┆ 80000.0                    ┆ false                             │\n",
       "│ 1891619 ┆ 60000.0                    ┆ false                             │\n",
       "│ …       ┆ …                          ┆ …                                 │\n",
       "│ 226235  ┆ 70000.0                    ┆ false                             │\n",
       "│ 1572075 ┆ 30000.0                    ┆ false                             │\n",
       "│ 1584976 ┆ 68000.0                    ┆ false                             │\n",
       "│ 172575  ┆ 86000.0                    ┆ false                             │\n",
       "│ 1494508 ┆ 100000.0                   ┆ false                             │\n",
       "└─────────┴────────────────────────────┴───────────────────────────────────┘"
      ]
     },
     "execution_count": 8,
     "metadata": {},
     "output_type": "execute_result"
    }
   ],
   "source": [
    "train_person_1_feats_1 = train_person_1.group_by(\"case_id\").agg(\n",
    "    pl.col(\"mainoccupationinc_384A\").max().alias(\"mainoccupationinc_384A_max\"),\n",
    "    (pl.col(\"incometype_1044T\") == \"SELFEMPLOYED\").max().alias(\"mainoccupationinc_384A_any_selfemployed\")\n",
    ")\n",
    "\n",
    "train_person_1_feats_1 "
   ]
  },
  {
   "cell_type": "code",
   "execution_count": 9,
   "id": "74248f1f",
   "metadata": {
    "execution": {
     "iopub.execute_input": "2024-05-08T11:20:33.912897Z",
     "iopub.status.busy": "2024-05-08T11:20:33.912018Z",
     "iopub.status.idle": "2024-05-08T11:20:33.946496Z",
     "shell.execute_reply": "2024-05-08T11:20:33.945428Z"
    },
    "papermill": {
     "duration": 0.052852,
     "end_time": "2024-05-08T11:20:33.948917",
     "exception": false,
     "start_time": "2024-05-08T11:20:33.896065",
     "status": "completed"
    },
    "tags": []
   },
   "outputs": [
    {
     "data": {
      "text/html": [
       "<div><style>\n",
       ".dataframe > thead > tr,\n",
       ".dataframe > tbody > tr {\n",
       "  text-align: right;\n",
       "  white-space: pre-wrap;\n",
       "}\n",
       "</style>\n",
       "<small>shape: (5, 2)</small><table border=\"1\" class=\"dataframe\"><thead><tr><th>case_id</th><th>person_housetype</th></tr><tr><td>i64</td><td>str</td></tr></thead><tbody><tr><td>0</td><td>null</td></tr><tr><td>1</td><td>null</td></tr><tr><td>2</td><td>null</td></tr><tr><td>3</td><td>null</td></tr><tr><td>4</td><td>null</td></tr></tbody></table></div>"
      ],
      "text/plain": [
       "shape: (5, 2)\n",
       "┌─────────┬──────────────────┐\n",
       "│ case_id ┆ person_housetype │\n",
       "│ ---     ┆ ---              │\n",
       "│ i64     ┆ str              │\n",
       "╞═════════╪══════════════════╡\n",
       "│ 0       ┆ null             │\n",
       "│ 1       ┆ null             │\n",
       "│ 2       ┆ null             │\n",
       "│ 3       ┆ null             │\n",
       "│ 4       ┆ null             │\n",
       "└─────────┴──────────────────┘"
      ]
     },
     "execution_count": 9,
     "metadata": {},
     "output_type": "execute_result"
    }
   ],
   "source": [
    "# Here num_group1=0 has special meaning, it is the person who applied for the loan.\n",
    "train_person_1_feats_2 = train_person_1.select([\"case_id\", \"num_group1\", \"housetype_905L\"]).filter(\n",
    "    pl.col(\"num_group1\") == 0\n",
    ").drop(\"num_group1\").rename({\"housetype_905L\": \"person_housetype\"})\n",
    "\n",
    "train_person_1_feats_2.head()"
   ]
  },
  {
   "cell_type": "code",
   "execution_count": 10,
   "id": "877fcdcd",
   "metadata": {
    "execution": {
     "iopub.execute_input": "2024-05-08T11:20:33.980374Z",
     "iopub.status.busy": "2024-05-08T11:20:33.979949Z",
     "iopub.status.idle": "2024-05-08T11:20:34.045807Z",
     "shell.execute_reply": "2024-05-08T11:20:34.045025Z"
    },
    "papermill": {
     "duration": 0.084117,
     "end_time": "2024-05-08T11:20:34.047998",
     "exception": false,
     "start_time": "2024-05-08T11:20:33.963881",
     "status": "completed"
    },
    "tags": []
   },
   "outputs": [
    {
     "data": {
      "text/html": [
       "<div><style>\n",
       ".dataframe > thead > tr,\n",
       ".dataframe > tbody > tr {\n",
       "  text-align: right;\n",
       "  white-space: pre-wrap;\n",
       "}\n",
       "</style>\n",
       "<small>shape: (5, 3)</small><table border=\"1\" class=\"dataframe\"><thead><tr><th>case_id</th><th>pmts_pmtsoverdue_635A_max</th><th>pmts_dpdvalue_108P_over31</th></tr><tr><td>i64</td><td>f64</td><td>bool</td></tr></thead><tbody><tr><td>142258</td><td>4.0</td><td>true</td></tr><tr><td>1390253</td><td>0.6</td><td>true</td></tr><tr><td>1644433</td><td>0.2</td><td>true</td></tr><tr><td>45175</td><td>273.2</td><td>true</td></tr><tr><td>697954</td><td>0.0</td><td>false</td></tr></tbody></table></div>"
      ],
      "text/plain": [
       "shape: (5, 3)\n",
       "┌─────────┬───────────────────────────┬───────────────────────────┐\n",
       "│ case_id ┆ pmts_pmtsoverdue_635A_max ┆ pmts_dpdvalue_108P_over31 │\n",
       "│ ---     ┆ ---                       ┆ ---                       │\n",
       "│ i64     ┆ f64                       ┆ bool                      │\n",
       "╞═════════╪═══════════════════════════╪═══════════════════════════╡\n",
       "│ 142258  ┆ 4.0                       ┆ true                      │\n",
       "│ 1390253 ┆ 0.6                       ┆ true                      │\n",
       "│ 1644433 ┆ 0.2                       ┆ true                      │\n",
       "│ 45175   ┆ 273.2                     ┆ true                      │\n",
       "│ 697954  ┆ 0.0                       ┆ false                     │\n",
       "└─────────┴───────────────────────────┴───────────────────────────┘"
      ]
     },
     "execution_count": 10,
     "metadata": {},
     "output_type": "execute_result"
    }
   ],
   "source": [
    "# Here we have num_goup1 and num_group2, so we need to aggregate again.\n",
    "train_credit_bureau_b_2_feats = train_credit_bureau_b_2.group_by(\"case_id\").agg(\n",
    "    pl.col(\"pmts_pmtsoverdue_635A\").max().alias(\"pmts_pmtsoverdue_635A_max\"),\n",
    "    (pl.col(\"pmts_dpdvalue_108P\") > 31).max().alias(\"pmts_dpdvalue_108P_over31\")\n",
    ")\n",
    "\n",
    "train_credit_bureau_b_2_feats.head()"
   ]
  },
  {
   "cell_type": "markdown",
   "id": "18cc428d",
   "metadata": {
    "papermill": {
     "duration": 0.014665,
     "end_time": "2024-05-08T11:20:34.077681",
     "exception": false,
     "start_time": "2024-05-08T11:20:34.063016",
     "status": "completed"
    },
    "tags": []
   },
   "source": [
    "# Depth-1 data for test set"
   ]
  },
  {
   "cell_type": "code",
   "execution_count": 11,
   "id": "946639f5",
   "metadata": {
    "execution": {
     "iopub.execute_input": "2024-05-08T11:20:34.111858Z",
     "iopub.status.busy": "2024-05-08T11:20:34.111146Z",
     "iopub.status.idle": "2024-05-08T11:20:34.121326Z",
     "shell.execute_reply": "2024-05-08T11:20:34.120386Z"
    },
    "papermill": {
     "duration": 0.029901,
     "end_time": "2024-05-08T11:20:34.123765",
     "exception": false,
     "start_time": "2024-05-08T11:20:34.093864",
     "status": "completed"
    },
    "tags": []
   },
   "outputs": [],
   "source": [
    "test_person_1_feats_1 = test_person_1.group_by(\"case_id\").agg(\n",
    "    pl.col(\"mainoccupationinc_384A\").max().alias(\"mainoccupationinc_384A_max\"),\n",
    "    (pl.col(\"incometype_1044T\") == \"SELFEMPLOYED\").max().alias(\"mainoccupationinc_384A_any_selfemployed\")\n",
    ")\n",
    "\n",
    "test_person_1_feats_2 = test_person_1.select([\"case_id\", \"num_group1\", \"housetype_905L\"]).filter(\n",
    "    pl.col(\"num_group1\") == 0\n",
    ").drop(\"num_group1\").rename({\"housetype_905L\": \"person_housetype\"})\n",
    "\n",
    "test_credit_bureau_b_2_feats = test_credit_bureau_b_2.group_by(\"case_id\").agg(\n",
    "    pl.col(\"pmts_pmtsoverdue_635A\").max().alias(\"pmts_pmtsoverdue_635A_max\"),\n",
    "    (pl.col(\"pmts_dpdvalue_108P\") > 31).max().alias(\"pmts_dpdvalue_108P_over31\"))"
   ]
  },
  {
   "cell_type": "markdown",
   "id": "33bdcb40",
   "metadata": {
    "papermill": {
     "duration": 0.014767,
     "end_time": "2024-05-08T11:20:34.153803",
     "exception": false,
     "start_time": "2024-05-08T11:20:34.139036",
     "status": "completed"
    },
    "tags": []
   },
   "source": [
    "# Join all selected tables"
   ]
  },
  {
   "cell_type": "code",
   "execution_count": 12,
   "id": "35185374",
   "metadata": {
    "execution": {
     "iopub.execute_input": "2024-05-08T11:20:34.185786Z",
     "iopub.status.busy": "2024-05-08T11:20:34.185175Z",
     "iopub.status.idle": "2024-05-08T11:20:35.526166Z",
     "shell.execute_reply": "2024-05-08T11:20:35.525088Z"
    },
    "papermill": {
     "duration": 1.360252,
     "end_time": "2024-05-08T11:20:35.528887",
     "exception": false,
     "start_time": "2024-05-08T11:20:34.168635",
     "status": "completed"
    },
    "tags": []
   },
   "outputs": [],
   "source": [
    "# Join all tables together.\n",
    "train_data = train_basetable.join(\n",
    "    train_static.select([\"case_id\"]+selected_static_cols), how=\"left\", on=\"case_id\"\n",
    ").join(\n",
    "    train_static_cb.select([\"case_id\"]+selected_static_cb_cols), how=\"left\", on=\"case_id\"\n",
    ").join(\n",
    "    train_person_1_feats_1, how=\"left\", on=\"case_id\"\n",
    ").join(\n",
    "    train_person_1_feats_2, how=\"left\", on=\"case_id\"\n",
    ").join(\n",
    "    train_credit_bureau_b_2_feats, how=\"left\", on=\"case_id\"\n",
    ")"
   ]
  },
  {
   "cell_type": "code",
   "execution_count": 13,
   "id": "fe4c1427",
   "metadata": {
    "execution": {
     "iopub.execute_input": "2024-05-08T11:20:35.561075Z",
     "iopub.status.busy": "2024-05-08T11:20:35.560418Z",
     "iopub.status.idle": "2024-05-08T11:20:35.569046Z",
     "shell.execute_reply": "2024-05-08T11:20:35.568217Z"
    },
    "papermill": {
     "duration": 0.027505,
     "end_time": "2024-05-08T11:20:35.571513",
     "exception": false,
     "start_time": "2024-05-08T11:20:35.544008",
     "status": "completed"
    },
    "tags": []
   },
   "outputs": [],
   "source": [
    "test_data = test_basetable.join(\n",
    "    test_static.select([\"case_id\"]+selected_static_cols), how=\"left\", on=\"case_id\"\n",
    ").join(\n",
    "    test_static_cb.select([\"case_id\"]+selected_static_cb_cols), how=\"left\", on=\"case_id\"\n",
    ").join(\n",
    "    test_person_1_feats_1, how=\"left\", on=\"case_id\"\n",
    ").join(\n",
    "    test_person_1_feats_2, how=\"left\", on=\"case_id\"\n",
    ").join(\n",
    "    test_credit_bureau_b_2_feats, how=\"left\", on=\"case_id\"\n",
    ")"
   ]
  },
  {
   "cell_type": "markdown",
   "id": "fa2054bb",
   "metadata": {
    "papermill": {
     "duration": 0.0148,
     "end_time": "2024-05-08T11:20:35.601334",
     "exception": false,
     "start_time": "2024-05-08T11:20:35.586534",
     "status": "completed"
    },
    "tags": []
   },
   "source": [
    "# Categorical data"
   ]
  },
  {
   "cell_type": "code",
   "execution_count": 14,
   "id": "358e5df4",
   "metadata": {
    "execution": {
     "iopub.execute_input": "2024-05-08T11:20:35.633270Z",
     "iopub.status.busy": "2024-05-08T11:20:35.632867Z",
     "iopub.status.idle": "2024-05-08T11:20:35.644999Z",
     "shell.execute_reply": "2024-05-08T11:20:35.644056Z"
    },
    "papermill": {
     "duration": 0.031141,
     "end_time": "2024-05-08T11:20:35.647727",
     "exception": false,
     "start_time": "2024-05-08T11:20:35.616586",
     "status": "completed"
    },
    "tags": []
   },
   "outputs": [],
   "source": [
    "from sklearn.compose import ColumnTransformer\n",
    "from sklearn.preprocessing import OneHotEncoder"
   ]
  },
  {
   "cell_type": "code",
   "execution_count": 15,
   "id": "0c1ba734",
   "metadata": {
    "execution": {
     "iopub.execute_input": "2024-05-08T11:20:35.679696Z",
     "iopub.status.busy": "2024-05-08T11:20:35.679318Z",
     "iopub.status.idle": "2024-05-08T11:20:37.353959Z",
     "shell.execute_reply": "2024-05-08T11:20:37.353061Z"
    },
    "papermill": {
     "duration": 1.693886,
     "end_time": "2024-05-08T11:20:37.356621",
     "exception": false,
     "start_time": "2024-05-08T11:20:35.662735",
     "status": "completed"
    },
    "tags": []
   },
   "outputs": [],
   "source": [
    "#convert to pandas\n",
    "train_data=train_data.to_pandas()\n",
    "test_data=test_data.to_pandas()"
   ]
  },
  {
   "cell_type": "code",
   "execution_count": 16,
   "id": "1fdf365a",
   "metadata": {
    "execution": {
     "iopub.execute_input": "2024-05-08T11:20:37.389576Z",
     "iopub.status.busy": "2024-05-08T11:20:37.388249Z",
     "iopub.status.idle": "2024-05-08T11:20:44.095883Z",
     "shell.execute_reply": "2024-05-08T11:20:44.094320Z"
    },
    "papermill": {
     "duration": 6.727841,
     "end_time": "2024-05-08T11:20:44.099710",
     "exception": false,
     "start_time": "2024-05-08T11:20:37.371869",
     "status": "completed"
    },
    "tags": []
   },
   "outputs": [],
   "source": [
    "train_data.drop(columns = [\"case_id\", \"MONTH\", \"WEEK_NUM\", \"date_decision\"], inplace = True)\n",
    "test_data.drop(columns = [\"case_id\", \"MONTH\", \"WEEK_NUM\", \"date_decision\"], inplace = True)\n",
    "train_data = convert_strings(train_data)\n",
    "test_data = convert_strings(test_data)"
   ]
  },
  {
   "cell_type": "code",
   "execution_count": 17,
   "id": "ce0a3998",
   "metadata": {
    "execution": {
     "iopub.execute_input": "2024-05-08T11:20:44.134451Z",
     "iopub.status.busy": "2024-05-08T11:20:44.134032Z",
     "iopub.status.idle": "2024-05-08T11:20:44.139309Z",
     "shell.execute_reply": "2024-05-08T11:20:44.137945Z"
    },
    "papermill": {
     "duration": 0.024785,
     "end_time": "2024-05-08T11:20:44.141740",
     "exception": false,
     "start_time": "2024-05-08T11:20:44.116955",
     "status": "completed"
    },
    "tags": []
   },
   "outputs": [],
   "source": [
    "#list(train_data.dtypes)"
   ]
  },
  {
   "cell_type": "code",
   "execution_count": 18,
   "id": "829e7874",
   "metadata": {
    "execution": {
     "iopub.execute_input": "2024-05-08T11:20:44.237818Z",
     "iopub.status.busy": "2024-05-08T11:20:44.236998Z",
     "iopub.status.idle": "2024-05-08T11:20:44.241356Z",
     "shell.execute_reply": "2024-05-08T11:20:44.240302Z"
    },
    "papermill": {
     "duration": 0.023643,
     "end_time": "2024-05-08T11:20:44.243808",
     "exception": false,
     "start_time": "2024-05-08T11:20:44.220165",
     "status": "completed"
    },
    "tags": []
   },
   "outputs": [],
   "source": [
    "#list(test_data.dtypes)"
   ]
  },
  {
   "cell_type": "code",
   "execution_count": 19,
   "id": "8788ab81",
   "metadata": {
    "execution": {
     "iopub.execute_input": "2024-05-08T11:20:44.283165Z",
     "iopub.status.busy": "2024-05-08T11:20:44.282552Z",
     "iopub.status.idle": "2024-05-08T11:20:44.319208Z",
     "shell.execute_reply": "2024-05-08T11:20:44.318030Z"
    },
    "papermill": {
     "duration": 0.061541,
     "end_time": "2024-05-08T11:20:44.323206",
     "exception": false,
     "start_time": "2024-05-08T11:20:44.261665",
     "status": "completed"
    },
    "tags": []
   },
   "outputs": [],
   "source": [
    "#find out the categorical columns of train_data (now same as test_data)\n",
    "cat_cols = []\n",
    "for i in range(len(list(train_data.dtypes))):\n",
    "    if list(train_data.dtypes)[i].type != np.int64 and list(train_data.dtypes)[i].type != np.float64:\n",
    "     #if list(train_data.dtypes)[i].type == pd.core.dtypes.dtypes.CategoricalDtypeType:\n",
    "        cat_cols.append(train_data.columns[i])    "
   ]
  },
  {
   "cell_type": "code",
   "execution_count": 20,
   "id": "1351f6d0",
   "metadata": {
    "execution": {
     "iopub.execute_input": "2024-05-08T11:20:44.360800Z",
     "iopub.status.busy": "2024-05-08T11:20:44.358750Z",
     "iopub.status.idle": "2024-05-08T11:20:44.366961Z",
     "shell.execute_reply": "2024-05-08T11:20:44.366174Z"
    },
    "papermill": {
     "duration": 0.02679,
     "end_time": "2024-05-08T11:20:44.369101",
     "exception": false,
     "start_time": "2024-05-08T11:20:44.342311",
     "status": "completed"
    },
    "tags": []
   },
   "outputs": [
    {
     "data": {
      "text/plain": [
       "(16,\n",
       " ['lastapprcommoditycat_1041M',\n",
       "  'lastapprcommoditytypec_5251766M',\n",
       "  'lastcancelreason_561M',\n",
       "  'lastrejectcommoditycat_161M',\n",
       "  'lastrejectcommodtypec_5251769M',\n",
       "  'lastrejectreason_759M',\n",
       "  'lastrejectreasonclient_4145040M',\n",
       "  'previouscontdistrict_112M',\n",
       "  'description_5085714M',\n",
       "  'education_1103M',\n",
       "  'education_88M',\n",
       "  'maritalst_385M',\n",
       "  'maritalst_893M',\n",
       "  'mainoccupationinc_384A_any_selfemployed',\n",
       "  'person_housetype',\n",
       "  'pmts_dpdvalue_108P_over31'])"
      ]
     },
     "execution_count": 20,
     "metadata": {},
     "output_type": "execute_result"
    }
   ],
   "source": [
    "len(cat_cols), cat_cols"
   ]
  },
  {
   "cell_type": "code",
   "execution_count": 21,
   "id": "600b5e76",
   "metadata": {
    "execution": {
     "iopub.execute_input": "2024-05-08T11:20:44.401609Z",
     "iopub.status.busy": "2024-05-08T11:20:44.401202Z",
     "iopub.status.idle": "2024-05-08T11:20:44.417324Z",
     "shell.execute_reply": "2024-05-08T11:20:44.416228Z"
    },
    "papermill": {
     "duration": 0.035551,
     "end_time": "2024-05-08T11:20:44.420116",
     "exception": false,
     "start_time": "2024-05-08T11:20:44.384565",
     "status": "completed"
    },
    "tags": []
   },
   "outputs": [],
   "source": [
    "#find out the categorical columns of test_data\n",
    "cat_cols_test = []\n",
    "for i in range(len(list(test_data.dtypes))):\n",
    "    #if list(train_data.dtypes)[i].type != numpy.int64 and list(train_data.dtypes)[i].type != numpy.float64:\n",
    "     if list(test_data.dtypes)[i].type == pd.core.dtypes.dtypes.CategoricalDtypeType:\n",
    "        cat_cols_test.append(test_data.columns[i])   "
   ]
  },
  {
   "cell_type": "code",
   "execution_count": 22,
   "id": "65a0e349",
   "metadata": {
    "execution": {
     "iopub.execute_input": "2024-05-08T11:20:44.453619Z",
     "iopub.status.busy": "2024-05-08T11:20:44.452515Z",
     "iopub.status.idle": "2024-05-08T11:20:44.461065Z",
     "shell.execute_reply": "2024-05-08T11:20:44.459881Z"
    },
    "papermill": {
     "duration": 0.027552,
     "end_time": "2024-05-08T11:20:44.463372",
     "exception": false,
     "start_time": "2024-05-08T11:20:44.435820",
     "status": "completed"
    },
    "tags": []
   },
   "outputs": [
    {
     "data": {
      "text/plain": [
       "16"
      ]
     },
     "execution_count": 22,
     "metadata": {},
     "output_type": "execute_result"
    }
   ],
   "source": [
    "len(cat_cols_test)"
   ]
  },
  {
   "cell_type": "code",
   "execution_count": 23,
   "id": "873cb76c",
   "metadata": {
    "execution": {
     "iopub.execute_input": "2024-05-08T11:20:44.496151Z",
     "iopub.status.busy": "2024-05-08T11:20:44.495735Z",
     "iopub.status.idle": "2024-05-08T11:20:44.500923Z",
     "shell.execute_reply": "2024-05-08T11:20:44.499680Z"
    },
    "papermill": {
     "duration": 0.024679,
     "end_time": "2024-05-08T11:20:44.503249",
     "exception": false,
     "start_time": "2024-05-08T11:20:44.478570",
     "status": "completed"
    },
    "tags": []
   },
   "outputs": [],
   "source": [
    "# one-hot encode the categorical features\n",
    "full_pipeline = ColumnTransformer([('cat', OneHotEncoder(handle_unknown='ignore'), cat_cols_test)], remainder='passthrough')"
   ]
  },
  {
   "cell_type": "code",
   "execution_count": 24,
   "id": "56ddd6a3",
   "metadata": {
    "execution": {
     "iopub.execute_input": "2024-05-08T11:20:44.536450Z",
     "iopub.status.busy": "2024-05-08T11:20:44.535270Z",
     "iopub.status.idle": "2024-05-08T11:20:44.822538Z",
     "shell.execute_reply": "2024-05-08T11:20:44.821539Z"
    },
    "papermill": {
     "duration": 0.306553,
     "end_time": "2024-05-08T11:20:44.825200",
     "exception": false,
     "start_time": "2024-05-08T11:20:44.518647",
     "status": "completed"
    },
    "tags": []
   },
   "outputs": [],
   "source": [
    "X = train_data.drop(['target'], axis = 1)\n",
    "y = train_data['target']"
   ]
  },
  {
   "cell_type": "code",
   "execution_count": 25,
   "id": "6fbcde2f",
   "metadata": {
    "execution": {
     "iopub.execute_input": "2024-05-08T11:20:44.858282Z",
     "iopub.status.busy": "2024-05-08T11:20:44.857897Z",
     "iopub.status.idle": "2024-05-08T11:21:14.906175Z",
     "shell.execute_reply": "2024-05-08T11:21:14.904527Z"
    },
    "papermill": {
     "duration": 30.070948,
     "end_time": "2024-05-08T11:21:14.912221",
     "exception": false,
     "start_time": "2024-05-08T11:20:44.841273",
     "status": "completed"
    },
    "tags": []
   },
   "outputs": [],
   "source": [
    "encoder = full_pipeline.fit(X)\n",
    "X = encoder.transform(X)\n",
    "test_data= encoder.transform(test_data)"
   ]
  },
  {
   "cell_type": "code",
   "execution_count": 26,
   "id": "28506492",
   "metadata": {
    "execution": {
     "iopub.execute_input": "2024-05-08T11:21:14.954712Z",
     "iopub.status.busy": "2024-05-08T11:21:14.954284Z",
     "iopub.status.idle": "2024-05-08T11:21:14.962081Z",
     "shell.execute_reply": "2024-05-08T11:21:14.960909Z"
    },
    "papermill": {
     "duration": 0.031107,
     "end_time": "2024-05-08T11:21:14.965394",
     "exception": false,
     "start_time": "2024-05-08T11:21:14.934287",
     "status": "completed"
    },
    "tags": []
   },
   "outputs": [
    {
     "data": {
      "text/plain": [
       "((1526659, 920), (10, 920))"
      ]
     },
     "execution_count": 26,
     "metadata": {},
     "output_type": "execute_result"
    }
   ],
   "source": [
    "#There are NaN values, which can be handled by XGBoost, CatBoost and LGB\n",
    "X.shape, test_data.shape"
   ]
  },
  {
   "cell_type": "code",
   "execution_count": 27,
   "id": "21097682",
   "metadata": {
    "execution": {
     "iopub.execute_input": "2024-05-08T11:21:15.004937Z",
     "iopub.status.busy": "2024-05-08T11:21:15.004184Z",
     "iopub.status.idle": "2024-05-08T11:21:15.938872Z",
     "shell.execute_reply": "2024-05-08T11:21:15.937714Z"
    },
    "papermill": {
     "duration": 0.957849,
     "end_time": "2024-05-08T11:21:15.941562",
     "exception": false,
     "start_time": "2024-05-08T11:21:14.983713",
     "status": "completed"
    },
    "tags": []
   },
   "outputs": [
    {
     "data": {
      "text/plain": [
       "((1373993, 920), (152666, 920), (1373993,), (152666,))"
      ]
     },
     "execution_count": 27,
     "metadata": {},
     "output_type": "execute_result"
    }
   ],
   "source": [
    "from sklearn.model_selection import train_test_split\n",
    "X_train, X_test, y_train, y_test = train_test_split(X, y, test_size=0.1, random_state=42)\n",
    "X_train.shape, X_test.shape, y_train.shape, y_test.shape"
   ]
  },
  {
   "cell_type": "markdown",
   "id": "7e453ded",
   "metadata": {
    "papermill": {
     "duration": 0.018381,
     "end_time": "2024-05-08T11:21:15.979113",
     "exception": false,
     "start_time": "2024-05-08T11:21:15.960732",
     "status": "completed"
    },
    "tags": []
   },
   "source": [
    "# 3. XGBoost modelling"
   ]
  },
  {
   "cell_type": "code",
   "execution_count": 28,
   "id": "ae15786f",
   "metadata": {
    "execution": {
     "iopub.execute_input": "2024-05-08T11:21:16.015342Z",
     "iopub.status.busy": "2024-05-08T11:21:16.014087Z",
     "iopub.status.idle": "2024-05-08T11:21:16.232990Z",
     "shell.execute_reply": "2024-05-08T11:21:16.232012Z"
    },
    "papermill": {
     "duration": 0.239109,
     "end_time": "2024-05-08T11:21:16.235656",
     "exception": false,
     "start_time": "2024-05-08T11:21:15.996547",
     "status": "completed"
    },
    "tags": []
   },
   "outputs": [],
   "source": [
    "from sklearn.metrics import  roc_auc_score\n",
    "from xgboost import XGBClassifier"
   ]
  },
  {
   "cell_type": "code",
   "execution_count": 29,
   "id": "c9d9d89c",
   "metadata": {
    "execution": {
     "iopub.execute_input": "2024-05-08T11:21:16.270075Z",
     "iopub.status.busy": "2024-05-08T11:21:16.269419Z",
     "iopub.status.idle": "2024-05-08T11:21:16.276082Z",
     "shell.execute_reply": "2024-05-08T11:21:16.275135Z"
    },
    "papermill": {
     "duration": 0.026371,
     "end_time": "2024-05-08T11:21:16.278488",
     "exception": false,
     "start_time": "2024-05-08T11:21:16.252117",
     "status": "completed"
    },
    "tags": []
   },
   "outputs": [],
   "source": [
    "params2 = {\n",
    "    \"booster\": \"gbtree\",\n",
    "    \"objective\": \"binary:logistic\",\n",
    "    \"eval_metric\": \"auc\",\n",
    "    \"max_depth\": 10,\n",
    "    \"learning_rate\": 0.05,\n",
    "    \"n_estimators\": 1000,\n",
    "    \"colsample_bytree\": 0.8,\n",
    "    \"colsample_bynode\": 0.8,\n",
    "    \"alpha\": 0.1,  \n",
    "    \"lambda\": 10,  \n",
    "    #\"tree_method\": 'gpu_hist' if device == 'gpu' else 'auto',\n",
    "    \"random_state\": 42,\n",
    "    \"verbosity\": 0,\n",
    "    \"enable_categorical\":True,\n",
    "}"
   ]
  },
  {
   "cell_type": "code",
   "execution_count": 30,
   "id": "884f4af9",
   "metadata": {
    "execution": {
     "iopub.execute_input": "2024-05-08T11:21:16.312498Z",
     "iopub.status.busy": "2024-05-08T11:21:16.311617Z",
     "iopub.status.idle": "2024-05-08T11:25:44.554016Z",
     "shell.execute_reply": "2024-05-08T11:25:44.552082Z"
    },
    "papermill": {
     "duration": 268.280821,
     "end_time": "2024-05-08T11:25:44.575166",
     "exception": false,
     "start_time": "2024-05-08T11:21:16.294345",
     "status": "completed"
    },
    "tags": []
   },
   "outputs": [
    {
     "name": "stdout",
     "output_type": "stream",
     "text": [
      "ROC = 0.793\n",
      "CPU times: user 17min 10s, sys: 3.87 s, total: 17min 13s\n",
      "Wall time: 4min 28s\n"
     ]
    }
   ],
   "source": [
    "%%time\n",
    "xgb_classifier = XGBClassifier(**params2)\n",
    "#xgb_classifier = XGBClassifier()\n",
    "xgb_classifier.fit(X_train, y_train)\n",
    "\n",
    "y_pred2 = xgb_classifier.predict_proba(X_test)[:,1]\n",
    "auc_score_xgb = roc_auc_score(y_test, y_pred2)\n",
    "print(f'ROC = {auc_score_xgb.round(3)}')"
   ]
  },
  {
   "cell_type": "code",
   "execution_count": 31,
   "id": "74dbd07c",
   "metadata": {
    "execution": {
     "iopub.execute_input": "2024-05-08T11:25:44.611383Z",
     "iopub.status.busy": "2024-05-08T11:25:44.610612Z",
     "iopub.status.idle": "2024-05-08T11:25:45.246126Z",
     "shell.execute_reply": "2024-05-08T11:25:45.245073Z"
    },
    "papermill": {
     "duration": 0.657995,
     "end_time": "2024-05-08T11:25:45.248832",
     "exception": false,
     "start_time": "2024-05-08T11:25:44.590837",
     "status": "completed"
    },
    "tags": []
   },
   "outputs": [],
   "source": [
    "#https://xgboost.readthedocs.io/en/stable/tutorials/saving_model.html\n",
    "xgb_classifier.save_model('/kaggle/working/xgb_no_params.json')\n",
    "\n",
    "#Loading\n",
    "#xgb_model = xgb.Booster()\n",
    "#xgb_model.load_model(path_to_file)"
   ]
  },
  {
   "cell_type": "markdown",
   "id": "30a59222",
   "metadata": {
    "papermill": {
     "duration": 0.015281,
     "end_time": "2024-05-08T11:25:45.279985",
     "exception": false,
     "start_time": "2024-05-08T11:25:45.264704",
     "status": "completed"
    },
    "tags": []
   },
   "source": [
    "# 4. CatBoostClassifier"
   ]
  },
  {
   "cell_type": "code",
   "execution_count": 32,
   "id": "8b68e2d0",
   "metadata": {
    "execution": {
     "iopub.execute_input": "2024-05-08T11:25:45.313608Z",
     "iopub.status.busy": "2024-05-08T11:25:45.312685Z",
     "iopub.status.idle": "2024-05-08T11:31:32.293424Z",
     "shell.execute_reply": "2024-05-08T11:31:32.292125Z"
    },
    "papermill": {
     "duration": 347.01634,
     "end_time": "2024-05-08T11:31:32.311840",
     "exception": false,
     "start_time": "2024-05-08T11:25:45.295500",
     "status": "completed"
    },
    "tags": []
   },
   "outputs": [
    {
     "name": "stdout",
     "output_type": "stream",
     "text": [
      "ROC = 0.789\n",
      "CPU times: user 21min 39s, sys: 17 s, total: 21min 56s\n",
      "Wall time: 5min 46s\n"
     ]
    }
   ],
   "source": [
    "%%time\n",
    "#https://catboost.ai/en/docs/concepts/python-reference_catboostclassifier_fit\n",
    "\n",
    "from catboost import CatBoostClassifier\n",
    "clf = CatBoostClassifier(eval_metric='AUC')\n",
    "#clf = CatBoostClassifier()\n",
    "\n",
    "clf.fit(X_train, y=y_train, eval_set = (X_test, y_test), verbose = False)\n",
    "y_pred_valid = clf.predict_proba(X_test)[:,1]\n",
    "auc_score_cat = roc_auc_score(y_test, y_pred_valid)\n",
    "print(f'ROC = {auc_score_cat.round(3)}')"
   ]
  },
  {
   "cell_type": "code",
   "execution_count": 33,
   "id": "0275da23",
   "metadata": {
    "execution": {
     "iopub.execute_input": "2024-05-08T11:31:32.346745Z",
     "iopub.status.busy": "2024-05-08T11:31:32.345550Z",
     "iopub.status.idle": "2024-05-08T11:31:32.367497Z",
     "shell.execute_reply": "2024-05-08T11:31:32.366479Z"
    },
    "papermill": {
     "duration": 0.042567,
     "end_time": "2024-05-08T11:31:32.370654",
     "exception": false,
     "start_time": "2024-05-08T11:31:32.328087",
     "status": "completed"
    },
    "tags": []
   },
   "outputs": [],
   "source": [
    "#https://stackoverflow.com/questions/51895761/how-to-correctly-load-pretrained-model-in-catboost-in-python\n",
    "clf.save_model('/kaggle/working/catboost_no_params')"
   ]
  },
  {
   "cell_type": "markdown",
   "id": "d2a4d3e9",
   "metadata": {
    "papermill": {
     "duration": 0.016068,
     "end_time": "2024-05-08T11:31:32.403337",
     "exception": false,
     "start_time": "2024-05-08T11:31:32.387269",
     "status": "completed"
    },
    "tags": []
   },
   "source": [
    "# LGB"
   ]
  },
  {
   "cell_type": "code",
   "execution_count": 34,
   "id": "c0456e3c",
   "metadata": {
    "execution": {
     "iopub.execute_input": "2024-05-08T11:31:32.439118Z",
     "iopub.status.busy": "2024-05-08T11:31:32.438281Z",
     "iopub.status.idle": "2024-05-08T11:31:32.444884Z",
     "shell.execute_reply": "2024-05-08T11:31:32.444054Z"
    },
    "papermill": {
     "duration": 0.027841,
     "end_time": "2024-05-08T11:31:32.447349",
     "exception": false,
     "start_time": "2024-05-08T11:31:32.419508",
     "status": "completed"
    },
    "tags": []
   },
   "outputs": [],
   "source": [
    "params = {\n",
    "    \"boosting_type\": \"gbdt\",\n",
    "    \"objective\": \"binary\",\n",
    "    \"metric\": \"auc\",\n",
    "    \"max_depth\": 10,  \n",
    "    \"learning_rate\": 0.05,\n",
    "    \"n_estimators\": 2000,  \n",
    "    \"colsample_bytree\": 0.8,\n",
    "    \"colsample_bynode\": 0.8,\n",
    "    \"verbose\": -1,\n",
    "    \"random_state\": 42,\n",
    "    \"reg_alpha\": 0.1,\n",
    "    \"reg_lambda\": 10,\n",
    "    \"extra_trees\":True,\n",
    "    'num_leaves':64,\n",
    "    #\"device\": device, \n",
    "    \"verbose\": -1,\n",
    "}"
   ]
  },
  {
   "cell_type": "code",
   "execution_count": 35,
   "id": "ca4d4d6a",
   "metadata": {
    "execution": {
     "iopub.execute_input": "2024-05-08T11:31:32.483306Z",
     "iopub.status.busy": "2024-05-08T11:31:32.482461Z",
     "iopub.status.idle": "2024-05-08T11:41:43.937418Z",
     "shell.execute_reply": "2024-05-08T11:41:43.936316Z"
    },
    "papermill": {
     "duration": 611.49218,
     "end_time": "2024-05-08T11:41:43.956696",
     "exception": false,
     "start_time": "2024-05-08T11:31:32.464516",
     "status": "completed"
    },
    "tags": []
   },
   "outputs": [
    {
     "name": "stdout",
     "output_type": "stream",
     "text": [
      "Training until validation scores don't improve for 100 rounds\n",
      "[200]\tvalid_0's auc: 0.785665\n",
      "[400]\tvalid_0's auc: 0.789824\n",
      "[600]\tvalid_0's auc: 0.791674\n",
      "[800]\tvalid_0's auc: 0.792733\n",
      "[1000]\tvalid_0's auc: 0.793127\n",
      "[1200]\tvalid_0's auc: 0.793846\n",
      "[1400]\tvalid_0's auc: 0.794106\n",
      "[1600]\tvalid_0's auc: 0.794229\n",
      "Early stopping, best iteration is:\n",
      "[1686]\tvalid_0's auc: 0.794343\n",
      "AUC 0.7943432696285865\n"
     ]
    }
   ],
   "source": [
    "import lightgbm as lgb\n",
    "from lightgbm import LGBMClassifier\n",
    "\n",
    "lgb_model = lgb.LGBMClassifier(**params)\n",
    "#lgb_model = lgb.LGBMClassifier()\n",
    "lgb_model.fit(\n",
    "        X_train, y_train,\n",
    "        eval_set = [(X_test, y_test)],\n",
    "        callbacks = [lgb.log_evaluation(200), lgb.early_stopping(100)] )\n",
    "y_pred_lgb = lgb_model.predict_proba(X_test)[:,1]\n",
    "auc_lgb = roc_auc_score(y_test, y_pred_lgb)\n",
    "print(f'AUC {auc_lgb}')"
   ]
  },
  {
   "cell_type": "code",
   "execution_count": 36,
   "id": "4be5c9ce",
   "metadata": {
    "execution": {
     "iopub.execute_input": "2024-05-08T11:41:43.994218Z",
     "iopub.status.busy": "2024-05-08T11:41:43.993108Z",
     "iopub.status.idle": "2024-05-08T11:41:44.541066Z",
     "shell.execute_reply": "2024-05-08T11:41:44.539844Z"
    },
    "papermill": {
     "duration": 0.569796,
     "end_time": "2024-05-08T11:41:44.543698",
     "exception": false,
     "start_time": "2024-05-08T11:41:43.973902",
     "status": "completed"
    },
    "tags": []
   },
   "outputs": [
    {
     "name": "stdout",
     "output_type": "stream",
     "text": [
      "Trained LGB model was saved!\n"
     ]
    }
   ],
   "source": [
    "import pickle\n",
    "file = '/kaggle/working/lgb_model.pkl'\n",
    "pickle.dump(lgb_model, open(file, 'wb'))\n",
    "print('Trained LGB model was saved!')"
   ]
  },
  {
   "cell_type": "markdown",
   "id": "c2830bd3",
   "metadata": {
    "papermill": {
     "duration": 0.018333,
     "end_time": "2024-05-08T11:41:44.580119",
     "exception": false,
     "start_time": "2024-05-08T11:41:44.561786",
     "status": "completed"
    },
    "tags": []
   },
   "source": [
    "# 5. Submit"
   ]
  },
  {
   "cell_type": "code",
   "execution_count": 37,
   "id": "f1659d5a",
   "metadata": {
    "execution": {
     "iopub.execute_input": "2024-05-08T11:41:44.618127Z",
     "iopub.status.busy": "2024-05-08T11:41:44.617365Z",
     "iopub.status.idle": "2024-05-08T11:41:44.645401Z",
     "shell.execute_reply": "2024-05-08T11:41:44.644457Z"
    },
    "papermill": {
     "duration": 0.04962,
     "end_time": "2024-05-08T11:41:44.647943",
     "exception": false,
     "start_time": "2024-05-08T11:41:44.598323",
     "status": "completed"
    },
    "tags": []
   },
   "outputs": [],
   "source": [
    "pred_xgb = xgb_classifier.predict_proba(test_data)[:, 1]\n",
    "pred_cat = clf.predict_proba(test_data)[:, 1]\n",
    "pred_lgb = lgb_model.predict_proba(test_data)[:,1]\n",
    "predictions = (pred_xgb+pred_cat+pred_lgb)/3"
   ]
  },
  {
   "cell_type": "code",
   "execution_count": 38,
   "id": "1ede4328",
   "metadata": {
    "execution": {
     "iopub.execute_input": "2024-05-08T11:41:44.685955Z",
     "iopub.status.busy": "2024-05-08T11:41:44.685335Z",
     "iopub.status.idle": "2024-05-08T11:41:44.727163Z",
     "shell.execute_reply": "2024-05-08T11:41:44.726166Z"
    },
    "papermill": {
     "duration": 0.063182,
     "end_time": "2024-05-08T11:41:44.729400",
     "exception": false,
     "start_time": "2024-05-08T11:41:44.666218",
     "status": "completed"
    },
    "tags": []
   },
   "outputs": [
    {
     "data": {
      "text/html": [
       "<div>\n",
       "<style scoped>\n",
       "    .dataframe tbody tr th:only-of-type {\n",
       "        vertical-align: middle;\n",
       "    }\n",
       "\n",
       "    .dataframe tbody tr th {\n",
       "        vertical-align: top;\n",
       "    }\n",
       "\n",
       "    .dataframe thead th {\n",
       "        text-align: right;\n",
       "    }\n",
       "</style>\n",
       "<table border=\"1\" class=\"dataframe\">\n",
       "  <thead>\n",
       "    <tr style=\"text-align: right;\">\n",
       "      <th></th>\n",
       "      <th>case_id</th>\n",
       "      <th>score</th>\n",
       "    </tr>\n",
       "  </thead>\n",
       "  <tbody>\n",
       "    <tr>\n",
       "      <th>0</th>\n",
       "      <td>57543</td>\n",
       "      <td>0.011171</td>\n",
       "    </tr>\n",
       "    <tr>\n",
       "      <th>1</th>\n",
       "      <td>57549</td>\n",
       "      <td>0.021459</td>\n",
       "    </tr>\n",
       "    <tr>\n",
       "      <th>2</th>\n",
       "      <td>57551</td>\n",
       "      <td>0.005624</td>\n",
       "    </tr>\n",
       "    <tr>\n",
       "      <th>3</th>\n",
       "      <td>57552</td>\n",
       "      <td>0.012382</td>\n",
       "    </tr>\n",
       "    <tr>\n",
       "      <th>4</th>\n",
       "      <td>57569</td>\n",
       "      <td>0.097721</td>\n",
       "    </tr>\n",
       "  </tbody>\n",
       "</table>\n",
       "</div>"
      ],
      "text/plain": [
       "   case_id     score\n",
       "0    57543  0.011171\n",
       "1    57549  0.021459\n",
       "2    57551  0.005624\n",
       "3    57552  0.012382\n",
       "4    57569  0.097721"
      ]
     },
     "execution_count": 38,
     "metadata": {},
     "output_type": "execute_result"
    }
   ],
   "source": [
    "subs = pd.read_csv('/kaggle/input/home-credit-credit-risk-model-stability/sample_submission.csv')\n",
    "subs['score'] = predictions\n",
    "subs.to_csv('submission.csv', index=False)\n",
    "subs.head()"
   ]
  }
 ],
 "metadata": {
  "kaggle": {
   "accelerator": "none",
   "dataSources": [
    {
     "databundleVersionId": 7921029,
     "sourceId": 50160,
     "sourceType": "competition"
    }
   ],
   "dockerImageVersionId": 30698,
   "isGpuEnabled": false,
   "isInternetEnabled": false,
   "language": "python",
   "sourceType": "notebook"
  },
  "kernelspec": {
   "display_name": "Python 3",
   "language": "python",
   "name": "python3"
  },
  "language_info": {
   "codemirror_mode": {
    "name": "ipython",
    "version": 3
   },
   "file_extension": ".py",
   "mimetype": "text/x-python",
   "name": "python",
   "nbconvert_exporter": "python",
   "pygments_lexer": "ipython3",
   "version": "3.10.13"
  },
  "papermill": {
   "default_parameters": {},
   "duration": 1300.927945,
   "end_time": "2024-05-08T11:41:46.579131",
   "environment_variables": {},
   "exception": null,
   "input_path": "__notebook__.ipynb",
   "output_path": "__notebook__.ipynb",
   "parameters": {},
   "start_time": "2024-05-08T11:20:05.651186",
   "version": "2.5.0"
  }
 },
 "nbformat": 4,
 "nbformat_minor": 5
}
