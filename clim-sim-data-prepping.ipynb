{
 "cells": [
  {
   "cell_type": "code",
   "execution_count": 1,
   "id": "9888c32a",
   "metadata": {
    "_cell_guid": "b1076dfc-b9ad-4769-8c92-a6c4dae69d19",
    "_uuid": "8f2839f25d086af736a60e9eeb907d3b93b6e0e5",
    "execution": {
     "iopub.execute_input": "2024-05-08T11:53:59.078156Z",
     "iopub.status.busy": "2024-05-08T11:53:59.077761Z",
     "iopub.status.idle": "2024-05-08T11:54:13.837047Z",
     "shell.execute_reply": "2024-05-08T11:54:13.835927Z"
    },
    "papermill": {
     "duration": 14.766941,
     "end_time": "2024-05-08T11:54:13.839870",
     "exception": false,
     "start_time": "2024-05-08T11:53:59.072929",
     "status": "completed"
    },
    "tags": []
   },
   "outputs": [
    {
     "name": "stderr",
     "output_type": "stream",
     "text": [
      "2024-05-08 11:54:01.147846: E external/local_xla/xla/stream_executor/cuda/cuda_dnn.cc:9261] Unable to register cuDNN factory: Attempting to register factory for plugin cuDNN when one has already been registered\n",
      "2024-05-08 11:54:01.147975: E external/local_xla/xla/stream_executor/cuda/cuda_fft.cc:607] Unable to register cuFFT factory: Attempting to register factory for plugin cuFFT when one has already been registered\n",
      "2024-05-08 11:54:01.301499: E external/local_xla/xla/stream_executor/cuda/cuda_blas.cc:1515] Unable to register cuBLAS factory: Attempting to register factory for plugin cuBLAS when one has already been registered\n"
     ]
    }
   ],
   "source": [
    "import tensorflow as tf\n",
    "from tensorflow.keras.callbacks import EarlyStopping, ModelCheckpoint\n",
    "from tensorflow.keras.callbacks import LearningRateScheduler, ReduceLROnPlateau\n",
    "from tensorflow.keras import backend as K\n",
    "#import cudf (#only works if GPU is on)\n",
    "import gc\n",
    "import os\n",
    "import polars as pl\n",
    "import pandas as pd\n",
    "import numpy as np\n",
    "from sklearn.model_selection import KFold\n",
    "import matplotlib.pyplot as plt"
   ]
  },
  {
   "cell_type": "code",
   "execution_count": 2,
   "id": "2db36432",
   "metadata": {
    "execution": {
     "iopub.execute_input": "2024-05-08T11:54:13.848718Z",
     "iopub.status.busy": "2024-05-08T11:54:13.847399Z",
     "iopub.status.idle": "2024-05-08T11:54:13.866431Z",
     "shell.execute_reply": "2024-05-08T11:54:13.865382Z"
    },
    "papermill": {
     "duration": 0.025539,
     "end_time": "2024-05-08T11:54:13.868698",
     "exception": false,
     "start_time": "2024-05-08T11:54:13.843159",
     "status": "completed"
    },
    "tags": []
   },
   "outputs": [
    {
     "data": {
      "text/plain": [
       "(17, 1)"
      ]
     },
     "execution_count": 2,
     "metadata": {},
     "output_type": "execute_result"
    }
   ],
   "source": [
    "# Dataset: https://www.kaggle.com/datasets/titericz/leap-dataset-giba\n",
    "# This dataset was created using all train and test data.\n",
    "# Train is 10M samples and was split in 17 parquet files. Test is a single parquet file.\n",
    "from glob import glob\n",
    "train_files = sorted(glob(\"/kaggle/input/leap-dataset-giba/train_batch/*.parquet\"))\n",
    "test_files = glob(\"/kaggle/input/leap-dataset-giba/test_batch/*.parquet\")\n",
    "len(train_files), len(test_files)"
   ]
  },
  {
   "cell_type": "code",
   "execution_count": 3,
   "id": "b6b1feec",
   "metadata": {
    "execution": {
     "iopub.execute_input": "2024-05-08T11:54:13.876375Z",
     "iopub.status.busy": "2024-05-08T11:54:13.875993Z",
     "iopub.status.idle": "2024-05-08T11:54:52.123520Z",
     "shell.execute_reply": "2024-05-08T11:54:52.122412Z"
    },
    "papermill": {
     "duration": 38.256028,
     "end_time": "2024-05-08T11:54:52.127909",
     "exception": false,
     "start_time": "2024-05-08T11:54:13.871881",
     "status": "completed"
    },
    "tags": []
   },
   "outputs": [
    {
     "data": {
      "text/plain": [
       "((1250000, 859), (625000, 859), (625000, 491))"
      ]
     },
     "execution_count": 3,
     "metadata": {},
     "output_type": "execute_result"
    }
   ],
   "source": [
    "# Train on 2/17 of the full dataset\n",
    "train = pd.read_parquet(train_files[:2]).astype('float32')\n",
    "#train = cudf.from_pandas(train) # Send to GPU for speedup\n",
    "gc.collect()\n",
    "\n",
    "# Validate on last parquet file (625000 samples)\n",
    "valid = pd.read_parquet(train_files[-1]).astype('float32')\n",
    "#valid = cudf.from_pandas(valid) # Send to GPU for speedup\n",
    "gc.collect()\n",
    "\n",
    "test  = pd.read_parquet(test_files[0]).astype('float32')\n",
    "#test = cudf.from_pandas(test) # Send to GPU for speedup\n",
    "gc.collect()\n",
    "\n",
    "train.shape, valid.shape, test.shape"
   ]
  },
  {
   "cell_type": "code",
   "execution_count": 4,
   "id": "b2e63022",
   "metadata": {
    "execution": {
     "iopub.execute_input": "2024-05-08T11:54:52.135778Z",
     "iopub.status.busy": "2024-05-08T11:54:52.135383Z",
     "iopub.status.idle": "2024-05-08T11:54:52.141481Z",
     "shell.execute_reply": "2024-05-08T11:54:52.140203Z"
    },
    "papermill": {
     "duration": 0.012596,
     "end_time": "2024-05-08T11:54:52.143697",
     "exception": false,
     "start_time": "2024-05-08T11:54:52.131101",
     "status": "completed"
    },
    "tags": []
   },
   "outputs": [
    {
     "name": "stdout",
     "output_type": "stream",
     "text": [
      "Feature col ends here pbuf_N2O_26\n",
      "Target col starts here ptend_t_0\n"
     ]
    }
   ],
   "source": [
    "#The end of feature columns\n",
    "print(f'Feature col ends here {train.columns[490]}') \n",
    "#The start of target\n",
    "print(f'Target col starts here {train.columns[491]}')"
   ]
  },
  {
   "cell_type": "code",
   "execution_count": 5,
   "id": "8cf2329e",
   "metadata": {
    "execution": {
     "iopub.execute_input": "2024-05-08T11:54:52.151374Z",
     "iopub.status.busy": "2024-05-08T11:54:52.151028Z",
     "iopub.status.idle": "2024-05-08T11:54:52.158251Z",
     "shell.execute_reply": "2024-05-08T11:54:52.157244Z"
    },
    "papermill": {
     "duration": 0.01359,
     "end_time": "2024-05-08T11:54:52.160471",
     "exception": false,
     "start_time": "2024-05-08T11:54:52.146881",
     "status": "completed"
    },
    "tags": []
   },
   "outputs": [
    {
     "data": {
      "text/plain": [
       "(Index(['sample_id', 'state_t_0', 'state_t_1', 'state_t_2', 'state_t_3',\n",
       "        'state_t_4', 'state_t_5', 'state_t_6', 'state_t_7', 'state_t_8',\n",
       "        ...\n",
       "        'pbuf_N2O_17', 'pbuf_N2O_18', 'pbuf_N2O_19', 'pbuf_N2O_20',\n",
       "        'pbuf_N2O_21', 'pbuf_N2O_22', 'pbuf_N2O_23', 'pbuf_N2O_24',\n",
       "        'pbuf_N2O_25', 'pbuf_N2O_26'],\n",
       "       dtype='object', length=491),\n",
       " Index(['ptend_t_0', 'ptend_t_1', 'ptend_t_2', 'ptend_t_3', 'ptend_t_4',\n",
       "        'ptend_t_5', 'ptend_t_6', 'ptend_t_7', 'ptend_t_8', 'ptend_t_9',\n",
       "        ...\n",
       "        'ptend_v_58', 'ptend_v_59', 'cam_out_NETSW', 'cam_out_FLWDS',\n",
       "        'cam_out_PRECSC', 'cam_out_PRECC', 'cam_out_SOLS', 'cam_out_SOLL',\n",
       "        'cam_out_SOLSD', 'cam_out_SOLLD'],\n",
       "       dtype='object', length=368))"
      ]
     },
     "execution_count": 5,
     "metadata": {},
     "output_type": "execute_result"
    }
   ],
   "source": [
    "feat_col = train.columns[:491]\n",
    "target = train.columns[491:]\n",
    "feat_col, target"
   ]
  },
  {
   "cell_type": "code",
   "execution_count": 6,
   "id": "e84617d1",
   "metadata": {
    "execution": {
     "iopub.execute_input": "2024-05-08T11:54:52.169644Z",
     "iopub.status.busy": "2024-05-08T11:54:52.168585Z",
     "iopub.status.idle": "2024-05-08T11:54:54.737157Z",
     "shell.execute_reply": "2024-05-08T11:54:54.736175Z"
    },
    "papermill": {
     "duration": 2.575727,
     "end_time": "2024-05-08T11:54:54.739618",
     "exception": false,
     "start_time": "2024-05-08T11:54:52.163891",
     "status": "completed"
    },
    "tags": []
   },
   "outputs": [],
   "source": [
    "train_feat = train[feat_col]\n",
    "train_target = train[target]\n",
    "valid_feat = valid[feat_col]\n",
    "valid_target = valid[target]"
   ]
  },
  {
   "cell_type": "code",
   "execution_count": 7,
   "id": "09bee666",
   "metadata": {
    "execution": {
     "iopub.execute_input": "2024-05-08T11:54:54.747957Z",
     "iopub.status.busy": "2024-05-08T11:54:54.747555Z",
     "iopub.status.idle": "2024-05-08T11:54:57.303631Z",
     "shell.execute_reply": "2024-05-08T11:54:57.302595Z"
    },
    "papermill": {
     "duration": 2.562925,
     "end_time": "2024-05-08T11:54:57.305995",
     "exception": false,
     "start_time": "2024-05-08T11:54:54.743070",
     "status": "completed"
    },
    "tags": []
   },
   "outputs": [
    {
     "data": {
      "text/plain": [
       "((1250000, 491), (1250000, 368), (625000, 491), (625000, 368), (625000, 491))"
      ]
     },
     "execution_count": 7,
     "metadata": {},
     "output_type": "execute_result"
    }
   ],
   "source": [
    "#X_train = train.select(feat_col).to_numpy()\n",
    "#y = train_df.select(TARGET_COLS).to_numpy()\n",
    "X_train = train_feat.to_numpy()\n",
    "y_train = train_target.to_numpy()\n",
    "X_val = valid_feat.to_numpy()\n",
    "y_val = valid_target.to_numpy()\n",
    "test_feats = test.to_numpy()\n",
    "\n",
    "X_train.shape, y_train.shape, X_val.shape, y_val.shape, test_feats.shape"
   ]
  },
  {
   "cell_type": "code",
   "execution_count": 8,
   "id": "12936144",
   "metadata": {
    "execution": {
     "iopub.execute_input": "2024-05-08T11:54:57.314856Z",
     "iopub.status.busy": "2024-05-08T11:54:57.314469Z",
     "iopub.status.idle": "2024-05-08T11:55:20.050777Z",
     "shell.execute_reply": "2024-05-08T11:55:20.049470Z"
    },
    "papermill": {
     "duration": 22.743829,
     "end_time": "2024-05-08T11:55:20.053626",
     "exception": false,
     "start_time": "2024-05-08T11:54:57.309797",
     "status": "completed"
    },
    "tags": []
   },
   "outputs": [],
   "source": [
    "# Save data to files\n",
    "np.save('clsm_Xtrain', X_train)\n",
    "np.save('clsm_ytrain', y_train)\n",
    "np.save('clsm_Xval', X_val)\n",
    "np.save('clsm_yval', y_val)\n",
    "np.save('clsm_test_feats', test_feats)"
   ]
  }
 ],
 "metadata": {
  "kaggle": {
   "accelerator": "none",
   "dataSources": [
    {
     "datasetId": 4865495,
     "sourceId": 8210320,
     "sourceType": "datasetVersion"
    }
   ],
   "dockerImageVersionId": 30698,
   "isGpuEnabled": false,
   "isInternetEnabled": true,
   "language": "python",
   "sourceType": "notebook"
  },
  "kernelspec": {
   "display_name": "Python 3",
   "language": "python",
   "name": "python3"
  },
  "language_info": {
   "codemirror_mode": {
    "name": "ipython",
    "version": 3
   },
   "file_extension": ".py",
   "mimetype": "text/x-python",
   "name": "python",
   "nbconvert_exporter": "python",
   "pygments_lexer": "ipython3",
   "version": "3.10.13"
  },
  "papermill": {
   "default_parameters": {},
   "duration": 91.896401,
   "end_time": "2024-05-08T11:55:28.283275",
   "environment_variables": {},
   "exception": null,
   "input_path": "__notebook__.ipynb",
   "output_path": "__notebook__.ipynb",
   "parameters": {},
   "start_time": "2024-05-08T11:53:56.386874",
   "version": "2.5.0"
  }
 },
 "nbformat": 4,
 "nbformat_minor": 5
}
