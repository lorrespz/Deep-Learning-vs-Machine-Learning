{
 "cells": [
  {
   "cell_type": "markdown",
   "id": "aa8be607",
   "metadata": {
    "papermill": {
     "duration": 0.017472,
     "end_time": "2024-05-09T06:28:00.941573",
     "exception": false,
     "start_time": "2024-05-09T06:28:00.924101",
     "status": "completed"
    },
    "tags": []
   },
   "source": [
    "Credit:\n",
    "\n",
    "https://www.kaggle.com/code/lorresprz/home-credit-lgb-cat-ensemble\n",
    "\n",
    "https://www.kaggle.com/code/jetakow/home-credit-2024-starter-notebook"
   ]
  },
  {
   "cell_type": "code",
   "execution_count": 1,
   "id": "85877c3b",
   "metadata": {
    "execution": {
     "iopub.execute_input": "2024-05-09T06:28:00.974487Z",
     "iopub.status.busy": "2024-05-09T06:28:00.974107Z",
     "iopub.status.idle": "2024-05-09T06:28:04.791402Z",
     "shell.execute_reply": "2024-05-09T06:28:04.790273Z"
    },
    "papermill": {
     "duration": 3.837621,
     "end_time": "2024-05-09T06:28:04.794683",
     "exception": false,
     "start_time": "2024-05-09T06:28:00.957062",
     "status": "completed"
    },
    "tags": []
   },
   "outputs": [],
   "source": [
    "import polars as pl\n",
    "import numpy as np\n",
    "import pandas as pd\n",
    "import lightgbm as lgb\n",
    "from sklearn.model_selection import train_test_split\n",
    "from sklearn.metrics import roc_auc_score \n",
    "\n",
    "dataPath = \"/kaggle/input/home-credit-credit-risk-model-stability/\""
   ]
  },
  {
   "cell_type": "markdown",
   "id": "47b57013",
   "metadata": {
    "papermill": {
     "duration": 0.014875,
     "end_time": "2024-05-09T06:28:04.825149",
     "exception": false,
     "start_time": "2024-05-09T06:28:04.810274",
     "status": "completed"
    },
    "tags": []
   },
   "source": [
    "# Data preprocessing functions"
   ]
  },
  {
   "cell_type": "code",
   "execution_count": 2,
   "id": "34242205",
   "metadata": {
    "execution": {
     "iopub.execute_input": "2024-05-09T06:28:04.858746Z",
     "iopub.status.busy": "2024-05-09T06:28:04.858142Z",
     "iopub.status.idle": "2024-05-09T06:28:04.868213Z",
     "shell.execute_reply": "2024-05-09T06:28:04.867026Z"
    },
    "papermill": {
     "duration": 0.02925,
     "end_time": "2024-05-09T06:28:04.870853",
     "exception": false,
     "start_time": "2024-05-09T06:28:04.841603",
     "status": "completed"
    },
    "tags": []
   },
   "outputs": [],
   "source": [
    "def set_table_dtypes(df: pl.DataFrame) -> pl.DataFrame:\n",
    "    # implement here all desired dtypes for tables\n",
    "    # the following is just an example\n",
    "    for col in df.columns:\n",
    "        # last letter of column name will help you determine the type\n",
    "        if col[-1] in (\"P\", \"A\"):\n",
    "            df = df.with_columns(pl.col(col).cast(pl.Float64).alias(col))\n",
    "\n",
    "    return df\n",
    "\n",
    "#this is to convert string, object dtype to categorical which is one-hot-encoded later\n",
    "def convert_strings(df: pd.DataFrame) -> pd.DataFrame:\n",
    "    for col in df.columns:  \n",
    "        if df[col].dtype.name in ['object', 'string']:\n",
    "            df[col] = df[col].astype(\"string\").astype('category')\n",
    "            current_categories = df[col].cat.categories\n",
    "            new_categories = current_categories.to_list() + [\"Unknown\"]\n",
    "            new_dtype = pd.CategoricalDtype(categories=new_categories, ordered=True)\n",
    "            df[col] = df[col].astype(new_dtype)\n",
    "    return df"
   ]
  },
  {
   "cell_type": "markdown",
   "id": "0dda8b1f",
   "metadata": {
    "papermill": {
     "duration": 0.014849,
     "end_time": "2024-05-09T06:28:04.900944",
     "exception": false,
     "start_time": "2024-05-09T06:28:04.886095",
     "status": "completed"
    },
    "tags": []
   },
   "source": [
    "# Data Loading"
   ]
  },
  {
   "cell_type": "code",
   "execution_count": 3,
   "id": "b56bfc95",
   "metadata": {
    "execution": {
     "iopub.execute_input": "2024-05-09T06:28:04.933352Z",
     "iopub.status.busy": "2024-05-09T06:28:04.932931Z",
     "iopub.status.idle": "2024-05-09T06:28:22.534720Z",
     "shell.execute_reply": "2024-05-09T06:28:22.533464Z"
    },
    "papermill": {
     "duration": 17.621475,
     "end_time": "2024-05-09T06:28:22.537508",
     "exception": false,
     "start_time": "2024-05-09T06:28:04.916033",
     "status": "completed"
    },
    "tags": []
   },
   "outputs": [],
   "source": [
    "train_basetable = pl.read_csv(dataPath + \"csv_files/train/train_base.csv\")\n",
    "train_static = pl.concat(\n",
    "    [\n",
    "        pl.read_csv(dataPath + \"csv_files/train/train_static_0_0.csv\").pipe(set_table_dtypes),\n",
    "        pl.read_csv(dataPath + \"csv_files/train/train_static_0_1.csv\").pipe(set_table_dtypes),\n",
    "    ],\n",
    "    how=\"vertical_relaxed\",\n",
    ")\n",
    "train_static_cb = pl.read_csv(dataPath + \"csv_files/train/train_static_cb_0.csv\").pipe(set_table_dtypes)\n",
    "#Depth 1\n",
    "train_person_1 = pl.read_csv(dataPath + \"csv_files/train/train_person_1.csv\").pipe(set_table_dtypes) \n",
    "train_credit_bureau_b_2 = pl.read_csv(dataPath + \"csv_files/train/train_credit_bureau_b_2.csv\").pipe(set_table_dtypes) "
   ]
  },
  {
   "cell_type": "code",
   "execution_count": 4,
   "id": "d223215e",
   "metadata": {
    "execution": {
     "iopub.execute_input": "2024-05-09T06:28:22.570348Z",
     "iopub.status.busy": "2024-05-09T06:28:22.569939Z",
     "iopub.status.idle": "2024-05-09T06:28:22.633505Z",
     "shell.execute_reply": "2024-05-09T06:28:22.632399Z"
    },
    "papermill": {
     "duration": 0.083137,
     "end_time": "2024-05-09T06:28:22.636369",
     "exception": false,
     "start_time": "2024-05-09T06:28:22.553232",
     "status": "completed"
    },
    "tags": []
   },
   "outputs": [],
   "source": [
    "# Do the same thing for test data\n",
    "test_basetable = pl.read_csv(dataPath + \"csv_files/test/test_base.csv\")\n",
    "test_static = pl.concat(\n",
    "    [\n",
    "        pl.read_csv(dataPath + \"csv_files/test/test_static_0_0.csv\").pipe(set_table_dtypes),\n",
    "        pl.read_csv(dataPath + \"csv_files/test/test_static_0_1.csv\").pipe(set_table_dtypes),\n",
    "        pl.read_csv(dataPath + \"csv_files/test/test_static_0_2.csv\").pipe(set_table_dtypes),\n",
    "    ],\n",
    "    how=\"vertical_relaxed\",\n",
    ")\n",
    "test_static_cb = pl.read_csv(dataPath + \"csv_files/test/test_static_cb_0.csv\").pipe(set_table_dtypes)\n",
    "test_person_1 = pl.read_csv(dataPath + \"csv_files/test/test_person_1.csv\").pipe(set_table_dtypes) \n",
    "test_credit_bureau_b_2 = pl.read_csv(dataPath + \"csv_files/test/test_credit_bureau_b_2.csv\").pipe(set_table_dtypes) "
   ]
  },
  {
   "cell_type": "code",
   "execution_count": 5,
   "id": "c2fbd276",
   "metadata": {
    "execution": {
     "iopub.execute_input": "2024-05-09T06:28:22.670047Z",
     "iopub.status.busy": "2024-05-09T06:28:22.669617Z",
     "iopub.status.idle": "2024-05-09T06:28:22.678386Z",
     "shell.execute_reply": "2024-05-09T06:28:22.677248Z"
    },
    "papermill": {
     "duration": 0.029049,
     "end_time": "2024-05-09T06:28:22.681077",
     "exception": false,
     "start_time": "2024-05-09T06:28:22.652028",
     "status": "completed"
    },
    "tags": []
   },
   "outputs": [
    {
     "data": {
      "text/plain": [
       "((1526659, 168), (30, 168), (1526659, 5), (1500476, 53))"
      ]
     },
     "execution_count": 5,
     "metadata": {},
     "output_type": "execute_result"
    }
   ],
   "source": [
    "train_static.shape, test_static.shape, train_basetable.shape, train_static_cb.shape"
   ]
  },
  {
   "cell_type": "code",
   "execution_count": 6,
   "id": "cd9c5203",
   "metadata": {
    "execution": {
     "iopub.execute_input": "2024-05-09T06:28:22.714861Z",
     "iopub.status.busy": "2024-05-09T06:28:22.714477Z",
     "iopub.status.idle": "2024-05-09T06:28:22.723095Z",
     "shell.execute_reply": "2024-05-09T06:28:22.722008Z"
    },
    "papermill": {
     "duration": 0.028687,
     "end_time": "2024-05-09T06:28:22.726299",
     "exception": false,
     "start_time": "2024-05-09T06:28:22.697612",
     "status": "completed"
    },
    "tags": []
   },
   "outputs": [
    {
     "name": "stdout",
     "output_type": "stream",
     "text": [
      "Selected static cols: 61\n",
      "\n",
      "\n",
      "Selected static cb_cols: 9\n"
     ]
    }
   ],
   "source": [
    "# We will process in this examples only A-type, P-type and M-type columns, so we need to select them.\n",
    "selected_static_cols = []\n",
    "for col in train_static.columns:\n",
    "    if col[-1] in (\"A\", \"P\", \"M\"):\n",
    "        selected_static_cols.append(col)\n",
    "print(f'Selected static cols: {len(selected_static_cols)}')\n",
    "print('\\n')\n",
    "selected_static_cb_cols = []\n",
    "for col in train_static_cb.columns:\n",
    "    if col[-1] in (\"A\", \"P\", \"M\"):\n",
    "        selected_static_cb_cols.append(col)\n",
    "print(f'Selected static cb_cols: {len(selected_static_cb_cols)}')"
   ]
  },
  {
   "cell_type": "markdown",
   "id": "fd2d142e",
   "metadata": {
    "papermill": {
     "duration": 0.015352,
     "end_time": "2024-05-09T06:28:22.757603",
     "exception": false,
     "start_time": "2024-05-09T06:28:22.742251",
     "status": "completed"
    },
    "tags": []
   },
   "source": [
    "# Depth-1 data"
   ]
  },
  {
   "cell_type": "code",
   "execution_count": 7,
   "id": "3c2619aa",
   "metadata": {
    "execution": {
     "iopub.execute_input": "2024-05-09T06:28:22.790911Z",
     "iopub.status.busy": "2024-05-09T06:28:22.790527Z",
     "iopub.status.idle": "2024-05-09T06:28:22.798036Z",
     "shell.execute_reply": "2024-05-09T06:28:22.796845Z"
    },
    "papermill": {
     "duration": 0.027784,
     "end_time": "2024-05-09T06:28:22.800926",
     "exception": false,
     "start_time": "2024-05-09T06:28:22.773142",
     "status": "completed"
    },
    "tags": []
   },
   "outputs": [
    {
     "data": {
      "text/plain": [
       "['case_id',\n",
       " 'birth_259D',\n",
       " 'birthdate_87D',\n",
       " 'childnum_185L',\n",
       " 'contaddr_district_15M',\n",
       " 'contaddr_matchlist_1032L',\n",
       " 'contaddr_smempladdr_334L',\n",
       " 'contaddr_zipcode_807M',\n",
       " 'education_927M',\n",
       " 'empl_employedfrom_271D',\n",
       " 'empl_employedtotal_800L',\n",
       " 'empl_industry_691L',\n",
       " 'empladdr_district_926M',\n",
       " 'empladdr_zipcode_114M',\n",
       " 'familystate_447L',\n",
       " 'gender_992L',\n",
       " 'housetype_905L',\n",
       " 'housingtype_772L',\n",
       " 'incometype_1044T',\n",
       " 'isreference_387L',\n",
       " 'language1_981M',\n",
       " 'mainoccupationinc_384A',\n",
       " 'maritalst_703L',\n",
       " 'num_group1',\n",
       " 'personindex_1023L',\n",
       " 'persontype_1072L',\n",
       " 'persontype_792L',\n",
       " 'registaddr_district_1083M',\n",
       " 'registaddr_zipcode_184M',\n",
       " 'relationshiptoclient_415T',\n",
       " 'relationshiptoclient_642T',\n",
       " 'remitter_829L',\n",
       " 'role_1084L',\n",
       " 'role_993L',\n",
       " 'safeguarantyflag_411L',\n",
       " 'sex_738L',\n",
       " 'type_25L']"
      ]
     },
     "execution_count": 7,
     "metadata": {},
     "output_type": "execute_result"
    }
   ],
   "source": [
    "#Look at the depth 1 table\n",
    "train_person_1.columns"
   ]
  },
  {
   "cell_type": "code",
   "execution_count": 8,
   "id": "26bc2b3d",
   "metadata": {
    "execution": {
     "iopub.execute_input": "2024-05-09T06:28:22.834738Z",
     "iopub.status.busy": "2024-05-09T06:28:22.834309Z",
     "iopub.status.idle": "2024-05-09T06:28:23.981147Z",
     "shell.execute_reply": "2024-05-09T06:28:23.979943Z"
    },
    "papermill": {
     "duration": 1.167028,
     "end_time": "2024-05-09T06:28:23.984147",
     "exception": false,
     "start_time": "2024-05-09T06:28:22.817119",
     "status": "completed"
    },
    "tags": []
   },
   "outputs": [
    {
     "data": {
      "text/html": [
       "<div><style>\n",
       ".dataframe > thead > tr,\n",
       ".dataframe > tbody > tr {\n",
       "  text-align: right;\n",
       "  white-space: pre-wrap;\n",
       "}\n",
       "</style>\n",
       "<small>shape: (1_526_659, 3)</small><table border=\"1\" class=\"dataframe\"><thead><tr><th>case_id</th><th>mainoccupationinc_384A_max</th><th>mainoccupationinc_384A_any_selfemployed</th></tr><tr><td>i64</td><td>f64</td><td>bool</td></tr></thead><tbody><tr><td>1279948</td><td>50000.0</td><td>false</td></tr><tr><td>1629017</td><td>70000.0</td><td>false</td></tr><tr><td>238008</td><td>36000.0</td><td>false</td></tr><tr><td>926</td><td>60000.0</td><td>true</td></tr><tr><td>1715081</td><td>40000.0</td><td>false</td></tr><tr><td>&hellip;</td><td>&hellip;</td><td>&hellip;</td></tr><tr><td>905407</td><td>50000.0</td><td>true</td></tr><tr><td>782913</td><td>42000.0</td><td>false</td></tr><tr><td>847219</td><td>24000.0</td><td>false</td></tr><tr><td>1700533</td><td>32000.0</td><td>false</td></tr><tr><td>956396</td><td>64000.0</td><td>false</td></tr></tbody></table></div>"
      ],
      "text/plain": [
       "shape: (1_526_659, 3)\n",
       "┌─────────┬────────────────────────────┬───────────────────────────────────┐\n",
       "│ case_id ┆ mainoccupationinc_384A_max ┆ mainoccupationinc_384A_any_selfe… │\n",
       "│ ---     ┆ ---                        ┆ ---                               │\n",
       "│ i64     ┆ f64                        ┆ bool                              │\n",
       "╞═════════╪════════════════════════════╪═══════════════════════════════════╡\n",
       "│ 1279948 ┆ 50000.0                    ┆ false                             │\n",
       "│ 1629017 ┆ 70000.0                    ┆ false                             │\n",
       "│ 238008  ┆ 36000.0                    ┆ false                             │\n",
       "│ 926     ┆ 60000.0                    ┆ true                              │\n",
       "│ 1715081 ┆ 40000.0                    ┆ false                             │\n",
       "│ …       ┆ …                          ┆ …                                 │\n",
       "│ 905407  ┆ 50000.0                    ┆ true                              │\n",
       "│ 782913  ┆ 42000.0                    ┆ false                             │\n",
       "│ 847219  ┆ 24000.0                    ┆ false                             │\n",
       "│ 1700533 ┆ 32000.0                    ┆ false                             │\n",
       "│ 956396  ┆ 64000.0                    ┆ false                             │\n",
       "└─────────┴────────────────────────────┴───────────────────────────────────┘"
      ]
     },
     "execution_count": 8,
     "metadata": {},
     "output_type": "execute_result"
    }
   ],
   "source": [
    "train_person_1_feats_1 = train_person_1.group_by(\"case_id\").agg(\n",
    "    pl.col(\"mainoccupationinc_384A\").max().alias(\"mainoccupationinc_384A_max\"),\n",
    "    (pl.col(\"incometype_1044T\") == \"SELFEMPLOYED\").max().alias(\"mainoccupationinc_384A_any_selfemployed\")\n",
    ")\n",
    "\n",
    "train_person_1_feats_1 "
   ]
  },
  {
   "cell_type": "code",
   "execution_count": 9,
   "id": "e70b8794",
   "metadata": {
    "execution": {
     "iopub.execute_input": "2024-05-09T06:28:24.019081Z",
     "iopub.status.busy": "2024-05-09T06:28:24.018683Z",
     "iopub.status.idle": "2024-05-09T06:28:24.053399Z",
     "shell.execute_reply": "2024-05-09T06:28:24.052113Z"
    },
    "papermill": {
     "duration": 0.054908,
     "end_time": "2024-05-09T06:28:24.056148",
     "exception": false,
     "start_time": "2024-05-09T06:28:24.001240",
     "status": "completed"
    },
    "tags": []
   },
   "outputs": [
    {
     "data": {
      "text/html": [
       "<div><style>\n",
       ".dataframe > thead > tr,\n",
       ".dataframe > tbody > tr {\n",
       "  text-align: right;\n",
       "  white-space: pre-wrap;\n",
       "}\n",
       "</style>\n",
       "<small>shape: (5, 2)</small><table border=\"1\" class=\"dataframe\"><thead><tr><th>case_id</th><th>person_housetype</th></tr><tr><td>i64</td><td>str</td></tr></thead><tbody><tr><td>0</td><td>null</td></tr><tr><td>1</td><td>null</td></tr><tr><td>2</td><td>null</td></tr><tr><td>3</td><td>null</td></tr><tr><td>4</td><td>null</td></tr></tbody></table></div>"
      ],
      "text/plain": [
       "shape: (5, 2)\n",
       "┌─────────┬──────────────────┐\n",
       "│ case_id ┆ person_housetype │\n",
       "│ ---     ┆ ---              │\n",
       "│ i64     ┆ str              │\n",
       "╞═════════╪══════════════════╡\n",
       "│ 0       ┆ null             │\n",
       "│ 1       ┆ null             │\n",
       "│ 2       ┆ null             │\n",
       "│ 3       ┆ null             │\n",
       "│ 4       ┆ null             │\n",
       "└─────────┴──────────────────┘"
      ]
     },
     "execution_count": 9,
     "metadata": {},
     "output_type": "execute_result"
    }
   ],
   "source": [
    "# Here num_group1=0 has special meaning, it is the person who applied for the loan.\n",
    "train_person_1_feats_2 = train_person_1.select([\"case_id\", \"num_group1\", \"housetype_905L\"]).filter(\n",
    "    pl.col(\"num_group1\") == 0\n",
    ").drop(\"num_group1\").rename({\"housetype_905L\": \"person_housetype\"})\n",
    "\n",
    "train_person_1_feats_2.head()"
   ]
  },
  {
   "cell_type": "code",
   "execution_count": 10,
   "id": "9965e9cc",
   "metadata": {
    "execution": {
     "iopub.execute_input": "2024-05-09T06:28:24.091903Z",
     "iopub.status.busy": "2024-05-09T06:28:24.091463Z",
     "iopub.status.idle": "2024-05-09T06:28:24.098906Z",
     "shell.execute_reply": "2024-05-09T06:28:24.097766Z"
    },
    "papermill": {
     "duration": 0.028318,
     "end_time": "2024-05-09T06:28:24.101297",
     "exception": false,
     "start_time": "2024-05-09T06:28:24.072979",
     "status": "completed"
    },
    "tags": []
   },
   "outputs": [
    {
     "data": {
      "text/plain": [
       "['case_id',\n",
       " 'num_group1',\n",
       " 'num_group2',\n",
       " 'pmts_date_1107D',\n",
       " 'pmts_dpdvalue_108P',\n",
       " 'pmts_pmtsoverdue_635A']"
      ]
     },
     "execution_count": 10,
     "metadata": {},
     "output_type": "execute_result"
    }
   ],
   "source": [
    "train_credit_bureau_b_2.columns"
   ]
  },
  {
   "cell_type": "code",
   "execution_count": 11,
   "id": "72fa4321",
   "metadata": {
    "execution": {
     "iopub.execute_input": "2024-05-09T06:28:24.137989Z",
     "iopub.status.busy": "2024-05-09T06:28:24.137601Z",
     "iopub.status.idle": "2024-05-09T06:28:24.207727Z",
     "shell.execute_reply": "2024-05-09T06:28:24.206557Z"
    },
    "papermill": {
     "duration": 0.091841,
     "end_time": "2024-05-09T06:28:24.211357",
     "exception": false,
     "start_time": "2024-05-09T06:28:24.119516",
     "status": "completed"
    },
    "tags": []
   },
   "outputs": [
    {
     "data": {
      "text/html": [
       "<div><style>\n",
       ".dataframe > thead > tr,\n",
       ".dataframe > tbody > tr {\n",
       "  text-align: right;\n",
       "  white-space: pre-wrap;\n",
       "}\n",
       "</style>\n",
       "<small>shape: (5, 3)</small><table border=\"1\" class=\"dataframe\"><thead><tr><th>case_id</th><th>pmts_pmtsoverdue_635A_max</th><th>pmts_dpdvalue_108P_over31</th></tr><tr><td>i64</td><td>f64</td><td>bool</td></tr></thead><tbody><tr><td>919017</td><td>0.0</td><td>false</td></tr><tr><td>1934650</td><td>0.0</td><td>false</td></tr><tr><td>215243</td><td>0.0</td><td>false</td></tr><tr><td>1378374</td><td>0.0</td><td>false</td></tr><tr><td>1854862</td><td>0.0</td><td>false</td></tr></tbody></table></div>"
      ],
      "text/plain": [
       "shape: (5, 3)\n",
       "┌─────────┬───────────────────────────┬───────────────────────────┐\n",
       "│ case_id ┆ pmts_pmtsoverdue_635A_max ┆ pmts_dpdvalue_108P_over31 │\n",
       "│ ---     ┆ ---                       ┆ ---                       │\n",
       "│ i64     ┆ f64                       ┆ bool                      │\n",
       "╞═════════╪═══════════════════════════╪═══════════════════════════╡\n",
       "│ 919017  ┆ 0.0                       ┆ false                     │\n",
       "│ 1934650 ┆ 0.0                       ┆ false                     │\n",
       "│ 215243  ┆ 0.0                       ┆ false                     │\n",
       "│ 1378374 ┆ 0.0                       ┆ false                     │\n",
       "│ 1854862 ┆ 0.0                       ┆ false                     │\n",
       "└─────────┴───────────────────────────┴───────────────────────────┘"
      ]
     },
     "execution_count": 11,
     "metadata": {},
     "output_type": "execute_result"
    }
   ],
   "source": [
    "# Here we have num_goup1 and num_group2, so we need to aggregate again.\n",
    "train_credit_bureau_b_2_feats = train_credit_bureau_b_2.group_by(\"case_id\").agg(\n",
    "    pl.col(\"pmts_pmtsoverdue_635A\").max().alias(\"pmts_pmtsoverdue_635A_max\"),\n",
    "    (pl.col(\"pmts_dpdvalue_108P\") > 31).max().alias(\"pmts_dpdvalue_108P_over31\")\n",
    ")\n",
    "\n",
    "train_credit_bureau_b_2_feats.head()"
   ]
  },
  {
   "cell_type": "markdown",
   "id": "4dbaa227",
   "metadata": {
    "papermill": {
     "duration": 0.016878,
     "end_time": "2024-05-09T06:28:24.245755",
     "exception": false,
     "start_time": "2024-05-09T06:28:24.228877",
     "status": "completed"
    },
    "tags": []
   },
   "source": [
    "# Depth-1 data for test set"
   ]
  },
  {
   "cell_type": "code",
   "execution_count": 12,
   "id": "9e580ac5",
   "metadata": {
    "execution": {
     "iopub.execute_input": "2024-05-09T06:28:24.282080Z",
     "iopub.status.busy": "2024-05-09T06:28:24.281663Z",
     "iopub.status.idle": "2024-05-09T06:28:24.292068Z",
     "shell.execute_reply": "2024-05-09T06:28:24.291046Z"
    },
    "papermill": {
     "duration": 0.031548,
     "end_time": "2024-05-09T06:28:24.294760",
     "exception": false,
     "start_time": "2024-05-09T06:28:24.263212",
     "status": "completed"
    },
    "tags": []
   },
   "outputs": [],
   "source": [
    "test_person_1_feats_1 = test_person_1.group_by(\"case_id\").agg(\n",
    "    pl.col(\"mainoccupationinc_384A\").max().alias(\"mainoccupationinc_384A_max\"),\n",
    "    (pl.col(\"incometype_1044T\") == \"SELFEMPLOYED\").max().alias(\"mainoccupationinc_384A_any_selfemployed\")\n",
    ")\n",
    "\n",
    "test_person_1_feats_2 = test_person_1.select([\"case_id\", \"num_group1\", \"housetype_905L\"]).filter(\n",
    "    pl.col(\"num_group1\") == 0\n",
    ").drop(\"num_group1\").rename({\"housetype_905L\": \"person_housetype\"})\n",
    "\n",
    "test_credit_bureau_b_2_feats = test_credit_bureau_b_2.group_by(\"case_id\").agg(\n",
    "    pl.col(\"pmts_pmtsoverdue_635A\").max().alias(\"pmts_pmtsoverdue_635A_max\"),\n",
    "    (pl.col(\"pmts_dpdvalue_108P\") > 31).max().alias(\"pmts_dpdvalue_108P_over31\"))"
   ]
  },
  {
   "cell_type": "markdown",
   "id": "16f90db9",
   "metadata": {
    "papermill": {
     "duration": 0.016412,
     "end_time": "2024-05-09T06:28:24.328995",
     "exception": false,
     "start_time": "2024-05-09T06:28:24.312583",
     "status": "completed"
    },
    "tags": []
   },
   "source": [
    "# Join all selected tables"
   ]
  },
  {
   "cell_type": "code",
   "execution_count": 13,
   "id": "8f557abb",
   "metadata": {
    "execution": {
     "iopub.execute_input": "2024-05-09T06:28:24.363898Z",
     "iopub.status.busy": "2024-05-09T06:28:24.363471Z",
     "iopub.status.idle": "2024-05-09T06:28:25.695531Z",
     "shell.execute_reply": "2024-05-09T06:28:25.694555Z"
    },
    "papermill": {
     "duration": 1.35279,
     "end_time": "2024-05-09T06:28:25.698308",
     "exception": false,
     "start_time": "2024-05-09T06:28:24.345518",
     "status": "completed"
    },
    "tags": []
   },
   "outputs": [],
   "source": [
    "# Join all train tables together.\n",
    "train_data = train_basetable.join(\n",
    "    train_static.select([\"case_id\"]+selected_static_cols), how=\"left\", on=\"case_id\"\n",
    ").join(\n",
    "    train_static_cb.select([\"case_id\"]+selected_static_cb_cols), how=\"left\", on=\"case_id\"\n",
    ").join(\n",
    "    train_person_1_feats_1, how=\"left\", on=\"case_id\"\n",
    ").join(\n",
    "    train_person_1_feats_2, how=\"left\", on=\"case_id\"\n",
    ").join(\n",
    "    train_credit_bureau_b_2_feats, how=\"left\", on=\"case_id\"\n",
    ")"
   ]
  },
  {
   "cell_type": "code",
   "execution_count": 14,
   "id": "c0c099f4",
   "metadata": {
    "execution": {
     "iopub.execute_input": "2024-05-09T06:28:25.734213Z",
     "iopub.status.busy": "2024-05-09T06:28:25.733796Z",
     "iopub.status.idle": "2024-05-09T06:28:25.744223Z",
     "shell.execute_reply": "2024-05-09T06:28:25.743026Z"
    },
    "papermill": {
     "duration": 0.031345,
     "end_time": "2024-05-09T06:28:25.746928",
     "exception": false,
     "start_time": "2024-05-09T06:28:25.715583",
     "status": "completed"
    },
    "tags": []
   },
   "outputs": [],
   "source": [
    "# Join all test tables together.\n",
    "test_data = test_basetable.join(\n",
    "    test_static.select([\"case_id\"]+selected_static_cols), how=\"left\", on=\"case_id\"\n",
    ").join(\n",
    "    test_static_cb.select([\"case_id\"]+selected_static_cb_cols), how=\"left\", on=\"case_id\"\n",
    ").join(\n",
    "    test_person_1_feats_1, how=\"left\", on=\"case_id\"\n",
    ").join(\n",
    "    test_person_1_feats_2, how=\"left\", on=\"case_id\"\n",
    ").join(\n",
    "    test_credit_bureau_b_2_feats, how=\"left\", on=\"case_id\"\n",
    ")"
   ]
  },
  {
   "cell_type": "markdown",
   "id": "8fdde281",
   "metadata": {
    "papermill": {
     "duration": 0.016352,
     "end_time": "2024-05-09T06:28:25.780117",
     "exception": false,
     "start_time": "2024-05-09T06:28:25.763765",
     "status": "completed"
    },
    "tags": []
   },
   "source": [
    "# Categorical data"
   ]
  },
  {
   "cell_type": "code",
   "execution_count": 15,
   "id": "a0d06f2d",
   "metadata": {
    "execution": {
     "iopub.execute_input": "2024-05-09T06:28:25.883572Z",
     "iopub.status.busy": "2024-05-09T06:28:25.883171Z",
     "iopub.status.idle": "2024-05-09T06:28:25.896379Z",
     "shell.execute_reply": "2024-05-09T06:28:25.895134Z"
    },
    "papermill": {
     "duration": 0.101012,
     "end_time": "2024-05-09T06:28:25.899137",
     "exception": false,
     "start_time": "2024-05-09T06:28:25.798125",
     "status": "completed"
    },
    "tags": []
   },
   "outputs": [],
   "source": [
    "from sklearn.compose import ColumnTransformer\n",
    "from sklearn.preprocessing import OneHotEncoder"
   ]
  },
  {
   "cell_type": "code",
   "execution_count": 16,
   "id": "4725b0f9",
   "metadata": {
    "execution": {
     "iopub.execute_input": "2024-05-09T06:28:25.935352Z",
     "iopub.status.busy": "2024-05-09T06:28:25.934891Z",
     "iopub.status.idle": "2024-05-09T06:28:27.642572Z",
     "shell.execute_reply": "2024-05-09T06:28:27.640955Z"
    },
    "papermill": {
     "duration": 1.729714,
     "end_time": "2024-05-09T06:28:27.646305",
     "exception": false,
     "start_time": "2024-05-09T06:28:25.916591",
     "status": "completed"
    },
    "tags": []
   },
   "outputs": [],
   "source": [
    "#convert to pandas\n",
    "train_data=train_data.to_pandas()\n",
    "test_data=test_data.to_pandas()"
   ]
  },
  {
   "cell_type": "code",
   "execution_count": 17,
   "id": "4a3e69f4",
   "metadata": {
    "execution": {
     "iopub.execute_input": "2024-05-09T06:28:27.685427Z",
     "iopub.status.busy": "2024-05-09T06:28:27.684151Z",
     "iopub.status.idle": "2024-05-09T06:28:34.409529Z",
     "shell.execute_reply": "2024-05-09T06:28:34.408424Z"
    },
    "papermill": {
     "duration": 6.747433,
     "end_time": "2024-05-09T06:28:34.412368",
     "exception": false,
     "start_time": "2024-05-09T06:28:27.664935",
     "status": "completed"
    },
    "tags": []
   },
   "outputs": [],
   "source": [
    "train_data.drop(columns = [\"case_id\", \"MONTH\", \"WEEK_NUM\", \"date_decision\"], inplace = True)\n",
    "test_data.drop(columns = [\"case_id\", \"MONTH\", \"WEEK_NUM\", \"date_decision\"], inplace = True)\n",
    "train_data = convert_strings(train_data)\n",
    "test_data = convert_strings(test_data)"
   ]
  },
  {
   "cell_type": "code",
   "execution_count": 18,
   "id": "0fe60b1e",
   "metadata": {
    "execution": {
     "iopub.execute_input": "2024-05-09T06:28:34.448588Z",
     "iopub.status.busy": "2024-05-09T06:28:34.448098Z",
     "iopub.status.idle": "2024-05-09T06:28:34.452923Z",
     "shell.execute_reply": "2024-05-09T06:28:34.451879Z"
    },
    "papermill": {
     "duration": 0.025529,
     "end_time": "2024-05-09T06:28:34.455519",
     "exception": false,
     "start_time": "2024-05-09T06:28:34.429990",
     "status": "completed"
    },
    "tags": []
   },
   "outputs": [],
   "source": [
    "#list(train_data.dtypes)"
   ]
  },
  {
   "cell_type": "code",
   "execution_count": 19,
   "id": "468231bf",
   "metadata": {
    "execution": {
     "iopub.execute_input": "2024-05-09T06:28:34.491787Z",
     "iopub.status.busy": "2024-05-09T06:28:34.491372Z",
     "iopub.status.idle": "2024-05-09T06:28:34.496393Z",
     "shell.execute_reply": "2024-05-09T06:28:34.495235Z"
    },
    "papermill": {
     "duration": 0.026512,
     "end_time": "2024-05-09T06:28:34.499224",
     "exception": false,
     "start_time": "2024-05-09T06:28:34.472712",
     "status": "completed"
    },
    "tags": []
   },
   "outputs": [],
   "source": [
    "#list(test_data.dtypes)"
   ]
  },
  {
   "cell_type": "code",
   "execution_count": 20,
   "id": "684e9471",
   "metadata": {
    "execution": {
     "iopub.execute_input": "2024-05-09T06:28:34.536534Z",
     "iopub.status.busy": "2024-05-09T06:28:34.536119Z",
     "iopub.status.idle": "2024-05-09T06:28:34.543647Z",
     "shell.execute_reply": "2024-05-09T06:28:34.542383Z"
    },
    "papermill": {
     "duration": 0.028689,
     "end_time": "2024-05-09T06:28:34.546365",
     "exception": false,
     "start_time": "2024-05-09T06:28:34.517676",
     "status": "completed"
    },
    "tags": []
   },
   "outputs": [
    {
     "data": {
      "text/plain": [
       "(1526659, 76)"
      ]
     },
     "execution_count": 20,
     "metadata": {},
     "output_type": "execute_result"
    }
   ],
   "source": [
    "train_data.shape"
   ]
  },
  {
   "cell_type": "code",
   "execution_count": 21,
   "id": "ec0b497c",
   "metadata": {
    "execution": {
     "iopub.execute_input": "2024-05-09T06:28:34.581868Z",
     "iopub.status.busy": "2024-05-09T06:28:34.581475Z",
     "iopub.status.idle": "2024-05-09T06:28:34.620894Z",
     "shell.execute_reply": "2024-05-09T06:28:34.619602Z"
    },
    "papermill": {
     "duration": 0.060274,
     "end_time": "2024-05-09T06:28:34.623576",
     "exception": false,
     "start_time": "2024-05-09T06:28:34.563302",
     "status": "completed"
    },
    "tags": []
   },
   "outputs": [],
   "source": [
    "#find out the categorical columns of train_data (now same as test_data)\n",
    "cat_cols = []\n",
    "for i in range(len(list(train_data.dtypes))):\n",
    "    if list(train_data.dtypes)[i].type != np.int64 and list(train_data.dtypes)[i].type != np.float64:\n",
    "     #if list(train_data.dtypes)[i].type == pd.core.dtypes.dtypes.CategoricalDtypeType:\n",
    "        cat_cols.append(train_data.columns[i])    \n",
    "        \n",
    "#find out the categorical columns of test_data\n",
    "cat_cols_test = []\n",
    "for i in range(len(list(test_data.dtypes))):\n",
    "    #if list(train_data.dtypes)[i].type != numpy.int64 and list(train_data.dtypes)[i].type != numpy.float64:\n",
    "     if list(test_data.dtypes)[i].type == pd.core.dtypes.dtypes.CategoricalDtypeType:\n",
    "        cat_cols_test.append(test_data.columns[i])   "
   ]
  },
  {
   "cell_type": "code",
   "execution_count": 22,
   "id": "efa77100",
   "metadata": {
    "execution": {
     "iopub.execute_input": "2024-05-09T06:28:34.659613Z",
     "iopub.status.busy": "2024-05-09T06:28:34.659183Z",
     "iopub.status.idle": "2024-05-09T06:28:34.667304Z",
     "shell.execute_reply": "2024-05-09T06:28:34.666132Z"
    },
    "papermill": {
     "duration": 0.029017,
     "end_time": "2024-05-09T06:28:34.669901",
     "exception": false,
     "start_time": "2024-05-09T06:28:34.640884",
     "status": "completed"
    },
    "tags": []
   },
   "outputs": [
    {
     "data": {
      "text/plain": [
       "(16,\n",
       " 16,\n",
       " ['lastapprcommoditycat_1041M',\n",
       "  'lastapprcommoditytypec_5251766M',\n",
       "  'lastcancelreason_561M',\n",
       "  'lastrejectcommoditycat_161M',\n",
       "  'lastrejectcommodtypec_5251769M',\n",
       "  'lastrejectreason_759M',\n",
       "  'lastrejectreasonclient_4145040M',\n",
       "  'previouscontdistrict_112M',\n",
       "  'description_5085714M',\n",
       "  'education_1103M',\n",
       "  'education_88M',\n",
       "  'maritalst_385M',\n",
       "  'maritalst_893M',\n",
       "  'mainoccupationinc_384A_any_selfemployed',\n",
       "  'person_housetype',\n",
       "  'pmts_dpdvalue_108P_over31'])"
      ]
     },
     "execution_count": 22,
     "metadata": {},
     "output_type": "execute_result"
    }
   ],
   "source": [
    "len(cat_cols),len(cat_cols_test), cat_cols"
   ]
  },
  {
   "cell_type": "code",
   "execution_count": 23,
   "id": "54357e74",
   "metadata": {
    "execution": {
     "iopub.execute_input": "2024-05-09T06:28:34.705782Z",
     "iopub.status.busy": "2024-05-09T06:28:34.705353Z",
     "iopub.status.idle": "2024-05-09T06:28:34.711922Z",
     "shell.execute_reply": "2024-05-09T06:28:34.710673Z"
    },
    "papermill": {
     "duration": 0.027436,
     "end_time": "2024-05-09T06:28:34.714503",
     "exception": false,
     "start_time": "2024-05-09T06:28:34.687067",
     "status": "completed"
    },
    "tags": []
   },
   "outputs": [],
   "source": [
    "# one-hot encode the categorical features\n",
    "full_pipeline = ColumnTransformer([('cat', OneHotEncoder(handle_unknown='ignore'), cat_cols_test)], remainder='passthrough')"
   ]
  },
  {
   "cell_type": "code",
   "execution_count": 24,
   "id": "1a39f282",
   "metadata": {
    "execution": {
     "iopub.execute_input": "2024-05-09T06:28:34.750744Z",
     "iopub.status.busy": "2024-05-09T06:28:34.750356Z",
     "iopub.status.idle": "2024-05-09T06:28:35.054227Z",
     "shell.execute_reply": "2024-05-09T06:28:35.053013Z"
    },
    "papermill": {
     "duration": 0.325416,
     "end_time": "2024-05-09T06:28:35.057266",
     "exception": false,
     "start_time": "2024-05-09T06:28:34.731850",
     "status": "completed"
    },
    "tags": []
   },
   "outputs": [],
   "source": [
    "X = train_data.drop(['target'], axis = 1)\n",
    "y = train_data['target']"
   ]
  },
  {
   "cell_type": "code",
   "execution_count": 25,
   "id": "c236bbc7",
   "metadata": {
    "execution": {
     "iopub.execute_input": "2024-05-09T06:28:35.093235Z",
     "iopub.status.busy": "2024-05-09T06:28:35.092834Z",
     "iopub.status.idle": "2024-05-09T06:29:04.740560Z",
     "shell.execute_reply": "2024-05-09T06:29:04.739369Z"
    },
    "papermill": {
     "duration": 29.66903,
     "end_time": "2024-05-09T06:29:04.743274",
     "exception": false,
     "start_time": "2024-05-09T06:28:35.074244",
     "status": "completed"
    },
    "tags": []
   },
   "outputs": [],
   "source": [
    "encoder = full_pipeline.fit(X)\n",
    "X = encoder.transform(X)\n",
    "test_data= encoder.transform(test_data)"
   ]
  },
  {
   "cell_type": "code",
   "execution_count": 26,
   "id": "d96d8158",
   "metadata": {
    "execution": {
     "iopub.execute_input": "2024-05-09T06:29:04.779206Z",
     "iopub.status.busy": "2024-05-09T06:29:04.778832Z",
     "iopub.status.idle": "2024-05-09T06:29:04.786403Z",
     "shell.execute_reply": "2024-05-09T06:29:04.785266Z"
    },
    "papermill": {
     "duration": 0.028422,
     "end_time": "2024-05-09T06:29:04.788895",
     "exception": false,
     "start_time": "2024-05-09T06:29:04.760473",
     "status": "completed"
    },
    "tags": []
   },
   "outputs": [
    {
     "data": {
      "text/plain": [
       "((1526659, 920), (10, 920))"
      ]
     },
     "execution_count": 26,
     "metadata": {},
     "output_type": "execute_result"
    }
   ],
   "source": [
    "#There are NaN values, which can be handled by XGBoost, CatBoost and LGB\n",
    "X.shape, test_data.shape"
   ]
  },
  {
   "cell_type": "code",
   "execution_count": 27,
   "id": "3ee4a37a",
   "metadata": {
    "execution": {
     "iopub.execute_input": "2024-05-09T06:29:04.825207Z",
     "iopub.status.busy": "2024-05-09T06:29:04.824793Z",
     "iopub.status.idle": "2024-05-09T06:29:05.511459Z",
     "shell.execute_reply": "2024-05-09T06:29:05.510302Z"
    },
    "papermill": {
     "duration": 0.707808,
     "end_time": "2024-05-09T06:29:05.513976",
     "exception": false,
     "start_time": "2024-05-09T06:29:04.806168",
     "status": "completed"
    },
    "tags": []
   },
   "outputs": [
    {
     "data": {
      "text/plain": [
       "((1450326, 920), (76333, 920), (1450326,), (76333,))"
      ]
     },
     "execution_count": 27,
     "metadata": {},
     "output_type": "execute_result"
    }
   ],
   "source": [
    "from sklearn.model_selection import train_test_split\n",
    "X_train, X_test, y_train, y_test = train_test_split(X, y, test_size=0.05, random_state=42)\n",
    "X_train.shape, X_test.shape, y_train.shape, y_test.shape"
   ]
  },
  {
   "cell_type": "markdown",
   "id": "4535c638",
   "metadata": {
    "papermill": {
     "duration": 0.016967,
     "end_time": "2024-05-09T06:29:05.548268",
     "exception": false,
     "start_time": "2024-05-09T06:29:05.531301",
     "status": "completed"
    },
    "tags": []
   },
   "source": [
    "# XGBoost modelling"
   ]
  },
  {
   "cell_type": "code",
   "execution_count": 28,
   "id": "9a1b2c5a",
   "metadata": {
    "execution": {
     "iopub.execute_input": "2024-05-09T06:29:05.585030Z",
     "iopub.status.busy": "2024-05-09T06:29:05.584607Z",
     "iopub.status.idle": "2024-05-09T06:29:05.778180Z",
     "shell.execute_reply": "2024-05-09T06:29:05.776672Z"
    },
    "papermill": {
     "duration": 0.215194,
     "end_time": "2024-05-09T06:29:05.781169",
     "exception": false,
     "start_time": "2024-05-09T06:29:05.565975",
     "status": "completed"
    },
    "tags": []
   },
   "outputs": [],
   "source": [
    "from sklearn.metrics import  roc_auc_score\n",
    "from xgboost import XGBClassifier"
   ]
  },
  {
   "cell_type": "code",
   "execution_count": 29,
   "id": "9548250d",
   "metadata": {
    "execution": {
     "iopub.execute_input": "2024-05-09T06:29:05.817995Z",
     "iopub.status.busy": "2024-05-09T06:29:05.817513Z",
     "iopub.status.idle": "2024-05-09T06:29:05.823795Z",
     "shell.execute_reply": "2024-05-09T06:29:05.822693Z"
    },
    "papermill": {
     "duration": 0.027336,
     "end_time": "2024-05-09T06:29:05.826180",
     "exception": false,
     "start_time": "2024-05-09T06:29:05.798844",
     "status": "completed"
    },
    "tags": []
   },
   "outputs": [],
   "source": [
    "params2 = {\n",
    "    \"booster\": \"gbtree\",\n",
    "    \"objective\": \"binary:logistic\",\n",
    "    \"eval_metric\": \"auc\",\n",
    "    \"max_depth\": 10,\n",
    "    \"learning_rate\": 0.05,\n",
    "    \"n_estimators\": 1000,\n",
    "    \"colsample_bytree\": 0.8,\n",
    "    \"colsample_bynode\": 0.8,\n",
    "    \"alpha\": 0.1,  \n",
    "    \"lambda\": 10,  \n",
    "    #\"tree_method\": 'gpu_hist' if device == 'gpu' else 'auto',\n",
    "    \"random_state\": 42,\n",
    "    \"verbosity\": 0,\n",
    "    \"enable_categorical\":True,\n",
    "}"
   ]
  },
  {
   "cell_type": "code",
   "execution_count": 30,
   "id": "0b9d99e7",
   "metadata": {
    "execution": {
     "iopub.execute_input": "2024-05-09T06:29:05.862722Z",
     "iopub.status.busy": "2024-05-09T06:29:05.862303Z",
     "iopub.status.idle": "2024-05-09T06:33:37.237628Z",
     "shell.execute_reply": "2024-05-09T06:33:37.235957Z"
    },
    "papermill": {
     "duration": 271.419845,
     "end_time": "2024-05-09T06:33:37.263385",
     "exception": false,
     "start_time": "2024-05-09T06:29:05.843540",
     "status": "completed"
    },
    "tags": []
   },
   "outputs": [
    {
     "name": "stdout",
     "output_type": "stream",
     "text": [
      "ROC = 0.794\n",
      "CPU times: user 17min 23s, sys: 2.3 s, total: 17min 25s\n",
      "Wall time: 4min 31s\n"
     ]
    }
   ],
   "source": [
    "%%time\n",
    "xgb_classifier = XGBClassifier(**params2)\n",
    "#xgb_classifier = XGBClassifier()\n",
    "xgb_classifier.fit(X_train, y_train)\n",
    "\n",
    "y_pred2 = xgb_classifier.predict_proba(X_test)[:,1]\n",
    "auc_score_xgb = roc_auc_score(y_test, y_pred2)\n",
    "print(f'ROC = {auc_score_xgb.round(3)}')"
   ]
  },
  {
   "cell_type": "code",
   "execution_count": 31,
   "id": "9994d339",
   "metadata": {
    "execution": {
     "iopub.execute_input": "2024-05-09T06:33:37.301229Z",
     "iopub.status.busy": "2024-05-09T06:33:37.300742Z",
     "iopub.status.idle": "2024-05-09T06:33:38.018078Z",
     "shell.execute_reply": "2024-05-09T06:33:38.016878Z"
    },
    "papermill": {
     "duration": 0.73977,
     "end_time": "2024-05-09T06:33:38.020989",
     "exception": false,
     "start_time": "2024-05-09T06:33:37.281219",
     "status": "completed"
    },
    "tags": []
   },
   "outputs": [],
   "source": [
    "#https://xgboost.readthedocs.io/en/stable/tutorials/saving_model.html\n",
    "xgb_classifier.save_model('/kaggle/working/xgb_no_params.json')\n",
    "\n",
    "#Loading\n",
    "#xgb_model = xgb.Booster()\n",
    "#xgb_model.load_model(path_to_file)"
   ]
  },
  {
   "cell_type": "code",
   "execution_count": 32,
   "id": "3a2b94f3",
   "metadata": {
    "execution": {
     "iopub.execute_input": "2024-05-09T06:33:38.058510Z",
     "iopub.status.busy": "2024-05-09T06:33:38.057921Z",
     "iopub.status.idle": "2024-05-09T06:33:38.080241Z",
     "shell.execute_reply": "2024-05-09T06:33:38.079019Z"
    },
    "papermill": {
     "duration": 0.044405,
     "end_time": "2024-05-09T06:33:38.082859",
     "exception": false,
     "start_time": "2024-05-09T06:33:38.038454",
     "status": "completed"
    },
    "tags": []
   },
   "outputs": [
    {
     "data": {
      "text/plain": [
       "((920,), 0.024220161, 572)"
      ]
     },
     "execution_count": 32,
     "metadata": {},
     "output_type": "execute_result"
    }
   ],
   "source": [
    "#FEATURE IMPORTANCE\n",
    "xgb_feats = xgb_classifier.feature_importances_\n",
    "xgb_feats.shape, xgb_feats.max(), xgb_feats.argmax()"
   ]
  },
  {
   "cell_type": "markdown",
   "id": "44db2258",
   "metadata": {
    "papermill": {
     "duration": 0.017168,
     "end_time": "2024-05-09T06:33:38.118016",
     "exception": false,
     "start_time": "2024-05-09T06:33:38.100848",
     "status": "completed"
    },
    "tags": []
   },
   "source": [
    "# CatBoostClassifier"
   ]
  },
  {
   "cell_type": "code",
   "execution_count": 33,
   "id": "bfa7ee39",
   "metadata": {
    "execution": {
     "iopub.execute_input": "2024-05-09T06:33:38.155455Z",
     "iopub.status.busy": "2024-05-09T06:33:38.154995Z",
     "iopub.status.idle": "2024-05-09T06:39:38.788188Z",
     "shell.execute_reply": "2024-05-09T06:39:38.786828Z"
    },
    "papermill": {
     "duration": 360.673451,
     "end_time": "2024-05-09T06:39:38.809206",
     "exception": false,
     "start_time": "2024-05-09T06:33:38.135755",
     "status": "completed"
    },
    "tags": []
   },
   "outputs": [
    {
     "name": "stdout",
     "output_type": "stream",
     "text": [
      "ROC = 0.792\n",
      "CPU times: user 22min 31s, sys: 18.4 s, total: 22min 50s\n",
      "Wall time: 6min\n"
     ]
    }
   ],
   "source": [
    "%%time\n",
    "#https://catboost.ai/en/docs/concepts/python-reference_catboostclassifier_fit\n",
    "\n",
    "from catboost import CatBoostClassifier\n",
    "clf = CatBoostClassifier(eval_metric='AUC')\n",
    "#clf = CatBoostClassifier()\n",
    "\n",
    "clf.fit(X_train, y=y_train, eval_set = (X_test, y_test), verbose = False)\n",
    "y_pred_valid = clf.predict_proba(X_test)[:,1]\n",
    "auc_score_cat = roc_auc_score(y_test, y_pred_valid)\n",
    "print(f'ROC = {auc_score_cat.round(3)}')"
   ]
  },
  {
   "cell_type": "code",
   "execution_count": 34,
   "id": "41e9bb4a",
   "metadata": {
    "execution": {
     "iopub.execute_input": "2024-05-09T06:39:38.847132Z",
     "iopub.status.busy": "2024-05-09T06:39:38.846744Z",
     "iopub.status.idle": "2024-05-09T06:39:38.866752Z",
     "shell.execute_reply": "2024-05-09T06:39:38.865481Z"
    },
    "papermill": {
     "duration": 0.041842,
     "end_time": "2024-05-09T06:39:38.869222",
     "exception": false,
     "start_time": "2024-05-09T06:39:38.827380",
     "status": "completed"
    },
    "tags": []
   },
   "outputs": [],
   "source": [
    "#https://stackoverflow.com/questions/51895761/how-to-correctly-load-pretrained-model-in-catboost-in-python\n",
    "clf.save_model('/kaggle/working/catboost_no_params')"
   ]
  },
  {
   "cell_type": "code",
   "execution_count": 35,
   "id": "b9ced834",
   "metadata": {
    "execution": {
     "iopub.execute_input": "2024-05-09T06:39:38.907397Z",
     "iopub.status.busy": "2024-05-09T06:39:38.906541Z",
     "iopub.status.idle": "2024-05-09T06:39:38.923422Z",
     "shell.execute_reply": "2024-05-09T06:39:38.922247Z"
    },
    "papermill": {
     "duration": 0.03866,
     "end_time": "2024-05-09T06:39:38.926054",
     "exception": false,
     "start_time": "2024-05-09T06:39:38.887394",
     "status": "completed"
    },
    "tags": []
   },
   "outputs": [
    {
     "data": {
      "text/plain": [
       "((920,), 7.231547986913217, 912)"
      ]
     },
     "execution_count": 35,
     "metadata": {},
     "output_type": "execute_result"
    }
   ],
   "source": [
    "clf_feat_imp = clf.get_feature_importance()\n",
    "clf_feat_imp.shape, clf_feat_imp.max(), clf_feat_imp.argmax()"
   ]
  },
  {
   "cell_type": "markdown",
   "id": "3f76c31e",
   "metadata": {
    "papermill": {
     "duration": 0.017543,
     "end_time": "2024-05-09T06:39:38.962145",
     "exception": false,
     "start_time": "2024-05-09T06:39:38.944602",
     "status": "completed"
    },
    "tags": []
   },
   "source": [
    "# LGB"
   ]
  },
  {
   "cell_type": "code",
   "execution_count": 36,
   "id": "991b7f8a",
   "metadata": {
    "execution": {
     "iopub.execute_input": "2024-05-09T06:39:38.999897Z",
     "iopub.status.busy": "2024-05-09T06:39:38.999466Z",
     "iopub.status.idle": "2024-05-09T06:39:39.006133Z",
     "shell.execute_reply": "2024-05-09T06:39:39.004988Z"
    },
    "papermill": {
     "duration": 0.028757,
     "end_time": "2024-05-09T06:39:39.008682",
     "exception": false,
     "start_time": "2024-05-09T06:39:38.979925",
     "status": "completed"
    },
    "tags": []
   },
   "outputs": [],
   "source": [
    "params = {\n",
    "    \"boosting_type\": \"gbdt\",\n",
    "    \"objective\": \"binary\",\n",
    "    \"metric\": \"auc\",\n",
    "    \"max_depth\": 10,  \n",
    "    \"learning_rate\": 0.05,\n",
    "    \"n_estimators\": 2000,  \n",
    "    \"colsample_bytree\": 0.8,\n",
    "    \"colsample_bynode\": 0.8,\n",
    "    \"verbose\": -1,\n",
    "    \"random_state\": 42,\n",
    "    \"reg_alpha\": 0.1,\n",
    "    \"reg_lambda\": 10,\n",
    "    \"extra_trees\":True,\n",
    "    'num_leaves':64,\n",
    "    #\"device\": device, \n",
    "    \"verbose\": -1,\n",
    "}"
   ]
  },
  {
   "cell_type": "code",
   "execution_count": 37,
   "id": "7857fa72",
   "metadata": {
    "execution": {
     "iopub.execute_input": "2024-05-09T06:39:39.046995Z",
     "iopub.status.busy": "2024-05-09T06:39:39.046075Z",
     "iopub.status.idle": "2024-05-09T06:50:38.144256Z",
     "shell.execute_reply": "2024-05-09T06:50:38.142979Z"
    },
    "papermill": {
     "duration": 659.120641,
     "end_time": "2024-05-09T06:50:38.147153",
     "exception": false,
     "start_time": "2024-05-09T06:39:39.026512",
     "status": "completed"
    },
    "tags": []
   },
   "outputs": [
    {
     "name": "stdout",
     "output_type": "stream",
     "text": [
      "Training until validation scores don't improve for 100 rounds\n",
      "[200]\tvalid_0's auc: 0.786299\n",
      "[400]\tvalid_0's auc: 0.791815\n",
      "[600]\tvalid_0's auc: 0.793897\n",
      "[800]\tvalid_0's auc: 0.794987\n",
      "[1000]\tvalid_0's auc: 0.795643\n",
      "[1200]\tvalid_0's auc: 0.796029\n",
      "[1400]\tvalid_0's auc: 0.796324\n",
      "[1600]\tvalid_0's auc: 0.796392\n",
      "[1800]\tvalid_0's auc: 0.796697\n",
      "[2000]\tvalid_0's auc: 0.796849\n",
      "Did not meet early stopping. Best iteration is:\n",
      "[2000]\tvalid_0's auc: 0.796849\n",
      "AUC 0.7968489417407121\n"
     ]
    }
   ],
   "source": [
    "import lightgbm as lgb\n",
    "from lightgbm import LGBMClassifier\n",
    "\n",
    "lgb_model = lgb.LGBMClassifier(**params)\n",
    "#lgb_model = lgb.LGBMClassifier()\n",
    "lgb_model.fit(\n",
    "        X_train, y_train,\n",
    "        eval_set = [(X_test, y_test)],\n",
    "        callbacks = [lgb.log_evaluation(200), lgb.early_stopping(100)] )\n",
    "y_pred_lgb = lgb_model.predict_proba(X_test)[:,1]\n",
    "auc_lgb = roc_auc_score(y_test, y_pred_lgb)\n",
    "print(f'AUC {auc_lgb}')"
   ]
  },
  {
   "cell_type": "code",
   "execution_count": 38,
   "id": "14b4d21f",
   "metadata": {
    "execution": {
     "iopub.execute_input": "2024-05-09T06:50:38.187110Z",
     "iopub.status.busy": "2024-05-09T06:50:38.186704Z",
     "iopub.status.idle": "2024-05-09T06:50:38.195216Z",
     "shell.execute_reply": "2024-05-09T06:50:38.194149Z"
    },
    "papermill": {
     "duration": 0.03133,
     "end_time": "2024-05-09T06:50:38.197629",
     "exception": false,
     "start_time": "2024-05-09T06:50:38.166299",
     "status": "completed"
    },
    "tags": []
   },
   "outputs": [
    {
     "data": {
      "text/plain": [
       "((920,), 3686, 908)"
      ]
     },
     "execution_count": 38,
     "metadata": {},
     "output_type": "execute_result"
    }
   ],
   "source": [
    "#Feature importance\n",
    "lgb_feat_imp = lgb_model.feature_importances_\n",
    "lgb_feat_imp.shape, lgb_feat_imp.max(), lgb_feat_imp.argmax()"
   ]
  },
  {
   "cell_type": "code",
   "execution_count": 39,
   "id": "7720c144",
   "metadata": {
    "execution": {
     "iopub.execute_input": "2024-05-09T06:50:38.237872Z",
     "iopub.status.busy": "2024-05-09T06:50:38.237449Z",
     "iopub.status.idle": "2024-05-09T06:50:38.845728Z",
     "shell.execute_reply": "2024-05-09T06:50:38.844421Z"
    },
    "papermill": {
     "duration": 0.631711,
     "end_time": "2024-05-09T06:50:38.848314",
     "exception": false,
     "start_time": "2024-05-09T06:50:38.216603",
     "status": "completed"
    },
    "tags": []
   },
   "outputs": [
    {
     "name": "stdout",
     "output_type": "stream",
     "text": [
      "Trained LGB model was saved!\n"
     ]
    }
   ],
   "source": [
    "import pickle\n",
    "file = '/kaggle/working/lgb_model.pkl'\n",
    "pickle.dump(lgb_model, open(file, 'wb'))\n",
    "print('Trained LGB model was saved!')"
   ]
  },
  {
   "cell_type": "markdown",
   "id": "84c707b4",
   "metadata": {
    "papermill": {
     "duration": 0.019531,
     "end_time": "2024-05-09T06:50:38.888278",
     "exception": false,
     "start_time": "2024-05-09T06:50:38.868747",
     "status": "completed"
    },
    "tags": []
   },
   "source": [
    "# Submission"
   ]
  },
  {
   "cell_type": "code",
   "execution_count": 40,
   "id": "da08cd28",
   "metadata": {
    "execution": {
     "iopub.execute_input": "2024-05-09T06:50:38.930816Z",
     "iopub.status.busy": "2024-05-09T06:50:38.930382Z",
     "iopub.status.idle": "2024-05-09T06:50:38.954661Z",
     "shell.execute_reply": "2024-05-09T06:50:38.953519Z"
    },
    "papermill": {
     "duration": 0.047662,
     "end_time": "2024-05-09T06:50:38.957483",
     "exception": false,
     "start_time": "2024-05-09T06:50:38.909821",
     "status": "completed"
    },
    "tags": []
   },
   "outputs": [],
   "source": [
    "pred_xgb = xgb_classifier.predict_proba(test_data)[:, 1]\n",
    "pred_cat = clf.predict_proba(test_data)[:, 1]\n",
    "pred_lgb = lgb_model.predict_proba(test_data)[:,1]\n",
    "predictions = (pred_xgb+pred_cat+pred_lgb)/3\n",
    "#predictions = pred_xgb"
   ]
  },
  {
   "cell_type": "code",
   "execution_count": 41,
   "id": "4eb180f8",
   "metadata": {
    "execution": {
     "iopub.execute_input": "2024-05-09T06:50:38.997570Z",
     "iopub.status.busy": "2024-05-09T06:50:38.997138Z",
     "iopub.status.idle": "2024-05-09T06:50:39.035464Z",
     "shell.execute_reply": "2024-05-09T06:50:39.034379Z"
    },
    "papermill": {
     "duration": 0.061446,
     "end_time": "2024-05-09T06:50:39.038079",
     "exception": false,
     "start_time": "2024-05-09T06:50:38.976633",
     "status": "completed"
    },
    "tags": []
   },
   "outputs": [
    {
     "data": {
      "text/html": [
       "<div>\n",
       "<style scoped>\n",
       "    .dataframe tbody tr th:only-of-type {\n",
       "        vertical-align: middle;\n",
       "    }\n",
       "\n",
       "    .dataframe tbody tr th {\n",
       "        vertical-align: top;\n",
       "    }\n",
       "\n",
       "    .dataframe thead th {\n",
       "        text-align: right;\n",
       "    }\n",
       "</style>\n",
       "<table border=\"1\" class=\"dataframe\">\n",
       "  <thead>\n",
       "    <tr style=\"text-align: right;\">\n",
       "      <th></th>\n",
       "      <th>case_id</th>\n",
       "      <th>score</th>\n",
       "    </tr>\n",
       "  </thead>\n",
       "  <tbody>\n",
       "    <tr>\n",
       "      <th>0</th>\n",
       "      <td>57543</td>\n",
       "      <td>0.006338</td>\n",
       "    </tr>\n",
       "    <tr>\n",
       "      <th>1</th>\n",
       "      <td>57549</td>\n",
       "      <td>0.013891</td>\n",
       "    </tr>\n",
       "    <tr>\n",
       "      <th>2</th>\n",
       "      <td>57551</td>\n",
       "      <td>0.006625</td>\n",
       "    </tr>\n",
       "    <tr>\n",
       "      <th>3</th>\n",
       "      <td>57552</td>\n",
       "      <td>0.012186</td>\n",
       "    </tr>\n",
       "    <tr>\n",
       "      <th>4</th>\n",
       "      <td>57569</td>\n",
       "      <td>0.098893</td>\n",
       "    </tr>\n",
       "  </tbody>\n",
       "</table>\n",
       "</div>"
      ],
      "text/plain": [
       "   case_id     score\n",
       "0    57543  0.006338\n",
       "1    57549  0.013891\n",
       "2    57551  0.006625\n",
       "3    57552  0.012186\n",
       "4    57569  0.098893"
      ]
     },
     "execution_count": 41,
     "metadata": {},
     "output_type": "execute_result"
    }
   ],
   "source": [
    "subs = pd.read_csv('/kaggle/input/home-credit-credit-risk-model-stability/sample_submission.csv')\n",
    "subs['score'] = predictions\n",
    "subs.to_csv('submission.csv', index=False)\n",
    "subs.head()"
   ]
  }
 ],
 "metadata": {
  "kaggle": {
   "accelerator": "none",
   "dataSources": [
    {
     "databundleVersionId": 7921029,
     "sourceId": 50160,
     "sourceType": "competition"
    }
   ],
   "dockerImageVersionId": 30698,
   "isGpuEnabled": false,
   "isInternetEnabled": false,
   "language": "python",
   "sourceType": "notebook"
  },
  "kernelspec": {
   "display_name": "Python 3",
   "language": "python",
   "name": "python3"
  },
  "language_info": {
   "codemirror_mode": {
    "name": "ipython",
    "version": 3
   },
   "file_extension": ".py",
   "mimetype": "text/x-python",
   "name": "python",
   "nbconvert_exporter": "python",
   "pygments_lexer": "ipython3",
   "version": "3.10.13"
  },
  "papermill": {
   "default_parameters": {},
   "duration": 1362.854763,
   "end_time": "2024-05-09T06:50:40.689125",
   "environment_variables": {},
   "exception": null,
   "input_path": "__notebook__.ipynb",
   "output_path": "__notebook__.ipynb",
   "parameters": {},
   "start_time": "2024-05-09T06:27:57.834362",
   "version": "2.5.0"
  }
 },
 "nbformat": 4,
 "nbformat_minor": 5
}
