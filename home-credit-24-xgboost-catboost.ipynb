{
 "cells": [
  {
   "cell_type": "markdown",
   "id": "39bf873e",
   "metadata": {
    "papermill": {
     "duration": 0.005782,
     "end_time": "2024-05-08T05:50:30.628364",
     "exception": false,
     "start_time": "2024-05-08T05:50:30.622582",
     "status": "completed"
    },
    "tags": []
   },
   "source": [
    "Credit:\n",
    "\n",
    "https://www.kaggle.com/code/lorresprz/home-credit-lgb-cat-ensemble"
   ]
  },
  {
   "cell_type": "code",
   "execution_count": 1,
   "id": "724d73a2",
   "metadata": {
    "execution": {
     "iopub.execute_input": "2024-05-08T05:50:30.640701Z",
     "iopub.status.busy": "2024-05-08T05:50:30.640318Z",
     "iopub.status.idle": "2024-05-08T05:50:31.406158Z",
     "shell.execute_reply": "2024-05-08T05:50:31.405292Z"
    },
    "papermill": {
     "duration": 0.774958,
     "end_time": "2024-05-08T05:50:31.408546",
     "exception": false,
     "start_time": "2024-05-08T05:50:30.633588",
     "status": "completed"
    },
    "tags": []
   },
   "outputs": [],
   "source": [
    "import numpy as np\n",
    "import pandas as pd\n",
    "import warnings as wr\n",
    "wr.filterwarnings('ignore')"
   ]
  },
  {
   "cell_type": "markdown",
   "id": "bd93e9e2",
   "metadata": {
    "papermill": {
     "duration": 0.005008,
     "end_time": "2024-05-08T05:50:31.419018",
     "exception": false,
     "start_time": "2024-05-08T05:50:31.414010",
     "status": "completed"
    },
    "tags": []
   },
   "source": [
    "# 1. Data Loading"
   ]
  },
  {
   "cell_type": "code",
   "execution_count": 2,
   "id": "801f16a2",
   "metadata": {
    "execution": {
     "iopub.execute_input": "2024-05-08T05:50:31.432940Z",
     "iopub.status.busy": "2024-05-08T05:50:31.432472Z",
     "iopub.status.idle": "2024-05-08T05:51:06.390729Z",
     "shell.execute_reply": "2024-05-08T05:51:06.389832Z"
    },
    "papermill": {
     "duration": 34.968132,
     "end_time": "2024-05-08T05:51:06.392992",
     "exception": false,
     "start_time": "2024-05-08T05:50:31.424860",
     "status": "completed"
    },
    "tags": []
   },
   "outputs": [],
   "source": [
    "# Using only depth=0 data\n",
    "directory = \"/kaggle/input/home-credit-credit-risk-model-stability/csv_files/\"\n",
    "\n",
    "train_base_df = pd.read_csv(directory + \"train/train_base.csv\")\n",
    "test_base_df  = pd.read_csv(directory + \"test/test_base.csv\")\n",
    "\n",
    "train_static0 = pd.read_csv(directory + \"train/train_static_0_0.csv\")\n",
    "train_static1 = pd.read_csv(directory + \"train/train_static_0_1.csv\")\n",
    "train_static  = pd.concat([train_static0, train_static1], ignore_index=True)\n",
    "del train_static0, train_static1\n",
    "\n",
    "test_static0 = pd.read_csv(directory + \"test/test_static_0_0.csv\")\n",
    "test_static1 = pd.read_csv(directory + \"test/test_static_0_1.csv\")\n",
    "test_static2 = pd.read_csv(directory + \"test/test_static_0_2.csv\")\n",
    "test_static  = pd.concat([test_static0, test_static1, test_static2], ignore_index=True)\n",
    "del test_static0, test_static1, test_static2\n",
    "\n",
    "train_static_cb = pd.read_csv(directory + \"train/train_static_cb_0.csv\")\n",
    "test_static_cb  = pd.read_csv(directory + \"test/test_static_cb_0.csv\")"
   ]
  },
  {
   "cell_type": "code",
   "execution_count": 3,
   "id": "f4500835",
   "metadata": {
    "execution": {
     "iopub.execute_input": "2024-05-08T05:51:06.405849Z",
     "iopub.status.busy": "2024-05-08T05:51:06.405507Z",
     "iopub.status.idle": "2024-05-08T05:51:06.412997Z",
     "shell.execute_reply": "2024-05-08T05:51:06.411947Z"
    },
    "papermill": {
     "duration": 0.016501,
     "end_time": "2024-05-08T05:51:06.415215",
     "exception": false,
     "start_time": "2024-05-08T05:51:06.398714",
     "status": "completed"
    },
    "tags": []
   },
   "outputs": [
    {
     "data": {
      "text/plain": [
       "(Index(['case_id', 'date_decision', 'MONTH', 'WEEK_NUM', 'target'], dtype='object'),\n",
       " 1526659)"
      ]
     },
     "execution_count": 3,
     "metadata": {},
     "output_type": "execute_result"
    }
   ],
   "source": [
    "train_base_df.columns, len(train_base_df)"
   ]
  },
  {
   "cell_type": "code",
   "execution_count": 4,
   "id": "c694c4a9",
   "metadata": {
    "execution": {
     "iopub.execute_input": "2024-05-08T05:51:06.428970Z",
     "iopub.status.busy": "2024-05-08T05:51:06.428636Z",
     "iopub.status.idle": "2024-05-08T05:51:06.435460Z",
     "shell.execute_reply": "2024-05-08T05:51:06.434507Z"
    },
    "papermill": {
     "duration": 0.016684,
     "end_time": "2024-05-08T05:51:06.437633",
     "exception": false,
     "start_time": "2024-05-08T05:51:06.420949",
     "status": "completed"
    },
    "tags": []
   },
   "outputs": [
    {
     "data": {
      "text/plain": [
       "(168,\n",
       " Index(['case_id', 'actualdpdtolerance_344P', 'amtinstpaidbefduel24m_4187115A',\n",
       "        'annuity_780A', 'annuitynextmonth_57A', 'applicationcnt_361L',\n",
       "        'applications30d_658L', 'applicationscnt_1086L', 'applicationscnt_464L',\n",
       "        'applicationscnt_629L'],\n",
       "       dtype='object'),\n",
       " 1526659)"
      ]
     },
     "execution_count": 4,
     "metadata": {},
     "output_type": "execute_result"
    }
   ],
   "source": [
    "len(train_static.columns), train_static.columns[:10], len(train_static)"
   ]
  },
  {
   "cell_type": "code",
   "execution_count": 5,
   "id": "69ca9be9",
   "metadata": {
    "execution": {
     "iopub.execute_input": "2024-05-08T05:51:06.450262Z",
     "iopub.status.busy": "2024-05-08T05:51:06.449883Z",
     "iopub.status.idle": "2024-05-08T05:51:06.454083Z",
     "shell.execute_reply": "2024-05-08T05:51:06.453205Z"
    },
    "papermill": {
     "duration": 0.012575,
     "end_time": "2024-05-08T05:51:06.455844",
     "exception": false,
     "start_time": "2024-05-08T05:51:06.443269",
     "status": "completed"
    },
    "tags": []
   },
   "outputs": [],
   "source": [
    "# Add depth-1 data\n",
    "#tr_d1_1 = pd.read_csv('/kaggle/input/home-credit-credit-risk-model-stability/csv_files/train/train_applprev_1_0.csv')"
   ]
  },
  {
   "cell_type": "code",
   "execution_count": 6,
   "id": "a3342a3b",
   "metadata": {
    "execution": {
     "iopub.execute_input": "2024-05-08T05:51:06.468190Z",
     "iopub.status.busy": "2024-05-08T05:51:06.467855Z",
     "iopub.status.idle": "2024-05-08T05:51:06.472816Z",
     "shell.execute_reply": "2024-05-08T05:51:06.471446Z"
    },
    "papermill": {
     "duration": 0.013916,
     "end_time": "2024-05-08T05:51:06.475352",
     "exception": false,
     "start_time": "2024-05-08T05:51:06.461436",
     "status": "completed"
    },
    "tags": []
   },
   "outputs": [],
   "source": [
    "#len(tr_d1_1.columns),len(tr_d1_1)"
   ]
  },
  {
   "cell_type": "markdown",
   "id": "d7cce6e9",
   "metadata": {
    "papermill": {
     "duration": 0.005345,
     "end_time": "2024-05-08T05:51:06.487827",
     "exception": false,
     "start_time": "2024-05-08T05:51:06.482482",
     "status": "completed"
    },
    "tags": []
   },
   "source": [
    "# 2. Data Preparation"
   ]
  },
  {
   "cell_type": "markdown",
   "id": "b0d65dca",
   "metadata": {
    "papermill": {
     "duration": 0.005547,
     "end_time": "2024-05-08T05:51:06.498841",
     "exception": false,
     "start_time": "2024-05-08T05:51:06.493294",
     "status": "completed"
    },
    "tags": []
   },
   "source": [
    "### Merge \"train\":"
   ]
  },
  {
   "cell_type": "code",
   "execution_count": 7,
   "id": "f5b89c04",
   "metadata": {
    "execution": {
     "iopub.execute_input": "2024-05-08T05:51:06.511659Z",
     "iopub.status.busy": "2024-05-08T05:51:06.511299Z",
     "iopub.status.idle": "2024-05-08T05:51:07.608301Z",
     "shell.execute_reply": "2024-05-08T05:51:07.607437Z"
    },
    "papermill": {
     "duration": 1.106087,
     "end_time": "2024-05-08T05:51:07.610502",
     "exception": false,
     "start_time": "2024-05-08T05:51:06.504415",
     "status": "completed"
    },
    "tags": []
   },
   "outputs": [],
   "source": [
    "# For simplicity, select only columns ending in \"A\" or \"P\" (columns of float type)\n",
    "selected_static_cols = []\n",
    "for col in train_static.columns:\n",
    "    if col[-1] in (\"A\", \"P\"):\n",
    "        selected_static_cols.append(col)\n",
    "# print(selected_static_cols)\n",
    "\n",
    "selected_static_cb_cols = []\n",
    "for col in train_static_cb.columns:\n",
    "    if col[-1] in (\"A\", \"P\"):\n",
    "        selected_static_cb_cols.append(col)\n",
    "# print(selected_static_cb_cols)\n",
    "\n",
    "train_data = pd.merge(train_base_df, train_static[[\"case_id\"]+selected_static_cols],    how=\"left\", on=\"case_id\")\n",
    "train_data = pd.merge(train_data, train_static_cb[[\"case_id\"]+selected_static_cb_cols], how=\"left\", on=\"case_id\")"
   ]
  },
  {
   "cell_type": "code",
   "execution_count": 8,
   "id": "8829dd16",
   "metadata": {
    "execution": {
     "iopub.execute_input": "2024-05-08T05:51:07.622876Z",
     "iopub.status.busy": "2024-05-08T05:51:07.622573Z",
     "iopub.status.idle": "2024-05-08T05:51:07.628283Z",
     "shell.execute_reply": "2024-05-08T05:51:07.627455Z"
    },
    "papermill": {
     "duration": 0.014485,
     "end_time": "2024-05-08T05:51:07.630440",
     "exception": false,
     "start_time": "2024-05-08T05:51:07.615955",
     "status": "completed"
    },
    "tags": []
   },
   "outputs": [
    {
     "data": {
      "text/plain": [
       "(62, 1526659)"
      ]
     },
     "execution_count": 8,
     "metadata": {},
     "output_type": "execute_result"
    }
   ],
   "source": [
    "len(train_data.columns), len(train_data)"
   ]
  },
  {
   "cell_type": "markdown",
   "id": "66f9cec5",
   "metadata": {
    "papermill": {
     "duration": 0.005285,
     "end_time": "2024-05-08T05:51:07.641505",
     "exception": false,
     "start_time": "2024-05-08T05:51:07.636220",
     "status": "completed"
    },
    "tags": []
   },
   "source": [
    "### Merge \"test\":"
   ]
  },
  {
   "cell_type": "code",
   "execution_count": 9,
   "id": "59e9e70d",
   "metadata": {
    "execution": {
     "iopub.execute_input": "2024-05-08T05:51:07.654051Z",
     "iopub.status.busy": "2024-05-08T05:51:07.653671Z",
     "iopub.status.idle": "2024-05-08T05:51:07.667751Z",
     "shell.execute_reply": "2024-05-08T05:51:07.666645Z"
    },
    "papermill": {
     "duration": 0.023109,
     "end_time": "2024-05-08T05:51:07.669889",
     "exception": false,
     "start_time": "2024-05-08T05:51:07.646780",
     "status": "completed"
    },
    "tags": []
   },
   "outputs": [],
   "source": [
    "# For simplicity, select only columns ending in \"A\" or \"P\" (columns of float type)\n",
    "selected_static_cols = []\n",
    "for col in test_static.columns:\n",
    "    if col[-1] in (\"A\", \"P\"):\n",
    "        selected_static_cols.append(col)\n",
    "# print(selected_static_cols)\n",
    "\n",
    "selected_static_cb_cols = []\n",
    "for col in test_static_cb.columns:\n",
    "    if col[-1] in (\"A\", \"P\"):\n",
    "        selected_static_cb_cols.append(col)\n",
    "# print(selected_static_cb_cols)\n",
    "\n",
    "test_data = pd.merge(test_base_df, test_static[[\"case_id\"]+selected_static_cols], how=\"left\", on=\"case_id\")\n",
    "test_data = pd.merge(test_data, test_static_cb[[\"case_id\"]+selected_static_cb_cols], how=\"left\", on=\"case_id\")"
   ]
  },
  {
   "cell_type": "code",
   "execution_count": 10,
   "id": "bfdb8402",
   "metadata": {
    "execution": {
     "iopub.execute_input": "2024-05-08T05:51:07.682695Z",
     "iopub.status.busy": "2024-05-08T05:51:07.682348Z",
     "iopub.status.idle": "2024-05-08T05:51:09.823734Z",
     "shell.execute_reply": "2024-05-08T05:51:09.822622Z"
    },
    "papermill": {
     "duration": 2.150599,
     "end_time": "2024-05-08T05:51:09.826216",
     "exception": false,
     "start_time": "2024-05-08T05:51:07.675617",
     "status": "completed"
    },
    "tags": []
   },
   "outputs": [],
   "source": [
    "train_data.drop(columns = [\"case_id\", \"MONTH\", \"WEEK_NUM\", \"date_decision\"], inplace = True)\n",
    "test_data.drop(columns  = [\"case_id\", \"MONTH\", \"WEEK_NUM\", \"date_decision\"], inplace = True)\n",
    "X = train_data.drop(['target'], axis=1)\n",
    "y = train_data['target']\n",
    "\n",
    "from sklearn.model_selection import train_test_split\n",
    "X_train, X_test, y_train, y_test = train_test_split(X, y, test_size=0.2, random_state=42)"
   ]
  },
  {
   "cell_type": "code",
   "execution_count": 11,
   "id": "3ae61ae2",
   "metadata": {
    "execution": {
     "iopub.execute_input": "2024-05-08T05:51:09.841510Z",
     "iopub.status.busy": "2024-05-08T05:51:09.841150Z",
     "iopub.status.idle": "2024-05-08T05:51:09.847839Z",
     "shell.execute_reply": "2024-05-08T05:51:09.846456Z"
    },
    "papermill": {
     "duration": 0.016621,
     "end_time": "2024-05-08T05:51:09.849901",
     "exception": false,
     "start_time": "2024-05-08T05:51:09.833280",
     "status": "completed"
    },
    "tags": []
   },
   "outputs": [
    {
     "data": {
      "text/plain": [
       "((1221327, 57), (305332, 57), (1221327,), (305332,))"
      ]
     },
     "execution_count": 11,
     "metadata": {},
     "output_type": "execute_result"
    }
   ],
   "source": [
    "X_train.shape, X_test.shape, y_train.shape, y_test.shape"
   ]
  },
  {
   "cell_type": "markdown",
   "id": "25a1c065",
   "metadata": {
    "papermill": {
     "duration": 0.006767,
     "end_time": "2024-05-08T05:51:09.863705",
     "exception": false,
     "start_time": "2024-05-08T05:51:09.856938",
     "status": "completed"
    },
    "tags": []
   },
   "source": [
    "# 3. XGBoost modelling"
   ]
  },
  {
   "cell_type": "code",
   "execution_count": 12,
   "id": "d42c15fd",
   "metadata": {
    "execution": {
     "iopub.execute_input": "2024-05-08T05:51:09.876676Z",
     "iopub.status.busy": "2024-05-08T05:51:09.876361Z",
     "iopub.status.idle": "2024-05-08T05:51:10.053750Z",
     "shell.execute_reply": "2024-05-08T05:51:10.052804Z"
    },
    "papermill": {
     "duration": 0.186484,
     "end_time": "2024-05-08T05:51:10.056084",
     "exception": false,
     "start_time": "2024-05-08T05:51:09.869600",
     "status": "completed"
    },
    "tags": []
   },
   "outputs": [],
   "source": [
    "from sklearn.metrics import  roc_auc_score\n",
    "from xgboost import XGBClassifier"
   ]
  },
  {
   "cell_type": "code",
   "execution_count": 13,
   "id": "9e2b3f76",
   "metadata": {
    "execution": {
     "iopub.execute_input": "2024-05-08T05:51:10.071298Z",
     "iopub.status.busy": "2024-05-08T05:51:10.070937Z",
     "iopub.status.idle": "2024-05-08T05:51:10.075880Z",
     "shell.execute_reply": "2024-05-08T05:51:10.074963Z"
    },
    "papermill": {
     "duration": 0.014571,
     "end_time": "2024-05-08T05:51:10.077676",
     "exception": false,
     "start_time": "2024-05-08T05:51:10.063105",
     "status": "completed"
    },
    "tags": []
   },
   "outputs": [],
   "source": [
    "params2 = {\n",
    "    \"booster\": \"gbtree\",\n",
    "    \"objective\": \"binary:logistic\",\n",
    "    \"eval_metric\": \"auc\",\n",
    "    \"max_depth\": 10,\n",
    "    \"learning_rate\": 0.05,\n",
    "    \"n_estimators\": 1000,\n",
    "    \"colsample_bytree\": 0.8,\n",
    "    \"colsample_bynode\": 0.8,\n",
    "    \"alpha\": 0.1,  \n",
    "    \"lambda\": 10,  \n",
    "    #\"tree_method\": 'gpu_hist' if device == 'gpu' else 'auto',\n",
    "    \"random_state\": 42,\n",
    "    \"verbosity\": 0,\n",
    "    \"enable_categorical\":True,\n",
    "}"
   ]
  },
  {
   "cell_type": "code",
   "execution_count": 14,
   "id": "14ca0774",
   "metadata": {
    "execution": {
     "iopub.execute_input": "2024-05-08T05:51:10.090433Z",
     "iopub.status.busy": "2024-05-08T05:51:10.090083Z",
     "iopub.status.idle": "2024-05-08T05:51:24.194635Z",
     "shell.execute_reply": "2024-05-08T05:51:24.193344Z"
    },
    "papermill": {
     "duration": 14.113768,
     "end_time": "2024-05-08T05:51:24.197172",
     "exception": false,
     "start_time": "2024-05-08T05:51:10.083404",
     "status": "completed"
    },
    "tags": []
   },
   "outputs": [
    {
     "name": "stdout",
     "output_type": "stream",
     "text": [
      "ROC = 0.771\n",
      "CPU times: user 51.5 s, sys: 313 ms, total: 51.8 s\n",
      "Wall time: 14.1 s\n"
     ]
    }
   ],
   "source": [
    "%%time\n",
    "#xgb_classifier = XGBClassifier(**params2)\n",
    "xgb_classifier = XGBClassifier()\n",
    "xgb_classifier.fit(X_train, y_train)\n",
    "\n",
    "y_pred2 = xgb_classifier.predict_proba(X_test)[:,1]\n",
    "auc_score_xgb = roc_auc_score(y_test, y_pred2)\n",
    "print(f'ROC = {auc_score_xgb.round(3)}')"
   ]
  },
  {
   "cell_type": "markdown",
   "id": "110e05df",
   "metadata": {
    "papermill": {
     "duration": 0.005435,
     "end_time": "2024-05-08T05:51:24.208757",
     "exception": false,
     "start_time": "2024-05-08T05:51:24.203322",
     "status": "completed"
    },
    "tags": []
   },
   "source": [
    "# 4. CatBoostClassifier"
   ]
  },
  {
   "cell_type": "code",
   "execution_count": 15,
   "id": "48a93b52",
   "metadata": {
    "execution": {
     "iopub.execute_input": "2024-05-08T05:51:24.221495Z",
     "iopub.status.busy": "2024-05-08T05:51:24.221162Z",
     "iopub.status.idle": "2024-05-08T05:55:25.937665Z",
     "shell.execute_reply": "2024-05-08T05:55:25.936827Z"
    },
    "papermill": {
     "duration": 241.730759,
     "end_time": "2024-05-08T05:55:25.945169",
     "exception": false,
     "start_time": "2024-05-08T05:51:24.214410",
     "status": "completed"
    },
    "tags": []
   },
   "outputs": [
    {
     "name": "stdout",
     "output_type": "stream",
     "text": [
      "ROC = 0.774\n",
      "CPU times: user 15min 11s, sys: 7.66 s, total: 15min 19s\n",
      "Wall time: 4min 1s\n"
     ]
    }
   ],
   "source": [
    "%%time\n",
    "#https://catboost.ai/en/docs/concepts/python-reference_catboostclassifier_fit\n",
    "\n",
    "from catboost import CatBoostClassifier\n",
    "#clf = CatBoostClassifier(eval_metric='AUC',learning_rate=0.03)\n",
    "clf = CatBoostClassifier()\n",
    "\n",
    "clf.fit(X_train, y=y_train, eval_set = (X_test, y_test), verbose = False)\n",
    "y_pred_valid = clf.predict_proba(X_test)[:,1]\n",
    "auc_score_cat = roc_auc_score(y_test, y_pred_valid)\n",
    "print(f'ROC = {auc_score_cat.round(3)}')"
   ]
  },
  {
   "cell_type": "markdown",
   "id": "c89a9a95",
   "metadata": {
    "papermill": {
     "duration": 0.005548,
     "end_time": "2024-05-08T05:55:25.956477",
     "exception": false,
     "start_time": "2024-05-08T05:55:25.950929",
     "status": "completed"
    },
    "tags": []
   },
   "source": [
    "# LGB"
   ]
  },
  {
   "cell_type": "code",
   "execution_count": 16,
   "id": "2c0c76eb",
   "metadata": {
    "execution": {
     "iopub.execute_input": "2024-05-08T05:55:25.969776Z",
     "iopub.status.busy": "2024-05-08T05:55:25.968977Z",
     "iopub.status.idle": "2024-05-08T05:55:25.974841Z",
     "shell.execute_reply": "2024-05-08T05:55:25.973707Z"
    },
    "papermill": {
     "duration": 0.014858,
     "end_time": "2024-05-08T05:55:25.976973",
     "exception": false,
     "start_time": "2024-05-08T05:55:25.962115",
     "status": "completed"
    },
    "tags": []
   },
   "outputs": [],
   "source": [
    "params = {\n",
    "    \"boosting_type\": \"gbdt\",\n",
    "    \"objective\": \"binary\",\n",
    "    \"metric\": \"auc\",\n",
    "    \"max_depth\": 10,  \n",
    "    \"learning_rate\": 0.05,\n",
    "    \"n_estimators\": 2000,  \n",
    "    \"colsample_bytree\": 0.8,\n",
    "    \"colsample_bynode\": 0.8,\n",
    "    \"verbose\": -1,\n",
    "    \"random_state\": 42,\n",
    "    \"reg_alpha\": 0.1,\n",
    "    \"reg_lambda\": 10,\n",
    "    \"extra_trees\":True,\n",
    "    'num_leaves':64,\n",
    "    #\"device\": device, \n",
    "    \"verbose\": -1,\n",
    "}"
   ]
  },
  {
   "cell_type": "code",
   "execution_count": 17,
   "id": "85c2fa85",
   "metadata": {
    "execution": {
     "iopub.execute_input": "2024-05-08T05:55:25.990530Z",
     "iopub.status.busy": "2024-05-08T05:55:25.990189Z",
     "iopub.status.idle": "2024-05-08T05:55:58.805934Z",
     "shell.execute_reply": "2024-05-08T05:55:58.805113Z"
    },
    "papermill": {
     "duration": 32.825,
     "end_time": "2024-05-08T05:55:58.808067",
     "exception": false,
     "start_time": "2024-05-08T05:55:25.983067",
     "status": "completed"
    },
    "tags": []
   },
   "outputs": [
    {
     "name": "stdout",
     "output_type": "stream",
     "text": [
      "[LightGBM] [Info] Number of positive: 38441, number of negative: 1182886\n",
      "[LightGBM] [Info] Auto-choosing row-wise multi-threading, the overhead of testing was 0.367718 seconds.\n",
      "You can set `force_row_wise=true` to remove the overhead.\n",
      "And if memory is not enough, you can set `force_col_wise=true`.\n",
      "[LightGBM] [Info] Total Bins 12694\n",
      "[LightGBM] [Info] Number of data points in the train set: 1221327, number of used features: 57\n",
      "[LightGBM] [Info] [binary:BoostFromScore]: pavg=0.031475 -> initscore=-3.426588\n",
      "[LightGBM] [Info] Start training from score -3.426588\n",
      "Training until validation scores don't improve for 100 rounds\n",
      "Did not meet early stopping. Best iteration is:\n",
      "[100]\tvalid_0's binary_logloss: 0.123399\n",
      "AUC 0.770667689166573\n"
     ]
    }
   ],
   "source": [
    "import lightgbm as lgb\n",
    "from lightgbm import LGBMClassifier\n",
    "\n",
    "#lgb_model = lgb.LGBMClassifier(**params)\n",
    "lgb_model = lgb.LGBMClassifier()\n",
    "lgb_model.fit(\n",
    "        X_train, y_train,\n",
    "        eval_set = [(X_test, y_test)],\n",
    "        callbacks = [lgb.log_evaluation(200), lgb.early_stopping(100)] )\n",
    "y_pred_lgb = lgb_model.predict_proba(X_test)[:,1]\n",
    "auc_lgb = roc_auc_score(y_test, y_pred_lgb)\n",
    "print(f'AUC {auc_lgb}')"
   ]
  },
  {
   "cell_type": "markdown",
   "id": "66c02eac",
   "metadata": {
    "papermill": {
     "duration": 0.005832,
     "end_time": "2024-05-08T05:55:58.820531",
     "exception": false,
     "start_time": "2024-05-08T05:55:58.814699",
     "status": "completed"
    },
    "tags": []
   },
   "source": [
    "# 5. Submit"
   ]
  },
  {
   "cell_type": "code",
   "execution_count": 18,
   "id": "44469235",
   "metadata": {
    "execution": {
     "iopub.execute_input": "2024-05-08T05:55:58.834629Z",
     "iopub.status.busy": "2024-05-08T05:55:58.834056Z",
     "iopub.status.idle": "2024-05-08T05:55:58.852248Z",
     "shell.execute_reply": "2024-05-08T05:55:58.851404Z"
    },
    "papermill": {
     "duration": 0.027735,
     "end_time": "2024-05-08T05:55:58.854384",
     "exception": false,
     "start_time": "2024-05-08T05:55:58.826649",
     "status": "completed"
    },
    "tags": []
   },
   "outputs": [],
   "source": [
    "pred_xgb = xgb_classifier.predict_proba(test_data)[:, 1]\n",
    "pred_cat = clf.predict_proba(test_data)[:, 1]\n",
    "pred_lgb = lgb_model.predict_proba(test_data)[:,1]\n",
    "\n",
    "predictions = (pred_xgb+pred_cat+pred_lgb)/3"
   ]
  },
  {
   "cell_type": "code",
   "execution_count": 19,
   "id": "9ffc805c",
   "metadata": {
    "execution": {
     "iopub.execute_input": "2024-05-08T05:55:58.868504Z",
     "iopub.status.busy": "2024-05-08T05:55:58.868117Z",
     "iopub.status.idle": "2024-05-08T05:55:58.884609Z",
     "shell.execute_reply": "2024-05-08T05:55:58.883434Z"
    },
    "papermill": {
     "duration": 0.025641,
     "end_time": "2024-05-08T05:55:58.886507",
     "exception": false,
     "start_time": "2024-05-08T05:55:58.860866",
     "status": "completed"
    },
    "tags": []
   },
   "outputs": [
    {
     "data": {
      "text/html": [
       "<div>\n",
       "<style scoped>\n",
       "    .dataframe tbody tr th:only-of-type {\n",
       "        vertical-align: middle;\n",
       "    }\n",
       "\n",
       "    .dataframe tbody tr th {\n",
       "        vertical-align: top;\n",
       "    }\n",
       "\n",
       "    .dataframe thead th {\n",
       "        text-align: right;\n",
       "    }\n",
       "</style>\n",
       "<table border=\"1\" class=\"dataframe\">\n",
       "  <thead>\n",
       "    <tr style=\"text-align: right;\">\n",
       "      <th></th>\n",
       "      <th>case_id</th>\n",
       "      <th>score</th>\n",
       "    </tr>\n",
       "  </thead>\n",
       "  <tbody>\n",
       "    <tr>\n",
       "      <th>0</th>\n",
       "      <td>57543</td>\n",
       "      <td>0.033068</td>\n",
       "    </tr>\n",
       "    <tr>\n",
       "      <th>1</th>\n",
       "      <td>57549</td>\n",
       "      <td>0.009819</td>\n",
       "    </tr>\n",
       "    <tr>\n",
       "      <th>2</th>\n",
       "      <td>57551</td>\n",
       "      <td>0.011030</td>\n",
       "    </tr>\n",
       "    <tr>\n",
       "      <th>3</th>\n",
       "      <td>57552</td>\n",
       "      <td>0.011610</td>\n",
       "    </tr>\n",
       "    <tr>\n",
       "      <th>4</th>\n",
       "      <td>57569</td>\n",
       "      <td>0.070756</td>\n",
       "    </tr>\n",
       "  </tbody>\n",
       "</table>\n",
       "</div>"
      ],
      "text/plain": [
       "   case_id     score\n",
       "0    57543  0.033068\n",
       "1    57549  0.009819\n",
       "2    57551  0.011030\n",
       "3    57552  0.011610\n",
       "4    57569  0.070756"
      ]
     },
     "execution_count": 19,
     "metadata": {},
     "output_type": "execute_result"
    }
   ],
   "source": [
    "\n",
    "test_Id = test_base_df[\"case_id\"]\n",
    "submission = pd.DataFrame({\n",
    "    'case_id': test_Id,\n",
    "    'score': predictions\n",
    "})\n",
    "\n",
    "submission.to_csv('submission.csv', index=False)\n",
    "submission.head()"
   ]
  }
 ],
 "metadata": {
  "kaggle": {
   "accelerator": "none",
   "dataSources": [
    {
     "databundleVersionId": 7921029,
     "sourceId": 50160,
     "sourceType": "competition"
    }
   ],
   "dockerImageVersionId": 30698,
   "isGpuEnabled": false,
   "isInternetEnabled": false,
   "language": "python",
   "sourceType": "notebook"
  },
  "kernelspec": {
   "display_name": "Python 3",
   "language": "python",
   "name": "python3"
  },
  "language_info": {
   "codemirror_mode": {
    "name": "ipython",
    "version": 3
   },
   "file_extension": ".py",
   "mimetype": "text/x-python",
   "name": "python",
   "nbconvert_exporter": "python",
   "pygments_lexer": "ipython3",
   "version": "3.10.13"
  },
  "papermill": {
   "default_parameters": {},
   "duration": 331.878791,
   "end_time": "2024-05-08T05:56:00.117325",
   "environment_variables": {},
   "exception": null,
   "input_path": "__notebook__.ipynb",
   "output_path": "__notebook__.ipynb",
   "parameters": {},
   "start_time": "2024-05-08T05:50:28.238534",
   "version": "2.5.0"
  }
 },
 "nbformat": 4,
 "nbformat_minor": 5
}
