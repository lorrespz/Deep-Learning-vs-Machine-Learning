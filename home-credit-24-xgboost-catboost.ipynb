{
 "cells": [
  {
   "cell_type": "markdown",
   "id": "fa1039d3",
   "metadata": {
    "papermill": {
     "duration": 0.009255,
     "end_time": "2024-05-07T08:33:22.939751",
     "exception": false,
     "start_time": "2024-05-07T08:33:22.930496",
     "status": "completed"
    },
    "tags": []
   },
   "source": [
    "Credit:\n",
    "\n",
    "https://www.kaggle.com/code/lorresprz/home-credit-lgb-cat-ensemble"
   ]
  },
  {
   "cell_type": "code",
   "execution_count": 1,
   "id": "fad55245",
   "metadata": {
    "execution": {
     "iopub.execute_input": "2024-05-07T08:33:22.959879Z",
     "iopub.status.busy": "2024-05-07T08:33:22.959124Z",
     "iopub.status.idle": "2024-05-07T08:33:23.978203Z",
     "shell.execute_reply": "2024-05-07T08:33:23.977142Z"
    },
    "papermill": {
     "duration": 1.033346,
     "end_time": "2024-05-07T08:33:23.981618",
     "exception": false,
     "start_time": "2024-05-07T08:33:22.948272",
     "status": "completed"
    },
    "tags": []
   },
   "outputs": [],
   "source": [
    "import numpy as np\n",
    "import pandas as pd\n",
    "import warnings as wr\n",
    "wr.filterwarnings('ignore')"
   ]
  },
  {
   "cell_type": "markdown",
   "id": "e25126ef",
   "metadata": {
    "papermill": {
     "duration": 0.008435,
     "end_time": "2024-05-07T08:33:23.999912",
     "exception": false,
     "start_time": "2024-05-07T08:33:23.991477",
     "status": "completed"
    },
    "tags": []
   },
   "source": [
    "# 1. Data Loading"
   ]
  },
  {
   "cell_type": "code",
   "execution_count": 2,
   "id": "f2017e24",
   "metadata": {
    "execution": {
     "iopub.execute_input": "2024-05-07T08:33:24.018711Z",
     "iopub.status.busy": "2024-05-07T08:33:24.018169Z",
     "iopub.status.idle": "2024-05-07T08:34:34.864458Z",
     "shell.execute_reply": "2024-05-07T08:34:34.862845Z"
    },
    "papermill": {
     "duration": 70.859146,
     "end_time": "2024-05-07T08:34:34.867427",
     "exception": false,
     "start_time": "2024-05-07T08:33:24.008281",
     "status": "completed"
    },
    "tags": []
   },
   "outputs": [],
   "source": [
    "# Using only depth=0 data\n",
    "directory = \"/kaggle/input/home-credit-credit-risk-model-stability/csv_files/\"\n",
    "\n",
    "train_base_df = pd.read_csv(directory + \"train/train_base.csv\")\n",
    "test_base_df  = pd.read_csv(directory + \"test/test_base.csv\")\n",
    "\n",
    "train_static0 = pd.read_csv(directory + \"train/train_static_0_0.csv\")\n",
    "train_static1 = pd.read_csv(directory + \"train/train_static_0_1.csv\")\n",
    "train_static  = pd.concat([train_static0, train_static1], ignore_index=True)\n",
    "del train_static0, train_static1\n",
    "\n",
    "test_static0 = pd.read_csv(directory + \"test/test_static_0_0.csv\")\n",
    "test_static1 = pd.read_csv(directory + \"test/test_static_0_1.csv\")\n",
    "test_static2 = pd.read_csv(directory + \"test/test_static_0_2.csv\")\n",
    "test_static  = pd.concat([test_static0, test_static1, test_static2], ignore_index=True)\n",
    "del test_static0, test_static1, test_static2\n",
    "\n",
    "train_static_cb = pd.read_csv(directory + \"train/train_static_cb_0.csv\")\n",
    "test_static_cb  = pd.read_csv(directory + \"test/test_static_cb_0.csv\")"
   ]
  },
  {
   "cell_type": "code",
   "execution_count": 3,
   "id": "857bd57e",
   "metadata": {
    "execution": {
     "iopub.execute_input": "2024-05-07T08:34:34.886968Z",
     "iopub.status.busy": "2024-05-07T08:34:34.886495Z",
     "iopub.status.idle": "2024-05-07T08:34:34.895152Z",
     "shell.execute_reply": "2024-05-07T08:34:34.893863Z"
    },
    "papermill": {
     "duration": 0.0218,
     "end_time": "2024-05-07T08:34:34.897824",
     "exception": false,
     "start_time": "2024-05-07T08:34:34.876024",
     "status": "completed"
    },
    "tags": []
   },
   "outputs": [
    {
     "data": {
      "text/plain": [
       "(Index(['case_id', 'date_decision', 'MONTH', 'WEEK_NUM', 'target'], dtype='object'),\n",
       " 1526659)"
      ]
     },
     "execution_count": 3,
     "metadata": {},
     "output_type": "execute_result"
    }
   ],
   "source": [
    "train_base_df.columns, len(train_base_df)"
   ]
  },
  {
   "cell_type": "code",
   "execution_count": 4,
   "id": "add2c766",
   "metadata": {
    "execution": {
     "iopub.execute_input": "2024-05-07T08:34:34.916863Z",
     "iopub.status.busy": "2024-05-07T08:34:34.916396Z",
     "iopub.status.idle": "2024-05-07T08:34:34.924278Z",
     "shell.execute_reply": "2024-05-07T08:34:34.923083Z"
    },
    "papermill": {
     "duration": 0.020564,
     "end_time": "2024-05-07T08:34:34.926995",
     "exception": false,
     "start_time": "2024-05-07T08:34:34.906431",
     "status": "completed"
    },
    "tags": []
   },
   "outputs": [
    {
     "data": {
      "text/plain": [
       "(168,\n",
       " Index(['case_id', 'actualdpdtolerance_344P', 'amtinstpaidbefduel24m_4187115A',\n",
       "        'annuity_780A', 'annuitynextmonth_57A', 'applicationcnt_361L',\n",
       "        'applications30d_658L', 'applicationscnt_1086L', 'applicationscnt_464L',\n",
       "        'applicationscnt_629L'],\n",
       "       dtype='object'),\n",
       " 1526659)"
      ]
     },
     "execution_count": 4,
     "metadata": {},
     "output_type": "execute_result"
    }
   ],
   "source": [
    "len(train_static.columns), train_static.columns[:10], len(train_static)"
   ]
  },
  {
   "cell_type": "code",
   "execution_count": 5,
   "id": "93a2ec25",
   "metadata": {
    "execution": {
     "iopub.execute_input": "2024-05-07T08:34:34.947154Z",
     "iopub.status.busy": "2024-05-07T08:34:34.946753Z",
     "iopub.status.idle": "2024-05-07T08:34:34.951492Z",
     "shell.execute_reply": "2024-05-07T08:34:34.950299Z"
    },
    "papermill": {
     "duration": 0.018105,
     "end_time": "2024-05-07T08:34:34.953952",
     "exception": false,
     "start_time": "2024-05-07T08:34:34.935847",
     "status": "completed"
    },
    "tags": []
   },
   "outputs": [],
   "source": [
    "# Add depth-1 data\n",
    "#tr_d1_1 = pd.read_csv('/kaggle/input/home-credit-credit-risk-model-stability/csv_files/train/train_applprev_1_0.csv')"
   ]
  },
  {
   "cell_type": "code",
   "execution_count": 6,
   "id": "a90e7528",
   "metadata": {
    "execution": {
     "iopub.execute_input": "2024-05-07T08:34:34.974138Z",
     "iopub.status.busy": "2024-05-07T08:34:34.973753Z",
     "iopub.status.idle": "2024-05-07T08:34:34.978416Z",
     "shell.execute_reply": "2024-05-07T08:34:34.977317Z"
    },
    "papermill": {
     "duration": 0.017678,
     "end_time": "2024-05-07T08:34:34.980964",
     "exception": false,
     "start_time": "2024-05-07T08:34:34.963286",
     "status": "completed"
    },
    "tags": []
   },
   "outputs": [],
   "source": [
    "#len(tr_d1_1.columns),len(tr_d1_1)"
   ]
  },
  {
   "cell_type": "markdown",
   "id": "90c663a8",
   "metadata": {
    "papermill": {
     "duration": 0.011233,
     "end_time": "2024-05-07T08:34:35.002203",
     "exception": false,
     "start_time": "2024-05-07T08:34:34.990970",
     "status": "completed"
    },
    "tags": []
   },
   "source": [
    "# 2. Data Preparation"
   ]
  },
  {
   "cell_type": "markdown",
   "id": "fb7391ca",
   "metadata": {
    "papermill": {
     "duration": 0.008553,
     "end_time": "2024-05-07T08:34:35.019964",
     "exception": false,
     "start_time": "2024-05-07T08:34:35.011411",
     "status": "completed"
    },
    "tags": []
   },
   "source": [
    "### Merge \"train\":"
   ]
  },
  {
   "cell_type": "code",
   "execution_count": 7,
   "id": "0f341f14",
   "metadata": {
    "execution": {
     "iopub.execute_input": "2024-05-07T08:34:35.039144Z",
     "iopub.status.busy": "2024-05-07T08:34:35.038713Z",
     "iopub.status.idle": "2024-05-07T08:34:37.583791Z",
     "shell.execute_reply": "2024-05-07T08:34:37.582757Z"
    },
    "papermill": {
     "duration": 2.558003,
     "end_time": "2024-05-07T08:34:37.586699",
     "exception": false,
     "start_time": "2024-05-07T08:34:35.028696",
     "status": "completed"
    },
    "tags": []
   },
   "outputs": [],
   "source": [
    "# For simplicity, select only columns ending in \"A\" or \"P\" (columns of float type)\n",
    "selected_static_cols = []\n",
    "for col in train_static.columns:\n",
    "    if col[-1] in (\"A\", \"P\"):\n",
    "        selected_static_cols.append(col)\n",
    "# print(selected_static_cols)\n",
    "\n",
    "selected_static_cb_cols = []\n",
    "for col in train_static_cb.columns:\n",
    "    if col[-1] in (\"A\", \"P\"):\n",
    "        selected_static_cb_cols.append(col)\n",
    "# print(selected_static_cb_cols)\n",
    "\n",
    "train_data = pd.merge(train_base_df, train_static[[\"case_id\"]+selected_static_cols],    how=\"left\", on=\"case_id\")\n",
    "train_data = pd.merge(train_data, train_static_cb[[\"case_id\"]+selected_static_cb_cols], how=\"left\", on=\"case_id\")"
   ]
  },
  {
   "cell_type": "code",
   "execution_count": 8,
   "id": "d2b62b6f",
   "metadata": {
    "execution": {
     "iopub.execute_input": "2024-05-07T08:34:37.606650Z",
     "iopub.status.busy": "2024-05-07T08:34:37.606247Z",
     "iopub.status.idle": "2024-05-07T08:34:37.613475Z",
     "shell.execute_reply": "2024-05-07T08:34:37.612375Z"
    },
    "papermill": {
     "duration": 0.020325,
     "end_time": "2024-05-07T08:34:37.615948",
     "exception": false,
     "start_time": "2024-05-07T08:34:37.595623",
     "status": "completed"
    },
    "tags": []
   },
   "outputs": [
    {
     "data": {
      "text/plain": [
       "(62, 1526659)"
      ]
     },
     "execution_count": 8,
     "metadata": {},
     "output_type": "execute_result"
    }
   ],
   "source": [
    "len(train_data.columns), len(train_data)"
   ]
  },
  {
   "cell_type": "markdown",
   "id": "ba8eb4b2",
   "metadata": {
    "papermill": {
     "duration": 0.008508,
     "end_time": "2024-05-07T08:34:37.633390",
     "exception": false,
     "start_time": "2024-05-07T08:34:37.624882",
     "status": "completed"
    },
    "tags": []
   },
   "source": [
    "### Merge \"test\":"
   ]
  },
  {
   "cell_type": "code",
   "execution_count": 9,
   "id": "54687528",
   "metadata": {
    "execution": {
     "iopub.execute_input": "2024-05-07T08:34:37.653558Z",
     "iopub.status.busy": "2024-05-07T08:34:37.652420Z",
     "iopub.status.idle": "2024-05-07T08:34:37.669308Z",
     "shell.execute_reply": "2024-05-07T08:34:37.668209Z"
    },
    "papermill": {
     "duration": 0.029719,
     "end_time": "2024-05-07T08:34:37.671911",
     "exception": false,
     "start_time": "2024-05-07T08:34:37.642192",
     "status": "completed"
    },
    "tags": []
   },
   "outputs": [],
   "source": [
    "# For simplicity, select only columns ending in \"A\" or \"P\" (columns of float type)\n",
    "selected_static_cols = []\n",
    "for col in test_static.columns:\n",
    "    if col[-1] in (\"A\", \"P\"):\n",
    "        selected_static_cols.append(col)\n",
    "# print(selected_static_cols)\n",
    "\n",
    "selected_static_cb_cols = []\n",
    "for col in test_static_cb.columns:\n",
    "    if col[-1] in (\"A\", \"P\"):\n",
    "        selected_static_cb_cols.append(col)\n",
    "# print(selected_static_cb_cols)\n",
    "\n",
    "test_data = pd.merge(test_base_df, test_static[[\"case_id\"]+selected_static_cols], how=\"left\", on=\"case_id\")\n",
    "test_data = pd.merge(test_data, test_static_cb[[\"case_id\"]+selected_static_cb_cols], how=\"left\", on=\"case_id\")"
   ]
  },
  {
   "cell_type": "code",
   "execution_count": 10,
   "id": "71a1a303",
   "metadata": {
    "execution": {
     "iopub.execute_input": "2024-05-07T08:34:37.691431Z",
     "iopub.status.busy": "2024-05-07T08:34:37.691015Z",
     "iopub.status.idle": "2024-05-07T08:34:40.828164Z",
     "shell.execute_reply": "2024-05-07T08:34:40.826862Z"
    },
    "papermill": {
     "duration": 3.150463,
     "end_time": "2024-05-07T08:34:40.831325",
     "exception": false,
     "start_time": "2024-05-07T08:34:37.680862",
     "status": "completed"
    },
    "tags": []
   },
   "outputs": [],
   "source": [
    "train_data.drop(columns = [\"case_id\", \"MONTH\", \"WEEK_NUM\", \"date_decision\"], inplace = True)\n",
    "test_data.drop(columns  = [\"case_id\", \"MONTH\", \"WEEK_NUM\", \"date_decision\"], inplace = True)\n",
    "X = train_data.drop(['target'], axis=1)\n",
    "y = train_data['target']\n",
    "\n",
    "from sklearn.model_selection import train_test_split\n",
    "X_train, X_test, y_train, y_test = train_test_split(X, y, test_size=0.2, random_state=42)"
   ]
  },
  {
   "cell_type": "code",
   "execution_count": 11,
   "id": "806cd272",
   "metadata": {
    "execution": {
     "iopub.execute_input": "2024-05-07T08:34:40.851424Z",
     "iopub.status.busy": "2024-05-07T08:34:40.850960Z",
     "iopub.status.idle": "2024-05-07T08:34:40.859513Z",
     "shell.execute_reply": "2024-05-07T08:34:40.858309Z"
    },
    "papermill": {
     "duration": 0.021326,
     "end_time": "2024-05-07T08:34:40.861816",
     "exception": false,
     "start_time": "2024-05-07T08:34:40.840490",
     "status": "completed"
    },
    "tags": []
   },
   "outputs": [
    {
     "data": {
      "text/plain": [
       "((1221327, 57), (305332, 57), (1221327,), (305332,))"
      ]
     },
     "execution_count": 11,
     "metadata": {},
     "output_type": "execute_result"
    }
   ],
   "source": [
    "X_train.shape, X_test.shape, y_train.shape, y_test.shape"
   ]
  },
  {
   "cell_type": "markdown",
   "id": "d2f65925",
   "metadata": {
    "papermill": {
     "duration": 0.008717,
     "end_time": "2024-05-07T08:34:40.879636",
     "exception": false,
     "start_time": "2024-05-07T08:34:40.870919",
     "status": "completed"
    },
    "tags": []
   },
   "source": [
    "# 3. XGBoost modelling"
   ]
  },
  {
   "cell_type": "code",
   "execution_count": 12,
   "id": "9d0b85b3",
   "metadata": {
    "execution": {
     "iopub.execute_input": "2024-05-07T08:34:40.899316Z",
     "iopub.status.busy": "2024-05-07T08:34:40.898923Z",
     "iopub.status.idle": "2024-05-07T08:34:41.113629Z",
     "shell.execute_reply": "2024-05-07T08:34:41.112596Z"
    },
    "papermill": {
     "duration": 0.227877,
     "end_time": "2024-05-07T08:34:41.116434",
     "exception": false,
     "start_time": "2024-05-07T08:34:40.888557",
     "status": "completed"
    },
    "tags": []
   },
   "outputs": [],
   "source": [
    "from sklearn.metrics import  roc_auc_score\n",
    "from xgboost import XGBClassifier"
   ]
  },
  {
   "cell_type": "code",
   "execution_count": 13,
   "id": "81a72259",
   "metadata": {
    "execution": {
     "iopub.execute_input": "2024-05-07T08:34:41.136321Z",
     "iopub.status.busy": "2024-05-07T08:34:41.135927Z",
     "iopub.status.idle": "2024-05-07T08:34:41.142822Z",
     "shell.execute_reply": "2024-05-07T08:34:41.141631Z"
    },
    "papermill": {
     "duration": 0.019499,
     "end_time": "2024-05-07T08:34:41.145170",
     "exception": false,
     "start_time": "2024-05-07T08:34:41.125671",
     "status": "completed"
    },
    "tags": []
   },
   "outputs": [],
   "source": [
    "params2 = {\n",
    "    \"booster\": \"gbtree\",\n",
    "    \"objective\": \"binary:logistic\",\n",
    "    \"eval_metric\": \"auc\",\n",
    "    \"max_depth\": 10,\n",
    "    \"learning_rate\": 0.05,\n",
    "    \"n_estimators\": 1000,\n",
    "    \"colsample_bytree\": 0.8,\n",
    "    \"colsample_bynode\": 0.8,\n",
    "    \"alpha\": 0.1,  \n",
    "    \"lambda\": 10,  \n",
    "    #\"tree_method\": 'gpu_hist' if device == 'gpu' else 'auto',\n",
    "    \"random_state\": 42,\n",
    "    \"verbosity\": 0,\n",
    "    \"enable_categorical\":True,\n",
    "}"
   ]
  },
  {
   "cell_type": "code",
   "execution_count": 14,
   "id": "785ac321",
   "metadata": {
    "execution": {
     "iopub.execute_input": "2024-05-07T08:34:41.164994Z",
     "iopub.status.busy": "2024-05-07T08:34:41.164603Z",
     "iopub.status.idle": "2024-05-07T08:38:14.995177Z",
     "shell.execute_reply": "2024-05-07T08:38:14.993910Z"
    },
    "papermill": {
     "duration": 213.85259,
     "end_time": "2024-05-07T08:38:15.006791",
     "exception": false,
     "start_time": "2024-05-07T08:34:41.154201",
     "status": "completed"
    },
    "tags": []
   },
   "outputs": [
    {
     "name": "stdout",
     "output_type": "stream",
     "text": [
      "ROC = 0.776\n",
      "CPU times: user 13min 50s, sys: 1.56 s, total: 13min 52s\n",
      "Wall time: 3min 33s\n"
     ]
    }
   ],
   "source": [
    "%%time\n",
    "xgb_classifier = XGBClassifier(**params2)\n",
    "#xgb_classifier = XGBClassifier()\n",
    "xgb_classifier.fit(X_train, y_train)\n",
    "\n",
    "y_pred2 = xgb_classifier.predict_proba(X_test)[:,1]\n",
    "auc_score_xgb = roc_auc_score(y_test, y_pred2)\n",
    "print(f'ROC = {auc_score_xgb.round(3)}')"
   ]
  },
  {
   "cell_type": "markdown",
   "id": "98fc761c",
   "metadata": {
    "papermill": {
     "duration": 0.008796,
     "end_time": "2024-05-07T08:38:15.024584",
     "exception": false,
     "start_time": "2024-05-07T08:38:15.015788",
     "status": "completed"
    },
    "tags": []
   },
   "source": [
    "# 4. CatBoostClassifier"
   ]
  },
  {
   "cell_type": "code",
   "execution_count": 15,
   "id": "536ca76a",
   "metadata": {
    "execution": {
     "iopub.execute_input": "2024-05-07T08:38:15.044309Z",
     "iopub.status.busy": "2024-05-07T08:38:15.043882Z",
     "iopub.status.idle": "2024-05-07T08:43:21.434846Z",
     "shell.execute_reply": "2024-05-07T08:43:21.433314Z"
    },
    "papermill": {
     "duration": 306.409482,
     "end_time": "2024-05-07T08:43:21.442915",
     "exception": false,
     "start_time": "2024-05-07T08:38:15.033433",
     "status": "completed"
    },
    "tags": []
   },
   "outputs": [
    {
     "name": "stdout",
     "output_type": "stream",
     "text": [
      "ROC = 0.771\n",
      "CPU times: user 19min 1s, sys: 12.7 s, total: 19min 13s\n",
      "Wall time: 5min 6s\n"
     ]
    }
   ],
   "source": [
    "%%time\n",
    "#https://catboost.ai/en/docs/concepts/python-reference_catboostclassifier_fit\n",
    "\n",
    "from catboost import CatBoostClassifier\n",
    "clf = CatBoostClassifier(eval_metric='AUC',learning_rate=0.03)\n",
    "\n",
    "clf.fit(X_train, y=y_train, eval_set = (X_test, y_test), verbose = False)\n",
    "y_pred_valid = clf.predict_proba(X_test)[:,1]\n",
    "auc_score_cat = roc_auc_score(y_test, y_pred_valid)\n",
    "print(f'ROC = {auc_score_cat.round(3)}')"
   ]
  },
  {
   "cell_type": "markdown",
   "id": "b6972ebd",
   "metadata": {
    "papermill": {
     "duration": 0.008932,
     "end_time": "2024-05-07T08:43:21.461363",
     "exception": false,
     "start_time": "2024-05-07T08:43:21.452431",
     "status": "completed"
    },
    "tags": []
   },
   "source": [
    "# LGB"
   ]
  },
  {
   "cell_type": "code",
   "execution_count": 16,
   "id": "78f12314",
   "metadata": {
    "execution": {
     "iopub.execute_input": "2024-05-07T08:43:21.481480Z",
     "iopub.status.busy": "2024-05-07T08:43:21.481102Z",
     "iopub.status.idle": "2024-05-07T08:43:21.487010Z",
     "shell.execute_reply": "2024-05-07T08:43:21.485995Z"
    },
    "papermill": {
     "duration": 0.0189,
     "end_time": "2024-05-07T08:43:21.489297",
     "exception": false,
     "start_time": "2024-05-07T08:43:21.470397",
     "status": "completed"
    },
    "tags": []
   },
   "outputs": [],
   "source": [
    "params = {\n",
    "    \"boosting_type\": \"gbdt\",\n",
    "    \"objective\": \"binary\",\n",
    "    \"metric\": \"auc\",\n",
    "    \"max_depth\": 10,  \n",
    "    \"learning_rate\": 0.05,\n",
    "    \"n_estimators\": 2000,  \n",
    "    \"colsample_bytree\": 0.8,\n",
    "    \"colsample_bynode\": 0.8,\n",
    "    \"verbose\": -1,\n",
    "    \"random_state\": 42,\n",
    "    \"reg_alpha\": 0.1,\n",
    "    \"reg_lambda\": 10,\n",
    "    \"extra_trees\":True,\n",
    "    'num_leaves':64,\n",
    "    #\"device\": device, \n",
    "    \"verbose\": -1,\n",
    "}"
   ]
  },
  {
   "cell_type": "code",
   "execution_count": 17,
   "id": "679edaf0",
   "metadata": {
    "execution": {
     "iopub.execute_input": "2024-05-07T08:43:21.509780Z",
     "iopub.status.busy": "2024-05-07T08:43:21.509366Z",
     "iopub.status.idle": "2024-05-07T08:51:54.688065Z",
     "shell.execute_reply": "2024-05-07T08:51:54.686787Z"
    },
    "papermill": {
     "duration": 513.202682,
     "end_time": "2024-05-07T08:51:54.701334",
     "exception": false,
     "start_time": "2024-05-07T08:43:21.498652",
     "status": "completed"
    },
    "tags": []
   },
   "outputs": [
    {
     "name": "stdout",
     "output_type": "stream",
     "text": [
      "Training until validation scores don't improve for 100 rounds\n",
      "[200]\tvalid_0's auc: 0.769884\n",
      "[400]\tvalid_0's auc: 0.773812\n",
      "[600]\tvalid_0's auc: 0.775114\n",
      "[800]\tvalid_0's auc: 0.775506\n",
      "[1000]\tvalid_0's auc: 0.775707\n",
      "[1200]\tvalid_0's auc: 0.775955\n",
      "[1400]\tvalid_0's auc: 0.776063\n",
      "Early stopping, best iteration is:\n",
      "[1419]\tvalid_0's auc: 0.776086\n",
      "AUC 0.7760857040194817\n"
     ]
    }
   ],
   "source": [
    "import lightgbm as lgb\n",
    "from lightgbm import LGBMClassifier\n",
    "\n",
    "lgb_model = lgb.LGBMClassifier(**params)\n",
    "lgb_model.fit(\n",
    "        X_train, y_train,\n",
    "        eval_set = [(X_test, y_test)],\n",
    "        callbacks = [lgb.log_evaluation(200), lgb.early_stopping(100)] )\n",
    "y_pred_lgb = lgb_model.predict_proba(X_test)[:,1]\n",
    "auc_lgb = roc_auc_score(y_test, y_pred_lgb)\n",
    "print(f'AUC {auc_lgb}')"
   ]
  },
  {
   "cell_type": "markdown",
   "id": "923f76e5",
   "metadata": {
    "papermill": {
     "duration": 0.010148,
     "end_time": "2024-05-07T08:51:54.721800",
     "exception": false,
     "start_time": "2024-05-07T08:51:54.711652",
     "status": "completed"
    },
    "tags": []
   },
   "source": [
    "# 5. Submit"
   ]
  },
  {
   "cell_type": "code",
   "execution_count": 18,
   "id": "b52be1fd",
   "metadata": {
    "execution": {
     "iopub.execute_input": "2024-05-07T08:51:54.744650Z",
     "iopub.status.busy": "2024-05-07T08:51:54.743975Z",
     "iopub.status.idle": "2024-05-07T08:51:54.777192Z",
     "shell.execute_reply": "2024-05-07T08:51:54.775846Z"
    },
    "papermill": {
     "duration": 0.048052,
     "end_time": "2024-05-07T08:51:54.780115",
     "exception": false,
     "start_time": "2024-05-07T08:51:54.732063",
     "status": "completed"
    },
    "tags": []
   },
   "outputs": [],
   "source": [
    "pred_xgb = xgb_classifier.predict_proba(test_data)[:, 1]\n",
    "pred_cat = clf.predict_proba(test_data)[:, 1]\n",
    "pred_lgb = lgb_model.predict_proba(test_data)[:,1]\n",
    "\n",
    "predictions = (pred_xgb+pred_cat+pred_lgb)/3"
   ]
  },
  {
   "cell_type": "code",
   "execution_count": 19,
   "id": "367ec59c",
   "metadata": {
    "execution": {
     "iopub.execute_input": "2024-05-07T08:51:54.802898Z",
     "iopub.status.busy": "2024-05-07T08:51:54.802435Z",
     "iopub.status.idle": "2024-05-07T08:51:54.825786Z",
     "shell.execute_reply": "2024-05-07T08:51:54.824613Z"
    },
    "papermill": {
     "duration": 0.037967,
     "end_time": "2024-05-07T08:51:54.828469",
     "exception": false,
     "start_time": "2024-05-07T08:51:54.790502",
     "status": "completed"
    },
    "tags": []
   },
   "outputs": [
    {
     "data": {
      "text/html": [
       "<div>\n",
       "<style scoped>\n",
       "    .dataframe tbody tr th:only-of-type {\n",
       "        vertical-align: middle;\n",
       "    }\n",
       "\n",
       "    .dataframe tbody tr th {\n",
       "        vertical-align: top;\n",
       "    }\n",
       "\n",
       "    .dataframe thead th {\n",
       "        text-align: right;\n",
       "    }\n",
       "</style>\n",
       "<table border=\"1\" class=\"dataframe\">\n",
       "  <thead>\n",
       "    <tr style=\"text-align: right;\">\n",
       "      <th></th>\n",
       "      <th>case_id</th>\n",
       "      <th>score</th>\n",
       "    </tr>\n",
       "  </thead>\n",
       "  <tbody>\n",
       "    <tr>\n",
       "      <th>0</th>\n",
       "      <td>57543</td>\n",
       "      <td>0.040254</td>\n",
       "    </tr>\n",
       "    <tr>\n",
       "      <th>1</th>\n",
       "      <td>57549</td>\n",
       "      <td>0.009310</td>\n",
       "    </tr>\n",
       "    <tr>\n",
       "      <th>2</th>\n",
       "      <td>57551</td>\n",
       "      <td>0.010064</td>\n",
       "    </tr>\n",
       "    <tr>\n",
       "      <th>3</th>\n",
       "      <td>57552</td>\n",
       "      <td>0.017014</td>\n",
       "    </tr>\n",
       "    <tr>\n",
       "      <th>4</th>\n",
       "      <td>57569</td>\n",
       "      <td>0.076819</td>\n",
       "    </tr>\n",
       "  </tbody>\n",
       "</table>\n",
       "</div>"
      ],
      "text/plain": [
       "   case_id     score\n",
       "0    57543  0.040254\n",
       "1    57549  0.009310\n",
       "2    57551  0.010064\n",
       "3    57552  0.017014\n",
       "4    57569  0.076819"
      ]
     },
     "execution_count": 19,
     "metadata": {},
     "output_type": "execute_result"
    }
   ],
   "source": [
    "\n",
    "test_Id = test_base_df[\"case_id\"]\n",
    "submission = pd.DataFrame({\n",
    "    'case_id': test_Id,\n",
    "    'score': predictions\n",
    "})\n",
    "\n",
    "submission.to_csv('submission.csv', index=False)\n",
    "submission.head()"
   ]
  }
 ],
 "metadata": {
  "kaggle": {
   "accelerator": "none",
   "dataSources": [
    {
     "databundleVersionId": 7921029,
     "sourceId": 50160,
     "sourceType": "competition"
    }
   ],
   "dockerImageVersionId": 30698,
   "isGpuEnabled": false,
   "isInternetEnabled": false,
   "language": "python",
   "sourceType": "notebook"
  },
  "kernelspec": {
   "display_name": "Python 3",
   "language": "python",
   "name": "python3"
  },
  "language_info": {
   "codemirror_mode": {
    "name": "ipython",
    "version": 3
   },
   "file_extension": ".py",
   "mimetype": "text/x-python",
   "name": "python",
   "nbconvert_exporter": "python",
   "pygments_lexer": "ipython3",
   "version": "3.10.13"
  },
  "papermill": {
   "default_parameters": {},
   "duration": 1116.687206,
   "end_time": "2024-05-07T08:51:56.468277",
   "environment_variables": {},
   "exception": null,
   "input_path": "__notebook__.ipynb",
   "output_path": "__notebook__.ipynb",
   "parameters": {},
   "start_time": "2024-05-07T08:33:19.781071",
   "version": "2.5.0"
  }
 },
 "nbformat": 4,
 "nbformat_minor": 5
}
